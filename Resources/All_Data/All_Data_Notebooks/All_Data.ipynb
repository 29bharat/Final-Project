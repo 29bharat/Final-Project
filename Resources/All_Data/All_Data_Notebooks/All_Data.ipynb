{
 "cells": [
  {
   "cell_type": "code",
   "execution_count": 1,
   "metadata": {},
   "outputs": [],
   "source": [
    "#Add the Pandas dependency\n",
    "import pandas as pd"
   ]
  },
  {
   "cell_type": "code",
<<<<<<< HEAD
<<<<<<< HEAD
   "execution_count": 3,
=======
<<<<<<< HEAD
   "execution_count": 3,
=======
   "execution_count": 2,
>>>>>>> Helen
>>>>>>> 958d3b6f3a0d2c5e7972472b1df355b5c251e781
=======
   "execution_count": 2,
>>>>>>> 66edc7c026dc60249828aa6869a0944f4137744a
   "metadata": {},
   "outputs": [],
   "source": [
    "#Files to load\n",
    "grad_enroll1213=pd.read_csv('../All_Data_Data/All_1213')\n",
    "grad_enroll1314=pd.read_csv('../All_Data_Data/All_1314')\n",
    "grad_enroll1415=pd.read_csv('../All_Data_Data/All_1415')\n",
    "grad_enroll1516=pd.read_csv('../All_Data_Data/All_1516')\n",
<<<<<<< HEAD
<<<<<<< HEAD
    "grad_enroll1617=pd.read_csv('../All_Data_Data/All_1617')"
=======
<<<<<<< HEAD
    "grad_enroll1617=pd.read_csv('../All_Data_Data/All_1617')"
=======
    "#grad_enroll1617=pd.read_csv('../All_Data_Data/All_1617')"
>>>>>>> Helen
>>>>>>> 958d3b6f3a0d2c5e7972472b1df355b5c251e781
=======
    "#grad_enroll1617=pd.read_csv('../All_Data_Data/All_1617')"
>>>>>>> 66edc7c026dc60249828aa6869a0944f4137744a
   ]
  },
  {
   "cell_type": "code",
<<<<<<< HEAD
<<<<<<< HEAD
   "execution_count": 4,
=======
<<<<<<< HEAD
   "execution_count": 4,
=======
   "execution_count": 3,
>>>>>>> Helen
>>>>>>> 958d3b6f3a0d2c5e7972472b1df355b5c251e781
=======
   "execution_count": 3,
>>>>>>> 66edc7c026dc60249828aa6869a0944f4137744a
   "metadata": {},
   "outputs": [],
   "source": [
    "grad_enroll1213['Year']='1213'\n",
    "grad_enroll1314['Year']='1314'\n",
    "grad_enroll1415['Year']='1415'\n",
    "grad_enroll1516['Year']='1516'\n",
<<<<<<< HEAD
<<<<<<< HEAD
    "grad_enroll1617['Year']='1617'"
=======
<<<<<<< HEAD
    "grad_enroll1617['Year']='1617'"
=======
    "#grad_enroll1617['Year']='1617'"
>>>>>>> Helen
>>>>>>> 958d3b6f3a0d2c5e7972472b1df355b5c251e781
=======
    "#grad_enroll1617['Year']='1617'"
>>>>>>> 66edc7c026dc60249828aa6869a0944f4137744a
   ]
  },
  {
   "cell_type": "code",
<<<<<<< HEAD
<<<<<<< HEAD
   "execution_count": 9,
=======
<<<<<<< HEAD
   "execution_count": 9,
=======
   "execution_count": 5,
>>>>>>> Helen
>>>>>>> 958d3b6f3a0d2c5e7972472b1df355b5c251e781
=======
   "execution_count": 4,
>>>>>>> 66edc7c026dc60249828aa6869a0944f4137744a
   "metadata": {},
   "outputs": [
    {
     "data": {
      "text/html": [
       "<div>\n",
       "<style scoped>\n",
       "    .dataframe tbody tr th:only-of-type {\n",
       "        vertical-align: middle;\n",
       "    }\n",
       "\n",
       "    .dataframe tbody tr th {\n",
       "        vertical-align: top;\n",
       "    }\n",
       "\n",
       "    .dataframe thead th {\n",
       "        text-align: right;\n",
       "    }\n",
       "</style>\n",
       "<table border=\"1\" class=\"dataframe\">\n",
       "  <thead>\n",
       "    <tr style=\"text-align: right;\">\n",
       "      <th></th>\n",
       "      <th>Unnamed: 0</th>\n",
       "      <th>CDS_CODE</th>\n",
       "      <th>DISTRICT</th>\n",
       "      <th>ETHNIC</th>\n",
       "      <th>GR_12</th>\n",
       "      <th>ENR_TOTAL</th>\n",
       "      <th>GRADS</th>\n",
       "      <th>UC_GRADS</th>\n",
<<<<<<< HEAD
<<<<<<< HEAD
       "      <th>Object</th>\n",
=======
<<<<<<< HEAD
       "      <th>Object</th>\n",
=======
       "      <th>District_Code</th>\n",
       "      <th>Function_Code</th>\n",
>>>>>>> Helen
>>>>>>> 958d3b6f3a0d2c5e7972472b1df355b5c251e781
=======
       "      <th>District_Code</th>\n",
       "      <th>Function_Code</th>\n",
>>>>>>> 66edc7c026dc60249828aa6869a0944f4137744a
       "      <th>Function</th>\n",
       "      <th>Amount</th>\n",
       "      <th>Year</th>\n",
       "    </tr>\n",
       "  </thead>\n",
       "  <tbody>\n",
       "    <tr>\n",
       "      <th>0</th>\n",
       "      <td>0</td>\n",
       "      <td>1100170000000</td>\n",
<<<<<<< HEAD
<<<<<<< HEAD
=======
<<<<<<< HEAD
>>>>>>> 958d3b6f3a0d2c5e7972472b1df355b5c251e781
       "      <td>1</td>\n",
       "      <td>1</td>\n",
       "      <td>16</td>\n",
       "      <td>2</td>\n",
       "      <td>1</td>\n",
       "      <td>Administrative Unit (AU) of a Multidistrict SE...</td>\n",
       "      <td>Guidance and Counseling Services              ...</td>\n",
       "      <td>2.771103e+05</td>\n",
<<<<<<< HEAD
=======
=======
=======
       "      <td>Alameda County Office of Education</td>\n",
>>>>>>> 66edc7c026dc60249828aa6869a0944f4137744a
       "      <td>0</td>\n",
       "      <td>2</td>\n",
       "      <td>35</td>\n",
       "      <td>6</td>\n",
       "      <td>2</td>\n",
       "      <td>10017</td>\n",
       "      <td>2100</td>\n",
       "      <td>Classified Instructional Salaries             ...</td>\n",
       "      <td>5761988.84</td>\n",
<<<<<<< HEAD
>>>>>>> Helen
>>>>>>> 958d3b6f3a0d2c5e7972472b1df355b5c251e781
=======
>>>>>>> 66edc7c026dc60249828aa6869a0944f4137744a
       "      <td>1213</td>\n",
       "    </tr>\n",
       "    <tr>\n",
       "      <th>1</th>\n",
       "      <td>1</td>\n",
       "      <td>1100170000000</td>\n",
<<<<<<< HEAD
<<<<<<< HEAD
=======
<<<<<<< HEAD
>>>>>>> 958d3b6f3a0d2c5e7972472b1df355b5c251e781
       "      <td>1</td>\n",
       "      <td>1</td>\n",
       "      <td>16</td>\n",
       "      <td>2</td>\n",
       "      <td>1</td>\n",
       "      <td>Administrative Unit (AU) of a Multidistrict SE...</td>\n",
       "      <td>Plant Maintenance and Operations              ...</td>\n",
       "      <td>6.310217e+05</td>\n",
<<<<<<< HEAD
=======
=======
=======
       "      <td>Alameda County Office of Education</td>\n",
>>>>>>> 66edc7c026dc60249828aa6869a0944f4137744a
       "      <td>0</td>\n",
       "      <td>2</td>\n",
       "      <td>35</td>\n",
       "      <td>6</td>\n",
       "      <td>2</td>\n",
       "      <td>10017</td>\n",
       "      <td>5900</td>\n",
       "      <td>Communications                                ...</td>\n",
       "      <td>2126900.99</td>\n",
<<<<<<< HEAD
>>>>>>> Helen
>>>>>>> 958d3b6f3a0d2c5e7972472b1df355b5c251e781
=======
>>>>>>> 66edc7c026dc60249828aa6869a0944f4137744a
       "      <td>1213</td>\n",
       "    </tr>\n",
       "    <tr>\n",
       "      <th>2</th>\n",
       "      <td>2</td>\n",
       "      <td>1100170000000</td>\n",
<<<<<<< HEAD
<<<<<<< HEAD
=======
<<<<<<< HEAD
>>>>>>> 958d3b6f3a0d2c5e7972472b1df355b5c251e781
       "      <td>1</td>\n",
       "      <td>1</td>\n",
       "      <td>16</td>\n",
       "      <td>2</td>\n",
       "      <td>1</td>\n",
       "      <td>Administrative Unit (AU) of a Multidistrict SE...</td>\n",
       "      <td>Warehousing and Distribution                  ...</td>\n",
       "      <td>8.975540e+04</td>\n",
<<<<<<< HEAD
=======
=======
=======
       "      <td>Alameda County Office of Education</td>\n",
>>>>>>> 66edc7c026dc60249828aa6869a0944f4137744a
       "      <td>0</td>\n",
       "      <td>2</td>\n",
       "      <td>35</td>\n",
       "      <td>6</td>\n",
       "      <td>2</td>\n",
       "      <td>10017</td>\n",
       "      <td>7110</td>\n",
       "      <td>Tuition for Instruction Under Interdistrict At...</td>\n",
       "      <td>248316.29</td>\n",
<<<<<<< HEAD
>>>>>>> Helen
>>>>>>> 958d3b6f3a0d2c5e7972472b1df355b5c251e781
=======
>>>>>>> 66edc7c026dc60249828aa6869a0944f4137744a
       "      <td>1213</td>\n",
       "    </tr>\n",
       "    <tr>\n",
       "      <th>3</th>\n",
       "      <td>3</td>\n",
       "      <td>1100170000000</td>\n",
<<<<<<< HEAD
<<<<<<< HEAD
=======
<<<<<<< HEAD
>>>>>>> 958d3b6f3a0d2c5e7972472b1df355b5c251e781
       "      <td>1</td>\n",
       "      <td>1</td>\n",
       "      <td>16</td>\n",
       "      <td>2</td>\n",
       "      <td>1</td>\n",
       "      <td>Budgeting                                     ...</td>\n",
       "      <td>General Administration Cost Transfers         ...</td>\n",
       "      <td>-2.910383e-11</td>\n",
<<<<<<< HEAD
=======
=======
=======
       "      <td>Alameda County Office of Education</td>\n",
>>>>>>> 66edc7c026dc60249828aa6869a0944f4137744a
       "      <td>0</td>\n",
       "      <td>2</td>\n",
       "      <td>35</td>\n",
       "      <td>6</td>\n",
       "      <td>2</td>\n",
       "      <td>10017</td>\n",
       "      <td>8110</td>\n",
       "      <td>Maintenance and Operations (Public Law 81-874)...</td>\n",
       "      <td>2607.78</td>\n",
<<<<<<< HEAD
>>>>>>> Helen
>>>>>>> 958d3b6f3a0d2c5e7972472b1df355b5c251e781
=======
>>>>>>> 66edc7c026dc60249828aa6869a0944f4137744a
       "      <td>1213</td>\n",
       "    </tr>\n",
       "    <tr>\n",
       "      <th>4</th>\n",
       "      <td>4</td>\n",
       "      <td>1100170000000</td>\n",
<<<<<<< HEAD
<<<<<<< HEAD
=======
<<<<<<< HEAD
>>>>>>> 958d3b6f3a0d2c5e7972472b1df355b5c251e781
       "      <td>1</td>\n",
       "      <td>1</td>\n",
       "      <td>16</td>\n",
       "      <td>2</td>\n",
       "      <td>1</td>\n",
       "      <td>Civic Services                                ...</td>\n",
       "      <td>Other General Administration                  ...</td>\n",
       "      <td>6.316400e+04</td>\n",
<<<<<<< HEAD
=======
=======
=======
       "      <td>Alameda County Office of Education</td>\n",
>>>>>>> 66edc7c026dc60249828aa6869a0944f4137744a
       "      <td>0</td>\n",
       "      <td>2</td>\n",
       "      <td>35</td>\n",
       "      <td>6</td>\n",
       "      <td>2</td>\n",
       "      <td>10017</td>\n",
       "      <td>9200</td>\n",
       "      <td>Accounts Receivable                           ...</td>\n",
       "      <td>1138122.98</td>\n",
<<<<<<< HEAD
>>>>>>> Helen
>>>>>>> 958d3b6f3a0d2c5e7972472b1df355b5c251e781
=======
>>>>>>> 66edc7c026dc60249828aa6869a0944f4137744a
       "      <td>1213</td>\n",
       "    </tr>\n",
       "    <tr>\n",
       "      <th>...</th>\n",
       "      <td>...</td>\n",
       "      <td>...</td>\n",
       "      <td>...</td>\n",
       "      <td>...</td>\n",
       "      <td>...</td>\n",
       "      <td>...</td>\n",
       "      <td>...</td>\n",
       "      <td>...</td>\n",
       "      <td>...</td>\n",
       "      <td>...</td>\n",
       "      <td>...</td>\n",
<<<<<<< HEAD
<<<<<<< HEAD
=======
<<<<<<< HEAD
>>>>>>> 958d3b6f3a0d2c5e7972472b1df355b5c251e781
       "    </tr>\n",
       "    <tr>\n",
       "      <th>403</th>\n",
       "      <td>403</td>\n",
       "      <td>7617960000000</td>\n",
       "      <td>7</td>\n",
       "      <td>199</td>\n",
       "      <td>958</td>\n",
       "      <td>3</td>\n",
       "      <td>0</td>\n",
       "      <td>School-Sponsored Athletics                    ...</td>\n",
       "      <td>Instruction                                   ...</td>\n",
       "      <td>5.292224e+04</td>\n",
       "      <td>1617</td>\n",
       "    </tr>\n",
       "    <tr>\n",
       "      <th>404</th>\n",
       "      <td>404</td>\n",
       "      <td>7617960000000</td>\n",
       "      <td>7</td>\n",
       "      <td>199</td>\n",
       "      <td>958</td>\n",
       "      <td>3</td>\n",
       "      <td>0</td>\n",
       "      <td>School-Sponsored Athletics                    ...</td>\n",
       "      <td>Instructional Library, Media, and Technology  ...</td>\n",
       "      <td>4.978722e+05</td>\n",
       "      <td>1617</td>\n",
       "    </tr>\n",
       "    <tr>\n",
       "      <th>405</th>\n",
       "      <td>405</td>\n",
       "      <td>7617960000000</td>\n",
       "      <td>7</td>\n",
       "      <td>199</td>\n",
       "      <td>958</td>\n",
       "      <td>3</td>\n",
       "      <td>0</td>\n",
       "      <td>School-Sponsored Athletics                    ...</td>\n",
       "      <td>School-Sponsored Co-curricular                ...</td>\n",
       "      <td>6.019676e+04</td>\n",
       "      <td>1617</td>\n",
       "    </tr>\n",
       "    <tr>\n",
       "      <th>406</th>\n",
       "      <td>406</td>\n",
       "      <td>7617960000000</td>\n",
       "      <td>7</td>\n",
       "      <td>199</td>\n",
       "      <td>958</td>\n",
       "      <td>3</td>\n",
       "      <td>0</td>\n",
       "      <td>School-Sponsored Co-curricular                ...</td>\n",
       "      <td>Instruction                                   ...</td>\n",
       "      <td>3.173122e+06</td>\n",
       "      <td>1617</td>\n",
       "    </tr>\n",
       "    <tr>\n",
       "      <th>407</th>\n",
       "      <td>407</td>\n",
       "      <td>7617960000000</td>\n",
       "      <td>7</td>\n",
       "      <td>199</td>\n",
       "      <td>958</td>\n",
       "      <td>3</td>\n",
       "      <td>0</td>\n",
       "      <td>Transfers Between Agencies                    ...</td>\n",
       "      <td>Not Applicable (For use with revenues and bala...</td>\n",
       "      <td>3.735732e+06</td>\n",
       "      <td>1617</td>\n",
       "    </tr>\n",
       "  </tbody>\n",
       "</table>\n",
       "<p>111127 rows × 11 columns</p>\n",
       "</div>"
      ],
      "text/plain": [
       "     Unnamed: 0       CDS_CODE  ETHNIC  GR_12  ENR_TOTAL  GRADS  UC_GRADS  \\\n",
       "0             0  1100170000000       1      1         16      2         1   \n",
       "1             1  1100170000000       1      1         16      2         1   \n",
       "2             2  1100170000000       1      1         16      2         1   \n",
       "3             3  1100170000000       1      1         16      2         1   \n",
       "4             4  1100170000000       1      1         16      2         1   \n",
       "..          ...            ...     ...    ...        ...    ...       ...   \n",
       "403         403  7617960000000       7    199        958      3         0   \n",
       "404         404  7617960000000       7    199        958      3         0   \n",
       "405         405  7617960000000       7    199        958      3         0   \n",
       "406         406  7617960000000       7    199        958      3         0   \n",
       "407         407  7617960000000       7    199        958      3         0   \n",
       "\n",
       "                                                Object  \\\n",
       "0    Administrative Unit (AU) of a Multidistrict SE...   \n",
       "1    Administrative Unit (AU) of a Multidistrict SE...   \n",
       "2    Administrative Unit (AU) of a Multidistrict SE...   \n",
       "3    Budgeting                                     ...   \n",
       "4    Civic Services                                ...   \n",
       "..                                                 ...   \n",
       "403  School-Sponsored Athletics                    ...   \n",
       "404  School-Sponsored Athletics                    ...   \n",
       "405  School-Sponsored Athletics                    ...   \n",
       "406  School-Sponsored Co-curricular                ...   \n",
       "407  Transfers Between Agencies                    ...   \n",
       "\n",
       "                                              Function        Amount  Year  \n",
       "0    Guidance and Counseling Services              ...  2.771103e+05  1213  \n",
       "1    Plant Maintenance and Operations              ...  6.310217e+05  1213  \n",
       "2    Warehousing and Distribution                  ...  8.975540e+04  1213  \n",
       "3    General Administration Cost Transfers         ... -2.910383e-11  1213  \n",
       "4    Other General Administration                  ...  6.316400e+04  1213  \n",
       "..                                                 ...           ...   ...  \n",
       "403  Instruction                                   ...  5.292224e+04  1617  \n",
       "404  Instructional Library, Media, and Technology  ...  4.978722e+05  1617  \n",
       "405  School-Sponsored Co-curricular                ...  6.019676e+04  1617  \n",
       "406  Instruction                                   ...  3.173122e+06  1617  \n",
       "407  Not Applicable (For use with revenues and bala...  3.735732e+06  1617  \n",
       "\n",
       "[111127 rows x 11 columns]"
      ]
     },
     "execution_count": 9,
<<<<<<< HEAD
=======
=======
=======
       "      <td>...</td>\n",
>>>>>>> 66edc7c026dc60249828aa6869a0944f4137744a
       "      <td>...</td>\n",
       "    </tr>\n",
       "    <tr>\n",
       "      <th>3098</th>\n",
       "      <td>3098</td>\n",
       "      <td>57727100000000</td>\n",
       "      <td>Woodland Joint Unified</td>\n",
       "      <td>7</td>\n",
       "      <td>194</td>\n",
       "      <td>2328</td>\n",
       "      <td>356</td>\n",
       "      <td>170</td>\n",
       "      <td>72710</td>\n",
       "      <td>7110</td>\n",
       "      <td>Tuition for Instruction Under Interdistrict At...</td>\n",
       "      <td>112978.33</td>\n",
       "      <td>1516</td>\n",
       "    </tr>\n",
       "    <tr>\n",
       "      <th>3099</th>\n",
       "      <td>3099</td>\n",
       "      <td>57727100000000</td>\n",
       "      <td>Woodland Joint Unified</td>\n",
       "      <td>7</td>\n",
       "      <td>194</td>\n",
       "      <td>2328</td>\n",
       "      <td>356</td>\n",
       "      <td>170</td>\n",
       "      <td>72710</td>\n",
       "      <td>9200</td>\n",
       "      <td>Accounts Receivable                           ...</td>\n",
       "      <td>1070796.00</td>\n",
       "      <td>1516</td>\n",
       "    </tr>\n",
       "    <tr>\n",
       "      <th>3100</th>\n",
       "      <td>3100</td>\n",
       "      <td>57727100000000</td>\n",
       "      <td>Woodland Joint Unified</td>\n",
       "      <td>9</td>\n",
       "      <td>5</td>\n",
       "      <td>141</td>\n",
       "      <td>10</td>\n",
       "      <td>6</td>\n",
       "      <td>72710</td>\n",
       "      <td>4200</td>\n",
       "      <td>Books and Other Reference Materials           ...</td>\n",
       "      <td>549355.85</td>\n",
       "      <td>1516</td>\n",
       "    </tr>\n",
       "    <tr>\n",
       "      <th>3101</th>\n",
       "      <td>3101</td>\n",
       "      <td>57727100000000</td>\n",
       "      <td>Woodland Joint Unified</td>\n",
       "      <td>9</td>\n",
       "      <td>5</td>\n",
       "      <td>141</td>\n",
       "      <td>10</td>\n",
       "      <td>6</td>\n",
       "      <td>72710</td>\n",
       "      <td>7110</td>\n",
       "      <td>Tuition for Instruction Under Interdistrict At...</td>\n",
       "      <td>112978.33</td>\n",
       "      <td>1516</td>\n",
       "    </tr>\n",
       "    <tr>\n",
       "      <th>3102</th>\n",
       "      <td>3102</td>\n",
       "      <td>57727100000000</td>\n",
       "      <td>Woodland Joint Unified</td>\n",
       "      <td>9</td>\n",
       "      <td>5</td>\n",
       "      <td>141</td>\n",
       "      <td>10</td>\n",
       "      <td>6</td>\n",
       "      <td>72710</td>\n",
       "      <td>9200</td>\n",
       "      <td>Accounts Receivable                           ...</td>\n",
       "      <td>1070796.00</td>\n",
       "      <td>1516</td>\n",
       "    </tr>\n",
       "  </tbody>\n",
       "</table>\n",
       "<p>11910 rows × 13 columns</p>\n",
       "</div>"
      ],
      "text/plain": [
       "      Unnamed: 0        CDS_CODE                            DISTRICT  ETHNIC  \\\n",
       "0              0   1100170000000  Alameda County Office of Education       0   \n",
       "1              1   1100170000000  Alameda County Office of Education       0   \n",
       "2              2   1100170000000  Alameda County Office of Education       0   \n",
       "3              3   1100170000000  Alameda County Office of Education       0   \n",
       "4              4   1100170000000  Alameda County Office of Education       0   \n",
       "...          ...             ...                                 ...     ...   \n",
       "3098        3098  57727100000000              Woodland Joint Unified       7   \n",
       "3099        3099  57727100000000              Woodland Joint Unified       7   \n",
       "3100        3100  57727100000000              Woodland Joint Unified       9   \n",
       "3101        3101  57727100000000              Woodland Joint Unified       9   \n",
       "3102        3102  57727100000000              Woodland Joint Unified       9   \n",
       "\n",
       "      GR_12  ENR_TOTAL  GRADS  UC_GRADS  District_Code  Function_Code  \\\n",
       "0         2         35      6         2          10017           2100   \n",
       "1         2         35      6         2          10017           5900   \n",
       "2         2         35      6         2          10017           7110   \n",
       "3         2         35      6         2          10017           8110   \n",
       "4         2         35      6         2          10017           9200   \n",
       "...     ...        ...    ...       ...            ...            ...   \n",
       "3098    194       2328    356       170          72710           7110   \n",
       "3099    194       2328    356       170          72710           9200   \n",
       "3100      5        141     10         6          72710           4200   \n",
       "3101      5        141     10         6          72710           7110   \n",
       "3102      5        141     10         6          72710           9200   \n",
       "\n",
       "                                               Function      Amount  Year  \n",
       "0     Classified Instructional Salaries             ...  5761988.84  1213  \n",
       "1     Communications                                ...  2126900.99  1213  \n",
       "2     Tuition for Instruction Under Interdistrict At...   248316.29  1213  \n",
       "3     Maintenance and Operations (Public Law 81-874)...     2607.78  1213  \n",
       "4     Accounts Receivable                           ...  1138122.98  1213  \n",
       "...                                                 ...         ...   ...  \n",
       "3098  Tuition for Instruction Under Interdistrict At...   112978.33  1516  \n",
       "3099  Accounts Receivable                           ...  1070796.00  1516  \n",
       "3100  Books and Other Reference Materials           ...   549355.85  1516  \n",
       "3101  Tuition for Instruction Under Interdistrict At...   112978.33  1516  \n",
       "3102  Accounts Receivable                           ...  1070796.00  1516  \n",
       "\n",
       "[11910 rows x 13 columns]"
      ]
     },
<<<<<<< HEAD
     "execution_count": 5,
>>>>>>> Helen
>>>>>>> 958d3b6f3a0d2c5e7972472b1df355b5c251e781
=======
     "execution_count": 4,
>>>>>>> 66edc7c026dc60249828aa6869a0944f4137744a
     "metadata": {},
     "output_type": "execute_result"
    }
   ],
   "source": [
<<<<<<< HEAD
<<<<<<< HEAD
    "All_Data=pd.concat([grad_enroll1213, grad_enroll1314, grad_enroll1415,grad_enroll1516,grad_enroll1617])\n",
=======
<<<<<<< HEAD
    "All_Data=pd.concat([grad_enroll1213, grad_enroll1314, grad_enroll1415,grad_enroll1516,grad_enroll1617])\n",
=======
    "All_Data=pd.concat([grad_enroll1213, grad_enroll1314, grad_enroll1415,grad_enroll1516])\n",
>>>>>>> Helen
>>>>>>> 958d3b6f3a0d2c5e7972472b1df355b5c251e781
=======
    "All_Data=pd.concat([grad_enroll1213, grad_enroll1314, grad_enroll1415,grad_enroll1516])\n",
>>>>>>> 66edc7c026dc60249828aa6869a0944f4137744a
    "All_Data"
   ]
  },
  {
   "cell_type": "code",
<<<<<<< HEAD
<<<<<<< HEAD
   "execution_count": 10,
=======
<<<<<<< HEAD
   "execution_count": 10,
=======
   "execution_count": 6,
>>>>>>> Helen
>>>>>>> 958d3b6f3a0d2c5e7972472b1df355b5c251e781
=======
   "execution_count": 5,
>>>>>>> 66edc7c026dc60249828aa6869a0944f4137744a
   "metadata": {},
   "outputs": [
    {
     "data": {
      "text/html": [
       "<div>\n",
       "<style scoped>\n",
       "    .dataframe tbody tr th:only-of-type {\n",
       "        vertical-align: middle;\n",
       "    }\n",
       "\n",
       "    .dataframe tbody tr th {\n",
       "        vertical-align: top;\n",
       "    }\n",
       "\n",
       "    .dataframe thead th {\n",
       "        text-align: right;\n",
       "    }\n",
       "</style>\n",
       "<table border=\"1\" class=\"dataframe\">\n",
       "  <thead>\n",
       "    <tr style=\"text-align: right;\">\n",
       "      <th></th>\n",
       "      <th>Year</th>\n",
       "      <th>CDS_CODE</th>\n",
       "      <th>DISTRICT</th>\n",
       "      <th>District_Code</th>\n",
       "      <th>ETHNIC</th>\n",
       "      <th>GR_12</th>\n",
       "      <th>ENR_TOTAL</th>\n",
       "      <th>GRADS</th>\n",
       "      <th>UC_GRADS</th>\n",
<<<<<<< HEAD
<<<<<<< HEAD
       "      <th>Object</th>\n",
=======
<<<<<<< HEAD
       "      <th>Object</th>\n",
=======
       "      <th>District_Code</th>\n",
       "      <th>Function_Code</th>\n",
>>>>>>> Helen
>>>>>>> 958d3b6f3a0d2c5e7972472b1df355b5c251e781
=======
       "      <th>Function_Code</th>\n",
>>>>>>> 66edc7c026dc60249828aa6869a0944f4137744a
       "      <th>Function</th>\n",
       "      <th>Amount</th>\n",
       "    </tr>\n",
       "  </thead>\n",
       "  <tbody>\n",
       "    <tr>\n",
       "      <th>0</th>\n",
       "      <td>1213</td>\n",
       "      <td>1100170000000</td>\n",
<<<<<<< HEAD
<<<<<<< HEAD
=======
<<<<<<< HEAD
>>>>>>> 958d3b6f3a0d2c5e7972472b1df355b5c251e781
       "      <td>1</td>\n",
       "      <td>1</td>\n",
       "      <td>16</td>\n",
       "      <td>2</td>\n",
       "      <td>1</td>\n",
       "      <td>Administrative Unit (AU) of a Multidistrict SE...</td>\n",
       "      <td>Guidance and Counseling Services              ...</td>\n",
       "      <td>2.771103e+05</td>\n",
<<<<<<< HEAD
=======
=======
=======
       "      <td>Alameda County Office of Education</td>\n",
       "      <td>10017</td>\n",
>>>>>>> 66edc7c026dc60249828aa6869a0944f4137744a
       "      <td>0</td>\n",
       "      <td>2</td>\n",
       "      <td>35</td>\n",
       "      <td>6</td>\n",
       "      <td>2</td>\n",
       "      <td>2100</td>\n",
       "      <td>Classified Instructional Salaries             ...</td>\n",
       "      <td>5761988.84</td>\n",
<<<<<<< HEAD
>>>>>>> Helen
>>>>>>> 958d3b6f3a0d2c5e7972472b1df355b5c251e781
=======
>>>>>>> 66edc7c026dc60249828aa6869a0944f4137744a
       "    </tr>\n",
       "    <tr>\n",
       "      <th>1</th>\n",
       "      <td>1213</td>\n",
       "      <td>1100170000000</td>\n",
<<<<<<< HEAD
<<<<<<< HEAD
=======
<<<<<<< HEAD
>>>>>>> 958d3b6f3a0d2c5e7972472b1df355b5c251e781
       "      <td>1</td>\n",
       "      <td>1</td>\n",
       "      <td>16</td>\n",
       "      <td>2</td>\n",
       "      <td>1</td>\n",
       "      <td>Administrative Unit (AU) of a Multidistrict SE...</td>\n",
       "      <td>Plant Maintenance and Operations              ...</td>\n",
       "      <td>6.310217e+05</td>\n",
<<<<<<< HEAD
=======
=======
=======
       "      <td>Alameda County Office of Education</td>\n",
       "      <td>10017</td>\n",
>>>>>>> 66edc7c026dc60249828aa6869a0944f4137744a
       "      <td>0</td>\n",
       "      <td>2</td>\n",
       "      <td>35</td>\n",
       "      <td>6</td>\n",
       "      <td>2</td>\n",
       "      <td>5900</td>\n",
       "      <td>Communications                                ...</td>\n",
       "      <td>2126900.99</td>\n",
<<<<<<< HEAD
>>>>>>> Helen
>>>>>>> 958d3b6f3a0d2c5e7972472b1df355b5c251e781
=======
>>>>>>> 66edc7c026dc60249828aa6869a0944f4137744a
       "    </tr>\n",
       "    <tr>\n",
       "      <th>2</th>\n",
       "      <td>1213</td>\n",
       "      <td>1100170000000</td>\n",
<<<<<<< HEAD
<<<<<<< HEAD
=======
<<<<<<< HEAD
>>>>>>> 958d3b6f3a0d2c5e7972472b1df355b5c251e781
       "      <td>1</td>\n",
       "      <td>1</td>\n",
       "      <td>16</td>\n",
       "      <td>2</td>\n",
       "      <td>1</td>\n",
       "      <td>Administrative Unit (AU) of a Multidistrict SE...</td>\n",
       "      <td>Warehousing and Distribution                  ...</td>\n",
       "      <td>8.975540e+04</td>\n",
<<<<<<< HEAD
=======
=======
=======
       "      <td>Alameda County Office of Education</td>\n",
       "      <td>10017</td>\n",
>>>>>>> 66edc7c026dc60249828aa6869a0944f4137744a
       "      <td>0</td>\n",
       "      <td>2</td>\n",
       "      <td>35</td>\n",
       "      <td>6</td>\n",
       "      <td>2</td>\n",
       "      <td>7110</td>\n",
       "      <td>Tuition for Instruction Under Interdistrict At...</td>\n",
       "      <td>248316.29</td>\n",
<<<<<<< HEAD
>>>>>>> Helen
>>>>>>> 958d3b6f3a0d2c5e7972472b1df355b5c251e781
=======
>>>>>>> 66edc7c026dc60249828aa6869a0944f4137744a
       "    </tr>\n",
       "    <tr>\n",
       "      <th>3</th>\n",
       "      <td>1213</td>\n",
       "      <td>1100170000000</td>\n",
<<<<<<< HEAD
<<<<<<< HEAD
=======
<<<<<<< HEAD
>>>>>>> 958d3b6f3a0d2c5e7972472b1df355b5c251e781
       "      <td>1</td>\n",
       "      <td>1</td>\n",
       "      <td>16</td>\n",
       "      <td>2</td>\n",
       "      <td>1</td>\n",
       "      <td>Budgeting                                     ...</td>\n",
       "      <td>General Administration Cost Transfers         ...</td>\n",
       "      <td>-2.910383e-11</td>\n",
<<<<<<< HEAD
=======
=======
=======
       "      <td>Alameda County Office of Education</td>\n",
       "      <td>10017</td>\n",
>>>>>>> 66edc7c026dc60249828aa6869a0944f4137744a
       "      <td>0</td>\n",
       "      <td>2</td>\n",
       "      <td>35</td>\n",
       "      <td>6</td>\n",
       "      <td>2</td>\n",
       "      <td>8110</td>\n",
       "      <td>Maintenance and Operations (Public Law 81-874)...</td>\n",
       "      <td>2607.78</td>\n",
<<<<<<< HEAD
>>>>>>> Helen
>>>>>>> 958d3b6f3a0d2c5e7972472b1df355b5c251e781
=======
>>>>>>> 66edc7c026dc60249828aa6869a0944f4137744a
       "    </tr>\n",
       "    <tr>\n",
       "      <th>4</th>\n",
       "      <td>1213</td>\n",
       "      <td>1100170000000</td>\n",
<<<<<<< HEAD
<<<<<<< HEAD
=======
<<<<<<< HEAD
>>>>>>> 958d3b6f3a0d2c5e7972472b1df355b5c251e781
       "      <td>1</td>\n",
       "      <td>1</td>\n",
       "      <td>16</td>\n",
       "      <td>2</td>\n",
       "      <td>1</td>\n",
       "      <td>Civic Services                                ...</td>\n",
       "      <td>Other General Administration                  ...</td>\n",
       "      <td>6.316400e+04</td>\n",
<<<<<<< HEAD
=======
=======
=======
       "      <td>Alameda County Office of Education</td>\n",
       "      <td>10017</td>\n",
>>>>>>> 66edc7c026dc60249828aa6869a0944f4137744a
       "      <td>0</td>\n",
       "      <td>2</td>\n",
       "      <td>35</td>\n",
       "      <td>6</td>\n",
       "      <td>2</td>\n",
       "      <td>9200</td>\n",
       "      <td>Accounts Receivable                           ...</td>\n",
       "      <td>1138122.98</td>\n",
<<<<<<< HEAD
>>>>>>> Helen
>>>>>>> 958d3b6f3a0d2c5e7972472b1df355b5c251e781
=======
>>>>>>> 66edc7c026dc60249828aa6869a0944f4137744a
       "    </tr>\n",
       "    <tr>\n",
       "      <th>...</th>\n",
       "      <td>...</td>\n",
       "      <td>...</td>\n",
       "      <td>...</td>\n",
       "      <td>...</td>\n",
       "      <td>...</td>\n",
       "      <td>...</td>\n",
       "      <td>...</td>\n",
       "      <td>...</td>\n",
       "      <td>...</td>\n",
       "      <td>...</td>\n",
<<<<<<< HEAD
<<<<<<< HEAD
=======
<<<<<<< HEAD
>>>>>>> 958d3b6f3a0d2c5e7972472b1df355b5c251e781
       "    </tr>\n",
       "    <tr>\n",
       "      <th>403</th>\n",
       "      <td>1617</td>\n",
       "      <td>7617960000000</td>\n",
       "      <td>7</td>\n",
       "      <td>199</td>\n",
       "      <td>958</td>\n",
       "      <td>3</td>\n",
       "      <td>0</td>\n",
       "      <td>School-Sponsored Athletics                    ...</td>\n",
       "      <td>Instruction                                   ...</td>\n",
       "      <td>5.292224e+04</td>\n",
       "    </tr>\n",
       "    <tr>\n",
       "      <th>404</th>\n",
       "      <td>1617</td>\n",
       "      <td>7617960000000</td>\n",
       "      <td>7</td>\n",
       "      <td>199</td>\n",
       "      <td>958</td>\n",
       "      <td>3</td>\n",
       "      <td>0</td>\n",
       "      <td>School-Sponsored Athletics                    ...</td>\n",
       "      <td>Instructional Library, Media, and Technology  ...</td>\n",
       "      <td>4.978722e+05</td>\n",
       "    </tr>\n",
       "    <tr>\n",
       "      <th>405</th>\n",
       "      <td>1617</td>\n",
       "      <td>7617960000000</td>\n",
       "      <td>7</td>\n",
       "      <td>199</td>\n",
       "      <td>958</td>\n",
       "      <td>3</td>\n",
       "      <td>0</td>\n",
       "      <td>School-Sponsored Athletics                    ...</td>\n",
       "      <td>School-Sponsored Co-curricular                ...</td>\n",
       "      <td>6.019676e+04</td>\n",
       "    </tr>\n",
       "    <tr>\n",
       "      <th>406</th>\n",
       "      <td>1617</td>\n",
       "      <td>7617960000000</td>\n",
       "      <td>7</td>\n",
       "      <td>199</td>\n",
       "      <td>958</td>\n",
       "      <td>3</td>\n",
       "      <td>0</td>\n",
       "      <td>School-Sponsored Co-curricular                ...</td>\n",
       "      <td>Instruction                                   ...</td>\n",
       "      <td>3.173122e+06</td>\n",
       "    </tr>\n",
       "    <tr>\n",
       "      <th>407</th>\n",
       "      <td>1617</td>\n",
       "      <td>7617960000000</td>\n",
       "      <td>7</td>\n",
       "      <td>199</td>\n",
       "      <td>958</td>\n",
       "      <td>3</td>\n",
       "      <td>0</td>\n",
       "      <td>Transfers Between Agencies                    ...</td>\n",
       "      <td>Not Applicable (For use with revenues and bala...</td>\n",
       "      <td>3.735732e+06</td>\n",
       "    </tr>\n",
       "  </tbody>\n",
       "</table>\n",
       "<p>111127 rows × 10 columns</p>\n",
       "</div>"
      ],
      "text/plain": [
       "     Year       CDS_CODE  ETHNIC  GR_12  ENR_TOTAL  GRADS  UC_GRADS  \\\n",
       "0    1213  1100170000000       1      1         16      2         1   \n",
       "1    1213  1100170000000       1      1         16      2         1   \n",
       "2    1213  1100170000000       1      1         16      2         1   \n",
       "3    1213  1100170000000       1      1         16      2         1   \n",
       "4    1213  1100170000000       1      1         16      2         1   \n",
       "..    ...            ...     ...    ...        ...    ...       ...   \n",
       "403  1617  7617960000000       7    199        958      3         0   \n",
       "404  1617  7617960000000       7    199        958      3         0   \n",
       "405  1617  7617960000000       7    199        958      3         0   \n",
       "406  1617  7617960000000       7    199        958      3         0   \n",
       "407  1617  7617960000000       7    199        958      3         0   \n",
       "\n",
       "                                                Object  \\\n",
       "0    Administrative Unit (AU) of a Multidistrict SE...   \n",
       "1    Administrative Unit (AU) of a Multidistrict SE...   \n",
       "2    Administrative Unit (AU) of a Multidistrict SE...   \n",
       "3    Budgeting                                     ...   \n",
       "4    Civic Services                                ...   \n",
       "..                                                 ...   \n",
       "403  School-Sponsored Athletics                    ...   \n",
       "404  School-Sponsored Athletics                    ...   \n",
       "405  School-Sponsored Athletics                    ...   \n",
       "406  School-Sponsored Co-curricular                ...   \n",
       "407  Transfers Between Agencies                    ...   \n",
       "\n",
       "                                              Function        Amount  \n",
       "0    Guidance and Counseling Services              ...  2.771103e+05  \n",
       "1    Plant Maintenance and Operations              ...  6.310217e+05  \n",
       "2    Warehousing and Distribution                  ...  8.975540e+04  \n",
       "3    General Administration Cost Transfers         ... -2.910383e-11  \n",
       "4    Other General Administration                  ...  6.316400e+04  \n",
       "..                                                 ...           ...  \n",
       "403  Instruction                                   ...  5.292224e+04  \n",
       "404  Instructional Library, Media, and Technology  ...  4.978722e+05  \n",
       "405  School-Sponsored Co-curricular                ...  6.019676e+04  \n",
       "406  Instruction                                   ...  3.173122e+06  \n",
       "407  Not Applicable (For use with revenues and bala...  3.735732e+06  \n",
       "\n",
       "[111127 rows x 10 columns]"
      ]
     },
     "execution_count": 10,
<<<<<<< HEAD
=======
=======
=======
       "      <td>...</td>\n",
>>>>>>> 66edc7c026dc60249828aa6869a0944f4137744a
       "      <td>...</td>\n",
       "    </tr>\n",
       "    <tr>\n",
       "      <th>3098</th>\n",
       "      <td>1516</td>\n",
       "      <td>57727100000000</td>\n",
       "      <td>Woodland Joint Unified</td>\n",
       "      <td>72710</td>\n",
       "      <td>7</td>\n",
       "      <td>194</td>\n",
       "      <td>2328</td>\n",
       "      <td>356</td>\n",
       "      <td>170</td>\n",
       "      <td>7110</td>\n",
       "      <td>Tuition for Instruction Under Interdistrict At...</td>\n",
       "      <td>112978.33</td>\n",
       "    </tr>\n",
       "    <tr>\n",
       "      <th>3099</th>\n",
       "      <td>1516</td>\n",
       "      <td>57727100000000</td>\n",
       "      <td>Woodland Joint Unified</td>\n",
       "      <td>72710</td>\n",
       "      <td>7</td>\n",
       "      <td>194</td>\n",
       "      <td>2328</td>\n",
       "      <td>356</td>\n",
       "      <td>170</td>\n",
       "      <td>9200</td>\n",
       "      <td>Accounts Receivable                           ...</td>\n",
       "      <td>1070796.00</td>\n",
       "    </tr>\n",
       "    <tr>\n",
       "      <th>3100</th>\n",
       "      <td>1516</td>\n",
       "      <td>57727100000000</td>\n",
       "      <td>Woodland Joint Unified</td>\n",
       "      <td>72710</td>\n",
       "      <td>9</td>\n",
       "      <td>5</td>\n",
       "      <td>141</td>\n",
       "      <td>10</td>\n",
       "      <td>6</td>\n",
       "      <td>4200</td>\n",
       "      <td>Books and Other Reference Materials           ...</td>\n",
       "      <td>549355.85</td>\n",
       "    </tr>\n",
       "    <tr>\n",
       "      <th>3101</th>\n",
       "      <td>1516</td>\n",
       "      <td>57727100000000</td>\n",
       "      <td>Woodland Joint Unified</td>\n",
       "      <td>72710</td>\n",
       "      <td>9</td>\n",
       "      <td>5</td>\n",
       "      <td>141</td>\n",
       "      <td>10</td>\n",
       "      <td>6</td>\n",
       "      <td>7110</td>\n",
       "      <td>Tuition for Instruction Under Interdistrict At...</td>\n",
       "      <td>112978.33</td>\n",
       "    </tr>\n",
       "    <tr>\n",
       "      <th>3102</th>\n",
       "      <td>1516</td>\n",
       "      <td>57727100000000</td>\n",
       "      <td>Woodland Joint Unified</td>\n",
       "      <td>72710</td>\n",
       "      <td>9</td>\n",
       "      <td>5</td>\n",
       "      <td>141</td>\n",
       "      <td>10</td>\n",
       "      <td>6</td>\n",
       "      <td>9200</td>\n",
       "      <td>Accounts Receivable                           ...</td>\n",
       "      <td>1070796.00</td>\n",
       "    </tr>\n",
       "  </tbody>\n",
       "</table>\n",
       "<p>11910 rows × 12 columns</p>\n",
       "</div>"
      ],
      "text/plain": [
       "      Year        CDS_CODE                            DISTRICT  District_Code  \\\n",
       "0     1213   1100170000000  Alameda County Office of Education          10017   \n",
       "1     1213   1100170000000  Alameda County Office of Education          10017   \n",
       "2     1213   1100170000000  Alameda County Office of Education          10017   \n",
       "3     1213   1100170000000  Alameda County Office of Education          10017   \n",
       "4     1213   1100170000000  Alameda County Office of Education          10017   \n",
       "...    ...             ...                                 ...            ...   \n",
       "3098  1516  57727100000000              Woodland Joint Unified          72710   \n",
       "3099  1516  57727100000000              Woodland Joint Unified          72710   \n",
       "3100  1516  57727100000000              Woodland Joint Unified          72710   \n",
       "3101  1516  57727100000000              Woodland Joint Unified          72710   \n",
       "3102  1516  57727100000000              Woodland Joint Unified          72710   \n",
       "\n",
       "      ETHNIC  GR_12  ENR_TOTAL  GRADS  UC_GRADS  Function_Code  \\\n",
       "0          0      2         35      6         2           2100   \n",
       "1          0      2         35      6         2           5900   \n",
       "2          0      2         35      6         2           7110   \n",
       "3          0      2         35      6         2           8110   \n",
       "4          0      2         35      6         2           9200   \n",
       "...      ...    ...        ...    ...       ...            ...   \n",
       "3098       7    194       2328    356       170           7110   \n",
       "3099       7    194       2328    356       170           9200   \n",
       "3100       9      5        141     10         6           4200   \n",
       "3101       9      5        141     10         6           7110   \n",
       "3102       9      5        141     10         6           9200   \n",
       "\n",
       "                                               Function      Amount  \n",
       "0     Classified Instructional Salaries             ...  5761988.84  \n",
       "1     Communications                                ...  2126900.99  \n",
       "2     Tuition for Instruction Under Interdistrict At...   248316.29  \n",
       "3     Maintenance and Operations (Public Law 81-874)...     2607.78  \n",
       "4     Accounts Receivable                           ...  1138122.98  \n",
       "...                                                 ...         ...  \n",
       "3098  Tuition for Instruction Under Interdistrict At...   112978.33  \n",
       "3099  Accounts Receivable                           ...  1070796.00  \n",
       "3100  Books and Other Reference Materials           ...   549355.85  \n",
       "3101  Tuition for Instruction Under Interdistrict At...   112978.33  \n",
       "3102  Accounts Receivable                           ...  1070796.00  \n",
       "\n",
       "[11910 rows x 12 columns]"
      ]
     },
<<<<<<< HEAD
     "execution_count": 6,
>>>>>>> Helen
>>>>>>> 958d3b6f3a0d2c5e7972472b1df355b5c251e781
=======
     "execution_count": 5,
>>>>>>> 66edc7c026dc60249828aa6869a0944f4137744a
     "metadata": {},
     "output_type": "execute_result"
    }
   ],
   "source": [
<<<<<<< HEAD
<<<<<<< HEAD
    "All_Data=All_Data[['Year','CDS_CODE','ETHNIC','GR_12','ENR_TOTAL','GRADS','UC_GRADS','Object','Function','Amount']]\n",
=======
<<<<<<< HEAD
    "All_Data=All_Data[['Year','CDS_CODE','ETHNIC','GR_12','ENR_TOTAL','GRADS','UC_GRADS','Object','Function','Amount']]\n",
=======
    "All_Data=All_Data[['Year','CDS_CODE','ETHNIC','GR_12','ENR_TOTAL','GRADS','UC_GRADS','District_Code','Function_Code','Function','Amount']]\n",
>>>>>>> Helen
>>>>>>> 958d3b6f3a0d2c5e7972472b1df355b5c251e781
=======
    "All_Data=All_Data[['Year','CDS_CODE','DISTRICT','District_Code','ETHNIC','GR_12','ENR_TOTAL','GRADS','UC_GRADS','Function_Code','Function','Amount']]\n",
>>>>>>> 66edc7c026dc60249828aa6869a0944f4137744a
    "All_Data"
   ]
  },
  {
   "cell_type": "code",
<<<<<<< HEAD
<<<<<<< HEAD
   "execution_count": 11,
=======
<<<<<<< HEAD
   "execution_count": 11,
=======
=======
>>>>>>> 66edc7c026dc60249828aa6869a0944f4137744a
   "execution_count": null,
   "metadata": {},
   "outputs": [],
   "source": [
    "#All_Data_Func=All_Data[['Year','CDS_CODE','ETHNIC','GR_12','ENR_TOTAL','GRADS','UC_GRADS','Function','Amount']]\n",
    "#All_Data_Func"
   ]
  },
  {
   "cell_type": "code",
<<<<<<< HEAD
   "execution_count": 7,
>>>>>>> Helen
>>>>>>> 958d3b6f3a0d2c5e7972472b1df355b5c251e781
=======
   "execution_count": 6,
>>>>>>> 66edc7c026dc60249828aa6869a0944f4137744a
   "metadata": {},
   "outputs": [
    {
     "data": {
      "text/html": [
       "<div>\n",
       "<style scoped>\n",
       "    .dataframe tbody tr th:only-of-type {\n",
       "        vertical-align: middle;\n",
       "    }\n",
       "\n",
       "    .dataframe tbody tr th {\n",
       "        vertical-align: top;\n",
       "    }\n",
       "\n",
       "    .dataframe thead th {\n",
       "        text-align: right;\n",
       "    }\n",
       "</style>\n",
       "<table border=\"1\" class=\"dataframe\">\n",
       "  <thead>\n",
       "    <tr style=\"text-align: right;\">\n",
       "      <th></th>\n",
       "      <th></th>\n",
       "      <th></th>\n",
       "      <th></th>\n",
       "      <th></th>\n",
<<<<<<< HEAD
<<<<<<< HEAD
=======
<<<<<<< HEAD
>>>>>>> 958d3b6f3a0d2c5e7972472b1df355b5c251e781
       "      <th>GR_12</th>\n",
       "      <th>ENR_TOTAL</th>\n",
       "      <th>GRADS</th>\n",
       "      <th>UC_GRADS</th>\n",
<<<<<<< HEAD
=======
=======
=======
>>>>>>> 66edc7c026dc60249828aa6869a0944f4137744a
       "      <th></th>\n",
       "      <th></th>\n",
       "      <th></th>\n",
       "      <th></th>\n",
       "      <th></th>\n",
<<<<<<< HEAD
>>>>>>> Helen
>>>>>>> 958d3b6f3a0d2c5e7972472b1df355b5c251e781
=======
       "      <th></th>\n",
>>>>>>> 66edc7c026dc60249828aa6869a0944f4137744a
       "      <th>Amount</th>\n",
       "    </tr>\n",
       "    <tr>\n",
       "      <th>Year</th>\n",
       "      <th>CDS_CODE</th>\n",
       "      <th>DISTRICT</th>\n",
       "      <th>District_Code</th>\n",
       "      <th>ETHNIC</th>\n",
<<<<<<< HEAD
<<<<<<< HEAD
       "      <th>Object</th>\n",
       "      <th>Function</th>\n",
       "      <th></th>\n",
       "      <th></th>\n",
       "      <th></th>\n",
       "      <th></th>\n",
       "      <th></th>\n",
=======
<<<<<<< HEAD
       "      <th>Object</th>\n",
       "      <th>Function</th>\n",
       "      <th></th>\n",
=======
=======
>>>>>>> 66edc7c026dc60249828aa6869a0944f4137744a
       "      <th>GR_12</th>\n",
       "      <th>ENR_TOTAL</th>\n",
       "      <th>GRADS</th>\n",
       "      <th>UC_GRADS</th>\n",
       "      <th>Function_Code</th>\n",
       "      <th>Function</th>\n",
       "      <th></th>\n",
       "    </tr>\n",
       "  </thead>\n",
       "  <tbody>\n",
       "    <tr>\n",
       "      <th rowspan=\"5\" valign=\"top\">1213</th>\n",
       "      <th rowspan=\"5\" valign=\"top\">1100170000000</th>\n",
       "      <th rowspan=\"5\" valign=\"top\">Alameda County Office of Education</th>\n",
       "      <th rowspan=\"5\" valign=\"top\">10017</th>\n",
       "      <th rowspan=\"5\" valign=\"top\">0</th>\n",
       "      <th rowspan=\"5\" valign=\"top\">2</th>\n",
       "      <th rowspan=\"5\" valign=\"top\">35</th>\n",
       "      <th rowspan=\"5\" valign=\"top\">6</th>\n",
       "      <th rowspan=\"5\" valign=\"top\">2</th>\n",
       "      <th>2100</th>\n",
       "      <th>Classified Instructional Salaries</th>\n",
       "      <td>5761988.84</td>\n",
       "    </tr>\n",
       "    <tr>\n",
       "      <th>5900</th>\n",
       "      <th>Communications</th>\n",
       "      <td>2126900.99</td>\n",
       "    </tr>\n",
       "    <tr>\n",
       "      <th>7110</th>\n",
       "      <th>Tuition for Instruction Under Interdistrict Attendance Agreements</th>\n",
       "      <td>248316.29</td>\n",
       "    </tr>\n",
       "    <tr>\n",
       "      <th>8110</th>\n",
       "      <th>Maintenance and Operations (Public Law 81-874)</th>\n",
       "      <td>2607.78</td>\n",
       "    </tr>\n",
       "    <tr>\n",
       "      <th>9200</th>\n",
       "      <th>Accounts Receivable</th>\n",
       "      <td>1138122.98</td>\n",
       "    </tr>\n",
       "    <tr>\n",
       "      <th>...</th>\n",
       "      <th>...</th>\n",
       "      <th>...</th>\n",
       "      <th>...</th>\n",
       "      <th>...</th>\n",
       "      <th>...</th>\n",
       "      <th>...</th>\n",
       "      <th>...</th>\n",
       "      <th>...</th>\n",
       "      <th>...</th>\n",
       "      <th>...</th>\n",
       "      <td>...</td>\n",
       "    </tr>\n",
       "    <tr>\n",
       "      <th rowspan=\"5\" valign=\"top\">1516</th>\n",
       "      <th rowspan=\"5\" valign=\"top\">57727100000000</th>\n",
       "      <th rowspan=\"5\" valign=\"top\">Woodland Joint Unified</th>\n",
       "      <th rowspan=\"5\" valign=\"top\">72710</th>\n",
       "      <th rowspan=\"2\" valign=\"top\">7</th>\n",
       "      <th rowspan=\"2\" valign=\"top\">194</th>\n",
       "      <th rowspan=\"2\" valign=\"top\">2328</th>\n",
       "      <th rowspan=\"2\" valign=\"top\">356</th>\n",
       "      <th rowspan=\"2\" valign=\"top\">170</th>\n",
       "      <th>7110</th>\n",
       "      <th>Tuition for Instruction Under Interdistrict Attendance Agreements</th>\n",
       "      <td>112978.33</td>\n",
       "    </tr>\n",
       "    <tr>\n",
       "      <th>9200</th>\n",
       "      <th>Accounts Receivable</th>\n",
       "      <td>1070796.00</td>\n",
       "    </tr>\n",
       "    <tr>\n",
       "      <th rowspan=\"3\" valign=\"top\">9</th>\n",
       "      <th rowspan=\"3\" valign=\"top\">5</th>\n",
       "      <th rowspan=\"3\" valign=\"top\">141</th>\n",
       "      <th rowspan=\"3\" valign=\"top\">10</th>\n",
       "      <th rowspan=\"3\" valign=\"top\">6</th>\n",
       "      <th>4200</th>\n",
       "      <th>Books and Other Reference Materials</th>\n",
       "      <td>549355.85</td>\n",
       "    </tr>\n",
       "    <tr>\n",
       "      <th>7110</th>\n",
       "      <th>Tuition for Instruction Under Interdistrict Attendance Agreements</th>\n",
       "      <td>112978.33</td>\n",
       "    </tr>\n",
       "    <tr>\n",
       "      <th>9200</th>\n",
       "      <th>Accounts Receivable</th>\n",
       "      <td>1070796.00</td>\n",
       "    </tr>\n",
       "  </tbody>\n",
       "</table>\n",
       "<p>11910 rows × 1 columns</p>\n",
       "</div>"
      ],
      "text/plain": [
       "                                                                                                                                                                                 Amount\n",
       "Year CDS_CODE       DISTRICT                           District_Code ETHNIC GR_12 ENR_TOTAL GRADS UC_GRADS Function_Code Function                                                      \n",
       "1213 1100170000000  Alameda County Office of Education 10017         0      2     35        6     2        2100          Classified Instructional Salaries              ...  5761988.84\n",
       "                                                                                                           5900          Communications                                 ...  2126900.99\n",
       "                                                                                                           7110          Tuition for Instruction Under Interdistrict Att...   248316.29\n",
       "                                                                                                           8110          Maintenance and Operations (Public Law 81-874) ...     2607.78\n",
       "                                                                                                           9200          Accounts Receivable                            ...  1138122.98\n",
       "...                                                                                                                                                                                 ...\n",
       "1516 57727100000000 Woodland Joint Unified             72710         7      194   2328      356   170      7110          Tuition for Instruction Under Interdistrict Att...   112978.33\n",
       "                                                                                                           9200          Accounts Receivable                            ...  1070796.00\n",
       "                                                                     9      5     141       10    6        4200          Books and Other Reference Materials            ...   549355.85\n",
       "                                                                                                           7110          Tuition for Instruction Under Interdistrict Att...   112978.33\n",
       "                                                                                                           9200          Accounts Receivable                            ...  1070796.00\n",
       "\n",
       "[11910 rows x 1 columns]"
      ]
     },
     "execution_count": 6,
     "metadata": {},
     "output_type": "execute_result"
    }
   ],
   "source": [
    "All_Data=All_Data.groupby(['Year','CDS_CODE','DISTRICT','District_Code','ETHNIC','GR_12','ENR_TOTAL','GRADS','UC_GRADS','Function_Code','Function']).sum()\n",
    "All_Data"
   ]
  },
  {
   "cell_type": "code",
   "execution_count": null,
   "metadata": {},
   "outputs": [],
   "source": [
    "#All_Data_Func=All_Data.groupby(['Year','CDS_CODE','ETHNIC','GR_12','ENR_TOTAL','GRADS','UC_GRADS','Function']).sum()\n",
    "#All_Data_Func"
   ]
  },
  {
   "cell_type": "code",
   "execution_count": 7,
   "metadata": {},
   "outputs": [
    {
     "data": {
      "text/html": [
       "<div>\n",
       "<style scoped>\n",
       "    .dataframe tbody tr th:only-of-type {\n",
       "        vertical-align: middle;\n",
       "    }\n",
       "\n",
       "    .dataframe tbody tr th {\n",
       "        vertical-align: top;\n",
       "    }\n",
       "\n",
       "    .dataframe thead th {\n",
       "        text-align: right;\n",
       "    }\n",
       "</style>\n",
       "<table border=\"1\" class=\"dataframe\">\n",
       "  <thead>\n",
       "    <tr style=\"text-align: right;\">\n",
       "      <th></th>\n",
       "      <th></th>\n",
       "      <th></th>\n",
       "      <th></th>\n",
       "      <th></th>\n",
       "      <th></th>\n",
       "      <th></th>\n",
       "      <th></th>\n",
       "      <th></th>\n",
       "      <th></th>\n",
       "      <th></th>\n",
       "      <th>Amount</th>\n",
       "    </tr>\n",
       "    <tr>\n",
       "      <th>Year</th>\n",
       "      <th>CDS_CODE</th>\n",
       "      <th>DISTRICT</th>\n",
       "      <th>District_Code</th>\n",
       "      <th>ETHNIC</th>\n",
       "      <th>GR_12</th>\n",
       "      <th>ENR_TOTAL</th>\n",
       "      <th>GRADS</th>\n",
       "      <th>UC_GRADS</th>\n",
       "      <th>Function_Code</th>\n",
       "      <th>Function</th>\n",
       "      <th></th>\n",
<<<<<<< HEAD
>>>>>>> Helen
>>>>>>> 958d3b6f3a0d2c5e7972472b1df355b5c251e781
=======
>>>>>>> 66edc7c026dc60249828aa6869a0944f4137744a
       "    </tr>\n",
       "  </thead>\n",
       "  <tbody>\n",
       "    <tr>\n",
       "      <th rowspan=\"5\" valign=\"top\">1213</th>\n",
       "      <th rowspan=\"5\" valign=\"top\">1100170000000</th>\n",
<<<<<<< HEAD
<<<<<<< HEAD
=======
<<<<<<< HEAD
>>>>>>> 958d3b6f3a0d2c5e7972472b1df355b5c251e781
       "      <th rowspan=\"5\" valign=\"top\">1</th>\n",
       "      <th rowspan=\"3\" valign=\"top\">Administrative Unit (AU) of a Multidistrict SELPA</th>\n",
       "      <th>Guidance and Counseling Services</th>\n",
       "      <td>1</td>\n",
       "      <td>16</td>\n",
       "      <td>2</td>\n",
       "      <td>1</td>\n",
       "      <td>2.771103e+05</td>\n",
       "    </tr>\n",
       "    <tr>\n",
       "      <th>Plant Maintenance and Operations</th>\n",
       "      <td>1</td>\n",
       "      <td>16</td>\n",
       "      <td>2</td>\n",
       "      <td>1</td>\n",
       "      <td>6.310217e+05</td>\n",
       "    </tr>\n",
       "    <tr>\n",
       "      <th>Warehousing and Distribution</th>\n",
       "      <td>1</td>\n",
       "      <td>16</td>\n",
       "      <td>2</td>\n",
       "      <td>1</td>\n",
       "      <td>8.975540e+04</td>\n",
       "    </tr>\n",
       "    <tr>\n",
       "      <th>Budgeting</th>\n",
       "      <th>General Administration Cost Transfers</th>\n",
       "      <td>1</td>\n",
       "      <td>16</td>\n",
       "      <td>2</td>\n",
       "      <td>1</td>\n",
       "      <td>-2.910383e-11</td>\n",
       "    </tr>\n",
       "    <tr>\n",
       "      <th>Civic Services</th>\n",
       "      <th>Other General Administration</th>\n",
       "      <td>1</td>\n",
       "      <td>16</td>\n",
       "      <td>2</td>\n",
       "      <td>1</td>\n",
       "      <td>6.316400e+04</td>\n",
<<<<<<< HEAD
=======
=======
=======
       "      <th rowspan=\"5\" valign=\"top\">Alameda County Office of Education</th>\n",
       "      <th rowspan=\"5\" valign=\"top\">10017</th>\n",
>>>>>>> 66edc7c026dc60249828aa6869a0944f4137744a
       "      <th rowspan=\"5\" valign=\"top\">0</th>\n",
       "      <th rowspan=\"5\" valign=\"top\">2</th>\n",
       "      <th rowspan=\"5\" valign=\"top\">35</th>\n",
       "      <th rowspan=\"5\" valign=\"top\">6</th>\n",
       "      <th rowspan=\"5\" valign=\"top\">2</th>\n",
       "      <th>2100</th>\n",
       "      <th>Classified Instructional Salaries</th>\n",
       "      <td>5761988.84</td>\n",
       "    </tr>\n",
       "    <tr>\n",
       "      <th>5900</th>\n",
       "      <th>Communications</th>\n",
       "      <td>2126900.99</td>\n",
       "    </tr>\n",
       "    <tr>\n",
       "      <th>7110</th>\n",
       "      <th>Tuition for Instruction Under Interdistrict Attendance Agreements</th>\n",
       "      <td>248316.29</td>\n",
       "    </tr>\n",
       "    <tr>\n",
       "      <th>8110</th>\n",
       "      <th>Maintenance and Operations (Public Law 81-874)</th>\n",
       "      <td>2607.78</td>\n",
       "    </tr>\n",
       "    <tr>\n",
       "      <th>9200</th>\n",
       "      <th>Accounts Receivable</th>\n",
       "      <td>1138122.98</td>\n",
<<<<<<< HEAD
>>>>>>> Helen
>>>>>>> 958d3b6f3a0d2c5e7972472b1df355b5c251e781
=======
>>>>>>> 66edc7c026dc60249828aa6869a0944f4137744a
       "    </tr>\n",
       "    <tr>\n",
       "      <th>...</th>\n",
       "      <th>...</th>\n",
       "      <th>...</th>\n",
       "      <th>...</th>\n",
       "      <th>...</th>\n",
<<<<<<< HEAD
<<<<<<< HEAD
=======
<<<<<<< HEAD
>>>>>>> 958d3b6f3a0d2c5e7972472b1df355b5c251e781
       "      <td>...</td>\n",
       "      <td>...</td>\n",
       "      <td>...</td>\n",
       "      <td>...</td>\n",
       "      <td>...</td>\n",
       "    </tr>\n",
       "    <tr>\n",
       "      <th rowspan=\"5\" valign=\"top\">1617</th>\n",
       "      <th rowspan=\"5\" valign=\"top\">7617960000000</th>\n",
       "      <th rowspan=\"5\" valign=\"top\">7</th>\n",
       "      <th rowspan=\"3\" valign=\"top\">School-Sponsored Athletics</th>\n",
       "      <th>Instruction</th>\n",
       "      <td>199</td>\n",
       "      <td>958</td>\n",
       "      <td>3</td>\n",
       "      <td>0</td>\n",
       "      <td>5.292224e+04</td>\n",
       "    </tr>\n",
       "    <tr>\n",
       "      <th>Instructional Library, Media, and Technology</th>\n",
       "      <td>199</td>\n",
       "      <td>958</td>\n",
       "      <td>3</td>\n",
       "      <td>0</td>\n",
       "      <td>4.978722e+05</td>\n",
       "    </tr>\n",
       "    <tr>\n",
       "      <th>School-Sponsored Co-curricular</th>\n",
       "      <td>199</td>\n",
       "      <td>958</td>\n",
       "      <td>3</td>\n",
       "      <td>0</td>\n",
       "      <td>6.019676e+04</td>\n",
       "    </tr>\n",
       "    <tr>\n",
       "      <th>School-Sponsored Co-curricular</th>\n",
       "      <th>Instruction</th>\n",
       "      <td>199</td>\n",
       "      <td>958</td>\n",
       "      <td>3</td>\n",
       "      <td>0</td>\n",
       "      <td>3.173122e+06</td>\n",
       "    </tr>\n",
       "    <tr>\n",
       "      <th>Transfers Between Agencies</th>\n",
       "      <th>Not Applicable (For use with revenues and balance sheet transactions only)</th>\n",
       "      <td>199</td>\n",
       "      <td>958</td>\n",
       "      <td>3</td>\n",
       "      <td>0</td>\n",
       "      <td>3.735732e+06</td>\n",
       "    </tr>\n",
       "  </tbody>\n",
       "</table>\n",
       "<p>111127 rows × 5 columns</p>\n",
       "</div>"
      ],
      "text/plain": [
       "                                                                                                                                 GR_12  \\\n",
       "Year CDS_CODE      ETHNIC Object                                             Function                                                    \n",
       "1213 1100170000000 1      Administrative Unit (AU) of a Multidistrict SEL... Guidance and Counseling Services               ...      1   \n",
       "                                                                             Plant Maintenance and Operations               ...      1   \n",
       "                                                                             Warehousing and Distribution                   ...      1   \n",
       "                          Budgeting                                      ... General Administration Cost Transfers          ...      1   \n",
       "                          Civic Services                                 ... Other General Administration                   ...      1   \n",
       "...                                                                                                                                ...   \n",
       "1617 7617960000000 7      School-Sponsored Athletics                     ... Instruction                                    ...    199   \n",
       "                                                                             Instructional Library, Media, and Technology   ...    199   \n",
       "                                                                             School-Sponsored Co-curricular                 ...    199   \n",
       "                          School-Sponsored Co-curricular                 ... Instruction                                    ...    199   \n",
       "                          Transfers Between Agencies                     ... Not Applicable (For use with revenues and balan...    199   \n",
       "\n",
       "                                                                                                                                 ENR_TOTAL  \\\n",
       "Year CDS_CODE      ETHNIC Object                                             Function                                                        \n",
       "1213 1100170000000 1      Administrative Unit (AU) of a Multidistrict SEL... Guidance and Counseling Services               ...         16   \n",
       "                                                                             Plant Maintenance and Operations               ...         16   \n",
       "                                                                             Warehousing and Distribution                   ...         16   \n",
       "                          Budgeting                                      ... General Administration Cost Transfers          ...         16   \n",
       "                          Civic Services                                 ... Other General Administration                   ...         16   \n",
       "...                                                                                                                                    ...   \n",
       "1617 7617960000000 7      School-Sponsored Athletics                     ... Instruction                                    ...        958   \n",
       "                                                                             Instructional Library, Media, and Technology   ...        958   \n",
       "                                                                             School-Sponsored Co-curricular                 ...        958   \n",
       "                          School-Sponsored Co-curricular                 ... Instruction                                    ...        958   \n",
       "                          Transfers Between Agencies                     ... Not Applicable (For use with revenues and balan...        958   \n",
       "\n",
       "                                                                                                                                 GRADS  \\\n",
       "Year CDS_CODE      ETHNIC Object                                             Function                                                    \n",
       "1213 1100170000000 1      Administrative Unit (AU) of a Multidistrict SEL... Guidance and Counseling Services               ...      2   \n",
       "                                                                             Plant Maintenance and Operations               ...      2   \n",
       "                                                                             Warehousing and Distribution                   ...      2   \n",
       "                          Budgeting                                      ... General Administration Cost Transfers          ...      2   \n",
       "                          Civic Services                                 ... Other General Administration                   ...      2   \n",
       "...                                                                                                                                ...   \n",
       "1617 7617960000000 7      School-Sponsored Athletics                     ... Instruction                                    ...      3   \n",
       "                                                                             Instructional Library, Media, and Technology   ...      3   \n",
       "                                                                             School-Sponsored Co-curricular                 ...      3   \n",
       "                          School-Sponsored Co-curricular                 ... Instruction                                    ...      3   \n",
       "                          Transfers Between Agencies                     ... Not Applicable (For use with revenues and balan...      3   \n",
       "\n",
       "                                                                                                                                 UC_GRADS  \\\n",
       "Year CDS_CODE      ETHNIC Object                                             Function                                                       \n",
       "1213 1100170000000 1      Administrative Unit (AU) of a Multidistrict SEL... Guidance and Counseling Services               ...         1   \n",
       "                                                                             Plant Maintenance and Operations               ...         1   \n",
       "                                                                             Warehousing and Distribution                   ...         1   \n",
       "                          Budgeting                                      ... General Administration Cost Transfers          ...         1   \n",
       "                          Civic Services                                 ... Other General Administration                   ...         1   \n",
       "...                                                                                                                                   ...   \n",
       "1617 7617960000000 7      School-Sponsored Athletics                     ... Instruction                                    ...         0   \n",
       "                                                                             Instructional Library, Media, and Technology   ...         0   \n",
       "                                                                             School-Sponsored Co-curricular                 ...         0   \n",
       "                          School-Sponsored Co-curricular                 ... Instruction                                    ...         0   \n",
       "                          Transfers Between Agencies                     ... Not Applicable (For use with revenues and balan...         0   \n",
       "\n",
       "                                                                                                                                       Amount  \n",
       "Year CDS_CODE      ETHNIC Object                                             Function                                                          \n",
       "1213 1100170000000 1      Administrative Unit (AU) of a Multidistrict SEL... Guidance and Counseling Services               ...  2.771103e+05  \n",
       "                                                                             Plant Maintenance and Operations               ...  6.310217e+05  \n",
       "                                                                             Warehousing and Distribution                   ...  8.975540e+04  \n",
       "                          Budgeting                                      ... General Administration Cost Transfers          ... -2.910383e-11  \n",
       "                          Civic Services                                 ... Other General Administration                   ...  6.316400e+04  \n",
       "...                                                                                                                                       ...  \n",
       "1617 7617960000000 7      School-Sponsored Athletics                     ... Instruction                                    ...  5.292224e+04  \n",
       "                                                                             Instructional Library, Media, and Technology   ...  4.978722e+05  \n",
       "                                                                             School-Sponsored Co-curricular                 ...  6.019676e+04  \n",
       "                          School-Sponsored Co-curricular                 ... Instruction                                    ...  3.173122e+06  \n",
       "                          Transfers Between Agencies                     ... Not Applicable (For use with revenues and balan...  3.735732e+06  \n",
       "\n",
       "[111127 rows x 5 columns]"
      ]
     },
     "execution_count": 11,
<<<<<<< HEAD
=======
=======
=======
       "      <th>...</th>\n",
>>>>>>> 66edc7c026dc60249828aa6869a0944f4137744a
       "      <th>...</th>\n",
       "      <th>...</th>\n",
       "      <th>...</th>\n",
       "      <th>...</th>\n",
       "      <th>...</th>\n",
       "      <td>...</td>\n",
       "    </tr>\n",
       "    <tr>\n",
       "      <th rowspan=\"5\" valign=\"top\">1516</th>\n",
       "      <th rowspan=\"5\" valign=\"top\">57727100000000</th>\n",
       "      <th rowspan=\"5\" valign=\"top\">Woodland Joint Unified</th>\n",
       "      <th rowspan=\"5\" valign=\"top\">72710</th>\n",
       "      <th rowspan=\"2\" valign=\"top\">7</th>\n",
       "      <th rowspan=\"2\" valign=\"top\">194</th>\n",
       "      <th rowspan=\"2\" valign=\"top\">2328</th>\n",
       "      <th rowspan=\"2\" valign=\"top\">356</th>\n",
       "      <th rowspan=\"2\" valign=\"top\">170</th>\n",
       "      <th>7110</th>\n",
       "      <th>Tuition for Instruction Under Interdistrict Attendance Agreements</th>\n",
       "      <td>112978.33</td>\n",
       "    </tr>\n",
       "    <tr>\n",
       "      <th>9200</th>\n",
       "      <th>Accounts Receivable</th>\n",
       "      <td>1070796.00</td>\n",
       "    </tr>\n",
       "    <tr>\n",
       "      <th rowspan=\"3\" valign=\"top\">9</th>\n",
       "      <th rowspan=\"3\" valign=\"top\">5</th>\n",
       "      <th rowspan=\"3\" valign=\"top\">141</th>\n",
       "      <th rowspan=\"3\" valign=\"top\">10</th>\n",
       "      <th rowspan=\"3\" valign=\"top\">6</th>\n",
       "      <th>4200</th>\n",
       "      <th>Books and Other Reference Materials</th>\n",
       "      <td>549355.85</td>\n",
       "    </tr>\n",
       "    <tr>\n",
       "      <th>7110</th>\n",
       "      <th>Tuition for Instruction Under Interdistrict Attendance Agreements</th>\n",
       "      <td>112978.33</td>\n",
       "    </tr>\n",
       "    <tr>\n",
       "      <th>9200</th>\n",
       "      <th>Accounts Receivable</th>\n",
       "      <td>1070796.00</td>\n",
       "    </tr>\n",
       "  </tbody>\n",
       "</table>\n",
       "<p>11910 rows × 1 columns</p>\n",
       "</div>"
      ],
      "text/plain": [
       "                                                                                                                                                                                 Amount\n",
       "Year CDS_CODE       DISTRICT                           District_Code ETHNIC GR_12 ENR_TOTAL GRADS UC_GRADS Function_Code Function                                                      \n",
       "1213 1100170000000  Alameda County Office of Education 10017         0      2     35        6     2        2100          Classified Instructional Salaries              ...  5761988.84\n",
       "                                                                                                           5900          Communications                                 ...  2126900.99\n",
       "                                                                                                           7110          Tuition for Instruction Under Interdistrict Att...   248316.29\n",
       "                                                                                                           8110          Maintenance and Operations (Public Law 81-874) ...     2607.78\n",
       "                                                                                                           9200          Accounts Receivable                            ...  1138122.98\n",
       "...                                                                                                                                                                                 ...\n",
       "1516 57727100000000 Woodland Joint Unified             72710         7      194   2328      356   170      7110          Tuition for Instruction Under Interdistrict Att...   112978.33\n",
       "                                                                                                           9200          Accounts Receivable                            ...  1070796.00\n",
       "                                                                     9      5     141       10    6        4200          Books and Other Reference Materials            ...   549355.85\n",
       "                                                                                                           7110          Tuition for Instruction Under Interdistrict Att...   112978.33\n",
       "                                                                                                           9200          Accounts Receivable                            ...  1070796.00\n",
       "\n",
       "[11910 rows x 1 columns]"
      ]
     },
<<<<<<< HEAD
     "execution_count": 8,
>>>>>>> Helen
>>>>>>> 958d3b6f3a0d2c5e7972472b1df355b5c251e781
=======
     "execution_count": 7,
>>>>>>> 66edc7c026dc60249828aa6869a0944f4137744a
     "metadata": {},
     "output_type": "execute_result"
    }
   ],
   "source": [
<<<<<<< HEAD
<<<<<<< HEAD
    "All_Data=All_Data.groupby(['Year','CDS_CODE','ETHNIC','Object','Function']).sum()\n",
    "All_Data"
=======
<<<<<<< HEAD
    "All_Data=All_Data.groupby(['Year','CDS_CODE','ETHNIC','Object','Function']).sum()\n",
    "All_Data"
=======
    "All_Data.sort_values(by=['Year','CDS_CODE','ETHNIC','GR_12','ENR_TOTAL','GRADS','UC_GRADS','District_Code','Function_Code','Function','Amount'])"
>>>>>>> Helen
>>>>>>> 958d3b6f3a0d2c5e7972472b1df355b5c251e781
=======
    "All_Data.sort_values(by=['Year','CDS_CODE','DISTRICT','District_Code','ETHNIC','GR_12','ENR_TOTAL','GRADS','UC_GRADS','Function_Code','Function','Amount'])"
>>>>>>> 66edc7c026dc60249828aa6869a0944f4137744a
   ]
  },
  {
   "cell_type": "code",
<<<<<<< HEAD
<<<<<<< HEAD
=======
<<<<<<< HEAD
>>>>>>> 958d3b6f3a0d2c5e7972472b1df355b5c251e781
   "execution_count": 12,
   "metadata": {},
   "outputs": [],
   "source": [
    "All_Data.to_csv('../All_Data_Data/All_Data.csv')"
<<<<<<< HEAD
=======
=======
=======
>>>>>>> 66edc7c026dc60249828aa6869a0944f4137744a
   "execution_count": null,
   "metadata": {},
   "outputs": [],
   "source": [
    "#All_Data.to_csv('../All_Data_Data/All_and_1617.csv')"
<<<<<<< HEAD
>>>>>>> Helen
>>>>>>> 958d3b6f3a0d2c5e7972472b1df355b5c251e781
=======
>>>>>>> 66edc7c026dc60249828aa6869a0944f4137744a
   ]
  },
  {
   "cell_type": "code",
<<<<<<< HEAD
<<<<<<< HEAD
=======
<<<<<<< HEAD
>>>>>>> 958d3b6f3a0d2c5e7972472b1df355b5c251e781
   "execution_count": null,
   "metadata": {},
   "outputs": [],
   "source": []
<<<<<<< HEAD
=======
=======
   "execution_count": 9,
=======
   "execution_count": 8,
>>>>>>> 66edc7c026dc60249828aa6869a0944f4137744a
   "metadata": {},
   "outputs": [],
   "source": [
    "All_Data.to_csv('../All_Data_Data/All_NO_1617.csv')\n"
   ]
<<<<<<< HEAD
>>>>>>> Helen
>>>>>>> 958d3b6f3a0d2c5e7972472b1df355b5c251e781
=======
>>>>>>> 66edc7c026dc60249828aa6869a0944f4137744a
  },
  {
   "cell_type": "code",
   "execution_count": null,
   "metadata": {},
   "outputs": [],
   "source": []
  },
  {
   "cell_type": "code",
   "execution_count": null,
   "metadata": {},
   "outputs": [],
   "source": []
  }
 ],
 "metadata": {
  "kernelspec": {
   "display_name": "PythonData",
   "language": "python",
   "name": "pythondata"
  },
  "language_info": {
   "codemirror_mode": {
    "name": "ipython",
    "version": 3
   },
   "file_extension": ".py",
   "mimetype": "text/x-python",
   "name": "python",
   "nbconvert_exporter": "python",
   "pygments_lexer": "ipython3",
   "version": "3.7.4"
  }
 },
 "nbformat": 4,
 "nbformat_minor": 4
}
