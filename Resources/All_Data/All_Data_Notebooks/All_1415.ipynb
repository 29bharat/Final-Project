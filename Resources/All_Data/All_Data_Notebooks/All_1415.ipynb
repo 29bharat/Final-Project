{
 "cells": [
  {
   "cell_type": "code",
   "execution_count": 1,
   "metadata": {},
   "outputs": [],
   "source": [
    "#Add the Pandas dependency\n",
    "import pandas as pd"
   ]
  },
  {
   "cell_type": "code",
<<<<<<< HEAD
<<<<<<< HEAD
   "execution_count": 3,
=======
<<<<<<< HEAD
   "execution_count": 3,
=======
   "execution_count": 2,
>>>>>>> Helen
>>>>>>> 958d3b6f3a0d2c5e7972472b1df355b5c251e781
=======
   "execution_count": 2,
>>>>>>> 66edc7c026dc60249828aa6869a0944f4137744a
   "metadata": {},
   "outputs": [
    {
     "data": {
      "text/html": [
       "<div>\n",
       "<style scoped>\n",
       "    .dataframe tbody tr th:only-of-type {\n",
       "        vertical-align: middle;\n",
       "    }\n",
       "\n",
       "    .dataframe tbody tr th {\n",
       "        vertical-align: top;\n",
       "    }\n",
       "\n",
       "    .dataframe thead th {\n",
       "        text-align: right;\n",
       "    }\n",
       "</style>\n",
       "<table border=\"1\" class=\"dataframe\">\n",
       "  <thead>\n",
       "    <tr style=\"text-align: right;\">\n",
       "      <th></th>\n",
       "      <th>CDS_CODE</th>\n",
       "      <th>DISTRICT</th>\n",
       "      <th>ETHNIC</th>\n",
       "      <th>GR_12</th>\n",
       "      <th>ENR_TOTAL</th>\n",
       "      <th>GRADS</th>\n",
       "      <th>UC_GRADS</th>\n",
       "    </tr>\n",
       "  </thead>\n",
       "  <tbody>\n",
       "    <tr>\n",
       "      <th>0</th>\n",
       "      <td>1100170000000</td>\n",
       "      <td>Alameda County Office of Education</td>\n",
       "      <td>1</td>\n",
       "      <td>5</td>\n",
       "      <td>24</td>\n",
       "      <td>10</td>\n",
       "      <td>6</td>\n",
       "    </tr>\n",
       "    <tr>\n",
       "      <th>1</th>\n",
       "      <td>1100170000000</td>\n",
       "      <td>Alameda County Office of Education</td>\n",
       "      <td>2</td>\n",
       "      <td>29</td>\n",
       "      <td>430</td>\n",
       "      <td>64</td>\n",
       "      <td>8</td>\n",
       "    </tr>\n",
       "    <tr>\n",
       "      <th>2</th>\n",
       "      <td>1100170000000</td>\n",
       "      <td>Alameda County Office of Education</td>\n",
       "      <td>3</td>\n",
       "      <td>6</td>\n",
       "      <td>32</td>\n",
       "      <td>8</td>\n",
       "      <td>4</td>\n",
       "    </tr>\n",
       "    <tr>\n",
       "      <th>3</th>\n",
       "      <td>1100170000000</td>\n",
       "      <td>Alameda County Office of Education</td>\n",
       "      <td>4</td>\n",
       "      <td>7</td>\n",
       "      <td>42</td>\n",
       "      <td>10</td>\n",
       "      <td>6</td>\n",
       "    </tr>\n",
       "    <tr>\n",
       "      <th>4</th>\n",
       "      <td>1100170000000</td>\n",
       "      <td>Alameda County Office of Education</td>\n",
       "      <td>5</td>\n",
       "      <td>161</td>\n",
       "      <td>876</td>\n",
       "      <td>296</td>\n",
       "      <td>136</td>\n",
       "    </tr>\n",
       "    <tr>\n",
       "      <th>...</th>\n",
       "      <td>...</td>\n",
       "      <td>...</td>\n",
       "      <td>...</td>\n",
       "      <td>...</td>\n",
       "      <td>...</td>\n",
       "      <td>...</td>\n",
       "      <td>...</td>\n",
       "    </tr>\n",
       "    <tr>\n",
       "      <th>3796</th>\n",
       "      <td>58727700000000</td>\n",
       "      <td>Wheatland Union High</td>\n",
       "      <td>4</td>\n",
       "      <td>4</td>\n",
       "      <td>7</td>\n",
       "      <td>8</td>\n",
       "      <td>2</td>\n",
       "    </tr>\n",
       "    <tr>\n",
       "      <th>3797</th>\n",
       "      <td>58727700000000</td>\n",
       "      <td>Wheatland Union High</td>\n",
       "      <td>5</td>\n",
       "      <td>41</td>\n",
       "      <td>206</td>\n",
       "      <td>78</td>\n",
       "      <td>30</td>\n",
       "    </tr>\n",
       "    <tr>\n",
       "      <th>3798</th>\n",
       "      <td>58727700000000</td>\n",
       "      <td>Wheatland Union High</td>\n",
       "      <td>6</td>\n",
       "      <td>1</td>\n",
       "      <td>22</td>\n",
       "      <td>2</td>\n",
       "      <td>0</td>\n",
       "    </tr>\n",
       "    <tr>\n",
       "      <th>3799</th>\n",
       "      <td>58727700000000</td>\n",
       "      <td>Wheatland Union High</td>\n",
       "      <td>7</td>\n",
       "      <td>93</td>\n",
       "      <td>394</td>\n",
       "      <td>166</td>\n",
       "      <td>44</td>\n",
       "    </tr>\n",
       "    <tr>\n",
       "      <th>3800</th>\n",
       "      <td>58727700000000</td>\n",
       "      <td>Wheatland Union High</td>\n",
       "      <td>9</td>\n",
       "      <td>12</td>\n",
       "      <td>69</td>\n",
       "      <td>26</td>\n",
       "      <td>8</td>\n",
       "    </tr>\n",
       "  </tbody>\n",
       "</table>\n",
       "<p>3801 rows × 7 columns</p>\n",
       "</div>"
      ],
      "text/plain": [
       "            CDS_CODE                            DISTRICT  ETHNIC  GR_12  \\\n",
       "0      1100170000000  Alameda County Office of Education       1      5   \n",
       "1      1100170000000  Alameda County Office of Education       2     29   \n",
       "2      1100170000000  Alameda County Office of Education       3      6   \n",
       "3      1100170000000  Alameda County Office of Education       4      7   \n",
       "4      1100170000000  Alameda County Office of Education       5    161   \n",
       "...              ...                                 ...     ...    ...   \n",
       "3796  58727700000000                Wheatland Union High       4      4   \n",
       "3797  58727700000000                Wheatland Union High       5     41   \n",
       "3798  58727700000000                Wheatland Union High       6      1   \n",
       "3799  58727700000000                Wheatland Union High       7     93   \n",
       "3800  58727700000000                Wheatland Union High       9     12   \n",
       "\n",
       "      ENR_TOTAL  GRADS  UC_GRADS  \n",
       "0            24     10         6  \n",
       "1           430     64         8  \n",
       "2            32      8         4  \n",
       "3            42     10         6  \n",
       "4           876    296       136  \n",
       "...         ...    ...       ...  \n",
       "3796          7      8         2  \n",
       "3797        206     78        30  \n",
       "3798         22      2         0  \n",
       "3799        394    166        44  \n",
       "3800         69     26         8  \n",
       "\n",
       "[3801 rows x 7 columns]"
      ]
     },
<<<<<<< HEAD
<<<<<<< HEAD
     "execution_count": 3,
=======
<<<<<<< HEAD
     "execution_count": 3,
=======
     "execution_count": 2,
>>>>>>> Helen
>>>>>>> 958d3b6f3a0d2c5e7972472b1df355b5c251e781
=======
     "execution_count": 2,
>>>>>>> 66edc7c026dc60249828aa6869a0944f4137744a
     "metadata": {},
     "output_type": "execute_result"
    }
   ],
   "source": [
    "#Files to load\n",
    "grad_enroll=pd.read_csv('../../Grad_Enroll/grad_enroll_1415.csv')\n",
    "grad_enroll"
   ]
  },
  {
   "cell_type": "code",
<<<<<<< HEAD
<<<<<<< HEAD
   "execution_count": 4,
=======
<<<<<<< HEAD
   "execution_count": 4,
=======
   "execution_count": 3,
>>>>>>> Helen
>>>>>>> 958d3b6f3a0d2c5e7972472b1df355b5c251e781
=======
   "execution_count": 3,
>>>>>>> 66edc7c026dc60249828aa6869a0944f4137744a
   "metadata": {},
   "outputs": [
    {
     "data": {
      "text/html": [
       "<div>\n",
       "<style scoped>\n",
       "    .dataframe tbody tr th:only-of-type {\n",
       "        vertical-align: middle;\n",
       "    }\n",
       "\n",
       "    .dataframe tbody tr th {\n",
       "        vertical-align: top;\n",
       "    }\n",
       "\n",
       "    .dataframe thead th {\n",
       "        text-align: right;\n",
       "    }\n",
       "</style>\n",
       "<table border=\"1\" class=\"dataframe\">\n",
       "  <thead>\n",
       "    <tr style=\"text-align: right;\">\n",
       "      <th></th>\n",
       "      <th>CDS_CODE</th>\n",
<<<<<<< HEAD
<<<<<<< HEAD
       "      <th>Object</th>\n",
=======
<<<<<<< HEAD
       "      <th>Object</th>\n",
=======
       "      <th>District_Code</th>\n",
       "      <th>Function_Code</th>\n",
>>>>>>> Helen
>>>>>>> 958d3b6f3a0d2c5e7972472b1df355b5c251e781
=======
       "      <th>District_Code</th>\n",
       "      <th>Function_Code</th>\n",
>>>>>>> 66edc7c026dc60249828aa6869a0944f4137744a
       "      <th>Function</th>\n",
       "      <th>Amount</th>\n",
       "    </tr>\n",
       "  </thead>\n",
       "  <tbody>\n",
       "    <tr>\n",
       "      <th>0</th>\n",
       "      <td>1100170000000</td>\n",
<<<<<<< HEAD
<<<<<<< HEAD
       "      <td>Administrative Unit (AU) of a Multidistrict SE...</td>\n",
       "      <td>Guidance and Counseling Services              ...</td>\n",
       "      <td>3.124472e+05</td>\n",
=======
<<<<<<< HEAD
       "      <td>Administrative Unit (AU) of a Multidistrict SE...</td>\n",
       "      <td>Guidance and Counseling Services              ...</td>\n",
       "      <td>3.124472e+05</td>\n",
=======
=======
>>>>>>> 66edc7c026dc60249828aa6869a0944f4137744a
       "      <td>10017</td>\n",
       "      <td>2100</td>\n",
       "      <td>Classified Instructional Salaries             ...</td>\n",
       "      <td>10755752.49</td>\n",
<<<<<<< HEAD
>>>>>>> Helen
>>>>>>> 958d3b6f3a0d2c5e7972472b1df355b5c251e781
=======
>>>>>>> 66edc7c026dc60249828aa6869a0944f4137744a
       "    </tr>\n",
       "    <tr>\n",
       "      <th>1</th>\n",
       "      <td>1100170000000</td>\n",
<<<<<<< HEAD
<<<<<<< HEAD
       "      <td>Administrative Unit (AU) of a Multidistrict SE...</td>\n",
       "      <td>Plant Maintenance and Operations              ...</td>\n",
       "      <td>5.588706e+05</td>\n",
=======
<<<<<<< HEAD
       "      <td>Administrative Unit (AU) of a Multidistrict SE...</td>\n",
       "      <td>Plant Maintenance and Operations              ...</td>\n",
       "      <td>5.588706e+05</td>\n",
=======
=======
>>>>>>> 66edc7c026dc60249828aa6869a0944f4137744a
       "      <td>10017</td>\n",
       "      <td>5400</td>\n",
       "      <td>Insurance                                     ...</td>\n",
       "      <td>3652.71</td>\n",
<<<<<<< HEAD
>>>>>>> Helen
>>>>>>> 958d3b6f3a0d2c5e7972472b1df355b5c251e781
=======
>>>>>>> 66edc7c026dc60249828aa6869a0944f4137744a
       "    </tr>\n",
       "    <tr>\n",
       "      <th>2</th>\n",
       "      <td>1100170000000</td>\n",
<<<<<<< HEAD
<<<<<<< HEAD
       "      <td>Administrative Unit (AU) of a Multidistrict SE...</td>\n",
       "      <td>Warehousing and Distribution                  ...</td>\n",
       "      <td>8.841525e+04</td>\n",
=======
<<<<<<< HEAD
       "      <td>Administrative Unit (AU) of a Multidistrict SE...</td>\n",
       "      <td>Warehousing and Distribution                  ...</td>\n",
       "      <td>8.841525e+04</td>\n",
=======
=======
>>>>>>> 66edc7c026dc60249828aa6869a0944f4137744a
       "      <td>10017</td>\n",
       "      <td>5900</td>\n",
       "      <td>Communications                                ...</td>\n",
       "      <td>1329205.23</td>\n",
<<<<<<< HEAD
>>>>>>> Helen
>>>>>>> 958d3b6f3a0d2c5e7972472b1df355b5c251e781
=======
>>>>>>> 66edc7c026dc60249828aa6869a0944f4137744a
       "    </tr>\n",
       "    <tr>\n",
       "      <th>3</th>\n",
       "      <td>1100170000000</td>\n",
<<<<<<< HEAD
<<<<<<< HEAD
       "      <td>Budgeting                                     ...</td>\n",
       "      <td>General Administration Cost Transfers         ...</td>\n",
       "      <td>-2.328306e-10</td>\n",
=======
<<<<<<< HEAD
       "      <td>Budgeting                                     ...</td>\n",
       "      <td>General Administration Cost Transfers         ...</td>\n",
       "      <td>-2.328306e-10</td>\n",
=======
=======
>>>>>>> 66edc7c026dc60249828aa6869a0944f4137744a
       "      <td>10017</td>\n",
       "      <td>7110</td>\n",
       "      <td>Tuition for Instruction Under Interdistrict At...</td>\n",
       "      <td>273962.33</td>\n",
<<<<<<< HEAD
>>>>>>> Helen
>>>>>>> 958d3b6f3a0d2c5e7972472b1df355b5c251e781
=======
>>>>>>> 66edc7c026dc60249828aa6869a0944f4137744a
       "    </tr>\n",
       "    <tr>\n",
       "      <th>4</th>\n",
       "      <td>1100170000000</td>\n",
<<<<<<< HEAD
<<<<<<< HEAD
       "      <td>Civic Services                                ...</td>\n",
       "      <td>Other General Administration                  ...</td>\n",
       "      <td>5.485060e+03</td>\n",
=======
<<<<<<< HEAD
       "      <td>Civic Services                                ...</td>\n",
       "      <td>Other General Administration                  ...</td>\n",
       "      <td>5.485060e+03</td>\n",
=======
=======
>>>>>>> 66edc7c026dc60249828aa6869a0944f4137744a
       "      <td>10017</td>\n",
       "      <td>9200</td>\n",
       "      <td>Accounts Receivable                           ...</td>\n",
       "      <td>225391.00</td>\n",
<<<<<<< HEAD
>>>>>>> Helen
>>>>>>> 958d3b6f3a0d2c5e7972472b1df355b5c251e781
=======
>>>>>>> 66edc7c026dc60249828aa6869a0944f4137744a
       "    </tr>\n",
       "    <tr>\n",
       "      <th>...</th>\n",
       "      <td>...</td>\n",
       "      <td>...</td>\n",
       "      <td>...</td>\n",
       "      <td>...</td>\n",
<<<<<<< HEAD
<<<<<<< HEAD
=======
<<<<<<< HEAD
>>>>>>> 958d3b6f3a0d2c5e7972472b1df355b5c251e781
       "    </tr>\n",
       "    <tr>\n",
       "      <th>29819</th>\n",
       "      <td>58727690000000</td>\n",
       "      <td>Other Community Services                      ...</td>\n",
       "      <td>School Administration                         ...</td>\n",
       "      <td>2.863539e+04</td>\n",
       "    </tr>\n",
       "    <tr>\n",
       "      <th>29820</th>\n",
       "      <td>58727690000000</td>\n",
       "      <td>School-Sponsored Athletics                    ...</td>\n",
       "      <td>Instruction                                   ...</td>\n",
       "      <td>5.246830e+03</td>\n",
       "    </tr>\n",
       "    <tr>\n",
       "      <th>29821</th>\n",
       "      <td>58727690000000</td>\n",
       "      <td>School-Sponsored Athletics                    ...</td>\n",
       "      <td>Instructional Library, Media, and Technology  ...</td>\n",
       "      <td>3.569000e+03</td>\n",
       "    </tr>\n",
       "    <tr>\n",
       "      <th>29822</th>\n",
       "      <td>58727690000000</td>\n",
       "      <td>School-Sponsored Co-curricular                ...</td>\n",
       "      <td>Instruction                                   ...</td>\n",
       "      <td>1.809465e+04</td>\n",
       "    </tr>\n",
       "    <tr>\n",
       "      <th>29823</th>\n",
       "      <td>58727690000000</td>\n",
       "      <td>Transfers Between Agencies                    ...</td>\n",
       "      <td>Not Applicable (For use with revenues and bala...</td>\n",
       "      <td>2.923466e+05</td>\n",
       "    </tr>\n",
       "  </tbody>\n",
       "</table>\n",
       "<p>29824 rows × 4 columns</p>\n",
       "</div>"
      ],
      "text/plain": [
       "             CDS_CODE                                             Object  \\\n",
       "0       1100170000000  Administrative Unit (AU) of a Multidistrict SE...   \n",
       "1       1100170000000  Administrative Unit (AU) of a Multidistrict SE...   \n",
       "2       1100170000000  Administrative Unit (AU) of a Multidistrict SE...   \n",
       "3       1100170000000  Budgeting                                     ...   \n",
       "4       1100170000000  Civic Services                                ...   \n",
       "...               ...                                                ...   \n",
       "29819  58727690000000  Other Community Services                      ...   \n",
       "29820  58727690000000  School-Sponsored Athletics                    ...   \n",
       "29821  58727690000000  School-Sponsored Athletics                    ...   \n",
       "29822  58727690000000  School-Sponsored Co-curricular                ...   \n",
       "29823  58727690000000  Transfers Between Agencies                    ...   \n",
       "\n",
       "                                                Function        Amount  \n",
       "0      Guidance and Counseling Services              ...  3.124472e+05  \n",
       "1      Plant Maintenance and Operations              ...  5.588706e+05  \n",
       "2      Warehousing and Distribution                  ...  8.841525e+04  \n",
       "3      General Administration Cost Transfers         ... -2.328306e-10  \n",
       "4      Other General Administration                  ...  5.485060e+03  \n",
       "...                                                  ...           ...  \n",
       "29819  School Administration                         ...  2.863539e+04  \n",
       "29820  Instruction                                   ...  5.246830e+03  \n",
       "29821  Instructional Library, Media, and Technology  ...  3.569000e+03  \n",
       "29822  Instruction                                   ...  1.809465e+04  \n",
       "29823  Not Applicable (For use with revenues and bala...  2.923466e+05  \n",
       "\n",
       "[29824 rows x 4 columns]"
      ]
     },
     "execution_count": 4,
<<<<<<< HEAD
=======
=======
=======
>>>>>>> 66edc7c026dc60249828aa6869a0944f4137744a
       "      <td>...</td>\n",
       "    </tr>\n",
       "    <tr>\n",
       "      <th>4072</th>\n",
       "      <td>58727690000000</td>\n",
       "      <td>72769</td>\n",
       "      <td>2100</td>\n",
       "      <td>Classified Instructional Salaries             ...</td>\n",
       "      <td>125817.35</td>\n",
       "    </tr>\n",
       "    <tr>\n",
       "      <th>4073</th>\n",
       "      <td>58727690000000</td>\n",
       "      <td>72769</td>\n",
       "      <td>4100</td>\n",
       "      <td>Approved Textbooks and Core Curricula Material...</td>\n",
       "      <td>651.48</td>\n",
       "    </tr>\n",
       "    <tr>\n",
       "      <th>4074</th>\n",
       "      <td>58727690000000</td>\n",
       "      <td>72769</td>\n",
       "      <td>4200</td>\n",
       "      <td>Books and Other Reference Materials           ...</td>\n",
       "      <td>165657.79</td>\n",
       "    </tr>\n",
       "    <tr>\n",
       "      <th>4075</th>\n",
       "      <td>58727690000000</td>\n",
       "      <td>72769</td>\n",
       "      <td>8110</td>\n",
       "      <td>Maintenance and Operations (Public Law 81-874)...</td>\n",
       "      <td>210540.91</td>\n",
       "    </tr>\n",
       "    <tr>\n",
       "      <th>4076</th>\n",
       "      <td>58727690000000</td>\n",
       "      <td>72769</td>\n",
       "      <td>9200</td>\n",
       "      <td>Accounts Receivable                           ...</td>\n",
       "      <td>153239.08</td>\n",
       "    </tr>\n",
       "  </tbody>\n",
       "</table>\n",
       "<p>4077 rows × 5 columns</p>\n",
       "</div>"
      ],
      "text/plain": [
       "            CDS_CODE  District_Code  Function_Code  \\\n",
       "0      1100170000000          10017           2100   \n",
       "1      1100170000000          10017           5400   \n",
       "2      1100170000000          10017           5900   \n",
       "3      1100170000000          10017           7110   \n",
       "4      1100170000000          10017           9200   \n",
       "...              ...            ...            ...   \n",
       "4072  58727690000000          72769           2100   \n",
       "4073  58727690000000          72769           4100   \n",
       "4074  58727690000000          72769           4200   \n",
       "4075  58727690000000          72769           8110   \n",
       "4076  58727690000000          72769           9200   \n",
       "\n",
       "                                               Function       Amount  \n",
       "0     Classified Instructional Salaries             ...  10755752.49  \n",
       "1     Insurance                                     ...      3652.71  \n",
       "2     Communications                                ...   1329205.23  \n",
       "3     Tuition for Instruction Under Interdistrict At...    273962.33  \n",
       "4     Accounts Receivable                           ...    225391.00  \n",
       "...                                                 ...          ...  \n",
       "4072  Classified Instructional Salaries             ...    125817.35  \n",
       "4073  Approved Textbooks and Core Curricula Material...       651.48  \n",
       "4074  Books and Other Reference Materials           ...    165657.79  \n",
       "4075  Maintenance and Operations (Public Law 81-874)...    210540.91  \n",
       "4076  Accounts Receivable                           ...    153239.08  \n",
       "\n",
       "[4077 rows x 5 columns]"
      ]
     },
     "execution_count": 3,
<<<<<<< HEAD
>>>>>>> Helen
>>>>>>> 958d3b6f3a0d2c5e7972472b1df355b5c251e781
=======
>>>>>>> 66edc7c026dc60249828aa6869a0944f4137744a
     "metadata": {},
     "output_type": "execute_result"
    }
   ],
   "source": [
    "finance_data=pd.read_csv(\"../../Finance Data/Finance_Data/Finance_1415.csv\")\n",
    "finance_data"
   ]
  },
  {
   "cell_type": "code",
<<<<<<< HEAD
<<<<<<< HEAD
   "execution_count": 5,
=======
<<<<<<< HEAD
   "execution_count": 5,
=======
   "execution_count": 4,
>>>>>>> Helen
>>>>>>> 958d3b6f3a0d2c5e7972472b1df355b5c251e781
=======
   "execution_count": 4,
>>>>>>> 66edc7c026dc60249828aa6869a0944f4137744a
   "metadata": {},
   "outputs": [
    {
     "data": {
      "text/html": [
       "<div>\n",
       "<style scoped>\n",
       "    .dataframe tbody tr th:only-of-type {\n",
       "        vertical-align: middle;\n",
       "    }\n",
       "\n",
       "    .dataframe tbody tr th {\n",
       "        vertical-align: top;\n",
       "    }\n",
       "\n",
       "    .dataframe thead th {\n",
       "        text-align: right;\n",
       "    }\n",
       "</style>\n",
       "<table border=\"1\" class=\"dataframe\">\n",
       "  <thead>\n",
       "    <tr style=\"text-align: right;\">\n",
       "      <th></th>\n",
       "      <th>CDS_CODE</th>\n",
       "      <th>DISTRICT</th>\n",
       "      <th>ETHNIC</th>\n",
       "      <th>GR_12</th>\n",
       "      <th>ENR_TOTAL</th>\n",
       "      <th>GRADS</th>\n",
       "      <th>UC_GRADS</th>\n",
<<<<<<< HEAD
<<<<<<< HEAD
       "      <th>Object</th>\n",
=======
<<<<<<< HEAD
       "      <th>Object</th>\n",
=======
       "      <th>District_Code</th>\n",
       "      <th>Function_Code</th>\n",
>>>>>>> Helen
>>>>>>> 958d3b6f3a0d2c5e7972472b1df355b5c251e781
=======
       "      <th>District_Code</th>\n",
       "      <th>Function_Code</th>\n",
>>>>>>> 66edc7c026dc60249828aa6869a0944f4137744a
       "      <th>Function</th>\n",
       "      <th>Amount</th>\n",
       "    </tr>\n",
       "  </thead>\n",
       "  <tbody>\n",
       "    <tr>\n",
       "      <th>0</th>\n",
       "      <td>1100170000000</td>\n",
       "      <td>Alameda County Office of Education</td>\n",
       "      <td>1</td>\n",
       "      <td>5</td>\n",
       "      <td>24</td>\n",
<<<<<<< HEAD
       "      <td>5</td>\n",
       "      <td>3</td>\n",
<<<<<<< HEAD
       "      <td>Administrative Unit (AU) of a Multidistrict SE...</td>\n",
       "      <td>Guidance and Counseling Services              ...</td>\n",
       "      <td>3.124472e+05</td>\n",
=======
<<<<<<< HEAD
       "      <td>Administrative Unit (AU) of a Multidistrict SE...</td>\n",
       "      <td>Guidance and Counseling Services              ...</td>\n",
       "      <td>3.124472e+05</td>\n",
=======
=======
       "      <td>10</td>\n",
       "      <td>6</td>\n",
>>>>>>> 66edc7c026dc60249828aa6869a0944f4137744a
       "      <td>10017</td>\n",
       "      <td>2100</td>\n",
       "      <td>Classified Instructional Salaries             ...</td>\n",
       "      <td>10755752.49</td>\n",
<<<<<<< HEAD
>>>>>>> Helen
>>>>>>> 958d3b6f3a0d2c5e7972472b1df355b5c251e781
=======
>>>>>>> 66edc7c026dc60249828aa6869a0944f4137744a
       "    </tr>\n",
       "    <tr>\n",
       "      <th>1</th>\n",
       "      <td>1100170000000</td>\n",
       "      <td>Alameda County Office of Education</td>\n",
       "      <td>1</td>\n",
       "      <td>5</td>\n",
       "      <td>24</td>\n",
<<<<<<< HEAD
       "      <td>5</td>\n",
       "      <td>3</td>\n",
<<<<<<< HEAD
       "      <td>Administrative Unit (AU) of a Multidistrict SE...</td>\n",
       "      <td>Plant Maintenance and Operations              ...</td>\n",
       "      <td>5.588706e+05</td>\n",
=======
<<<<<<< HEAD
       "      <td>Administrative Unit (AU) of a Multidistrict SE...</td>\n",
       "      <td>Plant Maintenance and Operations              ...</td>\n",
       "      <td>5.588706e+05</td>\n",
=======
=======
       "      <td>10</td>\n",
       "      <td>6</td>\n",
>>>>>>> 66edc7c026dc60249828aa6869a0944f4137744a
       "      <td>10017</td>\n",
       "      <td>5400</td>\n",
       "      <td>Insurance                                     ...</td>\n",
       "      <td>3652.71</td>\n",
<<<<<<< HEAD
>>>>>>> Helen
>>>>>>> 958d3b6f3a0d2c5e7972472b1df355b5c251e781
=======
>>>>>>> 66edc7c026dc60249828aa6869a0944f4137744a
       "    </tr>\n",
       "    <tr>\n",
       "      <th>2</th>\n",
       "      <td>1100170000000</td>\n",
       "      <td>Alameda County Office of Education</td>\n",
       "      <td>1</td>\n",
       "      <td>5</td>\n",
       "      <td>24</td>\n",
<<<<<<< HEAD
       "      <td>5</td>\n",
       "      <td>3</td>\n",
<<<<<<< HEAD
       "      <td>Administrative Unit (AU) of a Multidistrict SE...</td>\n",
       "      <td>Warehousing and Distribution                  ...</td>\n",
       "      <td>8.841525e+04</td>\n",
=======
<<<<<<< HEAD
       "      <td>Administrative Unit (AU) of a Multidistrict SE...</td>\n",
       "      <td>Warehousing and Distribution                  ...</td>\n",
       "      <td>8.841525e+04</td>\n",
=======
=======
       "      <td>10</td>\n",
       "      <td>6</td>\n",
>>>>>>> 66edc7c026dc60249828aa6869a0944f4137744a
       "      <td>10017</td>\n",
       "      <td>5900</td>\n",
       "      <td>Communications                                ...</td>\n",
       "      <td>1329205.23</td>\n",
<<<<<<< HEAD
>>>>>>> Helen
>>>>>>> 958d3b6f3a0d2c5e7972472b1df355b5c251e781
=======
>>>>>>> 66edc7c026dc60249828aa6869a0944f4137744a
       "    </tr>\n",
       "    <tr>\n",
       "      <th>3</th>\n",
       "      <td>1100170000000</td>\n",
       "      <td>Alameda County Office of Education</td>\n",
       "      <td>1</td>\n",
       "      <td>5</td>\n",
       "      <td>24</td>\n",
<<<<<<< HEAD
       "      <td>5</td>\n",
       "      <td>3</td>\n",
<<<<<<< HEAD
       "      <td>Budgeting                                     ...</td>\n",
       "      <td>General Administration Cost Transfers         ...</td>\n",
       "      <td>-2.328306e-10</td>\n",
=======
<<<<<<< HEAD
       "      <td>Budgeting                                     ...</td>\n",
       "      <td>General Administration Cost Transfers         ...</td>\n",
       "      <td>-2.328306e-10</td>\n",
=======
=======
       "      <td>10</td>\n",
       "      <td>6</td>\n",
>>>>>>> 66edc7c026dc60249828aa6869a0944f4137744a
       "      <td>10017</td>\n",
       "      <td>7110</td>\n",
       "      <td>Tuition for Instruction Under Interdistrict At...</td>\n",
       "      <td>273962.33</td>\n",
<<<<<<< HEAD
>>>>>>> Helen
>>>>>>> 958d3b6f3a0d2c5e7972472b1df355b5c251e781
=======
>>>>>>> 66edc7c026dc60249828aa6869a0944f4137744a
       "    </tr>\n",
       "    <tr>\n",
       "      <th>4</th>\n",
       "      <td>1100170000000</td>\n",
       "      <td>Alameda County Office of Education</td>\n",
       "      <td>1</td>\n",
       "      <td>5</td>\n",
       "      <td>24</td>\n",
<<<<<<< HEAD
       "      <td>5</td>\n",
       "      <td>3</td>\n",
<<<<<<< HEAD
       "      <td>Civic Services                                ...</td>\n",
       "      <td>Other General Administration                  ...</td>\n",
       "      <td>5.485060e+03</td>\n",
=======
<<<<<<< HEAD
       "      <td>Civic Services                                ...</td>\n",
       "      <td>Other General Administration                  ...</td>\n",
       "      <td>5.485060e+03</td>\n",
=======
=======
       "      <td>10</td>\n",
       "      <td>6</td>\n",
>>>>>>> 66edc7c026dc60249828aa6869a0944f4137744a
       "      <td>10017</td>\n",
       "      <td>9200</td>\n",
       "      <td>Accounts Receivable                           ...</td>\n",
       "      <td>225391.00</td>\n",
<<<<<<< HEAD
>>>>>>> Helen
>>>>>>> 958d3b6f3a0d2c5e7972472b1df355b5c251e781
=======
>>>>>>> 66edc7c026dc60249828aa6869a0944f4137744a
       "    </tr>\n",
       "    <tr>\n",
       "      <th>...</th>\n",
       "      <td>...</td>\n",
       "      <td>...</td>\n",
       "      <td>...</td>\n",
       "      <td>...</td>\n",
       "      <td>...</td>\n",
       "      <td>...</td>\n",
       "      <td>...</td>\n",
       "      <td>...</td>\n",
       "      <td>...</td>\n",
<<<<<<< HEAD
<<<<<<< HEAD
=======
<<<<<<< HEAD
>>>>>>> 958d3b6f3a0d2c5e7972472b1df355b5c251e781
       "    </tr>\n",
       "    <tr>\n",
       "      <th>27438</th>\n",
       "      <td>57727100000000</td>\n",
       "      <td>9</td>\n",
       "      <td>5</td>\n",
       "      <td>137</td>\n",
       "      <td>5</td>\n",
       "      <td>2</td>\n",
       "      <td>School-Sponsored Athletics                    ...</td>\n",
       "      <td>Special Education: Resource Specialist Instruc...</td>\n",
       "      <td>1.048500e+02</td>\n",
       "    </tr>\n",
       "    <tr>\n",
       "      <th>27439</th>\n",
<<<<<<< HEAD
=======
=======
=======
       "      <td>...</td>\n",
>>>>>>> 66edc7c026dc60249828aa6869a0944f4137744a
       "      <td>...</td>\n",
       "    </tr>\n",
       "    <tr>\n",
       "      <th>3015</th>\n",
       "      <td>57727100000000</td>\n",
       "      <td>Woodland Joint Unified</td>\n",
       "      <td>7</td>\n",
       "      <td>185</td>\n",
       "      <td>2390</td>\n",
       "      <td>342</td>\n",
       "      <td>170</td>\n",
       "      <td>72710</td>\n",
       "      <td>9200</td>\n",
       "      <td>Accounts Receivable                           ...</td>\n",
       "      <td>1103806.00</td>\n",
       "    </tr>\n",
       "    <tr>\n",
       "      <th>3016</th>\n",
<<<<<<< HEAD
>>>>>>> Helen
>>>>>>> 958d3b6f3a0d2c5e7972472b1df355b5c251e781
=======
>>>>>>> 66edc7c026dc60249828aa6869a0944f4137744a
       "      <td>57727100000000</td>\n",
       "      <td>Woodland Joint Unified</td>\n",
       "      <td>9</td>\n",
       "      <td>5</td>\n",
       "      <td>137</td>\n",
<<<<<<< HEAD
       "      <td>5</td>\n",
       "      <td>2</td>\n",
<<<<<<< HEAD
=======
<<<<<<< HEAD
>>>>>>> 958d3b6f3a0d2c5e7972472b1df355b5c251e781
       "      <td>School-Sponsored Athletics                    ...</td>\n",
       "      <td>Special Education: Separate Classes           ...</td>\n",
       "      <td>1.543500e+02</td>\n",
       "    </tr>\n",
       "    <tr>\n",
       "      <th>27440</th>\n",
<<<<<<< HEAD
=======
=======
=======
       "      <td>10</td>\n",
       "      <td>4</td>\n",
>>>>>>> 66edc7c026dc60249828aa6869a0944f4137744a
       "      <td>72710</td>\n",
       "      <td>4100</td>\n",
       "      <td>Approved Textbooks and Core Curricula Material...</td>\n",
       "      <td>23840.80</td>\n",
       "    </tr>\n",
       "    <tr>\n",
       "      <th>3017</th>\n",
<<<<<<< HEAD
>>>>>>> Helen
>>>>>>> 958d3b6f3a0d2c5e7972472b1df355b5c251e781
=======
>>>>>>> 66edc7c026dc60249828aa6869a0944f4137744a
       "      <td>57727100000000</td>\n",
       "      <td>Woodland Joint Unified</td>\n",
       "      <td>9</td>\n",
       "      <td>5</td>\n",
       "      <td>137</td>\n",
<<<<<<< HEAD
       "      <td>5</td>\n",
       "      <td>2</td>\n",
<<<<<<< HEAD
=======
<<<<<<< HEAD
>>>>>>> 958d3b6f3a0d2c5e7972472b1df355b5c251e781
       "      <td>School-Sponsored Athletics                    ...</td>\n",
       "      <td>Speech Pathology and Audiology Services       ...</td>\n",
       "      <td>6.882000e+01</td>\n",
       "    </tr>\n",
       "    <tr>\n",
       "      <th>27441</th>\n",
<<<<<<< HEAD
=======
=======
=======
       "      <td>10</td>\n",
       "      <td>4</td>\n",
>>>>>>> 66edc7c026dc60249828aa6869a0944f4137744a
       "      <td>72710</td>\n",
       "      <td>4200</td>\n",
       "      <td>Books and Other Reference Materials           ...</td>\n",
       "      <td>508602.40</td>\n",
       "    </tr>\n",
       "    <tr>\n",
       "      <th>3018</th>\n",
<<<<<<< HEAD
>>>>>>> Helen
>>>>>>> 958d3b6f3a0d2c5e7972472b1df355b5c251e781
=======
>>>>>>> 66edc7c026dc60249828aa6869a0944f4137744a
       "      <td>57727100000000</td>\n",
       "      <td>Woodland Joint Unified</td>\n",
       "      <td>9</td>\n",
       "      <td>5</td>\n",
       "      <td>137</td>\n",
<<<<<<< HEAD
       "      <td>5</td>\n",
       "      <td>2</td>\n",
<<<<<<< HEAD
=======
<<<<<<< HEAD
>>>>>>> 958d3b6f3a0d2c5e7972472b1df355b5c251e781
       "      <td>School-Sponsored Co-curricular                ...</td>\n",
       "      <td>Instruction                                   ...</td>\n",
       "      <td>1.932085e+05</td>\n",
       "    </tr>\n",
       "    <tr>\n",
       "      <th>27442</th>\n",
<<<<<<< HEAD
=======
=======
=======
       "      <td>10</td>\n",
       "      <td>4</td>\n",
>>>>>>> 66edc7c026dc60249828aa6869a0944f4137744a
       "      <td>72710</td>\n",
       "      <td>7110</td>\n",
       "      <td>Tuition for Instruction Under Interdistrict At...</td>\n",
       "      <td>166647.19</td>\n",
       "    </tr>\n",
       "    <tr>\n",
       "      <th>3019</th>\n",
<<<<<<< HEAD
>>>>>>> Helen
>>>>>>> 958d3b6f3a0d2c5e7972472b1df355b5c251e781
=======
>>>>>>> 66edc7c026dc60249828aa6869a0944f4137744a
       "      <td>57727100000000</td>\n",
       "      <td>Woodland Joint Unified</td>\n",
       "      <td>9</td>\n",
       "      <td>5</td>\n",
       "      <td>137</td>\n",
<<<<<<< HEAD
       "      <td>5</td>\n",
       "      <td>2</td>\n",
<<<<<<< HEAD
=======
<<<<<<< HEAD
>>>>>>> 958d3b6f3a0d2c5e7972472b1df355b5c251e781
       "      <td>Transfers Between Agencies                    ...</td>\n",
       "      <td>Not Applicable (For use with revenues and bala...</td>\n",
       "      <td>5.214157e+06</td>\n",
       "    </tr>\n",
       "  </tbody>\n",
       "</table>\n",
       "<p>27443 rows × 9 columns</p>\n",
       "</div>"
      ],
      "text/plain": [
       "             CDS_CODE  ETHNIC  GR_12  ENR_TOTAL  GRADS  UC_GRADS  \\\n",
       "0       1100170000000       1      5         24      5         3   \n",
       "1       1100170000000       1      5         24      5         3   \n",
       "2       1100170000000       1      5         24      5         3   \n",
       "3       1100170000000       1      5         24      5         3   \n",
       "4       1100170000000       1      5         24      5         3   \n",
       "...               ...     ...    ...        ...    ...       ...   \n",
       "27438  57727100000000       9      5        137      5         2   \n",
       "27439  57727100000000       9      5        137      5         2   \n",
       "27440  57727100000000       9      5        137      5         2   \n",
       "27441  57727100000000       9      5        137      5         2   \n",
       "27442  57727100000000       9      5        137      5         2   \n",
       "\n",
       "                                                  Object  \\\n",
       "0      Administrative Unit (AU) of a Multidistrict SE...   \n",
       "1      Administrative Unit (AU) of a Multidistrict SE...   \n",
       "2      Administrative Unit (AU) of a Multidistrict SE...   \n",
       "3      Budgeting                                     ...   \n",
       "4      Civic Services                                ...   \n",
       "...                                                  ...   \n",
       "27438  School-Sponsored Athletics                    ...   \n",
       "27439  School-Sponsored Athletics                    ...   \n",
       "27440  School-Sponsored Athletics                    ...   \n",
       "27441  School-Sponsored Co-curricular                ...   \n",
       "27442  Transfers Between Agencies                    ...   \n",
       "\n",
       "                                                Function        Amount  \n",
       "0      Guidance and Counseling Services              ...  3.124472e+05  \n",
       "1      Plant Maintenance and Operations              ...  5.588706e+05  \n",
       "2      Warehousing and Distribution                  ...  8.841525e+04  \n",
       "3      General Administration Cost Transfers         ... -2.328306e-10  \n",
       "4      Other General Administration                  ...  5.485060e+03  \n",
       "...                                                  ...           ...  \n",
       "27438  Special Education: Resource Specialist Instruc...  1.048500e+02  \n",
       "27439  Special Education: Separate Classes           ...  1.543500e+02  \n",
       "27440  Speech Pathology and Audiology Services       ...  6.882000e+01  \n",
       "27441  Instruction                                   ...  1.932085e+05  \n",
       "27442  Not Applicable (For use with revenues and bala...  5.214157e+06  \n",
       "\n",
       "[27443 rows x 9 columns]"
      ]
     },
     "execution_count": 5,
<<<<<<< HEAD
=======
=======
=======
       "      <td>10</td>\n",
       "      <td>4</td>\n",
>>>>>>> 66edc7c026dc60249828aa6869a0944f4137744a
       "      <td>72710</td>\n",
       "      <td>9200</td>\n",
       "      <td>Accounts Receivable                           ...</td>\n",
       "      <td>1103806.00</td>\n",
       "    </tr>\n",
       "  </tbody>\n",
       "</table>\n",
       "<p>3020 rows × 11 columns</p>\n",
       "</div>"
      ],
      "text/plain": [
       "            CDS_CODE                            DISTRICT  ETHNIC  GR_12  \\\n",
       "0      1100170000000  Alameda County Office of Education       1      5   \n",
       "1      1100170000000  Alameda County Office of Education       1      5   \n",
       "2      1100170000000  Alameda County Office of Education       1      5   \n",
       "3      1100170000000  Alameda County Office of Education       1      5   \n",
       "4      1100170000000  Alameda County Office of Education       1      5   \n",
       "...              ...                                 ...     ...    ...   \n",
       "3015  57727100000000              Woodland Joint Unified       7    185   \n",
       "3016  57727100000000              Woodland Joint Unified       9      5   \n",
       "3017  57727100000000              Woodland Joint Unified       9      5   \n",
       "3018  57727100000000              Woodland Joint Unified       9      5   \n",
       "3019  57727100000000              Woodland Joint Unified       9      5   \n",
       "\n",
       "      ENR_TOTAL  GRADS  UC_GRADS  District_Code  Function_Code  \\\n",
       "0            24     10         6          10017           2100   \n",
       "1            24     10         6          10017           5400   \n",
       "2            24     10         6          10017           5900   \n",
       "3            24     10         6          10017           7110   \n",
       "4            24     10         6          10017           9200   \n",
       "...         ...    ...       ...            ...            ...   \n",
       "3015       2390    342       170          72710           9200   \n",
       "3016        137     10         4          72710           4100   \n",
       "3017        137     10         4          72710           4200   \n",
       "3018        137     10         4          72710           7110   \n",
       "3019        137     10         4          72710           9200   \n",
       "\n",
       "                                               Function       Amount  \n",
       "0     Classified Instructional Salaries             ...  10755752.49  \n",
       "1     Insurance                                     ...      3652.71  \n",
       "2     Communications                                ...   1329205.23  \n",
       "3     Tuition for Instruction Under Interdistrict At...    273962.33  \n",
       "4     Accounts Receivable                           ...    225391.00  \n",
       "...                                                 ...          ...  \n",
       "3015  Accounts Receivable                           ...   1103806.00  \n",
       "3016  Approved Textbooks and Core Curricula Material...     23840.80  \n",
       "3017  Books and Other Reference Materials           ...    508602.40  \n",
       "3018  Tuition for Instruction Under Interdistrict At...    166647.19  \n",
       "3019  Accounts Receivable                           ...   1103806.00  \n",
       "\n",
       "[3020 rows x 11 columns]"
      ]
     },
     "execution_count": 4,
<<<<<<< HEAD
>>>>>>> Helen
>>>>>>> 958d3b6f3a0d2c5e7972472b1df355b5c251e781
=======
>>>>>>> 66edc7c026dc60249828aa6869a0944f4137744a
     "metadata": {},
     "output_type": "execute_result"
    }
   ],
   "source": [
    "grad_enroll_finance=pd.merge(grad_enroll, finance_data, on=['CDS_CODE'])\n",
    "grad_enroll_finance"
   ]
  },
  {
   "cell_type": "code",
<<<<<<< HEAD
<<<<<<< HEAD
   "execution_count": 6,
=======
<<<<<<< HEAD
   "execution_count": 6,
=======
   "execution_count": 5,
>>>>>>> Helen
>>>>>>> 958d3b6f3a0d2c5e7972472b1df355b5c251e781
=======
   "execution_count": 5,
>>>>>>> 66edc7c026dc60249828aa6869a0944f4137744a
   "metadata": {},
   "outputs": [],
   "source": [
    "grad_enroll_finance.to_csv('../All_Data_Data/All_1415')"
   ]
  },
  {
   "cell_type": "code",
   "execution_count": null,
   "metadata": {},
   "outputs": [],
   "source": []
  },
  {
   "cell_type": "code",
   "execution_count": null,
   "metadata": {},
   "outputs": [],
   "source": []
  },
  {
   "cell_type": "code",
   "execution_count": null,
   "metadata": {},
   "outputs": [],
   "source": []
  }
 ],
 "metadata": {
  "kernelspec": {
   "display_name": "PythonData",
   "language": "python",
   "name": "pythondata"
  },
  "language_info": {
   "codemirror_mode": {
    "name": "ipython",
    "version": 3
   },
   "file_extension": ".py",
   "mimetype": "text/x-python",
   "name": "python",
   "nbconvert_exporter": "python",
   "pygments_lexer": "ipython3",
   "version": "3.7.4"
  }
 },
 "nbformat": 4,
 "nbformat_minor": 4
}
