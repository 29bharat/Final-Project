{
 "cells": [
  {
   "cell_type": "code",
   "execution_count": 1,
   "metadata": {},
   "outputs": [],
   "source": [
    "#Add the Pandas dependency\n",
    "import pandas as pd"
   ]
  },
  {
   "cell_type": "code",
   "execution_count": 2,
   "metadata": {},
   "outputs": [
    {
     "data": {
      "text/html": [
       "<div>\n",
       "<style scoped>\n",
       "    .dataframe tbody tr th:only-of-type {\n",
       "        vertical-align: middle;\n",
       "    }\n",
       "\n",
       "    .dataframe tbody tr th {\n",
       "        vertical-align: top;\n",
       "    }\n",
       "\n",
       "    .dataframe thead th {\n",
       "        text-align: right;\n",
       "    }\n",
       "</style>\n",
       "<table border=\"1\" class=\"dataframe\">\n",
       "  <thead>\n",
       "    <tr style=\"text-align: right;\">\n",
       "      <th></th>\n",
       "      <th>CDS_CODE</th>\n",
       "      <th>DISTRICT</th>\n",
       "      <th>ETHNIC</th>\n",
       "      <th>GR_12</th>\n",
       "      <th>ENR_TOTAL</th>\n",
       "      <th>GRADS</th>\n",
       "      <th>UC_GRADS</th>\n",
       "    </tr>\n",
       "  </thead>\n",
       "  <tbody>\n",
       "    <tr>\n",
       "      <th>0</th>\n",
       "      <td>1100170000000</td>\n",
       "      <td>Alameda County Office of Education</td>\n",
       "      <td>1</td>\n",
       "      <td>1</td>\n",
       "      <td>16</td>\n",
       "      <td>4</td>\n",
       "      <td>2</td>\n",
       "    </tr>\n",
       "    <tr>\n",
       "      <th>1</th>\n",
       "      <td>1100170000000</td>\n",
       "      <td>Alameda County Office of Education</td>\n",
       "      <td>2</td>\n",
       "      <td>9</td>\n",
       "      <td>201</td>\n",
       "      <td>12</td>\n",
       "      <td>2</td>\n",
       "    </tr>\n",
       "    <tr>\n",
       "      <th>2</th>\n",
       "      <td>1100170000000</td>\n",
       "      <td>Alameda County Office of Education</td>\n",
       "      <td>3</td>\n",
       "      <td>4</td>\n",
       "      <td>8</td>\n",
       "      <td>4</td>\n",
       "      <td>0</td>\n",
       "    </tr>\n",
       "    <tr>\n",
       "      <th>3</th>\n",
       "      <td>1100170000000</td>\n",
       "      <td>Alameda County Office of Education</td>\n",
       "      <td>4</td>\n",
       "      <td>2</td>\n",
       "      <td>19</td>\n",
       "      <td>2</td>\n",
       "      <td>0</td>\n",
       "    </tr>\n",
       "    <tr>\n",
       "      <th>4</th>\n",
       "      <td>1100170000000</td>\n",
       "      <td>Alameda County Office of Education</td>\n",
       "      <td>5</td>\n",
       "      <td>117</td>\n",
       "      <td>627</td>\n",
       "      <td>226</td>\n",
       "      <td>80</td>\n",
       "    </tr>\n",
       "    <tr>\n",
       "      <th>...</th>\n",
       "      <td>...</td>\n",
       "      <td>...</td>\n",
       "      <td>...</td>\n",
       "      <td>...</td>\n",
       "      <td>...</td>\n",
       "      <td>...</td>\n",
       "      <td>...</td>\n",
       "    </tr>\n",
       "    <tr>\n",
       "      <th>3819</th>\n",
       "      <td>58727700000000</td>\n",
       "      <td>Wheatland Union High</td>\n",
       "      <td>4</td>\n",
       "      <td>1</td>\n",
       "      <td>6</td>\n",
       "      <td>2</td>\n",
       "      <td>0</td>\n",
       "    </tr>\n",
       "    <tr>\n",
       "      <th>3820</th>\n",
       "      <td>58727700000000</td>\n",
       "      <td>Wheatland Union High</td>\n",
       "      <td>5</td>\n",
       "      <td>48</td>\n",
       "      <td>205</td>\n",
       "      <td>86</td>\n",
       "      <td>52</td>\n",
       "    </tr>\n",
       "    <tr>\n",
       "      <th>3821</th>\n",
       "      <td>58727700000000</td>\n",
       "      <td>Wheatland Union High</td>\n",
       "      <td>6</td>\n",
       "      <td>6</td>\n",
       "      <td>31</td>\n",
       "      <td>10</td>\n",
       "      <td>6</td>\n",
       "    </tr>\n",
       "    <tr>\n",
       "      <th>3822</th>\n",
       "      <td>58727700000000</td>\n",
       "      <td>Wheatland Union High</td>\n",
       "      <td>7</td>\n",
       "      <td>87</td>\n",
       "      <td>367</td>\n",
       "      <td>166</td>\n",
       "      <td>74</td>\n",
       "    </tr>\n",
       "    <tr>\n",
       "      <th>3823</th>\n",
       "      <td>58727700000000</td>\n",
       "      <td>Wheatland Union High</td>\n",
       "      <td>9</td>\n",
       "      <td>18</td>\n",
       "      <td>68</td>\n",
       "      <td>34</td>\n",
       "      <td>12</td>\n",
       "    </tr>\n",
       "  </tbody>\n",
       "</table>\n",
       "<p>3824 rows × 7 columns</p>\n",
       "</div>"
      ],
      "text/plain": [
       "            CDS_CODE                            DISTRICT  ETHNIC  GR_12  \\\n",
       "0      1100170000000  Alameda County Office of Education       1      1   \n",
       "1      1100170000000  Alameda County Office of Education       2      9   \n",
       "2      1100170000000  Alameda County Office of Education       3      4   \n",
       "3      1100170000000  Alameda County Office of Education       4      2   \n",
       "4      1100170000000  Alameda County Office of Education       5    117   \n",
       "...              ...                                 ...     ...    ...   \n",
       "3819  58727700000000                Wheatland Union High       4      1   \n",
       "3820  58727700000000                Wheatland Union High       5     48   \n",
       "3821  58727700000000                Wheatland Union High       6      6   \n",
       "3822  58727700000000                Wheatland Union High       7     87   \n",
       "3823  58727700000000                Wheatland Union High       9     18   \n",
       "\n",
       "      ENR_TOTAL  GRADS  UC_GRADS  \n",
       "0            16      4         2  \n",
       "1           201     12         2  \n",
       "2             8      4         0  \n",
       "3            19      2         0  \n",
       "4           627    226        80  \n",
       "...         ...    ...       ...  \n",
       "3819          6      2         0  \n",
       "3820        205     86        52  \n",
       "3821         31     10         6  \n",
       "3822        367    166        74  \n",
       "3823         68     34        12  \n",
       "\n",
       "[3824 rows x 7 columns]"
      ]
     },
     "execution_count": 2,
     "metadata": {},
     "output_type": "execute_result"
    }
   ],
   "source": [
    "#Files to load\n",
    "grad_enroll=pd.read_csv('../../Grad_Enroll/grad_enroll_1516.csv')\n",
    "grad_enroll"
   ]
  },
  {
   "cell_type": "code",
   "execution_count": 3,
   "metadata": {},
   "outputs": [
    {
     "data": {
      "text/html": [
       "<div>\n",
       "<style scoped>\n",
       "    .dataframe tbody tr th:only-of-type {\n",
       "        vertical-align: middle;\n",
       "    }\n",
       "\n",
       "    .dataframe tbody tr th {\n",
       "        vertical-align: top;\n",
       "    }\n",
       "\n",
       "    .dataframe thead th {\n",
       "        text-align: right;\n",
       "    }\n",
       "</style>\n",
       "<table border=\"1\" class=\"dataframe\">\n",
       "  <thead>\n",
       "    <tr style=\"text-align: right;\">\n",
       "      <th></th>\n",
       "      <th>CDS_CODE</th>\n",
<<<<<<< HEAD
<<<<<<< HEAD
       "      <th>Object</th>\n",
=======
<<<<<<< HEAD
       "      <th>Object</th>\n",
=======
       "      <th>District_Code</th>\n",
       "      <th>Function_Code</th>\n",
>>>>>>> Helen
>>>>>>> 958d3b6f3a0d2c5e7972472b1df355b5c251e781
=======
       "      <th>District_Code</th>\n",
       "      <th>Function_Code</th>\n",
>>>>>>> 66edc7c026dc60249828aa6869a0944f4137744a
       "      <th>Function</th>\n",
       "      <th>Amount</th>\n",
       "    </tr>\n",
       "  </thead>\n",
       "  <tbody>\n",
       "    <tr>\n",
       "      <th>0</th>\n",
       "      <td>1100170000000</td>\n",
<<<<<<< HEAD
<<<<<<< HEAD
       "      <td>Administrative Unit (AU) of a Multidistrict SE...</td>\n",
       "      <td>Guidance and Counseling Services              ...</td>\n",
       "      <td>2.771103e+05</td>\n",
=======
<<<<<<< HEAD
       "      <td>Administrative Unit (AU) of a Multidistrict SE...</td>\n",
       "      <td>Guidance and Counseling Services              ...</td>\n",
       "      <td>2.771103e+05</td>\n",
=======
=======
>>>>>>> 66edc7c026dc60249828aa6869a0944f4137744a
       "      <td>10017</td>\n",
       "      <td>2100</td>\n",
       "      <td>Classified Instructional Salaries             ...</td>\n",
       "      <td>11704762.38</td>\n",
<<<<<<< HEAD
>>>>>>> Helen
>>>>>>> 958d3b6f3a0d2c5e7972472b1df355b5c251e781
=======
>>>>>>> 66edc7c026dc60249828aa6869a0944f4137744a
       "    </tr>\n",
       "    <tr>\n",
       "      <th>1</th>\n",
       "      <td>1100170000000</td>\n",
<<<<<<< HEAD
<<<<<<< HEAD
       "      <td>Administrative Unit (AU) of a Multidistrict SE...</td>\n",
       "      <td>Plant Maintenance and Operations              ...</td>\n",
       "      <td>6.310217e+05</td>\n",
=======
<<<<<<< HEAD
       "      <td>Administrative Unit (AU) of a Multidistrict SE...</td>\n",
       "      <td>Plant Maintenance and Operations              ...</td>\n",
       "      <td>6.310217e+05</td>\n",
=======
=======
>>>>>>> 66edc7c026dc60249828aa6869a0944f4137744a
       "      <td>10017</td>\n",
       "      <td>5400</td>\n",
       "      <td>Insurance                                     ...</td>\n",
       "      <td>2487.98</td>\n",
<<<<<<< HEAD
>>>>>>> Helen
>>>>>>> 958d3b6f3a0d2c5e7972472b1df355b5c251e781
=======
>>>>>>> 66edc7c026dc60249828aa6869a0944f4137744a
       "    </tr>\n",
       "    <tr>\n",
       "      <th>2</th>\n",
       "      <td>1100170000000</td>\n",
<<<<<<< HEAD
<<<<<<< HEAD
       "      <td>Administrative Unit (AU) of a Multidistrict SE...</td>\n",
       "      <td>Warehousing and Distribution                  ...</td>\n",
       "      <td>8.975540e+04</td>\n",
=======
<<<<<<< HEAD
       "      <td>Administrative Unit (AU) of a Multidistrict SE...</td>\n",
       "      <td>Warehousing and Distribution                  ...</td>\n",
       "      <td>8.975540e+04</td>\n",
=======
=======
>>>>>>> 66edc7c026dc60249828aa6869a0944f4137744a
       "      <td>10017</td>\n",
       "      <td>5900</td>\n",
       "      <td>Communications                                ...</td>\n",
       "      <td>783162.85</td>\n",
<<<<<<< HEAD
>>>>>>> Helen
>>>>>>> 958d3b6f3a0d2c5e7972472b1df355b5c251e781
=======
>>>>>>> 66edc7c026dc60249828aa6869a0944f4137744a
       "    </tr>\n",
       "    <tr>\n",
       "      <th>3</th>\n",
       "      <td>1100170000000</td>\n",
<<<<<<< HEAD
<<<<<<< HEAD
       "      <td>Budgeting                                     ...</td>\n",
       "      <td>General Administration Cost Transfers         ...</td>\n",
       "      <td>-2.910383e-11</td>\n",
=======
<<<<<<< HEAD
       "      <td>Budgeting                                     ...</td>\n",
       "      <td>General Administration Cost Transfers         ...</td>\n",
       "      <td>-2.910383e-11</td>\n",
=======
=======
>>>>>>> 66edc7c026dc60249828aa6869a0944f4137744a
       "      <td>10017</td>\n",
       "      <td>7110</td>\n",
       "      <td>Tuition for Instruction Under Interdistrict At...</td>\n",
       "      <td>248270.85</td>\n",
<<<<<<< HEAD
>>>>>>> Helen
>>>>>>> 958d3b6f3a0d2c5e7972472b1df355b5c251e781
=======
>>>>>>> 66edc7c026dc60249828aa6869a0944f4137744a
       "    </tr>\n",
       "    <tr>\n",
       "      <th>4</th>\n",
       "      <td>1100170000000</td>\n",
<<<<<<< HEAD
<<<<<<< HEAD
       "      <td>Civic Services                                ...</td>\n",
       "      <td>Other General Administration                  ...</td>\n",
       "      <td>6.316400e+04</td>\n",
=======
<<<<<<< HEAD
       "      <td>Civic Services                                ...</td>\n",
       "      <td>Other General Administration                  ...</td>\n",
       "      <td>6.316400e+04</td>\n",
=======
=======
>>>>>>> 66edc7c026dc60249828aa6869a0944f4137744a
       "      <td>10017</td>\n",
       "      <td>9200</td>\n",
       "      <td>Accounts Receivable                           ...</td>\n",
       "      <td>5172564.52</td>\n",
<<<<<<< HEAD
>>>>>>> Helen
>>>>>>> 958d3b6f3a0d2c5e7972472b1df355b5c251e781
=======
>>>>>>> 66edc7c026dc60249828aa6869a0944f4137744a
       "    </tr>\n",
       "    <tr>\n",
       "      <th>...</th>\n",
       "      <td>...</td>\n",
       "      <td>...</td>\n",
       "      <td>...</td>\n",
       "      <td>...</td>\n",
<<<<<<< HEAD
<<<<<<< HEAD
=======
<<<<<<< HEAD
>>>>>>> 958d3b6f3a0d2c5e7972472b1df355b5c251e781
       "    </tr>\n",
       "    <tr>\n",
       "      <th>29974</th>\n",
       "      <td>58727690000000</td>\n",
       "      <td>Other Community Services                      ...</td>\n",
       "      <td>School Administration                         ...</td>\n",
       "      <td>2.826953e+04</td>\n",
       "    </tr>\n",
       "    <tr>\n",
       "      <th>29975</th>\n",
       "      <td>58727690000000</td>\n",
       "      <td>School-Sponsored Athletics                    ...</td>\n",
       "      <td>Instruction                                   ...</td>\n",
       "      <td>8.639460e+03</td>\n",
       "    </tr>\n",
       "    <tr>\n",
       "      <th>29976</th>\n",
       "      <td>58727690000000</td>\n",
       "      <td>School-Sponsored Athletics                    ...</td>\n",
       "      <td>Instructional Library, Media, and Technology  ...</td>\n",
       "      <td>4.525510e+03</td>\n",
       "    </tr>\n",
       "    <tr>\n",
       "      <th>29977</th>\n",
       "      <td>58727690000000</td>\n",
       "      <td>School-Sponsored Co-curricular                ...</td>\n",
       "      <td>Instruction                                   ...</td>\n",
       "      <td>6.428483e+04</td>\n",
       "    </tr>\n",
       "    <tr>\n",
       "      <th>29978</th>\n",
       "      <td>58727690000000</td>\n",
       "      <td>Transfers Between Agencies                    ...</td>\n",
       "      <td>Not Applicable (For use with revenues and bala...</td>\n",
       "      <td>3.109670e+05</td>\n",
       "    </tr>\n",
       "  </tbody>\n",
       "</table>\n",
       "<p>29979 rows × 4 columns</p>\n",
       "</div>"
      ],
      "text/plain": [
       "             CDS_CODE                                             Object  \\\n",
       "0       1100170000000  Administrative Unit (AU) of a Multidistrict SE...   \n",
       "1       1100170000000  Administrative Unit (AU) of a Multidistrict SE...   \n",
       "2       1100170000000  Administrative Unit (AU) of a Multidistrict SE...   \n",
       "3       1100170000000  Budgeting                                     ...   \n",
       "4       1100170000000  Civic Services                                ...   \n",
       "...               ...                                                ...   \n",
       "29974  58727690000000  Other Community Services                      ...   \n",
       "29975  58727690000000  School-Sponsored Athletics                    ...   \n",
       "29976  58727690000000  School-Sponsored Athletics                    ...   \n",
       "29977  58727690000000  School-Sponsored Co-curricular                ...   \n",
       "29978  58727690000000  Transfers Between Agencies                    ...   \n",
       "\n",
       "                                                Function        Amount  \n",
       "0      Guidance and Counseling Services              ...  2.771103e+05  \n",
       "1      Plant Maintenance and Operations              ...  6.310217e+05  \n",
       "2      Warehousing and Distribution                  ...  8.975540e+04  \n",
       "3      General Administration Cost Transfers         ... -2.910383e-11  \n",
       "4      Other General Administration                  ...  6.316400e+04  \n",
       "...                                                  ...           ...  \n",
       "29974  School Administration                         ...  2.826953e+04  \n",
       "29975  Instruction                                   ...  8.639460e+03  \n",
       "29976  Instructional Library, Media, and Technology  ...  4.525510e+03  \n",
       "29977  Instruction                                   ...  6.428483e+04  \n",
       "29978  Not Applicable (For use with revenues and bala...  3.109670e+05  \n",
       "\n",
       "[29979 rows x 4 columns]"
<<<<<<< HEAD
=======
=======
=======
>>>>>>> 66edc7c026dc60249828aa6869a0944f4137744a
       "      <td>...</td>\n",
       "    </tr>\n",
       "    <tr>\n",
       "      <th>4119</th>\n",
       "      <td>58727690000000</td>\n",
       "      <td>72769</td>\n",
       "      <td>2100</td>\n",
       "      <td>Classified Instructional Salaries             ...</td>\n",
       "      <td>124283.71</td>\n",
       "    </tr>\n",
       "    <tr>\n",
       "      <th>4120</th>\n",
       "      <td>58727690000000</td>\n",
       "      <td>72769</td>\n",
       "      <td>4100</td>\n",
       "      <td>Approved Textbooks and Core Curricula Material...</td>\n",
       "      <td>500.00</td>\n",
       "    </tr>\n",
       "    <tr>\n",
       "      <th>4121</th>\n",
       "      <td>58727690000000</td>\n",
       "      <td>72769</td>\n",
       "      <td>4200</td>\n",
       "      <td>Books and Other Reference Materials           ...</td>\n",
       "      <td>179615.92</td>\n",
       "    </tr>\n",
       "    <tr>\n",
       "      <th>4122</th>\n",
       "      <td>58727690000000</td>\n",
       "      <td>72769</td>\n",
       "      <td>8110</td>\n",
       "      <td>Maintenance and Operations (Public Law 81-874)...</td>\n",
       "      <td>179306.97</td>\n",
       "    </tr>\n",
       "    <tr>\n",
       "      <th>4123</th>\n",
       "      <td>58727690000000</td>\n",
       "      <td>72769</td>\n",
       "      <td>9200</td>\n",
       "      <td>Accounts Receivable                           ...</td>\n",
       "      <td>236177.85</td>\n",
       "    </tr>\n",
       "  </tbody>\n",
       "</table>\n",
       "<p>4124 rows × 5 columns</p>\n",
       "</div>"
      ],
      "text/plain": [
       "            CDS_CODE  District_Code  Function_Code  \\\n",
       "0      1100170000000          10017           2100   \n",
       "1      1100170000000          10017           5400   \n",
       "2      1100170000000          10017           5900   \n",
       "3      1100170000000          10017           7110   \n",
       "4      1100170000000          10017           9200   \n",
       "...              ...            ...            ...   \n",
       "4119  58727690000000          72769           2100   \n",
       "4120  58727690000000          72769           4100   \n",
       "4121  58727690000000          72769           4200   \n",
       "4122  58727690000000          72769           8110   \n",
       "4123  58727690000000          72769           9200   \n",
       "\n",
       "                                               Function       Amount  \n",
       "0     Classified Instructional Salaries             ...  11704762.38  \n",
       "1     Insurance                                     ...      2487.98  \n",
       "2     Communications                                ...    783162.85  \n",
       "3     Tuition for Instruction Under Interdistrict At...    248270.85  \n",
       "4     Accounts Receivable                           ...   5172564.52  \n",
       "...                                                 ...          ...  \n",
       "4119  Classified Instructional Salaries             ...    124283.71  \n",
       "4120  Approved Textbooks and Core Curricula Material...       500.00  \n",
       "4121  Books and Other Reference Materials           ...    179615.92  \n",
       "4122  Maintenance and Operations (Public Law 81-874)...    179306.97  \n",
       "4123  Accounts Receivable                           ...    236177.85  \n",
       "\n",
       "[4124 rows x 5 columns]"
<<<<<<< HEAD
>>>>>>> Helen
>>>>>>> 958d3b6f3a0d2c5e7972472b1df355b5c251e781
=======
>>>>>>> 66edc7c026dc60249828aa6869a0944f4137744a
      ]
     },
     "execution_count": 3,
     "metadata": {},
     "output_type": "execute_result"
    }
   ],
   "source": [
    "finance_data=pd.read_csv(\"../../Finance Data/Finance_Data/Finance_1516.csv\")\n",
    "finance_data"
   ]
  },
  {
   "cell_type": "code",
   "execution_count": 4,
   "metadata": {},
   "outputs": [
    {
     "data": {
      "text/html": [
       "<div>\n",
       "<style scoped>\n",
       "    .dataframe tbody tr th:only-of-type {\n",
       "        vertical-align: middle;\n",
       "    }\n",
       "\n",
       "    .dataframe tbody tr th {\n",
       "        vertical-align: top;\n",
       "    }\n",
       "\n",
       "    .dataframe thead th {\n",
       "        text-align: right;\n",
       "    }\n",
       "</style>\n",
       "<table border=\"1\" class=\"dataframe\">\n",
       "  <thead>\n",
       "    <tr style=\"text-align: right;\">\n",
       "      <th></th>\n",
       "      <th>CDS_CODE</th>\n",
       "      <th>DISTRICT</th>\n",
       "      <th>ETHNIC</th>\n",
       "      <th>GR_12</th>\n",
       "      <th>ENR_TOTAL</th>\n",
       "      <th>GRADS</th>\n",
       "      <th>UC_GRADS</th>\n",
<<<<<<< HEAD
<<<<<<< HEAD
       "      <th>Object</th>\n",
=======
<<<<<<< HEAD
       "      <th>Object</th>\n",
=======
       "      <th>District_Code</th>\n",
       "      <th>Function_Code</th>\n",
>>>>>>> Helen
>>>>>>> 958d3b6f3a0d2c5e7972472b1df355b5c251e781
=======
       "      <th>District_Code</th>\n",
       "      <th>Function_Code</th>\n",
>>>>>>> 66edc7c026dc60249828aa6869a0944f4137744a
       "      <th>Function</th>\n",
       "      <th>Amount</th>\n",
       "    </tr>\n",
       "  </thead>\n",
       "  <tbody>\n",
       "    <tr>\n",
       "      <th>0</th>\n",
       "      <td>1100170000000</td>\n",
       "      <td>Alameda County Office of Education</td>\n",
       "      <td>1</td>\n",
       "      <td>1</td>\n",
       "      <td>16</td>\n",
       "      <td>4</td>\n",
       "      <td>2</td>\n",
<<<<<<< HEAD
       "      <td>1</td>\n",
<<<<<<< HEAD
       "      <td>Administrative Unit (AU) of a Multidistrict SE...</td>\n",
       "      <td>Guidance and Counseling Services              ...</td>\n",
       "      <td>2.771103e+05</td>\n",
=======
<<<<<<< HEAD
       "      <td>Administrative Unit (AU) of a Multidistrict SE...</td>\n",
       "      <td>Guidance and Counseling Services              ...</td>\n",
       "      <td>2.771103e+05</td>\n",
=======
=======
>>>>>>> 66edc7c026dc60249828aa6869a0944f4137744a
       "      <td>10017</td>\n",
       "      <td>2100</td>\n",
       "      <td>Classified Instructional Salaries             ...</td>\n",
       "      <td>11704762.38</td>\n",
<<<<<<< HEAD
>>>>>>> Helen
>>>>>>> 958d3b6f3a0d2c5e7972472b1df355b5c251e781
=======
>>>>>>> 66edc7c026dc60249828aa6869a0944f4137744a
       "    </tr>\n",
       "    <tr>\n",
       "      <th>1</th>\n",
       "      <td>1100170000000</td>\n",
       "      <td>Alameda County Office of Education</td>\n",
       "      <td>1</td>\n",
       "      <td>1</td>\n",
       "      <td>16</td>\n",
       "      <td>4</td>\n",
       "      <td>2</td>\n",
<<<<<<< HEAD
       "      <td>1</td>\n",
<<<<<<< HEAD
       "      <td>Administrative Unit (AU) of a Multidistrict SE...</td>\n",
       "      <td>Plant Maintenance and Operations              ...</td>\n",
       "      <td>6.310217e+05</td>\n",
=======
<<<<<<< HEAD
       "      <td>Administrative Unit (AU) of a Multidistrict SE...</td>\n",
       "      <td>Plant Maintenance and Operations              ...</td>\n",
       "      <td>6.310217e+05</td>\n",
=======
=======
>>>>>>> 66edc7c026dc60249828aa6869a0944f4137744a
       "      <td>10017</td>\n",
       "      <td>5400</td>\n",
       "      <td>Insurance                                     ...</td>\n",
       "      <td>2487.98</td>\n",
<<<<<<< HEAD
>>>>>>> Helen
>>>>>>> 958d3b6f3a0d2c5e7972472b1df355b5c251e781
=======
>>>>>>> 66edc7c026dc60249828aa6869a0944f4137744a
       "    </tr>\n",
       "    <tr>\n",
       "      <th>2</th>\n",
       "      <td>1100170000000</td>\n",
       "      <td>Alameda County Office of Education</td>\n",
       "      <td>1</td>\n",
       "      <td>1</td>\n",
       "      <td>16</td>\n",
       "      <td>4</td>\n",
       "      <td>2</td>\n",
<<<<<<< HEAD
       "      <td>1</td>\n",
<<<<<<< HEAD
       "      <td>Administrative Unit (AU) of a Multidistrict SE...</td>\n",
       "      <td>Warehousing and Distribution                  ...</td>\n",
       "      <td>8.975540e+04</td>\n",
=======
<<<<<<< HEAD
       "      <td>Administrative Unit (AU) of a Multidistrict SE...</td>\n",
       "      <td>Warehousing and Distribution                  ...</td>\n",
       "      <td>8.975540e+04</td>\n",
=======
=======
>>>>>>> 66edc7c026dc60249828aa6869a0944f4137744a
       "      <td>10017</td>\n",
       "      <td>5900</td>\n",
       "      <td>Communications                                ...</td>\n",
       "      <td>783162.85</td>\n",
<<<<<<< HEAD
>>>>>>> Helen
>>>>>>> 958d3b6f3a0d2c5e7972472b1df355b5c251e781
=======
>>>>>>> 66edc7c026dc60249828aa6869a0944f4137744a
       "    </tr>\n",
       "    <tr>\n",
       "      <th>3</th>\n",
       "      <td>1100170000000</td>\n",
       "      <td>Alameda County Office of Education</td>\n",
       "      <td>1</td>\n",
       "      <td>1</td>\n",
       "      <td>16</td>\n",
       "      <td>4</td>\n",
       "      <td>2</td>\n",
<<<<<<< HEAD
       "      <td>1</td>\n",
<<<<<<< HEAD
       "      <td>Budgeting                                     ...</td>\n",
       "      <td>General Administration Cost Transfers         ...</td>\n",
       "      <td>-2.910383e-11</td>\n",
=======
<<<<<<< HEAD
       "      <td>Budgeting                                     ...</td>\n",
       "      <td>General Administration Cost Transfers         ...</td>\n",
       "      <td>-2.910383e-11</td>\n",
=======
=======
>>>>>>> 66edc7c026dc60249828aa6869a0944f4137744a
       "      <td>10017</td>\n",
       "      <td>7110</td>\n",
       "      <td>Tuition for Instruction Under Interdistrict At...</td>\n",
       "      <td>248270.85</td>\n",
<<<<<<< HEAD
>>>>>>> Helen
>>>>>>> 958d3b6f3a0d2c5e7972472b1df355b5c251e781
=======
>>>>>>> 66edc7c026dc60249828aa6869a0944f4137744a
       "    </tr>\n",
       "    <tr>\n",
       "      <th>4</th>\n",
       "      <td>1100170000000</td>\n",
       "      <td>Alameda County Office of Education</td>\n",
       "      <td>1</td>\n",
       "      <td>1</td>\n",
       "      <td>16</td>\n",
       "      <td>4</td>\n",
       "      <td>2</td>\n",
<<<<<<< HEAD
       "      <td>1</td>\n",
<<<<<<< HEAD
       "      <td>Civic Services                                ...</td>\n",
       "      <td>Other General Administration                  ...</td>\n",
       "      <td>6.316400e+04</td>\n",
=======
<<<<<<< HEAD
       "      <td>Civic Services                                ...</td>\n",
       "      <td>Other General Administration                  ...</td>\n",
       "      <td>6.316400e+04</td>\n",
=======
=======
>>>>>>> 66edc7c026dc60249828aa6869a0944f4137744a
       "      <td>10017</td>\n",
       "      <td>9200</td>\n",
       "      <td>Accounts Receivable                           ...</td>\n",
       "      <td>5172564.52</td>\n",
<<<<<<< HEAD
>>>>>>> Helen
>>>>>>> 958d3b6f3a0d2c5e7972472b1df355b5c251e781
=======
>>>>>>> 66edc7c026dc60249828aa6869a0944f4137744a
       "    </tr>\n",
       "    <tr>\n",
       "      <th>...</th>\n",
       "      <td>...</td>\n",
       "      <td>...</td>\n",
       "      <td>...</td>\n",
       "      <td>...</td>\n",
       "      <td>...</td>\n",
       "      <td>...</td>\n",
       "      <td>...</td>\n",
       "      <td>...</td>\n",
       "      <td>...</td>\n",
<<<<<<< HEAD
<<<<<<< HEAD
=======
<<<<<<< HEAD
>>>>>>> 958d3b6f3a0d2c5e7972472b1df355b5c251e781
       "    </tr>\n",
       "    <tr>\n",
       "      <th>27889</th>\n",
       "      <td>57727100000000</td>\n",
       "      <td>9</td>\n",
       "      <td>5</td>\n",
       "      <td>141</td>\n",
       "      <td>5</td>\n",
       "      <td>3</td>\n",
       "      <td>School-Sponsored Athletics                    ...</td>\n",
       "      <td>Special Education: Resource Specialist Instruc...</td>\n",
       "      <td>6.427000e+01</td>\n",
       "    </tr>\n",
       "    <tr>\n",
       "      <th>27890</th>\n",
       "      <td>57727100000000</td>\n",
       "      <td>9</td>\n",
       "      <td>5</td>\n",
       "      <td>141</td>\n",
       "      <td>5</td>\n",
       "      <td>3</td>\n",
       "      <td>School-Sponsored Athletics                    ...</td>\n",
       "      <td>Special Education: Separate Classes           ...</td>\n",
       "      <td>1.123400e+02</td>\n",
       "    </tr>\n",
       "    <tr>\n",
       "      <th>27891</th>\n",
<<<<<<< HEAD
=======
=======
=======
       "      <td>...</td>\n",
>>>>>>> 66edc7c026dc60249828aa6869a0944f4137744a
       "      <td>...</td>\n",
       "    </tr>\n",
       "    <tr>\n",
       "      <th>3098</th>\n",
       "      <td>57727100000000</td>\n",
       "      <td>Woodland Joint Unified</td>\n",
       "      <td>7</td>\n",
       "      <td>194</td>\n",
       "      <td>2328</td>\n",
       "      <td>356</td>\n",
       "      <td>170</td>\n",
       "      <td>72710</td>\n",
       "      <td>7110</td>\n",
       "      <td>Tuition for Instruction Under Interdistrict At...</td>\n",
       "      <td>112978.33</td>\n",
       "    </tr>\n",
       "    <tr>\n",
       "      <th>3099</th>\n",
       "      <td>57727100000000</td>\n",
       "      <td>Woodland Joint Unified</td>\n",
       "      <td>7</td>\n",
       "      <td>194</td>\n",
       "      <td>2328</td>\n",
       "      <td>356</td>\n",
       "      <td>170</td>\n",
       "      <td>72710</td>\n",
       "      <td>9200</td>\n",
       "      <td>Accounts Receivable                           ...</td>\n",
       "      <td>1070796.00</td>\n",
       "    </tr>\n",
       "    <tr>\n",
       "      <th>3100</th>\n",
<<<<<<< HEAD
>>>>>>> Helen
>>>>>>> 958d3b6f3a0d2c5e7972472b1df355b5c251e781
=======
>>>>>>> 66edc7c026dc60249828aa6869a0944f4137744a
       "      <td>57727100000000</td>\n",
       "      <td>Woodland Joint Unified</td>\n",
       "      <td>9</td>\n",
       "      <td>5</td>\n",
       "      <td>141</td>\n",
<<<<<<< HEAD
       "      <td>5</td>\n",
       "      <td>3</td>\n",
<<<<<<< HEAD
=======
<<<<<<< HEAD
>>>>>>> 958d3b6f3a0d2c5e7972472b1df355b5c251e781
       "      <td>School-Sponsored Athletics                    ...</td>\n",
       "      <td>Speech Pathology and Audiology Services       ...</td>\n",
       "      <td>1.735000e+02</td>\n",
       "    </tr>\n",
       "    <tr>\n",
       "      <th>27892</th>\n",
<<<<<<< HEAD
=======
=======
=======
       "      <td>10</td>\n",
       "      <td>6</td>\n",
>>>>>>> 66edc7c026dc60249828aa6869a0944f4137744a
       "      <td>72710</td>\n",
       "      <td>4200</td>\n",
       "      <td>Books and Other Reference Materials           ...</td>\n",
       "      <td>549355.85</td>\n",
       "    </tr>\n",
       "    <tr>\n",
       "      <th>3101</th>\n",
<<<<<<< HEAD
>>>>>>> Helen
>>>>>>> 958d3b6f3a0d2c5e7972472b1df355b5c251e781
=======
>>>>>>> 66edc7c026dc60249828aa6869a0944f4137744a
       "      <td>57727100000000</td>\n",
       "      <td>Woodland Joint Unified</td>\n",
       "      <td>9</td>\n",
       "      <td>5</td>\n",
       "      <td>141</td>\n",
<<<<<<< HEAD
       "      <td>5</td>\n",
       "      <td>3</td>\n",
<<<<<<< HEAD
=======
<<<<<<< HEAD
>>>>>>> 958d3b6f3a0d2c5e7972472b1df355b5c251e781
       "      <td>School-Sponsored Co-curricular                ...</td>\n",
       "      <td>Instruction                                   ...</td>\n",
       "      <td>3.338854e+05</td>\n",
       "    </tr>\n",
       "    <tr>\n",
       "      <th>27893</th>\n",
<<<<<<< HEAD
=======
=======
=======
       "      <td>10</td>\n",
       "      <td>6</td>\n",
>>>>>>> 66edc7c026dc60249828aa6869a0944f4137744a
       "      <td>72710</td>\n",
       "      <td>7110</td>\n",
       "      <td>Tuition for Instruction Under Interdistrict At...</td>\n",
       "      <td>112978.33</td>\n",
       "    </tr>\n",
       "    <tr>\n",
       "      <th>3102</th>\n",
<<<<<<< HEAD
>>>>>>> Helen
>>>>>>> 958d3b6f3a0d2c5e7972472b1df355b5c251e781
=======
>>>>>>> 66edc7c026dc60249828aa6869a0944f4137744a
       "      <td>57727100000000</td>\n",
       "      <td>Woodland Joint Unified</td>\n",
       "      <td>9</td>\n",
       "      <td>5</td>\n",
       "      <td>141</td>\n",
<<<<<<< HEAD
       "      <td>5</td>\n",
       "      <td>3</td>\n",
<<<<<<< HEAD
=======
<<<<<<< HEAD
>>>>>>> 958d3b6f3a0d2c5e7972472b1df355b5c251e781
       "      <td>Transfers Between Agencies                    ...</td>\n",
       "      <td>Not Applicable (For use with revenues and bala...</td>\n",
       "      <td>5.846825e+06</td>\n",
       "    </tr>\n",
       "  </tbody>\n",
       "</table>\n",
       "<p>27894 rows × 9 columns</p>\n",
       "</div>"
      ],
      "text/plain": [
       "             CDS_CODE  ETHNIC  GR_12  ENR_TOTAL  GRADS  UC_GRADS  \\\n",
       "0       1100170000000       1      1         16      2         1   \n",
       "1       1100170000000       1      1         16      2         1   \n",
       "2       1100170000000       1      1         16      2         1   \n",
       "3       1100170000000       1      1         16      2         1   \n",
       "4       1100170000000       1      1         16      2         1   \n",
       "...               ...     ...    ...        ...    ...       ...   \n",
       "27889  57727100000000       9      5        141      5         3   \n",
       "27890  57727100000000       9      5        141      5         3   \n",
       "27891  57727100000000       9      5        141      5         3   \n",
       "27892  57727100000000       9      5        141      5         3   \n",
       "27893  57727100000000       9      5        141      5         3   \n",
       "\n",
       "                                                  Object  \\\n",
       "0      Administrative Unit (AU) of a Multidistrict SE...   \n",
       "1      Administrative Unit (AU) of a Multidistrict SE...   \n",
       "2      Administrative Unit (AU) of a Multidistrict SE...   \n",
       "3      Budgeting                                     ...   \n",
       "4      Civic Services                                ...   \n",
       "...                                                  ...   \n",
       "27889  School-Sponsored Athletics                    ...   \n",
       "27890  School-Sponsored Athletics                    ...   \n",
       "27891  School-Sponsored Athletics                    ...   \n",
       "27892  School-Sponsored Co-curricular                ...   \n",
       "27893  Transfers Between Agencies                    ...   \n",
       "\n",
       "                                                Function        Amount  \n",
       "0      Guidance and Counseling Services              ...  2.771103e+05  \n",
       "1      Plant Maintenance and Operations              ...  6.310217e+05  \n",
       "2      Warehousing and Distribution                  ...  8.975540e+04  \n",
       "3      General Administration Cost Transfers         ... -2.910383e-11  \n",
       "4      Other General Administration                  ...  6.316400e+04  \n",
       "...                                                  ...           ...  \n",
       "27889  Special Education: Resource Specialist Instruc...  6.427000e+01  \n",
       "27890  Special Education: Separate Classes           ...  1.123400e+02  \n",
       "27891  Speech Pathology and Audiology Services       ...  1.735000e+02  \n",
       "27892  Instruction                                   ...  3.338854e+05  \n",
       "27893  Not Applicable (For use with revenues and bala...  5.846825e+06  \n",
       "\n",
       "[27894 rows x 9 columns]"
<<<<<<< HEAD
=======
=======
=======
       "      <td>10</td>\n",
       "      <td>6</td>\n",
>>>>>>> 66edc7c026dc60249828aa6869a0944f4137744a
       "      <td>72710</td>\n",
       "      <td>9200</td>\n",
       "      <td>Accounts Receivable                           ...</td>\n",
       "      <td>1070796.00</td>\n",
       "    </tr>\n",
       "  </tbody>\n",
       "</table>\n",
       "<p>3103 rows × 11 columns</p>\n",
       "</div>"
      ],
      "text/plain": [
       "            CDS_CODE                            DISTRICT  ETHNIC  GR_12  \\\n",
       "0      1100170000000  Alameda County Office of Education       1      1   \n",
       "1      1100170000000  Alameda County Office of Education       1      1   \n",
       "2      1100170000000  Alameda County Office of Education       1      1   \n",
       "3      1100170000000  Alameda County Office of Education       1      1   \n",
       "4      1100170000000  Alameda County Office of Education       1      1   \n",
       "...              ...                                 ...     ...    ...   \n",
       "3098  57727100000000              Woodland Joint Unified       7    194   \n",
       "3099  57727100000000              Woodland Joint Unified       7    194   \n",
       "3100  57727100000000              Woodland Joint Unified       9      5   \n",
       "3101  57727100000000              Woodland Joint Unified       9      5   \n",
       "3102  57727100000000              Woodland Joint Unified       9      5   \n",
       "\n",
       "      ENR_TOTAL  GRADS  UC_GRADS  District_Code  Function_Code  \\\n",
       "0            16      4         2          10017           2100   \n",
       "1            16      4         2          10017           5400   \n",
       "2            16      4         2          10017           5900   \n",
       "3            16      4         2          10017           7110   \n",
       "4            16      4         2          10017           9200   \n",
       "...         ...    ...       ...            ...            ...   \n",
       "3098       2328    356       170          72710           7110   \n",
       "3099       2328    356       170          72710           9200   \n",
       "3100        141     10         6          72710           4200   \n",
       "3101        141     10         6          72710           7110   \n",
       "3102        141     10         6          72710           9200   \n",
       "\n",
       "                                               Function       Amount  \n",
       "0     Classified Instructional Salaries             ...  11704762.38  \n",
       "1     Insurance                                     ...      2487.98  \n",
       "2     Communications                                ...    783162.85  \n",
       "3     Tuition for Instruction Under Interdistrict At...    248270.85  \n",
       "4     Accounts Receivable                           ...   5172564.52  \n",
       "...                                                 ...          ...  \n",
       "3098  Tuition for Instruction Under Interdistrict At...    112978.33  \n",
       "3099  Accounts Receivable                           ...   1070796.00  \n",
       "3100  Books and Other Reference Materials           ...    549355.85  \n",
       "3101  Tuition for Instruction Under Interdistrict At...    112978.33  \n",
       "3102  Accounts Receivable                           ...   1070796.00  \n",
       "\n",
<<<<<<< HEAD
       "[3103 rows x 10 columns]"
>>>>>>> Helen
>>>>>>> 958d3b6f3a0d2c5e7972472b1df355b5c251e781
=======
       "[3103 rows x 11 columns]"
>>>>>>> 66edc7c026dc60249828aa6869a0944f4137744a
      ]
     },
     "execution_count": 4,
     "metadata": {},
     "output_type": "execute_result"
    }
   ],
   "source": [
    "grad_enroll_finance=pd.merge(grad_enroll, finance_data, on=['CDS_CODE'])\n",
    "grad_enroll_finance"
   ]
  },
  {
   "cell_type": "code",
   "execution_count": 5,
   "metadata": {},
   "outputs": [],
   "source": [
    "grad_enroll_finance.to_csv('../All_Data_Data/All_1516')"
   ]
  },
  {
   "cell_type": "code",
   "execution_count": null,
   "metadata": {},
   "outputs": [],
   "source": []
  },
  {
   "cell_type": "code",
   "execution_count": null,
   "metadata": {},
   "outputs": [],
   "source": []
  },
  {
   "cell_type": "code",
   "execution_count": null,
   "metadata": {},
   "outputs": [],
   "source": []
  }
 ],
 "metadata": {
  "kernelspec": {
   "display_name": "PythonData",
   "language": "python",
   "name": "pythondata"
  },
  "language_info": {
   "codemirror_mode": {
    "name": "ipython",
    "version": 3
   },
   "file_extension": ".py",
   "mimetype": "text/x-python",
   "name": "python",
   "nbconvert_exporter": "python",
   "pygments_lexer": "ipython3",
   "version": "3.7.4"
  }
 },
 "nbformat": 4,
 "nbformat_minor": 4
}
