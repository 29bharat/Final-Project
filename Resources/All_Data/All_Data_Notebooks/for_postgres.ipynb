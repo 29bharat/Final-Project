{
 "cells": [
  {
   "cell_type": "code",
   "execution_count": 1,
   "metadata": {},
   "outputs": [],
   "source": [
    "#Add the Pandas dependency\n",
    "import pandas as pd"
   ]
  },
  {
   "cell_type": "code",
   "execution_count": 2,
   "metadata": {},
   "outputs": [],
   "source": [
    "#Files to load\n",
    "grad_enroll1213=pd.read_csv('../../Grad_Enroll/grad_enroll_1213.csv')\n",
    "grad_enroll1314=pd.read_csv('../../Grad_Enroll/grad_enroll_1314.csv')\n",
    "grad_enroll1415=pd.read_csv('../../Grad_Enroll/grad_enroll_1415.csv')\n",
    "grad_enroll1516=pd.read_csv('../../Grad_Enroll/grad_enroll_1516.csv')"
   ]
  },
  {
   "cell_type": "code",
   "execution_count": 3,
   "metadata": {},
   "outputs": [],
   "source": [
    "grad_enroll1213['Year']='1213'\n",
    "grad_enroll1314['Year']='1314'\n",
    "grad_enroll1415['Year']='1415'\n",
    "grad_enroll1516['Year']='1516'"
   ]
  },
  {
   "cell_type": "code",
   "execution_count": 5,
   "metadata": {},
   "outputs": [],
   "source": [
    "grad_enroll1213.to_csv('../All_Data_Data/SQL/ge_1213SQL.csv')\n",
    "grad_enroll1314.to_csv('../All_Data_Data/SQL/ge_1314SQL.csv')\n",
    "grad_enroll1415.to_csv('../All_Data_Data/SQL/ge_1415SQL.csv')\n",
    "grad_enroll1516.to_csv('../All_Data_Data/SQL/ge_1516SQL.csv')"
   ]
  },
  {
   "cell_type": "code",
   "execution_count": 6,
   "metadata": {},
   "outputs": [],
   "source": [
    "#Files to load\n",
    "finance_data1213=pd.read_csv(\"../../Finance Data/Finance_Data/Finance_1213.csv\")\n",
    "finance_data1314=pd.read_csv(\"../../Finance Data/Finance_Data/Finance_1314.csv\")\n",
    "finance_data1415=pd.read_csv(\"../../Finance Data/Finance_Data/Finance_1415.csv\")\n",
    "finance_data1516=pd.read_csv(\"../../Finance Data/Finance_Data/Finance_1516.csv\")"
   ]
  },
  {
   "cell_type": "code",
   "execution_count": 7,
   "metadata": {},
   "outputs": [],
   "source": [
    "finance_data1213['Year']='1213'\n",
    "finance_data1314['Year']='1314'\n",
    "finance_data1415['Year']='1415'\n",
    "finance_data1516['Year']='1516'"
   ]
  },
  {
   "cell_type": "code",
   "execution_count": 8,
   "metadata": {},
   "outputs": [],
   "source": [
    "finance_data1213.to_csv('../All_Data_Data/SQL/fi_1213SQL.csv')\n",
    "finance_data1314.to_csv('../All_Data_Data/SQL/fi_1314SQL.csv')\n",
    "finance_data1415.to_csv('../All_Data_Data/SQL/fi_1415SQL.csv')\n",
    "finance_data1516.to_csv('../All_Data_Data/SQL/fi_1516SQL.csv')"
   ]
  },
  {
   "cell_type": "code",
   "execution_count": null,
   "metadata": {},
   "outputs": [],
   "source": []
  }
 ],
 "metadata": {
  "kernelspec": {
   "display_name": "PythonData",
   "language": "python",
   "name": "pythondata"
  },
  "language_info": {
   "codemirror_mode": {
    "name": "ipython",
    "version": 3
   },
   "file_extension": ".py",
   "mimetype": "text/x-python",
   "name": "python",
   "nbconvert_exporter": "python",
   "pygments_lexer": "ipython3",
   "version": "3.7.4"
  }
 },
 "nbformat": 4,
 "nbformat_minor": 4
}
