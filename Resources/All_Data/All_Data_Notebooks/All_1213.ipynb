{
 "cells": [
  {
   "cell_type": "code",
<<<<<<< HEAD
<<<<<<< HEAD
   "execution_count": 2,
=======
<<<<<<< HEAD
   "execution_count": 2,
=======
   "execution_count": 1,
>>>>>>> Helen
>>>>>>> 958d3b6f3a0d2c5e7972472b1df355b5c251e781
=======
   "execution_count": 1,
>>>>>>> 66edc7c026dc60249828aa6869a0944f4137744a
   "metadata": {},
   "outputs": [],
   "source": [
    "#Add the Pandas dependency\n",
    "import pandas as pd"
   ]
  },
  {
   "cell_type": "code",
<<<<<<< HEAD
<<<<<<< HEAD
   "execution_count": 5,
=======
<<<<<<< HEAD
   "execution_count": 5,
=======
   "execution_count": 2,
>>>>>>> Helen
>>>>>>> 958d3b6f3a0d2c5e7972472b1df355b5c251e781
=======
   "execution_count": 2,
>>>>>>> 66edc7c026dc60249828aa6869a0944f4137744a
   "metadata": {},
   "outputs": [
    {
     "data": {
      "text/html": [
       "<div>\n",
       "<style scoped>\n",
       "    .dataframe tbody tr th:only-of-type {\n",
       "        vertical-align: middle;\n",
       "    }\n",
       "\n",
       "    .dataframe tbody tr th {\n",
       "        vertical-align: top;\n",
       "    }\n",
       "\n",
       "    .dataframe thead th {\n",
       "        text-align: right;\n",
       "    }\n",
       "</style>\n",
       "<table border=\"1\" class=\"dataframe\">\n",
       "  <thead>\n",
       "    <tr style=\"text-align: right;\">\n",
       "      <th></th>\n",
       "      <th>CDS_CODE</th>\n",
       "      <th>DISTRICT</th>\n",
       "      <th>ETHNIC</th>\n",
       "      <th>GR_12</th>\n",
       "      <th>ENR_TOTAL</th>\n",
       "      <th>GRADS</th>\n",
       "      <th>UC_GRADS</th>\n",
       "    </tr>\n",
       "  </thead>\n",
       "  <tbody>\n",
       "    <tr>\n",
       "      <th>0</th>\n",
       "      <td>1100170000000</td>\n",
       "      <td>Alameda County Office of Education</td>\n",
       "      <td>0</td>\n",
       "      <td>2</td>\n",
       "      <td>35</td>\n",
       "      <td>6</td>\n",
       "      <td>2</td>\n",
       "    </tr>\n",
       "    <tr>\n",
       "      <th>1</th>\n",
       "      <td>1100170000000</td>\n",
       "      <td>Alameda County Office of Education</td>\n",
       "      <td>1</td>\n",
       "      <td>2</td>\n",
       "      <td>24</td>\n",
       "      <td>2</td>\n",
       "      <td>2</td>\n",
       "    </tr>\n",
       "    <tr>\n",
       "      <th>2</th>\n",
       "      <td>1100170000000</td>\n",
       "      <td>Alameda County Office of Education</td>\n",
       "      <td>2</td>\n",
       "      <td>13</td>\n",
       "      <td>369</td>\n",
       "      <td>30</td>\n",
       "      <td>22</td>\n",
       "    </tr>\n",
       "    <tr>\n",
       "      <th>3</th>\n",
       "      <td>1100170000000</td>\n",
       "      <td>Alameda County Office of Education</td>\n",
       "      <td>3</td>\n",
       "      <td>5</td>\n",
       "      <td>44</td>\n",
       "      <td>6</td>\n",
       "      <td>2</td>\n",
       "    </tr>\n",
       "    <tr>\n",
       "      <th>4</th>\n",
       "      <td>1100170000000</td>\n",
       "      <td>Alameda County Office of Education</td>\n",
       "      <td>4</td>\n",
       "      <td>1</td>\n",
       "      <td>54</td>\n",
       "      <td>14</td>\n",
       "      <td>2</td>\n",
       "    </tr>\n",
       "    <tr>\n",
       "      <th>...</th>\n",
       "      <td>...</td>\n",
       "      <td>...</td>\n",
       "      <td>...</td>\n",
       "      <td>...</td>\n",
       "      <td>...</td>\n",
       "      <td>...</td>\n",
       "      <td>...</td>\n",
       "    </tr>\n",
       "    <tr>\n",
       "      <th>3719</th>\n",
       "      <td>58727700000000</td>\n",
       "      <td>Wheatland Union High</td>\n",
       "      <td>4</td>\n",
       "      <td>3</td>\n",
       "      <td>13</td>\n",
       "      <td>6</td>\n",
       "      <td>6</td>\n",
       "    </tr>\n",
       "    <tr>\n",
       "      <th>3720</th>\n",
       "      <td>58727700000000</td>\n",
       "      <td>Wheatland Union High</td>\n",
       "      <td>5</td>\n",
       "      <td>48</td>\n",
       "      <td>207</td>\n",
       "      <td>86</td>\n",
       "      <td>32</td>\n",
       "    </tr>\n",
       "    <tr>\n",
       "      <th>3721</th>\n",
       "      <td>58727700000000</td>\n",
       "      <td>Wheatland Union High</td>\n",
       "      <td>6</td>\n",
       "      <td>2</td>\n",
       "      <td>16</td>\n",
       "      <td>4</td>\n",
       "      <td>2</td>\n",
       "    </tr>\n",
       "    <tr>\n",
       "      <th>3722</th>\n",
       "      <td>58727700000000</td>\n",
       "      <td>Wheatland Union High</td>\n",
       "      <td>7</td>\n",
       "      <td>86</td>\n",
       "      <td>382</td>\n",
       "      <td>160</td>\n",
       "      <td>70</td>\n",
       "    </tr>\n",
       "    <tr>\n",
       "      <th>3723</th>\n",
       "      <td>58727700000000</td>\n",
       "      <td>Wheatland Union High</td>\n",
       "      <td>9</td>\n",
       "      <td>11</td>\n",
       "      <td>64</td>\n",
       "      <td>22</td>\n",
       "      <td>6</td>\n",
       "    </tr>\n",
       "  </tbody>\n",
       "</table>\n",
       "<p>3724 rows × 7 columns</p>\n",
       "</div>"
      ],
      "text/plain": [
       "            CDS_CODE                            DISTRICT  ETHNIC  GR_12  \\\n",
       "0      1100170000000  Alameda County Office of Education       0      2   \n",
       "1      1100170000000  Alameda County Office of Education       1      2   \n",
       "2      1100170000000  Alameda County Office of Education       2     13   \n",
       "3      1100170000000  Alameda County Office of Education       3      5   \n",
       "4      1100170000000  Alameda County Office of Education       4      1   \n",
       "...              ...                                 ...     ...    ...   \n",
       "3719  58727700000000                Wheatland Union High       4      3   \n",
       "3720  58727700000000                Wheatland Union High       5     48   \n",
       "3721  58727700000000                Wheatland Union High       6      2   \n",
       "3722  58727700000000                Wheatland Union High       7     86   \n",
       "3723  58727700000000                Wheatland Union High       9     11   \n",
       "\n",
       "      ENR_TOTAL  GRADS  UC_GRADS  \n",
       "0            35      6         2  \n",
       "1            24      2         2  \n",
       "2           369     30        22  \n",
       "3            44      6         2  \n",
       "4            54     14         2  \n",
       "...         ...    ...       ...  \n",
       "3719         13      6         6  \n",
       "3720        207     86        32  \n",
       "3721         16      4         2  \n",
       "3722        382    160        70  \n",
       "3723         64     22         6  \n",
       "\n",
       "[3724 rows x 7 columns]"
      ]
     },
<<<<<<< HEAD
<<<<<<< HEAD
     "execution_count": 5,
=======
<<<<<<< HEAD
     "execution_count": 5,
=======
     "execution_count": 2,
>>>>>>> Helen
>>>>>>> 958d3b6f3a0d2c5e7972472b1df355b5c251e781
=======
     "execution_count": 2,
>>>>>>> 66edc7c026dc60249828aa6869a0944f4137744a
     "metadata": {},
     "output_type": "execute_result"
    }
   ],
   "source": [
    "#Files to load\n",
    "grad_enroll=pd.read_csv('../../Grad_Enroll/grad_enroll_1213.csv')\n",
    "grad_enroll"
   ]
  },
  {
   "cell_type": "code",
<<<<<<< HEAD
<<<<<<< HEAD
   "execution_count": 7,
=======
<<<<<<< HEAD
   "execution_count": 7,
=======
   "execution_count": 3,
>>>>>>> Helen
>>>>>>> 958d3b6f3a0d2c5e7972472b1df355b5c251e781
=======
   "execution_count": 3,
>>>>>>> 66edc7c026dc60249828aa6869a0944f4137744a
   "metadata": {},
   "outputs": [
    {
     "data": {
      "text/html": [
       "<div>\n",
       "<style scoped>\n",
       "    .dataframe tbody tr th:only-of-type {\n",
       "        vertical-align: middle;\n",
       "    }\n",
       "\n",
       "    .dataframe tbody tr th {\n",
       "        vertical-align: top;\n",
       "    }\n",
       "\n",
       "    .dataframe thead th {\n",
       "        text-align: right;\n",
       "    }\n",
       "</style>\n",
       "<table border=\"1\" class=\"dataframe\">\n",
       "  <thead>\n",
       "    <tr style=\"text-align: right;\">\n",
       "      <th></th>\n",
       "      <th>CDS_CODE</th>\n",
<<<<<<< HEAD
<<<<<<< HEAD
       "      <th>Object</th>\n",
=======
<<<<<<< HEAD
       "      <th>Object</th>\n",
=======
       "      <th>District_Code</th>\n",
       "      <th>Function_Code</th>\n",
>>>>>>> Helen
>>>>>>> 958d3b6f3a0d2c5e7972472b1df355b5c251e781
=======
       "      <th>District_Code</th>\n",
       "      <th>Function_Code</th>\n",
>>>>>>> 66edc7c026dc60249828aa6869a0944f4137744a
       "      <th>Function</th>\n",
       "      <th>Amount</th>\n",
       "    </tr>\n",
       "  </thead>\n",
       "  <tbody>\n",
       "    <tr>\n",
       "      <th>0</th>\n",
       "      <td>1100170000000</td>\n",
<<<<<<< HEAD
<<<<<<< HEAD
       "      <td>Administrative Unit (AU) of a Multidistrict SE...</td>\n",
       "      <td>Attendance and Social Work Services           ...</td>\n",
       "      <td>204725.06</td>\n",
=======
<<<<<<< HEAD
       "      <td>Administrative Unit (AU) of a Multidistrict SE...</td>\n",
       "      <td>Attendance and Social Work Services           ...</td>\n",
       "      <td>204725.06</td>\n",
=======
=======
>>>>>>> 66edc7c026dc60249828aa6869a0944f4137744a
       "      <td>10017</td>\n",
       "      <td>2100</td>\n",
       "      <td>Classified Instructional Salaries             ...</td>\n",
       "      <td>5761988.84</td>\n",
<<<<<<< HEAD
>>>>>>> Helen
>>>>>>> 958d3b6f3a0d2c5e7972472b1df355b5c251e781
=======
>>>>>>> 66edc7c026dc60249828aa6869a0944f4137744a
       "    </tr>\n",
       "    <tr>\n",
       "      <th>1</th>\n",
       "      <td>1100170000000</td>\n",
<<<<<<< HEAD
<<<<<<< HEAD
       "      <td>Administrative Unit (AU) of a Multidistrict SE...</td>\n",
       "      <td>Board and Superintendent                      ...</td>\n",
       "      <td>697.09</td>\n",
=======
<<<<<<< HEAD
       "      <td>Administrative Unit (AU) of a Multidistrict SE...</td>\n",
       "      <td>Board and Superintendent                      ...</td>\n",
       "      <td>697.09</td>\n",
=======
=======
>>>>>>> 66edc7c026dc60249828aa6869a0944f4137744a
       "      <td>10017</td>\n",
       "      <td>5900</td>\n",
       "      <td>Communications                                ...</td>\n",
       "      <td>2126900.99</td>\n",
<<<<<<< HEAD
>>>>>>> Helen
>>>>>>> 958d3b6f3a0d2c5e7972472b1df355b5c251e781
=======
>>>>>>> 66edc7c026dc60249828aa6869a0944f4137744a
       "    </tr>\n",
       "    <tr>\n",
       "      <th>2</th>\n",
       "      <td>1100170000000</td>\n",
<<<<<<< HEAD
<<<<<<< HEAD
       "      <td>Administrative Unit (AU) of a Multidistrict SE...</td>\n",
       "      <td>Other Ancillary Services                      ...</td>\n",
       "      <td>225934.43</td>\n",
=======
<<<<<<< HEAD
       "      <td>Administrative Unit (AU) of a Multidistrict SE...</td>\n",
       "      <td>Other Ancillary Services                      ...</td>\n",
       "      <td>225934.43</td>\n",
=======
=======
>>>>>>> 66edc7c026dc60249828aa6869a0944f4137744a
       "      <td>10017</td>\n",
       "      <td>7110</td>\n",
       "      <td>Tuition for Instruction Under Interdistrict At...</td>\n",
       "      <td>248316.29</td>\n",
<<<<<<< HEAD
>>>>>>> Helen
>>>>>>> 958d3b6f3a0d2c5e7972472b1df355b5c251e781
=======
>>>>>>> 66edc7c026dc60249828aa6869a0944f4137744a
       "    </tr>\n",
       "    <tr>\n",
       "      <th>3</th>\n",
       "      <td>1100170000000</td>\n",
<<<<<<< HEAD
<<<<<<< HEAD
       "      <td>Administrative Unit (AU) of a Multidistrict SE...</td>\n",
       "      <td>Other Community Services                      ...</td>\n",
       "      <td>20516.00</td>\n",
=======
<<<<<<< HEAD
       "      <td>Administrative Unit (AU) of a Multidistrict SE...</td>\n",
       "      <td>Other Community Services                      ...</td>\n",
       "      <td>20516.00</td>\n",
=======
=======
>>>>>>> 66edc7c026dc60249828aa6869a0944f4137744a
       "      <td>10017</td>\n",
       "      <td>8110</td>\n",
       "      <td>Maintenance and Operations (Public Law 81-874)...</td>\n",
       "      <td>2607.78</td>\n",
<<<<<<< HEAD
>>>>>>> Helen
>>>>>>> 958d3b6f3a0d2c5e7972472b1df355b5c251e781
=======
>>>>>>> 66edc7c026dc60249828aa6869a0944f4137744a
       "    </tr>\n",
       "    <tr>\n",
       "      <th>4</th>\n",
       "      <td>1100170000000</td>\n",
<<<<<<< HEAD
<<<<<<< HEAD
       "      <td>Administrative Unit (AU) of a Multidistrict SE...</td>\n",
       "      <td>Plant Maintenance and Operations              ...</td>\n",
       "      <td>476930.59</td>\n",
=======
<<<<<<< HEAD
       "      <td>Administrative Unit (AU) of a Multidistrict SE...</td>\n",
       "      <td>Plant Maintenance and Operations              ...</td>\n",
       "      <td>476930.59</td>\n",
=======
=======
>>>>>>> 66edc7c026dc60249828aa6869a0944f4137744a
       "      <td>10017</td>\n",
       "      <td>9200</td>\n",
       "      <td>Accounts Receivable                           ...</td>\n",
       "      <td>1138122.98</td>\n",
<<<<<<< HEAD
>>>>>>> Helen
>>>>>>> 958d3b6f3a0d2c5e7972472b1df355b5c251e781
=======
>>>>>>> 66edc7c026dc60249828aa6869a0944f4137744a
       "    </tr>\n",
       "    <tr>\n",
       "      <th>...</th>\n",
       "      <td>...</td>\n",
       "      <td>...</td>\n",
       "      <td>...</td>\n",
       "      <td>...</td>\n",
<<<<<<< HEAD
<<<<<<< HEAD
=======
<<<<<<< HEAD
>>>>>>> 958d3b6f3a0d2c5e7972472b1df355b5c251e781
       "    </tr>\n",
       "    <tr>\n",
       "      <th>29636</th>\n",
       "      <td>58727690000000</td>\n",
       "      <td>Maintenance                                   ...</td>\n",
       "      <td>Not Applicable (For use with revenues and bala...</td>\n",
       "      <td>292564.35</td>\n",
       "    </tr>\n",
       "    <tr>\n",
       "      <th>29637</th>\n",
       "      <td>58727690000000</td>\n",
       "      <td>Other Community Services                      ...</td>\n",
       "      <td>Operations                                    ...</td>\n",
       "      <td>13739.22</td>\n",
       "    </tr>\n",
       "    <tr>\n",
       "      <th>29638</th>\n",
       "      <td>58727690000000</td>\n",
       "      <td>Other Community Services                      ...</td>\n",
       "      <td>School Administration                         ...</td>\n",
       "      <td>5680.51</td>\n",
       "    </tr>\n",
       "    <tr>\n",
       "      <th>29639</th>\n",
       "      <td>58727690000000</td>\n",
       "      <td>School-Sponsored Co-curricular                ...</td>\n",
       "      <td>Instruction                                   ...</td>\n",
       "      <td>70795.26</td>\n",
       "    </tr>\n",
       "    <tr>\n",
       "      <th>29640</th>\n",
       "      <td>58727690000000</td>\n",
       "      <td>Transfers Between Agencies                    ...</td>\n",
       "      <td>Not Applicable (For use with revenues and bala...</td>\n",
       "      <td>1193792.19</td>\n",
       "    </tr>\n",
       "  </tbody>\n",
       "</table>\n",
       "<p>29641 rows × 4 columns</p>\n",
       "</div>"
      ],
      "text/plain": [
       "             CDS_CODE                                             Object  \\\n",
       "0       1100170000000  Administrative Unit (AU) of a Multidistrict SE...   \n",
       "1       1100170000000  Administrative Unit (AU) of a Multidistrict SE...   \n",
       "2       1100170000000  Administrative Unit (AU) of a Multidistrict SE...   \n",
       "3       1100170000000  Administrative Unit (AU) of a Multidistrict SE...   \n",
       "4       1100170000000  Administrative Unit (AU) of a Multidistrict SE...   \n",
       "...               ...                                                ...   \n",
       "29636  58727690000000  Maintenance                                   ...   \n",
       "29637  58727690000000  Other Community Services                      ...   \n",
       "29638  58727690000000  Other Community Services                      ...   \n",
       "29639  58727690000000  School-Sponsored Co-curricular                ...   \n",
       "29640  58727690000000  Transfers Between Agencies                    ...   \n",
       "\n",
       "                                                Function      Amount  \n",
       "0      Attendance and Social Work Services           ...   204725.06  \n",
       "1      Board and Superintendent                      ...      697.09  \n",
       "2      Other Ancillary Services                      ...   225934.43  \n",
       "3      Other Community Services                      ...    20516.00  \n",
       "4      Plant Maintenance and Operations              ...   476930.59  \n",
       "...                                                  ...         ...  \n",
       "29636  Not Applicable (For use with revenues and bala...   292564.35  \n",
       "29637  Operations                                    ...    13739.22  \n",
       "29638  School Administration                         ...     5680.51  \n",
       "29639  Instruction                                   ...    70795.26  \n",
       "29640  Not Applicable (For use with revenues and bala...  1193792.19  \n",
       "\n",
       "[29641 rows x 4 columns]"
      ]
     },
     "execution_count": 7,
<<<<<<< HEAD
=======
=======
=======
>>>>>>> 66edc7c026dc60249828aa6869a0944f4137744a
       "      <td>...</td>\n",
       "    </tr>\n",
       "    <tr>\n",
       "      <th>3993</th>\n",
       "      <td>58727510000000</td>\n",
       "      <td>72751</td>\n",
       "      <td>9200</td>\n",
       "      <td>Accounts Receivable                           ...</td>\n",
       "      <td>257897.98</td>\n",
       "    </tr>\n",
       "    <tr>\n",
       "      <th>3994</th>\n",
       "      <td>58727690000000</td>\n",
       "      <td>72769</td>\n",
       "      <td>2100</td>\n",
       "      <td>Classified Instructional Salaries             ...</td>\n",
       "      <td>81262.45</td>\n",
       "    </tr>\n",
       "    <tr>\n",
       "      <th>3995</th>\n",
       "      <td>58727690000000</td>\n",
       "      <td>72769</td>\n",
       "      <td>4200</td>\n",
       "      <td>Books and Other Reference Materials           ...</td>\n",
       "      <td>145863.48</td>\n",
       "    </tr>\n",
       "    <tr>\n",
       "      <th>3996</th>\n",
       "      <td>58727690000000</td>\n",
       "      <td>72769</td>\n",
       "      <td>8110</td>\n",
       "      <td>Maintenance and Operations (Public Law 81-874)...</td>\n",
       "      <td>227745.90</td>\n",
       "    </tr>\n",
       "    <tr>\n",
       "      <th>3997</th>\n",
       "      <td>58727690000000</td>\n",
       "      <td>72769</td>\n",
       "      <td>9200</td>\n",
       "      <td>Accounts Receivable                           ...</td>\n",
       "      <td>64649.82</td>\n",
       "    </tr>\n",
       "  </tbody>\n",
       "</table>\n",
       "<p>3998 rows × 5 columns</p>\n",
       "</div>"
      ],
      "text/plain": [
       "            CDS_CODE  District_Code  Function_Code  \\\n",
       "0      1100170000000          10017           2100   \n",
       "1      1100170000000          10017           5900   \n",
       "2      1100170000000          10017           7110   \n",
       "3      1100170000000          10017           8110   \n",
       "4      1100170000000          10017           9200   \n",
       "...              ...            ...            ...   \n",
       "3993  58727510000000          72751           9200   \n",
       "3994  58727690000000          72769           2100   \n",
       "3995  58727690000000          72769           4200   \n",
       "3996  58727690000000          72769           8110   \n",
       "3997  58727690000000          72769           9200   \n",
       "\n",
       "                                               Function      Amount  \n",
       "0     Classified Instructional Salaries             ...  5761988.84  \n",
       "1     Communications                                ...  2126900.99  \n",
       "2     Tuition for Instruction Under Interdistrict At...   248316.29  \n",
       "3     Maintenance and Operations (Public Law 81-874)...     2607.78  \n",
       "4     Accounts Receivable                           ...  1138122.98  \n",
       "...                                                 ...         ...  \n",
       "3993  Accounts Receivable                           ...   257897.98  \n",
       "3994  Classified Instructional Salaries             ...    81262.45  \n",
       "3995  Books and Other Reference Materials           ...   145863.48  \n",
       "3996  Maintenance and Operations (Public Law 81-874)...   227745.90  \n",
       "3997  Accounts Receivable                           ...    64649.82  \n",
       "\n",
       "[3998 rows x 5 columns]"
      ]
     },
     "execution_count": 3,
<<<<<<< HEAD
>>>>>>> Helen
>>>>>>> 958d3b6f3a0d2c5e7972472b1df355b5c251e781
=======
>>>>>>> 66edc7c026dc60249828aa6869a0944f4137744a
     "metadata": {},
     "output_type": "execute_result"
    }
   ],
   "source": [
    "finance_data=pd.read_csv(\"../../Finance Data/Finance_Data/Finance_1213.csv\")\n",
    "finance_data"
   ]
  },
  {
   "cell_type": "code",
<<<<<<< HEAD
<<<<<<< HEAD
   "execution_count": 8,
=======
<<<<<<< HEAD
   "execution_count": 8,
=======
   "execution_count": 4,
>>>>>>> Helen
>>>>>>> 958d3b6f3a0d2c5e7972472b1df355b5c251e781
=======
   "execution_count": 4,
>>>>>>> 66edc7c026dc60249828aa6869a0944f4137744a
   "metadata": {},
   "outputs": [
    {
     "data": {
      "text/html": [
       "<div>\n",
       "<style scoped>\n",
       "    .dataframe tbody tr th:only-of-type {\n",
       "        vertical-align: middle;\n",
       "    }\n",
       "\n",
       "    .dataframe tbody tr th {\n",
       "        vertical-align: top;\n",
       "    }\n",
       "\n",
       "    .dataframe thead th {\n",
       "        text-align: right;\n",
       "    }\n",
       "</style>\n",
       "<table border=\"1\" class=\"dataframe\">\n",
       "  <thead>\n",
       "    <tr style=\"text-align: right;\">\n",
       "      <th></th>\n",
       "      <th>CDS_CODE</th>\n",
       "      <th>DISTRICT</th>\n",
       "      <th>ETHNIC</th>\n",
       "      <th>GR_12</th>\n",
       "      <th>ENR_TOTAL</th>\n",
       "      <th>GRADS</th>\n",
       "      <th>UC_GRADS</th>\n",
<<<<<<< HEAD
<<<<<<< HEAD
       "      <th>Object</th>\n",
=======
<<<<<<< HEAD
       "      <th>Object</th>\n",
=======
       "      <th>District_Code</th>\n",
       "      <th>Function_Code</th>\n",
>>>>>>> Helen
>>>>>>> 958d3b6f3a0d2c5e7972472b1df355b5c251e781
=======
       "      <th>District_Code</th>\n",
       "      <th>Function_Code</th>\n",
>>>>>>> 66edc7c026dc60249828aa6869a0944f4137744a
       "      <th>Function</th>\n",
       "      <th>Amount</th>\n",
       "    </tr>\n",
       "  </thead>\n",
       "  <tbody>\n",
       "    <tr>\n",
       "      <th>0</th>\n",
       "      <td>1100170000000</td>\n",
       "      <td>Alameda County Office of Education</td>\n",
       "      <td>0</td>\n",
       "      <td>2</td>\n",
       "      <td>35</td>\n",
<<<<<<< HEAD
       "      <td>3</td>\n",
       "      <td>1</td>\n",
<<<<<<< HEAD
       "      <td>Administrative Unit (AU) of a Multidistrict SE...</td>\n",
       "      <td>Attendance and Social Work Services           ...</td>\n",
       "      <td>204725.06</td>\n",
=======
<<<<<<< HEAD
       "      <td>Administrative Unit (AU) of a Multidistrict SE...</td>\n",
       "      <td>Attendance and Social Work Services           ...</td>\n",
       "      <td>204725.06</td>\n",
=======
=======
       "      <td>6</td>\n",
       "      <td>2</td>\n",
>>>>>>> 66edc7c026dc60249828aa6869a0944f4137744a
       "      <td>10017</td>\n",
       "      <td>2100</td>\n",
       "      <td>Classified Instructional Salaries             ...</td>\n",
       "      <td>5761988.84</td>\n",
<<<<<<< HEAD
>>>>>>> Helen
>>>>>>> 958d3b6f3a0d2c5e7972472b1df355b5c251e781
=======
>>>>>>> 66edc7c026dc60249828aa6869a0944f4137744a
       "    </tr>\n",
       "    <tr>\n",
       "      <th>1</th>\n",
       "      <td>1100170000000</td>\n",
       "      <td>Alameda County Office of Education</td>\n",
       "      <td>0</td>\n",
       "      <td>2</td>\n",
       "      <td>35</td>\n",
<<<<<<< HEAD
       "      <td>3</td>\n",
       "      <td>1</td>\n",
<<<<<<< HEAD
       "      <td>Administrative Unit (AU) of a Multidistrict SE...</td>\n",
       "      <td>Board and Superintendent                      ...</td>\n",
       "      <td>697.09</td>\n",
=======
<<<<<<< HEAD
       "      <td>Administrative Unit (AU) of a Multidistrict SE...</td>\n",
       "      <td>Board and Superintendent                      ...</td>\n",
       "      <td>697.09</td>\n",
=======
=======
       "      <td>6</td>\n",
       "      <td>2</td>\n",
>>>>>>> 66edc7c026dc60249828aa6869a0944f4137744a
       "      <td>10017</td>\n",
       "      <td>5900</td>\n",
       "      <td>Communications                                ...</td>\n",
       "      <td>2126900.99</td>\n",
<<<<<<< HEAD
>>>>>>> Helen
>>>>>>> 958d3b6f3a0d2c5e7972472b1df355b5c251e781
=======
>>>>>>> 66edc7c026dc60249828aa6869a0944f4137744a
       "    </tr>\n",
       "    <tr>\n",
       "      <th>2</th>\n",
       "      <td>1100170000000</td>\n",
       "      <td>Alameda County Office of Education</td>\n",
       "      <td>0</td>\n",
       "      <td>2</td>\n",
       "      <td>35</td>\n",
<<<<<<< HEAD
       "      <td>3</td>\n",
       "      <td>1</td>\n",
<<<<<<< HEAD
       "      <td>Administrative Unit (AU) of a Multidistrict SE...</td>\n",
       "      <td>Other Ancillary Services                      ...</td>\n",
       "      <td>225934.43</td>\n",
=======
<<<<<<< HEAD
       "      <td>Administrative Unit (AU) of a Multidistrict SE...</td>\n",
       "      <td>Other Ancillary Services                      ...</td>\n",
       "      <td>225934.43</td>\n",
=======
=======
       "      <td>6</td>\n",
       "      <td>2</td>\n",
>>>>>>> 66edc7c026dc60249828aa6869a0944f4137744a
       "      <td>10017</td>\n",
       "      <td>7110</td>\n",
       "      <td>Tuition for Instruction Under Interdistrict At...</td>\n",
       "      <td>248316.29</td>\n",
<<<<<<< HEAD
>>>>>>> Helen
>>>>>>> 958d3b6f3a0d2c5e7972472b1df355b5c251e781
=======
>>>>>>> 66edc7c026dc60249828aa6869a0944f4137744a
       "    </tr>\n",
       "    <tr>\n",
       "      <th>3</th>\n",
       "      <td>1100170000000</td>\n",
       "      <td>Alameda County Office of Education</td>\n",
       "      <td>0</td>\n",
       "      <td>2</td>\n",
       "      <td>35</td>\n",
<<<<<<< HEAD
       "      <td>3</td>\n",
       "      <td>1</td>\n",
<<<<<<< HEAD
       "      <td>Administrative Unit (AU) of a Multidistrict SE...</td>\n",
       "      <td>Other Community Services                      ...</td>\n",
       "      <td>20516.00</td>\n",
=======
<<<<<<< HEAD
       "      <td>Administrative Unit (AU) of a Multidistrict SE...</td>\n",
       "      <td>Other Community Services                      ...</td>\n",
       "      <td>20516.00</td>\n",
=======
=======
       "      <td>6</td>\n",
       "      <td>2</td>\n",
>>>>>>> 66edc7c026dc60249828aa6869a0944f4137744a
       "      <td>10017</td>\n",
       "      <td>8110</td>\n",
       "      <td>Maintenance and Operations (Public Law 81-874)...</td>\n",
       "      <td>2607.78</td>\n",
<<<<<<< HEAD
>>>>>>> Helen
>>>>>>> 958d3b6f3a0d2c5e7972472b1df355b5c251e781
=======
>>>>>>> 66edc7c026dc60249828aa6869a0944f4137744a
       "    </tr>\n",
       "    <tr>\n",
       "      <th>4</th>\n",
       "      <td>1100170000000</td>\n",
       "      <td>Alameda County Office of Education</td>\n",
       "      <td>0</td>\n",
       "      <td>2</td>\n",
       "      <td>35</td>\n",
<<<<<<< HEAD
       "      <td>3</td>\n",
       "      <td>1</td>\n",
<<<<<<< HEAD
       "      <td>Administrative Unit (AU) of a Multidistrict SE...</td>\n",
       "      <td>Plant Maintenance and Operations              ...</td>\n",
       "      <td>476930.59</td>\n",
=======
<<<<<<< HEAD
       "      <td>Administrative Unit (AU) of a Multidistrict SE...</td>\n",
       "      <td>Plant Maintenance and Operations              ...</td>\n",
       "      <td>476930.59</td>\n",
=======
=======
       "      <td>6</td>\n",
       "      <td>2</td>\n",
>>>>>>> 66edc7c026dc60249828aa6869a0944f4137744a
       "      <td>10017</td>\n",
       "      <td>9200</td>\n",
       "      <td>Accounts Receivable                           ...</td>\n",
       "      <td>1138122.98</td>\n",
<<<<<<< HEAD
>>>>>>> Helen
>>>>>>> 958d3b6f3a0d2c5e7972472b1df355b5c251e781
=======
>>>>>>> 66edc7c026dc60249828aa6869a0944f4137744a
       "    </tr>\n",
       "    <tr>\n",
       "      <th>...</th>\n",
       "      <td>...</td>\n",
       "      <td>...</td>\n",
       "      <td>...</td>\n",
       "      <td>...</td>\n",
       "      <td>...</td>\n",
       "      <td>...</td>\n",
       "      <td>...</td>\n",
       "      <td>...</td>\n",
       "      <td>...</td>\n",
<<<<<<< HEAD
<<<<<<< HEAD
=======
<<<<<<< HEAD
>>>>>>> 958d3b6f3a0d2c5e7972472b1df355b5c251e781
       "    </tr>\n",
       "    <tr>\n",
       "      <th>26399</th>\n",
       "      <td>57727100000000</td>\n",
       "      <td>9</td>\n",
       "      <td>4</td>\n",
       "      <td>135</td>\n",
       "      <td>4</td>\n",
       "      <td>1</td>\n",
       "      <td>School-Sponsored Athletics                    ...</td>\n",
       "      <td>Special Education:  Other Specialized Instruct...</td>\n",
       "      <td>238.97</td>\n",
       "    </tr>\n",
       "    <tr>\n",
       "      <th>26400</th>\n",
<<<<<<< HEAD
=======
=======
=======
       "      <td>...</td>\n",
>>>>>>> 66edc7c026dc60249828aa6869a0944f4137744a
       "      <td>...</td>\n",
       "    </tr>\n",
       "    <tr>\n",
       "      <th>2860</th>\n",
       "      <td>57727100000000</td>\n",
       "      <td>Woodland Joint Unified</td>\n",
       "      <td>7</td>\n",
       "      <td>251</td>\n",
       "      <td>2582</td>\n",
       "      <td>442</td>\n",
       "      <td>230</td>\n",
       "      <td>72710</td>\n",
       "      <td>9200</td>\n",
       "      <td>Accounts Receivable                           ...</td>\n",
       "      <td>446835.00</td>\n",
       "    </tr>\n",
       "    <tr>\n",
       "      <th>2861</th>\n",
<<<<<<< HEAD
>>>>>>> Helen
>>>>>>> 958d3b6f3a0d2c5e7972472b1df355b5c251e781
=======
>>>>>>> 66edc7c026dc60249828aa6869a0944f4137744a
       "      <td>57727100000000</td>\n",
       "      <td>Woodland Joint Unified</td>\n",
       "      <td>9</td>\n",
       "      <td>4</td>\n",
       "      <td>135</td>\n",
<<<<<<< HEAD
       "      <td>4</td>\n",
       "      <td>1</td>\n",
<<<<<<< HEAD
=======
<<<<<<< HEAD
>>>>>>> 958d3b6f3a0d2c5e7972472b1df355b5c251e781
       "      <td>School-Sponsored Athletics                    ...</td>\n",
       "      <td>Special Education: Separate Classes           ...</td>\n",
       "      <td>1586.06</td>\n",
       "    </tr>\n",
       "    <tr>\n",
       "      <th>26401</th>\n",
<<<<<<< HEAD
=======
=======
=======
       "      <td>8</td>\n",
       "      <td>2</td>\n",
>>>>>>> 66edc7c026dc60249828aa6869a0944f4137744a
       "      <td>72710</td>\n",
       "      <td>4100</td>\n",
       "      <td>Approved Textbooks and Core Curricula Material...</td>\n",
       "      <td>62992.21</td>\n",
       "    </tr>\n",
       "    <tr>\n",
       "      <th>2862</th>\n",
<<<<<<< HEAD
>>>>>>> Helen
>>>>>>> 958d3b6f3a0d2c5e7972472b1df355b5c251e781
=======
>>>>>>> 66edc7c026dc60249828aa6869a0944f4137744a
       "      <td>57727100000000</td>\n",
       "      <td>Woodland Joint Unified</td>\n",
       "      <td>9</td>\n",
       "      <td>4</td>\n",
       "      <td>135</td>\n",
<<<<<<< HEAD
       "      <td>4</td>\n",
       "      <td>1</td>\n",
<<<<<<< HEAD
=======
<<<<<<< HEAD
>>>>>>> 958d3b6f3a0d2c5e7972472b1df355b5c251e781
       "      <td>School-Sponsored Athletics                    ...</td>\n",
       "      <td>Speech Pathology and Audiology Services       ...</td>\n",
       "      <td>542.65</td>\n",
       "    </tr>\n",
       "    <tr>\n",
       "      <th>26402</th>\n",
<<<<<<< HEAD
=======
=======
=======
       "      <td>8</td>\n",
       "      <td>2</td>\n",
>>>>>>> 66edc7c026dc60249828aa6869a0944f4137744a
       "      <td>72710</td>\n",
       "      <td>4200</td>\n",
       "      <td>Books and Other Reference Materials           ...</td>\n",
       "      <td>292217.53</td>\n",
       "    </tr>\n",
       "    <tr>\n",
       "      <th>2863</th>\n",
<<<<<<< HEAD
>>>>>>> Helen
>>>>>>> 958d3b6f3a0d2c5e7972472b1df355b5c251e781
=======
>>>>>>> 66edc7c026dc60249828aa6869a0944f4137744a
       "      <td>57727100000000</td>\n",
       "      <td>Woodland Joint Unified</td>\n",
       "      <td>9</td>\n",
       "      <td>4</td>\n",
       "      <td>135</td>\n",
<<<<<<< HEAD
       "      <td>4</td>\n",
       "      <td>1</td>\n",
<<<<<<< HEAD
=======
<<<<<<< HEAD
>>>>>>> 958d3b6f3a0d2c5e7972472b1df355b5c251e781
       "      <td>School-Sponsored Co-curricular                ...</td>\n",
       "      <td>Instruction                                   ...</td>\n",
       "      <td>383068.54</td>\n",
       "    </tr>\n",
       "    <tr>\n",
       "      <th>26403</th>\n",
<<<<<<< HEAD
=======
=======
=======
       "      <td>8</td>\n",
       "      <td>2</td>\n",
>>>>>>> 66edc7c026dc60249828aa6869a0944f4137744a
       "      <td>72710</td>\n",
       "      <td>7110</td>\n",
       "      <td>Tuition for Instruction Under Interdistrict At...</td>\n",
       "      <td>143886.68</td>\n",
       "    </tr>\n",
       "    <tr>\n",
       "      <th>2864</th>\n",
<<<<<<< HEAD
>>>>>>> Helen
>>>>>>> 958d3b6f3a0d2c5e7972472b1df355b5c251e781
=======
>>>>>>> 66edc7c026dc60249828aa6869a0944f4137744a
       "      <td>57727100000000</td>\n",
       "      <td>Woodland Joint Unified</td>\n",
       "      <td>9</td>\n",
       "      <td>4</td>\n",
       "      <td>135</td>\n",
<<<<<<< HEAD
       "      <td>4</td>\n",
       "      <td>1</td>\n",
<<<<<<< HEAD
=======
<<<<<<< HEAD
>>>>>>> 958d3b6f3a0d2c5e7972472b1df355b5c251e781
       "      <td>Transfers Between Agencies                    ...</td>\n",
       "      <td>Not Applicable (For use with revenues and bala...</td>\n",
       "      <td>16293425.88</td>\n",
       "    </tr>\n",
       "  </tbody>\n",
       "</table>\n",
       "<p>26404 rows × 9 columns</p>\n",
       "</div>"
      ],
      "text/plain": [
       "             CDS_CODE  ETHNIC  GR_12  ENR_TOTAL  GRADS  UC_GRADS  \\\n",
       "0       1100170000000       0      2         35      3         1   \n",
       "1       1100170000000       0      2         35      3         1   \n",
       "2       1100170000000       0      2         35      3         1   \n",
       "3       1100170000000       0      2         35      3         1   \n",
       "4       1100170000000       0      2         35      3         1   \n",
       "...               ...     ...    ...        ...    ...       ...   \n",
       "26399  57727100000000       9      4        135      4         1   \n",
       "26400  57727100000000       9      4        135      4         1   \n",
       "26401  57727100000000       9      4        135      4         1   \n",
       "26402  57727100000000       9      4        135      4         1   \n",
       "26403  57727100000000       9      4        135      4         1   \n",
       "\n",
       "                                                  Object  \\\n",
       "0      Administrative Unit (AU) of a Multidistrict SE...   \n",
       "1      Administrative Unit (AU) of a Multidistrict SE...   \n",
       "2      Administrative Unit (AU) of a Multidistrict SE...   \n",
       "3      Administrative Unit (AU) of a Multidistrict SE...   \n",
       "4      Administrative Unit (AU) of a Multidistrict SE...   \n",
       "...                                                  ...   \n",
       "26399  School-Sponsored Athletics                    ...   \n",
       "26400  School-Sponsored Athletics                    ...   \n",
       "26401  School-Sponsored Athletics                    ...   \n",
       "26402  School-Sponsored Co-curricular                ...   \n",
       "26403  Transfers Between Agencies                    ...   \n",
       "\n",
       "                                                Function       Amount  \n",
       "0      Attendance and Social Work Services           ...    204725.06  \n",
       "1      Board and Superintendent                      ...       697.09  \n",
       "2      Other Ancillary Services                      ...    225934.43  \n",
       "3      Other Community Services                      ...     20516.00  \n",
       "4      Plant Maintenance and Operations              ...    476930.59  \n",
       "...                                                  ...          ...  \n",
       "26399  Special Education:  Other Specialized Instruct...       238.97  \n",
       "26400  Special Education: Separate Classes           ...      1586.06  \n",
       "26401  Speech Pathology and Audiology Services       ...       542.65  \n",
       "26402  Instruction                                   ...    383068.54  \n",
       "26403  Not Applicable (For use with revenues and bala...  16293425.88  \n",
       "\n",
       "[26404 rows x 9 columns]"
      ]
     },
     "execution_count": 8,
<<<<<<< HEAD
=======
=======
=======
       "      <td>8</td>\n",
       "      <td>2</td>\n",
>>>>>>> 66edc7c026dc60249828aa6869a0944f4137744a
       "      <td>72710</td>\n",
       "      <td>9200</td>\n",
       "      <td>Accounts Receivable                           ...</td>\n",
       "      <td>446835.00</td>\n",
       "    </tr>\n",
       "  </tbody>\n",
       "</table>\n",
       "<p>2865 rows × 11 columns</p>\n",
       "</div>"
      ],
      "text/plain": [
       "            CDS_CODE                            DISTRICT  ETHNIC  GR_12  \\\n",
       "0      1100170000000  Alameda County Office of Education       0      2   \n",
       "1      1100170000000  Alameda County Office of Education       0      2   \n",
       "2      1100170000000  Alameda County Office of Education       0      2   \n",
       "3      1100170000000  Alameda County Office of Education       0      2   \n",
       "4      1100170000000  Alameda County Office of Education       0      2   \n",
       "...              ...                                 ...     ...    ...   \n",
       "2860  57727100000000              Woodland Joint Unified       7    251   \n",
       "2861  57727100000000              Woodland Joint Unified       9      4   \n",
       "2862  57727100000000              Woodland Joint Unified       9      4   \n",
       "2863  57727100000000              Woodland Joint Unified       9      4   \n",
       "2864  57727100000000              Woodland Joint Unified       9      4   \n",
       "\n",
       "      ENR_TOTAL  GRADS  UC_GRADS  District_Code  Function_Code  \\\n",
       "0            35      6         2          10017           2100   \n",
       "1            35      6         2          10017           5900   \n",
       "2            35      6         2          10017           7110   \n",
       "3            35      6         2          10017           8110   \n",
       "4            35      6         2          10017           9200   \n",
       "...         ...    ...       ...            ...            ...   \n",
       "2860       2582    442       230          72710           9200   \n",
       "2861        135      8         2          72710           4100   \n",
       "2862        135      8         2          72710           4200   \n",
       "2863        135      8         2          72710           7110   \n",
       "2864        135      8         2          72710           9200   \n",
       "\n",
       "                                               Function      Amount  \n",
       "0     Classified Instructional Salaries             ...  5761988.84  \n",
       "1     Communications                                ...  2126900.99  \n",
       "2     Tuition for Instruction Under Interdistrict At...   248316.29  \n",
       "3     Maintenance and Operations (Public Law 81-874)...     2607.78  \n",
       "4     Accounts Receivable                           ...  1138122.98  \n",
       "...                                                 ...         ...  \n",
       "2860  Accounts Receivable                           ...   446835.00  \n",
       "2861  Approved Textbooks and Core Curricula Material...    62992.21  \n",
       "2862  Books and Other Reference Materials           ...   292217.53  \n",
       "2863  Tuition for Instruction Under Interdistrict At...   143886.68  \n",
       "2864  Accounts Receivable                           ...   446835.00  \n",
       "\n",
       "[2865 rows x 11 columns]"
      ]
     },
     "execution_count": 4,
<<<<<<< HEAD
>>>>>>> Helen
>>>>>>> 958d3b6f3a0d2c5e7972472b1df355b5c251e781
=======
>>>>>>> 66edc7c026dc60249828aa6869a0944f4137744a
     "metadata": {},
     "output_type": "execute_result"
    }
   ],
   "source": [
    "grad_enroll_finance=pd.merge(grad_enroll, finance_data, on=['CDS_CODE'])\n",
    "grad_enroll_finance"
   ]
  },
  {
   "cell_type": "code",
<<<<<<< HEAD
<<<<<<< HEAD
   "execution_count": 9,
=======
<<<<<<< HEAD
   "execution_count": 9,
=======
   "execution_count": 5,
>>>>>>> Helen
>>>>>>> 958d3b6f3a0d2c5e7972472b1df355b5c251e781
=======
   "execution_count": 5,
>>>>>>> 66edc7c026dc60249828aa6869a0944f4137744a
   "metadata": {},
   "outputs": [],
   "source": [
    "grad_enroll_finance.to_csv('../All_Data_Data/All_1213')"
   ]
  },
  {
   "cell_type": "code",
   "execution_count": null,
   "metadata": {},
   "outputs": [],
   "source": []
  },
  {
   "cell_type": "code",
   "execution_count": null,
   "metadata": {},
   "outputs": [],
   "source": []
  },
  {
   "cell_type": "code",
   "execution_count": null,
   "metadata": {},
   "outputs": [],
   "source": []
  }
 ],
 "metadata": {
  "kernelspec": {
   "display_name": "PythonData",
   "language": "python",
   "name": "pythondata"
  },
  "language_info": {
   "codemirror_mode": {
    "name": "ipython",
    "version": 3
   },
   "file_extension": ".py",
   "mimetype": "text/x-python",
   "name": "python",
   "nbconvert_exporter": "python",
   "pygments_lexer": "ipython3",
   "version": "3.7.4"
  }
 },
 "nbformat": 4,
 "nbformat_minor": 4
}
