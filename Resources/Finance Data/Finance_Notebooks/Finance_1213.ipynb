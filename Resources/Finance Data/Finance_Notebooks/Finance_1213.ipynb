{
 "cells": [
  {
   "cell_type": "code",
   "execution_count": 1,
   "metadata": {},
   "outputs": [],
   "source": [
    "#add depedencies\n",
    "import pandas as pd"
   ]
  },
  {
   "cell_type": "markdown",
   "metadata": {},
   "source": [
    "## Cleaning Budget Data"
   ]
  },
  {
   "cell_type": "code",
   "execution_count": 2,
   "metadata": {},
   "outputs": [
    {
     "name": "stderr",
     "output_type": "stream",
     "text": [
      "C:\\Users\\hhngu\\AppData\\Roaming\\Python\\Python37\\site-packages\\IPython\\core\\interactiveshell.py:3051: DtypeWarning: Columns (9) have mixed types.Specify dtype option on import or set low_memory=False.\n",
      "  interactivity=interactivity, compiler=compiler, result=result)\n"
     ]
    },
    {
     "data": {
      "text/html": [
       "<div>\n",
       "<style scoped>\n",
       "    .dataframe tbody tr th:only-of-type {\n",
       "        vertical-align: middle;\n",
       "    }\n",
       "\n",
       "    .dataframe tbody tr th {\n",
       "        vertical-align: top;\n",
       "    }\n",
       "\n",
       "    .dataframe thead th {\n",
       "        text-align: right;\n",
       "    }\n",
       "</style>\n",
       "<table border=\"1\" class=\"dataframe\">\n",
       "  <thead>\n",
       "    <tr style=\"text-align: right;\">\n",
       "      <th></th>\n",
       "      <th>County_Code</th>\n",
       "      <th>District_Code</th>\n",
       "      <th>School_Code</th>\n",
       "      <th>Fiscal_Year</th>\n",
       "      <th>Period</th>\n",
       "      <th>Colcode</th>\n",
       "      <th>Account_Code</th>\n",
       "      <th>Fund_Code</th>\n",
       "      <th>Resource_Code</th>\n",
       "      <th>Project_Year</th>\n",
       "      <th>Goal</th>\n",
       "      <th>Function_Code</th>\n",
       "      <th>Object_Code</th>\n",
       "      <th>Amount</th>\n",
       "    </tr>\n",
       "  </thead>\n",
       "  <tbody>\n",
       "    <tr>\n",
       "      <th>0</th>\n",
       "      <td>1</td>\n",
       "      <td>10017</td>\n",
       "      <td>0</td>\n",
       "      <td>2012</td>\n",
       "      <td>A</td>\n",
       "      <td>BA</td>\n",
       "      <td>0100000000000008011</td>\n",
       "      <td>1</td>\n",
       "      <td>0</td>\n",
       "      <td>0</td>\n",
       "      <td>0000</td>\n",
       "      <td>0</td>\n",
       "      <td>8011</td>\n",
       "      <td>1405033.00</td>\n",
       "    </tr>\n",
       "    <tr>\n",
       "      <th>1</th>\n",
       "      <td>1</td>\n",
       "      <td>10017</td>\n",
       "      <td>0</td>\n",
       "      <td>2012</td>\n",
       "      <td>A</td>\n",
       "      <td>BA</td>\n",
       "      <td>0100000000000008019</td>\n",
       "      <td>1</td>\n",
       "      <td>0</td>\n",
       "      <td>0</td>\n",
       "      <td>0000</td>\n",
       "      <td>0</td>\n",
       "      <td>8019</td>\n",
       "      <td>13433.00</td>\n",
       "    </tr>\n",
       "    <tr>\n",
       "      <th>2</th>\n",
       "      <td>1</td>\n",
       "      <td>10017</td>\n",
       "      <td>0</td>\n",
       "      <td>2012</td>\n",
       "      <td>A</td>\n",
       "      <td>BA</td>\n",
       "      <td>0100000000000008021</td>\n",
       "      <td>1</td>\n",
       "      <td>0</td>\n",
       "      <td>0</td>\n",
       "      <td>0000</td>\n",
       "      <td>0</td>\n",
       "      <td>8021</td>\n",
       "      <td>119704.31</td>\n",
       "    </tr>\n",
       "    <tr>\n",
       "      <th>3</th>\n",
       "      <td>1</td>\n",
       "      <td>10017</td>\n",
       "      <td>0</td>\n",
       "      <td>2012</td>\n",
       "      <td>A</td>\n",
       "      <td>BA</td>\n",
       "      <td>0100000000000008022</td>\n",
       "      <td>1</td>\n",
       "      <td>0</td>\n",
       "      <td>0</td>\n",
       "      <td>0000</td>\n",
       "      <td>0</td>\n",
       "      <td>8022</td>\n",
       "      <td>5.34</td>\n",
       "    </tr>\n",
       "    <tr>\n",
       "      <th>4</th>\n",
       "      <td>1</td>\n",
       "      <td>10017</td>\n",
       "      <td>0</td>\n",
       "      <td>2012</td>\n",
       "      <td>A</td>\n",
       "      <td>BA</td>\n",
       "      <td>0100000000000008029</td>\n",
       "      <td>1</td>\n",
       "      <td>0</td>\n",
       "      <td>0</td>\n",
       "      <td>0000</td>\n",
       "      <td>0</td>\n",
       "      <td>8029</td>\n",
       "      <td>1084.38</td>\n",
       "    </tr>\n",
       "    <tr>\n",
       "      <th>...</th>\n",
       "      <td>...</td>\n",
       "      <td>...</td>\n",
       "      <td>...</td>\n",
       "      <td>...</td>\n",
       "      <td>...</td>\n",
       "      <td>...</td>\n",
       "      <td>...</td>\n",
       "      <td>...</td>\n",
       "      <td>...</td>\n",
       "      <td>...</td>\n",
       "      <td>...</td>\n",
       "      <td>...</td>\n",
       "      <td>...</td>\n",
       "      <td>...</td>\n",
       "    </tr>\n",
       "    <tr>\n",
       "      <th>1282057</th>\n",
       "      <td>58</td>\n",
       "      <td>72769</td>\n",
       "      <td>0</td>\n",
       "      <td>2012</td>\n",
       "      <td>A</td>\n",
       "      <td>BA</td>\n",
       "      <td>7300000000000009500</td>\n",
       "      <td>73</td>\n",
       "      <td>0</td>\n",
       "      <td>0</td>\n",
       "      <td>0000</td>\n",
       "      <td>0</td>\n",
       "      <td>9500</td>\n",
       "      <td>1518.48</td>\n",
       "    </tr>\n",
       "    <tr>\n",
       "      <th>1282058</th>\n",
       "      <td>58</td>\n",
       "      <td>72769</td>\n",
       "      <td>0</td>\n",
       "      <td>2012</td>\n",
       "      <td>A</td>\n",
       "      <td>BA</td>\n",
       "      <td>7300000000000009790</td>\n",
       "      <td>73</td>\n",
       "      <td>0</td>\n",
       "      <td>0</td>\n",
       "      <td>0000</td>\n",
       "      <td>0</td>\n",
       "      <td>9790</td>\n",
       "      <td>71592.16</td>\n",
       "    </tr>\n",
       "    <tr>\n",
       "      <th>1282059</th>\n",
       "      <td>58</td>\n",
       "      <td>72769</td>\n",
       "      <td>0</td>\n",
       "      <td>2012</td>\n",
       "      <td>A</td>\n",
       "      <td>BA</td>\n",
       "      <td>7300000000000009791</td>\n",
       "      <td>73</td>\n",
       "      <td>0</td>\n",
       "      <td>0</td>\n",
       "      <td>0000</td>\n",
       "      <td>0</td>\n",
       "      <td>9791</td>\n",
       "      <td>73088.90</td>\n",
       "    </tr>\n",
       "    <tr>\n",
       "      <th>1282060</th>\n",
       "      <td>58</td>\n",
       "      <td>72769</td>\n",
       "      <td>0</td>\n",
       "      <td>2012</td>\n",
       "      <td>A</td>\n",
       "      <td>BA</td>\n",
       "      <td>730000000000000979Z</td>\n",
       "      <td>73</td>\n",
       "      <td>0</td>\n",
       "      <td>0</td>\n",
       "      <td>0000</td>\n",
       "      <td>0</td>\n",
       "      <td>979Z</td>\n",
       "      <td>71592.16</td>\n",
       "    </tr>\n",
       "    <tr>\n",
       "      <th>1282061</th>\n",
       "      <td>58</td>\n",
       "      <td>72769</td>\n",
       "      <td>0</td>\n",
       "      <td>2012</td>\n",
       "      <td>A</td>\n",
       "      <td>BA</td>\n",
       "      <td>7300000000027005800</td>\n",
       "      <td>73</td>\n",
       "      <td>0</td>\n",
       "      <td>0</td>\n",
       "      <td>0000</td>\n",
       "      <td>2700</td>\n",
       "      <td>5800</td>\n",
       "      <td>8822.24</td>\n",
       "    </tr>\n",
       "  </tbody>\n",
       "</table>\n",
       "<p>1282062 rows × 14 columns</p>\n",
       "</div>"
      ],
      "text/plain": [
       "         County_Code  District_Code  School_Code  Fiscal_Year Period Colcode  \\\n",
       "0                  1          10017            0         2012   A       BA     \n",
       "1                  1          10017            0         2012   A       BA     \n",
       "2                  1          10017            0         2012   A       BA     \n",
       "3                  1          10017            0         2012   A       BA     \n",
       "4                  1          10017            0         2012   A       BA     \n",
       "...              ...            ...          ...          ...    ...     ...   \n",
       "1282057           58          72769            0         2012   A       BA     \n",
       "1282058           58          72769            0         2012   A       BA     \n",
       "1282059           58          72769            0         2012   A       BA     \n",
       "1282060           58          72769            0         2012   A       BA     \n",
       "1282061           58          72769            0         2012   A       BA     \n",
       "\n",
       "                Account_Code  Fund_Code  Resource_Code Project_Year  Goal  \\\n",
       "0        0100000000000008011          1              0            0  0000   \n",
       "1        0100000000000008019          1              0            0  0000   \n",
       "2        0100000000000008021          1              0            0  0000   \n",
       "3        0100000000000008022          1              0            0  0000   \n",
       "4        0100000000000008029          1              0            0  0000   \n",
       "...                      ...        ...            ...          ...   ...   \n",
       "1282057  7300000000000009500         73              0            0  0000   \n",
       "1282058  7300000000000009790         73              0            0  0000   \n",
       "1282059  7300000000000009791         73              0            0  0000   \n",
       "1282060  730000000000000979Z         73              0            0  0000   \n",
       "1282061  7300000000027005800         73              0            0  0000   \n",
       "\n",
       "         Function_Code Object_Code      Amount  \n",
       "0                    0        8011  1405033.00  \n",
       "1                    0        8019    13433.00  \n",
       "2                    0        8021   119704.31  \n",
       "3                    0        8022        5.34  \n",
       "4                    0        8029     1084.38  \n",
       "...                ...         ...         ...  \n",
       "1282057              0        9500     1518.48  \n",
       "1282058              0        9790    71592.16  \n",
       "1282059              0        9791    73088.90  \n",
       "1282060              0        979Z    71592.16  \n",
       "1282061           2700        5800     8822.24  \n",
       "\n",
       "[1282062 rows x 14 columns]"
      ]
     },
     "execution_count": 2,
     "metadata": {},
     "output_type": "execute_result"
    }
   ],
   "source": [
    "#Load finance file\n",
<<<<<<< HEAD
<<<<<<< HEAD
=======
<<<<<<< HEAD
>>>>>>> 958d3b6f3a0d2c5e7972472b1df355b5c251e781
    "fin_1213_df=pd.read_csv(\"../School Budget Data '12-'13.zip\",\n",
    "                       names=['County_Code','District_Code','School_Code','Fiscal_Year',\n",
    "                                  'Period','Colcode','Account_Code','Fund_Code','Resource_Code',\n",
    "                                  'Project_Year','Goal','Function_Code','Object_Code','Amount'])\n",
    "fin_1213_df"
<<<<<<< HEAD
=======
=======
=======
>>>>>>> 66edc7c026dc60249828aa6869a0944f4137744a
    "data_df=pd.read_csv(\"../School Budget Data '12-'13.zip\",\n",
    "                       names=['County_Code','District_Code','School_Code','Fiscal_Year',\n",
    "                                  'Period','Colcode','Account_Code','Fund_Code','Resource_Code',\n",
    "                                  'Project_Year','Goal','Function_Code','Object_Code','Amount'])\n",
    "data_df"
<<<<<<< HEAD
>>>>>>> Helen
>>>>>>> 958d3b6f3a0d2c5e7972472b1df355b5c251e781
=======
>>>>>>> 66edc7c026dc60249828aa6869a0944f4137744a
   ]
  },
  {
   "cell_type": "code",
   "execution_count": 3,
   "metadata": {},
   "outputs": [
    {
     "data": {
      "text/plain": [
       "County_Code      1282062\n",
       "District_Code    1282062\n",
       "School_Code      1282062\n",
       "Fiscal_Year      1282062\n",
       "Period           1282062\n",
       "Colcode          1282062\n",
       "Account_Code     1282062\n",
       "Fund_Code        1282062\n",
       "Resource_Code    1282062\n",
       "Project_Year     1282062\n",
       "Goal             1282062\n",
       "Function_Code    1282062\n",
       "Object_Code      1282062\n",
       "Amount           1282062\n",
       "dtype: int64"
      ]
     },
     "execution_count": 3,
     "metadata": {},
     "output_type": "execute_result"
    }
   ],
   "source": [
    "#Determine any missing values \n",
<<<<<<< HEAD
<<<<<<< HEAD
    "fin_1213_df.dropna()\n",
    "fin_1213_df.count()"
=======
<<<<<<< HEAD
    "fin_1213_df.dropna()\n",
    "fin_1213_df.count()"
=======
    "data_df.dropna()\n",
    "data_df.count()"
>>>>>>> Helen
>>>>>>> 958d3b6f3a0d2c5e7972472b1df355b5c251e781
=======
    "data_df.dropna()\n",
    "data_df.count()"
>>>>>>> 66edc7c026dc60249828aa6869a0944f4137744a
   ]
  },
  {
   "cell_type": "code",
   "execution_count": 4,
   "metadata": {},
   "outputs": [
    {
     "data": {
      "text/plain": [
       "County_Code        int64\n",
       "District_Code      int64\n",
       "School_Code        int64\n",
       "Fiscal_Year        int64\n",
       "Period            object\n",
       "Colcode           object\n",
       "Account_Code      object\n",
       "Fund_Code          int64\n",
       "Resource_Code      int64\n",
       "Project_Year      object\n",
       "Goal              object\n",
       "Function_Code      int64\n",
       "Object_Code       object\n",
       "Amount           float64\n",
       "dtype: object"
      ]
     },
     "execution_count": 4,
     "metadata": {},
     "output_type": "execute_result"
    }
   ],
   "source": [
<<<<<<< HEAD
<<<<<<< HEAD
    "fin_1213_df.dtypes"
=======
<<<<<<< HEAD
    "fin_1213_df.dtypes"
=======
    "data_df.dtypes"
>>>>>>> Helen
>>>>>>> 958d3b6f3a0d2c5e7972472b1df355b5c251e781
=======
    "data_df.dtypes"
>>>>>>> 66edc7c026dc60249828aa6869a0944f4137744a
   ]
  },
  {
   "cell_type": "code",
   "execution_count": 5,
   "metadata": {},
   "outputs": [
    {
     "data": {
      "text/html": [
       "<div>\n",
       "<style scoped>\n",
       "    .dataframe tbody tr th:only-of-type {\n",
       "        vertical-align: middle;\n",
       "    }\n",
       "\n",
       "    .dataframe tbody tr th {\n",
       "        vertical-align: top;\n",
       "    }\n",
       "\n",
       "    .dataframe thead th {\n",
       "        text-align: right;\n",
       "    }\n",
       "</style>\n",
       "<table border=\"1\" class=\"dataframe\">\n",
       "  <thead>\n",
       "    <tr style=\"text-align: right;\">\n",
       "      <th></th>\n",
       "      <th>County_Code</th>\n",
       "      <th>District_Code</th>\n",
       "      <th>School_Code</th>\n",
<<<<<<< HEAD
<<<<<<< HEAD
       "      <th>Object_Code</th>\n",
=======
<<<<<<< HEAD
       "      <th>Object_Code</th>\n",
=======
>>>>>>> Helen
>>>>>>> 958d3b6f3a0d2c5e7972472b1df355b5c251e781
=======
>>>>>>> 66edc7c026dc60249828aa6869a0944f4137744a
       "      <th>Function_Code</th>\n",
       "      <th>Amount</th>\n",
       "    </tr>\n",
       "  </thead>\n",
       "  <tbody>\n",
       "    <tr>\n",
       "      <th>0</th>\n",
       "      <td>1</td>\n",
       "      <td>10017</td>\n",
       "      <td>0</td>\n",
<<<<<<< HEAD
<<<<<<< HEAD
       "      <td>8011</td>\n",
=======
<<<<<<< HEAD
       "      <td>8011</td>\n",
=======
>>>>>>> Helen
>>>>>>> 958d3b6f3a0d2c5e7972472b1df355b5c251e781
=======
>>>>>>> 66edc7c026dc60249828aa6869a0944f4137744a
       "      <td>0</td>\n",
       "      <td>1405033.00</td>\n",
       "    </tr>\n",
       "    <tr>\n",
       "      <th>1</th>\n",
       "      <td>1</td>\n",
       "      <td>10017</td>\n",
       "      <td>0</td>\n",
<<<<<<< HEAD
<<<<<<< HEAD
       "      <td>8019</td>\n",
=======
<<<<<<< HEAD
       "      <td>8019</td>\n",
=======
>>>>>>> Helen
>>>>>>> 958d3b6f3a0d2c5e7972472b1df355b5c251e781
=======
>>>>>>> 66edc7c026dc60249828aa6869a0944f4137744a
       "      <td>0</td>\n",
       "      <td>13433.00</td>\n",
       "    </tr>\n",
       "    <tr>\n",
       "      <th>2</th>\n",
       "      <td>1</td>\n",
       "      <td>10017</td>\n",
       "      <td>0</td>\n",
<<<<<<< HEAD
<<<<<<< HEAD
       "      <td>8021</td>\n",
=======
<<<<<<< HEAD
       "      <td>8021</td>\n",
=======
>>>>>>> Helen
>>>>>>> 958d3b6f3a0d2c5e7972472b1df355b5c251e781
=======
>>>>>>> 66edc7c026dc60249828aa6869a0944f4137744a
       "      <td>0</td>\n",
       "      <td>119704.31</td>\n",
       "    </tr>\n",
       "    <tr>\n",
       "      <th>3</th>\n",
       "      <td>1</td>\n",
       "      <td>10017</td>\n",
       "      <td>0</td>\n",
<<<<<<< HEAD
<<<<<<< HEAD
       "      <td>8022</td>\n",
=======
<<<<<<< HEAD
       "      <td>8022</td>\n",
=======
>>>>>>> Helen
>>>>>>> 958d3b6f3a0d2c5e7972472b1df355b5c251e781
=======
>>>>>>> 66edc7c026dc60249828aa6869a0944f4137744a
       "      <td>0</td>\n",
       "      <td>5.34</td>\n",
       "    </tr>\n",
       "    <tr>\n",
       "      <th>4</th>\n",
       "      <td>1</td>\n",
       "      <td>10017</td>\n",
       "      <td>0</td>\n",
<<<<<<< HEAD
<<<<<<< HEAD
       "      <td>8029</td>\n",
=======
<<<<<<< HEAD
       "      <td>8029</td>\n",
=======
>>>>>>> Helen
>>>>>>> 958d3b6f3a0d2c5e7972472b1df355b5c251e781
=======
>>>>>>> 66edc7c026dc60249828aa6869a0944f4137744a
       "      <td>0</td>\n",
       "      <td>1084.38</td>\n",
       "    </tr>\n",
       "    <tr>\n",
       "      <th>...</th>\n",
       "      <td>...</td>\n",
       "      <td>...</td>\n",
       "      <td>...</td>\n",
       "      <td>...</td>\n",
       "      <td>...</td>\n",
<<<<<<< HEAD
<<<<<<< HEAD
       "      <td>...</td>\n",
=======
<<<<<<< HEAD
       "      <td>...</td>\n",
=======
>>>>>>> Helen
>>>>>>> 958d3b6f3a0d2c5e7972472b1df355b5c251e781
=======
>>>>>>> 66edc7c026dc60249828aa6869a0944f4137744a
       "    </tr>\n",
       "    <tr>\n",
       "      <th>1282057</th>\n",
       "      <td>58</td>\n",
       "      <td>72769</td>\n",
       "      <td>0</td>\n",
<<<<<<< HEAD
<<<<<<< HEAD
       "      <td>9500</td>\n",
=======
<<<<<<< HEAD
       "      <td>9500</td>\n",
=======
>>>>>>> Helen
>>>>>>> 958d3b6f3a0d2c5e7972472b1df355b5c251e781
=======
>>>>>>> 66edc7c026dc60249828aa6869a0944f4137744a
       "      <td>0</td>\n",
       "      <td>1518.48</td>\n",
       "    </tr>\n",
       "    <tr>\n",
       "      <th>1282058</th>\n",
       "      <td>58</td>\n",
       "      <td>72769</td>\n",
       "      <td>0</td>\n",
<<<<<<< HEAD
<<<<<<< HEAD
       "      <td>9790</td>\n",
=======
<<<<<<< HEAD
       "      <td>9790</td>\n",
=======
>>>>>>> Helen
>>>>>>> 958d3b6f3a0d2c5e7972472b1df355b5c251e781
=======
>>>>>>> 66edc7c026dc60249828aa6869a0944f4137744a
       "      <td>0</td>\n",
       "      <td>71592.16</td>\n",
       "    </tr>\n",
       "    <tr>\n",
       "      <th>1282059</th>\n",
       "      <td>58</td>\n",
       "      <td>72769</td>\n",
       "      <td>0</td>\n",
<<<<<<< HEAD
<<<<<<< HEAD
       "      <td>9791</td>\n",
=======
<<<<<<< HEAD
       "      <td>9791</td>\n",
=======
>>>>>>> Helen
>>>>>>> 958d3b6f3a0d2c5e7972472b1df355b5c251e781
=======
>>>>>>> 66edc7c026dc60249828aa6869a0944f4137744a
       "      <td>0</td>\n",
       "      <td>73088.90</td>\n",
       "    </tr>\n",
       "    <tr>\n",
       "      <th>1282060</th>\n",
       "      <td>58</td>\n",
       "      <td>72769</td>\n",
       "      <td>0</td>\n",
<<<<<<< HEAD
<<<<<<< HEAD
       "      <td>979Z</td>\n",
=======
<<<<<<< HEAD
       "      <td>979Z</td>\n",
=======
>>>>>>> Helen
>>>>>>> 958d3b6f3a0d2c5e7972472b1df355b5c251e781
=======
>>>>>>> 66edc7c026dc60249828aa6869a0944f4137744a
       "      <td>0</td>\n",
       "      <td>71592.16</td>\n",
       "    </tr>\n",
       "    <tr>\n",
       "      <th>1282061</th>\n",
       "      <td>58</td>\n",
       "      <td>72769</td>\n",
       "      <td>0</td>\n",
<<<<<<< HEAD
<<<<<<< HEAD
       "      <td>5800</td>\n",
=======
<<<<<<< HEAD
       "      <td>5800</td>\n",
=======
>>>>>>> Helen
>>>>>>> 958d3b6f3a0d2c5e7972472b1df355b5c251e781
=======
>>>>>>> 66edc7c026dc60249828aa6869a0944f4137744a
       "      <td>2700</td>\n",
       "      <td>8822.24</td>\n",
       "    </tr>\n",
       "  </tbody>\n",
       "</table>\n",
<<<<<<< HEAD
<<<<<<< HEAD
=======
<<<<<<< HEAD
>>>>>>> 958d3b6f3a0d2c5e7972472b1df355b5c251e781
       "<p>1282062 rows × 6 columns</p>\n",
       "</div>"
      ],
      "text/plain": [
       "         County_Code  District_Code  School_Code Object_Code  Function_Code  \\\n",
       "0                  1          10017            0        8011              0   \n",
       "1                  1          10017            0        8019              0   \n",
       "2                  1          10017            0        8021              0   \n",
       "3                  1          10017            0        8022              0   \n",
       "4                  1          10017            0        8029              0   \n",
       "...              ...            ...          ...         ...            ...   \n",
       "1282057           58          72769            0        9500              0   \n",
       "1282058           58          72769            0        9790              0   \n",
       "1282059           58          72769            0        9791              0   \n",
       "1282060           58          72769            0        979Z              0   \n",
       "1282061           58          72769            0        5800           2700   \n",
       "\n",
       "             Amount  \n",
       "0        1405033.00  \n",
       "1          13433.00  \n",
       "2         119704.31  \n",
       "3              5.34  \n",
       "4           1084.38  \n",
       "...             ...  \n",
       "1282057     1518.48  \n",
       "1282058    71592.16  \n",
       "1282059    73088.90  \n",
       "1282060    71592.16  \n",
       "1282061     8822.24  \n",
       "\n",
       "[1282062 rows x 6 columns]"
<<<<<<< HEAD
=======
=======
=======
>>>>>>> 66edc7c026dc60249828aa6869a0944f4137744a
       "<p>1282062 rows × 5 columns</p>\n",
       "</div>"
      ],
      "text/plain": [
       "         County_Code  District_Code  School_Code  Function_Code      Amount\n",
       "0                  1          10017            0              0  1405033.00\n",
       "1                  1          10017            0              0    13433.00\n",
       "2                  1          10017            0              0   119704.31\n",
       "3                  1          10017            0              0        5.34\n",
       "4                  1          10017            0              0     1084.38\n",
       "...              ...            ...          ...            ...         ...\n",
       "1282057           58          72769            0              0     1518.48\n",
       "1282058           58          72769            0              0    71592.16\n",
       "1282059           58          72769            0              0    73088.90\n",
       "1282060           58          72769            0              0    71592.16\n",
       "1282061           58          72769            0           2700     8822.24\n",
       "\n",
       "[1282062 rows x 5 columns]"
<<<<<<< HEAD
>>>>>>> Helen
>>>>>>> 958d3b6f3a0d2c5e7972472b1df355b5c251e781
=======
>>>>>>> 66edc7c026dc60249828aa6869a0944f4137744a
      ]
     },
     "execution_count": 5,
     "metadata": {},
     "output_type": "execute_result"
    }
   ],
   "source": [
    "#Select desired columns\n",
<<<<<<< HEAD
<<<<<<< HEAD
    "clean_fi_1213_df=fin_1213_df[['County_Code','District_Code','School_Code','Object_Code','Function_Code','Amount']]\n",
    "clean_fi_1213_df"
=======
<<<<<<< HEAD
    "clean_fi_1213_df=fin_1213_df[['County_Code','District_Code','School_Code','Object_Code','Function_Code','Amount']]\n",
    "clean_fi_1213_df"
=======
    "clean_data_df=data_df[['County_Code','District_Code','School_Code','Function_Code','Amount']]\n",
    "clean_data_df"
>>>>>>> Helen
>>>>>>> 958d3b6f3a0d2c5e7972472b1df355b5c251e781
=======
    "clean_data_df=data_df[['County_Code','District_Code','School_Code','Function_Code','Amount']]\n",
    "clean_data_df"
>>>>>>> 66edc7c026dc60249828aa6869a0944f4137744a
   ]
  },
  {
   "cell_type": "code",
   "execution_count": 6,
   "metadata": {},
   "outputs": [
    {
     "name": "stderr",
     "output_type": "stream",
     "text": [
      "C:\\Users\\hhngu\\AppData\\Roaming\\Python\\Python37\\site-packages\\ipykernel_launcher.py:2: SettingWithCopyWarning: \n",
      "A value is trying to be set on a copy of a slice from a DataFrame.\n",
      "Try using .loc[row_indexer,col_indexer] = value instead\n",
      "\n",
      "See the caveats in the documentation: https://pandas.pydata.org/pandas-docs/stable/user_guide/indexing.html#returning-a-view-versus-a-copy\n",
      "  \n",
      "C:\\Users\\hhngu\\AppData\\Roaming\\Python\\Python37\\site-packages\\ipykernel_launcher.py:3: SettingWithCopyWarning: \n",
      "A value is trying to be set on a copy of a slice from a DataFrame.\n",
      "Try using .loc[row_indexer,col_indexer] = value instead\n",
      "\n",
      "See the caveats in the documentation: https://pandas.pydata.org/pandas-docs/stable/user_guide/indexing.html#returning-a-view-versus-a-copy\n",
      "  This is separate from the ipykernel package so we can avoid doing imports until\n"
     ]
    },
    {
     "data": {
      "text/html": [
       "<div>\n",
       "<style scoped>\n",
       "    .dataframe tbody tr th:only-of-type {\n",
       "        vertical-align: middle;\n",
       "    }\n",
       "\n",
       "    .dataframe tbody tr th {\n",
       "        vertical-align: top;\n",
       "    }\n",
       "\n",
       "    .dataframe thead th {\n",
       "        text-align: right;\n",
       "    }\n",
       "</style>\n",
       "<table border=\"1\" class=\"dataframe\">\n",
       "  <thead>\n",
       "    <tr style=\"text-align: right;\">\n",
       "      <th></th>\n",
       "      <th>County_Code</th>\n",
       "      <th>District_Code</th>\n",
       "      <th>School_Code</th>\n",
<<<<<<< HEAD
<<<<<<< HEAD
       "      <th>Object_Code</th>\n",
=======
<<<<<<< HEAD
       "      <th>Object_Code</th>\n",
=======
>>>>>>> Helen
>>>>>>> 958d3b6f3a0d2c5e7972472b1df355b5c251e781
=======
>>>>>>> 66edc7c026dc60249828aa6869a0944f4137744a
       "      <th>Function_Code</th>\n",
       "      <th>Amount</th>\n",
       "      <th>District</th>\n",
       "      <th>County</th>\n",
       "    </tr>\n",
       "  </thead>\n",
       "  <tbody>\n",
       "    <tr>\n",
       "      <th>0</th>\n",
       "      <td>1</td>\n",
       "      <td>10017</td>\n",
       "      <td>0</td>\n",
<<<<<<< HEAD
<<<<<<< HEAD
       "      <td>8011</td>\n",
=======
<<<<<<< HEAD
       "      <td>8011</td>\n",
=======
>>>>>>> Helen
>>>>>>> 958d3b6f3a0d2c5e7972472b1df355b5c251e781
=======
>>>>>>> 66edc7c026dc60249828aa6869a0944f4137744a
       "      <td>0</td>\n",
       "      <td>1405033.00</td>\n",
       "      <td>100170000000</td>\n",
       "      <td>1000000000000</td>\n",
       "    </tr>\n",
       "    <tr>\n",
       "      <th>1</th>\n",
       "      <td>1</td>\n",
       "      <td>10017</td>\n",
       "      <td>0</td>\n",
<<<<<<< HEAD
<<<<<<< HEAD
       "      <td>8019</td>\n",
=======
<<<<<<< HEAD
       "      <td>8019</td>\n",
=======
>>>>>>> Helen
>>>>>>> 958d3b6f3a0d2c5e7972472b1df355b5c251e781
=======
>>>>>>> 66edc7c026dc60249828aa6869a0944f4137744a
       "      <td>0</td>\n",
       "      <td>13433.00</td>\n",
       "      <td>100170000000</td>\n",
       "      <td>1000000000000</td>\n",
       "    </tr>\n",
       "    <tr>\n",
       "      <th>2</th>\n",
       "      <td>1</td>\n",
       "      <td>10017</td>\n",
       "      <td>0</td>\n",
<<<<<<< HEAD
<<<<<<< HEAD
       "      <td>8021</td>\n",
=======
<<<<<<< HEAD
       "      <td>8021</td>\n",
=======
>>>>>>> Helen
>>>>>>> 958d3b6f3a0d2c5e7972472b1df355b5c251e781
=======
>>>>>>> 66edc7c026dc60249828aa6869a0944f4137744a
       "      <td>0</td>\n",
       "      <td>119704.31</td>\n",
       "      <td>100170000000</td>\n",
       "      <td>1000000000000</td>\n",
       "    </tr>\n",
       "    <tr>\n",
       "      <th>3</th>\n",
       "      <td>1</td>\n",
       "      <td>10017</td>\n",
       "      <td>0</td>\n",
<<<<<<< HEAD
<<<<<<< HEAD
       "      <td>8022</td>\n",
=======
<<<<<<< HEAD
       "      <td>8022</td>\n",
=======
>>>>>>> Helen
>>>>>>> 958d3b6f3a0d2c5e7972472b1df355b5c251e781
=======
>>>>>>> 66edc7c026dc60249828aa6869a0944f4137744a
       "      <td>0</td>\n",
       "      <td>5.34</td>\n",
       "      <td>100170000000</td>\n",
       "      <td>1000000000000</td>\n",
       "    </tr>\n",
       "    <tr>\n",
       "      <th>4</th>\n",
       "      <td>1</td>\n",
       "      <td>10017</td>\n",
       "      <td>0</td>\n",
<<<<<<< HEAD
<<<<<<< HEAD
       "      <td>8029</td>\n",
=======
<<<<<<< HEAD
       "      <td>8029</td>\n",
=======
>>>>>>> Helen
>>>>>>> 958d3b6f3a0d2c5e7972472b1df355b5c251e781
=======
>>>>>>> 66edc7c026dc60249828aa6869a0944f4137744a
       "      <td>0</td>\n",
       "      <td>1084.38</td>\n",
       "      <td>100170000000</td>\n",
       "      <td>1000000000000</td>\n",
       "    </tr>\n",
       "    <tr>\n",
       "      <th>...</th>\n",
       "      <td>...</td>\n",
       "      <td>...</td>\n",
       "      <td>...</td>\n",
       "      <td>...</td>\n",
       "      <td>...</td>\n",
       "      <td>...</td>\n",
       "      <td>...</td>\n",
<<<<<<< HEAD
<<<<<<< HEAD
       "      <td>...</td>\n",
=======
<<<<<<< HEAD
       "      <td>...</td>\n",
=======
>>>>>>> Helen
>>>>>>> 958d3b6f3a0d2c5e7972472b1df355b5c251e781
=======
>>>>>>> 66edc7c026dc60249828aa6869a0944f4137744a
       "    </tr>\n",
       "    <tr>\n",
       "      <th>1282057</th>\n",
       "      <td>58</td>\n",
       "      <td>72769</td>\n",
       "      <td>0</td>\n",
<<<<<<< HEAD
<<<<<<< HEAD
       "      <td>9500</td>\n",
=======
<<<<<<< HEAD
       "      <td>9500</td>\n",
=======
>>>>>>> Helen
>>>>>>> 958d3b6f3a0d2c5e7972472b1df355b5c251e781
=======
>>>>>>> 66edc7c026dc60249828aa6869a0944f4137744a
       "      <td>0</td>\n",
       "      <td>1518.48</td>\n",
       "      <td>727690000000</td>\n",
       "      <td>58000000000000</td>\n",
       "    </tr>\n",
       "    <tr>\n",
       "      <th>1282058</th>\n",
       "      <td>58</td>\n",
       "      <td>72769</td>\n",
       "      <td>0</td>\n",
<<<<<<< HEAD
<<<<<<< HEAD
       "      <td>9790</td>\n",
=======
<<<<<<< HEAD
       "      <td>9790</td>\n",
=======
>>>>>>> Helen
>>>>>>> 958d3b6f3a0d2c5e7972472b1df355b5c251e781
=======
>>>>>>> 66edc7c026dc60249828aa6869a0944f4137744a
       "      <td>0</td>\n",
       "      <td>71592.16</td>\n",
       "      <td>727690000000</td>\n",
       "      <td>58000000000000</td>\n",
       "    </tr>\n",
       "    <tr>\n",
       "      <th>1282059</th>\n",
       "      <td>58</td>\n",
       "      <td>72769</td>\n",
       "      <td>0</td>\n",
<<<<<<< HEAD
<<<<<<< HEAD
       "      <td>9791</td>\n",
=======
<<<<<<< HEAD
       "      <td>9791</td>\n",
=======
>>>>>>> Helen
>>>>>>> 958d3b6f3a0d2c5e7972472b1df355b5c251e781
=======
>>>>>>> 66edc7c026dc60249828aa6869a0944f4137744a
       "      <td>0</td>\n",
       "      <td>73088.90</td>\n",
       "      <td>727690000000</td>\n",
       "      <td>58000000000000</td>\n",
       "    </tr>\n",
       "    <tr>\n",
       "      <th>1282060</th>\n",
       "      <td>58</td>\n",
       "      <td>72769</td>\n",
       "      <td>0</td>\n",
<<<<<<< HEAD
<<<<<<< HEAD
       "      <td>979Z</td>\n",
=======
<<<<<<< HEAD
       "      <td>979Z</td>\n",
=======
>>>>>>> Helen
>>>>>>> 958d3b6f3a0d2c5e7972472b1df355b5c251e781
=======
>>>>>>> 66edc7c026dc60249828aa6869a0944f4137744a
       "      <td>0</td>\n",
       "      <td>71592.16</td>\n",
       "      <td>727690000000</td>\n",
       "      <td>58000000000000</td>\n",
       "    </tr>\n",
       "    <tr>\n",
       "      <th>1282061</th>\n",
       "      <td>58</td>\n",
       "      <td>72769</td>\n",
       "      <td>0</td>\n",
<<<<<<< HEAD
<<<<<<< HEAD
       "      <td>5800</td>\n",
=======
<<<<<<< HEAD
       "      <td>5800</td>\n",
=======
>>>>>>> Helen
>>>>>>> 958d3b6f3a0d2c5e7972472b1df355b5c251e781
=======
>>>>>>> 66edc7c026dc60249828aa6869a0944f4137744a
       "      <td>2700</td>\n",
       "      <td>8822.24</td>\n",
       "      <td>727690000000</td>\n",
       "      <td>58000000000000</td>\n",
       "    </tr>\n",
       "  </tbody>\n",
       "</table>\n",
<<<<<<< HEAD
<<<<<<< HEAD
=======
<<<<<<< HEAD
>>>>>>> 958d3b6f3a0d2c5e7972472b1df355b5c251e781
       "<p>1282062 rows × 8 columns</p>\n",
       "</div>"
      ],
      "text/plain": [
       "         County_Code  District_Code  School_Code Object_Code  Function_Code  \\\n",
       "0                  1          10017            0        8011              0   \n",
       "1                  1          10017            0        8019              0   \n",
       "2                  1          10017            0        8021              0   \n",
       "3                  1          10017            0        8022              0   \n",
       "4                  1          10017            0        8029              0   \n",
       "...              ...            ...          ...         ...            ...   \n",
       "1282057           58          72769            0        9500              0   \n",
       "1282058           58          72769            0        9790              0   \n",
       "1282059           58          72769            0        9791              0   \n",
       "1282060           58          72769            0        979Z              0   \n",
       "1282061           58          72769            0        5800           2700   \n",
       "\n",
       "             Amount      District          County  \n",
       "0        1405033.00  100170000000   1000000000000  \n",
       "1          13433.00  100170000000   1000000000000  \n",
       "2         119704.31  100170000000   1000000000000  \n",
       "3              5.34  100170000000   1000000000000  \n",
       "4           1084.38  100170000000   1000000000000  \n",
       "...             ...           ...             ...  \n",
       "1282057     1518.48  727690000000  58000000000000  \n",
       "1282058    71592.16  727690000000  58000000000000  \n",
       "1282059    73088.90  727690000000  58000000000000  \n",
       "1282060    71592.16  727690000000  58000000000000  \n",
       "1282061     8822.24  727690000000  58000000000000  \n",
       "\n",
       "[1282062 rows x 8 columns]"
<<<<<<< HEAD
=======
=======
=======
>>>>>>> 66edc7c026dc60249828aa6869a0944f4137744a
       "<p>1282062 rows × 7 columns</p>\n",
       "</div>"
      ],
      "text/plain": [
       "         County_Code  District_Code  School_Code  Function_Code      Amount  \\\n",
       "0                  1          10017            0              0  1405033.00   \n",
       "1                  1          10017            0              0    13433.00   \n",
       "2                  1          10017            0              0   119704.31   \n",
       "3                  1          10017            0              0        5.34   \n",
       "4                  1          10017            0              0     1084.38   \n",
       "...              ...            ...          ...            ...         ...   \n",
       "1282057           58          72769            0              0     1518.48   \n",
       "1282058           58          72769            0              0    71592.16   \n",
       "1282059           58          72769            0              0    73088.90   \n",
       "1282060           58          72769            0              0    71592.16   \n",
       "1282061           58          72769            0           2700     8822.24   \n",
       "\n",
       "             District          County  \n",
       "0        100170000000   1000000000000  \n",
       "1        100170000000   1000000000000  \n",
       "2        100170000000   1000000000000  \n",
       "3        100170000000   1000000000000  \n",
       "4        100170000000   1000000000000  \n",
       "...               ...             ...  \n",
       "1282057  727690000000  58000000000000  \n",
       "1282058  727690000000  58000000000000  \n",
       "1282059  727690000000  58000000000000  \n",
       "1282060  727690000000  58000000000000  \n",
       "1282061  727690000000  58000000000000  \n",
       "\n",
       "[1282062 rows x 7 columns]"
<<<<<<< HEAD
>>>>>>> Helen
>>>>>>> 958d3b6f3a0d2c5e7972472b1df355b5c251e781
=======
>>>>>>> 66edc7c026dc60249828aa6869a0944f4137744a
      ]
     },
     "execution_count": 6,
     "metadata": {},
     "output_type": "execute_result"
    }
   ],
   "source": [
    "#Concatenate district, county and school code to get CDS CODE\n",
<<<<<<< HEAD
<<<<<<< HEAD
    "clean_fi_1213_df['District']=clean_fi_1213_df['District_Code'] * 10000000\n",
    "clean_fi_1213_df['County']=clean_fi_1213_df['County_Code'] * 1000000000000\n",
    "clean_fi_1213_df"
=======
<<<<<<< HEAD
    "clean_fi_1213_df['District']=clean_fi_1213_df['District_Code'] * 10000000\n",
    "clean_fi_1213_df['County']=clean_fi_1213_df['County_Code'] * 1000000000000\n",
    "clean_fi_1213_df"
=======
    "clean_data_df['District']=clean_data_df['District_Code'] * 10000000\n",
    "clean_data_df['County']=clean_data_df['County_Code'] * 1000000000000\n",
    "clean_data_df"
>>>>>>> Helen
>>>>>>> 958d3b6f3a0d2c5e7972472b1df355b5c251e781
=======
    "clean_data_df['District']=clean_data_df['District_Code'] * 10000000\n",
    "clean_data_df['County']=clean_data_df['County_Code'] * 1000000000000\n",
    "clean_data_df"
>>>>>>> 66edc7c026dc60249828aa6869a0944f4137744a
   ]
  },
  {
   "cell_type": "code",
   "execution_count": 7,
   "metadata": {},
   "outputs": [
    {
     "name": "stderr",
     "output_type": "stream",
     "text": [
      "C:\\Users\\hhngu\\AppData\\Roaming\\Python\\Python37\\site-packages\\ipykernel_launcher.py:1: SettingWithCopyWarning: \n",
      "A value is trying to be set on a copy of a slice from a DataFrame.\n",
      "Try using .loc[row_indexer,col_indexer] = value instead\n",
      "\n",
      "See the caveats in the documentation: https://pandas.pydata.org/pandas-docs/stable/user_guide/indexing.html#returning-a-view-versus-a-copy\n",
      "  \"\"\"Entry point for launching an IPython kernel.\n"
     ]
    },
    {
     "data": {
      "text/html": [
       "<div>\n",
       "<style scoped>\n",
       "    .dataframe tbody tr th:only-of-type {\n",
       "        vertical-align: middle;\n",
       "    }\n",
       "\n",
       "    .dataframe tbody tr th {\n",
       "        vertical-align: top;\n",
       "    }\n",
       "\n",
       "    .dataframe thead th {\n",
       "        text-align: right;\n",
       "    }\n",
       "</style>\n",
       "<table border=\"1\" class=\"dataframe\">\n",
       "  <thead>\n",
       "    <tr style=\"text-align: right;\">\n",
       "      <th></th>\n",
       "      <th>County_Code</th>\n",
       "      <th>District_Code</th>\n",
       "      <th>School_Code</th>\n",
<<<<<<< HEAD
<<<<<<< HEAD
       "      <th>Object_Code</th>\n",
=======
<<<<<<< HEAD
       "      <th>Object_Code</th>\n",
=======
>>>>>>> Helen
>>>>>>> 958d3b6f3a0d2c5e7972472b1df355b5c251e781
=======
>>>>>>> 66edc7c026dc60249828aa6869a0944f4137744a
       "      <th>Function_Code</th>\n",
       "      <th>Amount</th>\n",
       "      <th>District</th>\n",
       "      <th>County</th>\n",
       "      <th>CDS_CODE</th>\n",
       "    </tr>\n",
       "  </thead>\n",
       "  <tbody>\n",
       "    <tr>\n",
       "      <th>0</th>\n",
       "      <td>1</td>\n",
       "      <td>10017</td>\n",
       "      <td>0</td>\n",
<<<<<<< HEAD
<<<<<<< HEAD
       "      <td>8011</td>\n",
=======
<<<<<<< HEAD
       "      <td>8011</td>\n",
=======
>>>>>>> Helen
>>>>>>> 958d3b6f3a0d2c5e7972472b1df355b5c251e781
=======
>>>>>>> 66edc7c026dc60249828aa6869a0944f4137744a
       "      <td>0</td>\n",
       "      <td>1405033.00</td>\n",
       "      <td>100170000000</td>\n",
       "      <td>1000000000000</td>\n",
       "      <td>1100170000000</td>\n",
       "    </tr>\n",
       "    <tr>\n",
       "      <th>1</th>\n",
       "      <td>1</td>\n",
       "      <td>10017</td>\n",
       "      <td>0</td>\n",
<<<<<<< HEAD
<<<<<<< HEAD
       "      <td>8019</td>\n",
=======
<<<<<<< HEAD
       "      <td>8019</td>\n",
=======
>>>>>>> Helen
>>>>>>> 958d3b6f3a0d2c5e7972472b1df355b5c251e781
=======
>>>>>>> 66edc7c026dc60249828aa6869a0944f4137744a
       "      <td>0</td>\n",
       "      <td>13433.00</td>\n",
       "      <td>100170000000</td>\n",
       "      <td>1000000000000</td>\n",
       "      <td>1100170000000</td>\n",
       "    </tr>\n",
       "    <tr>\n",
       "      <th>2</th>\n",
       "      <td>1</td>\n",
       "      <td>10017</td>\n",
       "      <td>0</td>\n",
<<<<<<< HEAD
<<<<<<< HEAD
       "      <td>8021</td>\n",
=======
<<<<<<< HEAD
       "      <td>8021</td>\n",
=======
>>>>>>> Helen
>>>>>>> 958d3b6f3a0d2c5e7972472b1df355b5c251e781
=======
>>>>>>> 66edc7c026dc60249828aa6869a0944f4137744a
       "      <td>0</td>\n",
       "      <td>119704.31</td>\n",
       "      <td>100170000000</td>\n",
       "      <td>1000000000000</td>\n",
       "      <td>1100170000000</td>\n",
       "    </tr>\n",
       "    <tr>\n",
       "      <th>3</th>\n",
       "      <td>1</td>\n",
       "      <td>10017</td>\n",
       "      <td>0</td>\n",
<<<<<<< HEAD
<<<<<<< HEAD
       "      <td>8022</td>\n",
=======
<<<<<<< HEAD
       "      <td>8022</td>\n",
=======
>>>>>>> Helen
>>>>>>> 958d3b6f3a0d2c5e7972472b1df355b5c251e781
=======
>>>>>>> 66edc7c026dc60249828aa6869a0944f4137744a
       "      <td>0</td>\n",
       "      <td>5.34</td>\n",
       "      <td>100170000000</td>\n",
       "      <td>1000000000000</td>\n",
       "      <td>1100170000000</td>\n",
       "    </tr>\n",
       "    <tr>\n",
       "      <th>4</th>\n",
       "      <td>1</td>\n",
       "      <td>10017</td>\n",
       "      <td>0</td>\n",
<<<<<<< HEAD
<<<<<<< HEAD
       "      <td>8029</td>\n",
=======
<<<<<<< HEAD
       "      <td>8029</td>\n",
=======
>>>>>>> Helen
>>>>>>> 958d3b6f3a0d2c5e7972472b1df355b5c251e781
=======
>>>>>>> 66edc7c026dc60249828aa6869a0944f4137744a
       "      <td>0</td>\n",
       "      <td>1084.38</td>\n",
       "      <td>100170000000</td>\n",
       "      <td>1000000000000</td>\n",
       "      <td>1100170000000</td>\n",
       "    </tr>\n",
       "    <tr>\n",
       "      <th>...</th>\n",
       "      <td>...</td>\n",
       "      <td>...</td>\n",
       "      <td>...</td>\n",
       "      <td>...</td>\n",
       "      <td>...</td>\n",
       "      <td>...</td>\n",
       "      <td>...</td>\n",
       "      <td>...</td>\n",
<<<<<<< HEAD
<<<<<<< HEAD
       "      <td>...</td>\n",
=======
<<<<<<< HEAD
       "      <td>...</td>\n",
=======
>>>>>>> Helen
>>>>>>> 958d3b6f3a0d2c5e7972472b1df355b5c251e781
=======
>>>>>>> 66edc7c026dc60249828aa6869a0944f4137744a
       "    </tr>\n",
       "    <tr>\n",
       "      <th>1282057</th>\n",
       "      <td>58</td>\n",
       "      <td>72769</td>\n",
       "      <td>0</td>\n",
<<<<<<< HEAD
<<<<<<< HEAD
       "      <td>9500</td>\n",
=======
<<<<<<< HEAD
       "      <td>9500</td>\n",
=======
>>>>>>> Helen
>>>>>>> 958d3b6f3a0d2c5e7972472b1df355b5c251e781
=======
>>>>>>> 66edc7c026dc60249828aa6869a0944f4137744a
       "      <td>0</td>\n",
       "      <td>1518.48</td>\n",
       "      <td>727690000000</td>\n",
       "      <td>58000000000000</td>\n",
       "      <td>58727690000000</td>\n",
       "    </tr>\n",
       "    <tr>\n",
       "      <th>1282058</th>\n",
       "      <td>58</td>\n",
       "      <td>72769</td>\n",
       "      <td>0</td>\n",
<<<<<<< HEAD
<<<<<<< HEAD
       "      <td>9790</td>\n",
=======
<<<<<<< HEAD
       "      <td>9790</td>\n",
=======
>>>>>>> Helen
>>>>>>> 958d3b6f3a0d2c5e7972472b1df355b5c251e781
=======
>>>>>>> 66edc7c026dc60249828aa6869a0944f4137744a
       "      <td>0</td>\n",
       "      <td>71592.16</td>\n",
       "      <td>727690000000</td>\n",
       "      <td>58000000000000</td>\n",
       "      <td>58727690000000</td>\n",
       "    </tr>\n",
       "    <tr>\n",
       "      <th>1282059</th>\n",
       "      <td>58</td>\n",
       "      <td>72769</td>\n",
       "      <td>0</td>\n",
<<<<<<< HEAD
<<<<<<< HEAD
       "      <td>9791</td>\n",
=======
<<<<<<< HEAD
       "      <td>9791</td>\n",
=======
>>>>>>> Helen
>>>>>>> 958d3b6f3a0d2c5e7972472b1df355b5c251e781
=======
>>>>>>> 66edc7c026dc60249828aa6869a0944f4137744a
       "      <td>0</td>\n",
       "      <td>73088.90</td>\n",
       "      <td>727690000000</td>\n",
       "      <td>58000000000000</td>\n",
       "      <td>58727690000000</td>\n",
       "    </tr>\n",
       "    <tr>\n",
       "      <th>1282060</th>\n",
       "      <td>58</td>\n",
       "      <td>72769</td>\n",
       "      <td>0</td>\n",
<<<<<<< HEAD
<<<<<<< HEAD
       "      <td>979Z</td>\n",
=======
<<<<<<< HEAD
       "      <td>979Z</td>\n",
=======
>>>>>>> Helen
>>>>>>> 958d3b6f3a0d2c5e7972472b1df355b5c251e781
=======
>>>>>>> 66edc7c026dc60249828aa6869a0944f4137744a
       "      <td>0</td>\n",
       "      <td>71592.16</td>\n",
       "      <td>727690000000</td>\n",
       "      <td>58000000000000</td>\n",
       "      <td>58727690000000</td>\n",
       "    </tr>\n",
       "    <tr>\n",
       "      <th>1282061</th>\n",
       "      <td>58</td>\n",
       "      <td>72769</td>\n",
       "      <td>0</td>\n",
<<<<<<< HEAD
<<<<<<< HEAD
       "      <td>5800</td>\n",
=======
<<<<<<< HEAD
       "      <td>5800</td>\n",
=======
>>>>>>> Helen
>>>>>>> 958d3b6f3a0d2c5e7972472b1df355b5c251e781
=======
>>>>>>> 66edc7c026dc60249828aa6869a0944f4137744a
       "      <td>2700</td>\n",
       "      <td>8822.24</td>\n",
       "      <td>727690000000</td>\n",
       "      <td>58000000000000</td>\n",
       "      <td>58727690000000</td>\n",
       "    </tr>\n",
       "  </tbody>\n",
       "</table>\n",
<<<<<<< HEAD
<<<<<<< HEAD
=======
<<<<<<< HEAD
>>>>>>> 958d3b6f3a0d2c5e7972472b1df355b5c251e781
       "<p>1282062 rows × 9 columns</p>\n",
       "</div>"
      ],
      "text/plain": [
       "         County_Code  District_Code  School_Code Object_Code  Function_Code  \\\n",
       "0                  1          10017            0        8011              0   \n",
       "1                  1          10017            0        8019              0   \n",
       "2                  1          10017            0        8021              0   \n",
       "3                  1          10017            0        8022              0   \n",
       "4                  1          10017            0        8029              0   \n",
       "...              ...            ...          ...         ...            ...   \n",
       "1282057           58          72769            0        9500              0   \n",
       "1282058           58          72769            0        9790              0   \n",
       "1282059           58          72769            0        9791              0   \n",
       "1282060           58          72769            0        979Z              0   \n",
       "1282061           58          72769            0        5800           2700   \n",
       "\n",
       "             Amount      District          County        CDS_CODE  \n",
       "0        1405033.00  100170000000   1000000000000   1100170000000  \n",
       "1          13433.00  100170000000   1000000000000   1100170000000  \n",
       "2         119704.31  100170000000   1000000000000   1100170000000  \n",
       "3              5.34  100170000000   1000000000000   1100170000000  \n",
       "4           1084.38  100170000000   1000000000000   1100170000000  \n",
       "...             ...           ...             ...             ...  \n",
       "1282057     1518.48  727690000000  58000000000000  58727690000000  \n",
       "1282058    71592.16  727690000000  58000000000000  58727690000000  \n",
       "1282059    73088.90  727690000000  58000000000000  58727690000000  \n",
       "1282060    71592.16  727690000000  58000000000000  58727690000000  \n",
       "1282061     8822.24  727690000000  58000000000000  58727690000000  \n",
       "\n",
       "[1282062 rows x 9 columns]"
<<<<<<< HEAD
=======
=======
=======
>>>>>>> 66edc7c026dc60249828aa6869a0944f4137744a
       "<p>1282062 rows × 8 columns</p>\n",
       "</div>"
      ],
      "text/plain": [
       "         County_Code  District_Code  School_Code  Function_Code      Amount  \\\n",
       "0                  1          10017            0              0  1405033.00   \n",
       "1                  1          10017            0              0    13433.00   \n",
       "2                  1          10017            0              0   119704.31   \n",
       "3                  1          10017            0              0        5.34   \n",
       "4                  1          10017            0              0     1084.38   \n",
       "...              ...            ...          ...            ...         ...   \n",
       "1282057           58          72769            0              0     1518.48   \n",
       "1282058           58          72769            0              0    71592.16   \n",
       "1282059           58          72769            0              0    73088.90   \n",
       "1282060           58          72769            0              0    71592.16   \n",
       "1282061           58          72769            0           2700     8822.24   \n",
       "\n",
       "             District          County        CDS_CODE  \n",
       "0        100170000000   1000000000000   1100170000000  \n",
       "1        100170000000   1000000000000   1100170000000  \n",
       "2        100170000000   1000000000000   1100170000000  \n",
       "3        100170000000   1000000000000   1100170000000  \n",
       "4        100170000000   1000000000000   1100170000000  \n",
       "...               ...             ...             ...  \n",
       "1282057  727690000000  58000000000000  58727690000000  \n",
       "1282058  727690000000  58000000000000  58727690000000  \n",
       "1282059  727690000000  58000000000000  58727690000000  \n",
       "1282060  727690000000  58000000000000  58727690000000  \n",
       "1282061  727690000000  58000000000000  58727690000000  \n",
       "\n",
       "[1282062 rows x 8 columns]"
<<<<<<< HEAD
>>>>>>> Helen
>>>>>>> 958d3b6f3a0d2c5e7972472b1df355b5c251e781
=======
>>>>>>> 66edc7c026dc60249828aa6869a0944f4137744a
      ]
     },
     "execution_count": 7,
     "metadata": {},
     "output_type": "execute_result"
    }
   ],
   "source": [
<<<<<<< HEAD
<<<<<<< HEAD
    "clean_fi_1213_df['CDS_CODE']=clean_fi_1213_df['District'] + clean_fi_1213_df['County'] + clean_fi_1213_df['School_Code']\n",
    "clean_fi_1213_df"
=======
<<<<<<< HEAD
    "clean_fi_1213_df['CDS_CODE']=clean_fi_1213_df['District'] + clean_fi_1213_df['County'] + clean_fi_1213_df['School_Code']\n",
    "clean_fi_1213_df"
=======
    "clean_data_df['CDS_CODE']=clean_data_df['District'] + clean_data_df['County'] + clean_data_df['School_Code']\n",
    "clean_data_df"
>>>>>>> Helen
>>>>>>> 958d3b6f3a0d2c5e7972472b1df355b5c251e781
=======
    "clean_data_df['CDS_CODE']=clean_data_df['District'] + clean_data_df['County'] + clean_data_df['School_Code']\n",
    "clean_data_df"
>>>>>>> 66edc7c026dc60249828aa6869a0944f4137744a
   ]
  },
  {
   "cell_type": "code",
   "execution_count": 8,
   "metadata": {},
   "outputs": [
    {
     "data": {
      "text/html": [
       "<div>\n",
       "<style scoped>\n",
       "    .dataframe tbody tr th:only-of-type {\n",
       "        vertical-align: middle;\n",
       "    }\n",
       "\n",
       "    .dataframe tbody tr th {\n",
       "        vertical-align: top;\n",
       "    }\n",
       "\n",
       "    .dataframe thead th {\n",
       "        text-align: right;\n",
       "    }\n",
       "</style>\n",
       "<table border=\"1\" class=\"dataframe\">\n",
       "  <thead>\n",
       "    <tr style=\"text-align: right;\">\n",
       "      <th></th>\n",
       "      <th>CDS_CODE</th>\n",
<<<<<<< HEAD
<<<<<<< HEAD
       "      <th>Object_Code</th>\n",
=======
<<<<<<< HEAD
       "      <th>Object_Code</th>\n",
=======
       "      <th>District_Code</th>\n",
>>>>>>> Helen
>>>>>>> 958d3b6f3a0d2c5e7972472b1df355b5c251e781
=======
       "      <th>District_Code</th>\n",
>>>>>>> 66edc7c026dc60249828aa6869a0944f4137744a
       "      <th>Function_Code</th>\n",
       "      <th>Amount</th>\n",
       "    </tr>\n",
       "  </thead>\n",
       "  <tbody>\n",
       "    <tr>\n",
       "      <th>0</th>\n",
       "      <td>1100170000000</td>\n",
<<<<<<< HEAD
<<<<<<< HEAD
       "      <td>8011</td>\n",
=======
<<<<<<< HEAD
       "      <td>8011</td>\n",
=======
       "      <td>10017</td>\n",
>>>>>>> Helen
>>>>>>> 958d3b6f3a0d2c5e7972472b1df355b5c251e781
=======
       "      <td>10017</td>\n",
>>>>>>> 66edc7c026dc60249828aa6869a0944f4137744a
       "      <td>0</td>\n",
       "      <td>1405033.00</td>\n",
       "    </tr>\n",
       "    <tr>\n",
       "      <th>1</th>\n",
       "      <td>1100170000000</td>\n",
<<<<<<< HEAD
<<<<<<< HEAD
       "      <td>8019</td>\n",
=======
<<<<<<< HEAD
       "      <td>8019</td>\n",
=======
       "      <td>10017</td>\n",
>>>>>>> Helen
>>>>>>> 958d3b6f3a0d2c5e7972472b1df355b5c251e781
=======
       "      <td>10017</td>\n",
>>>>>>> 66edc7c026dc60249828aa6869a0944f4137744a
       "      <td>0</td>\n",
       "      <td>13433.00</td>\n",
       "    </tr>\n",
       "    <tr>\n",
       "      <th>2</th>\n",
       "      <td>1100170000000</td>\n",
<<<<<<< HEAD
<<<<<<< HEAD
       "      <td>8021</td>\n",
=======
<<<<<<< HEAD
       "      <td>8021</td>\n",
=======
       "      <td>10017</td>\n",
>>>>>>> Helen
>>>>>>> 958d3b6f3a0d2c5e7972472b1df355b5c251e781
=======
       "      <td>10017</td>\n",
>>>>>>> 66edc7c026dc60249828aa6869a0944f4137744a
       "      <td>0</td>\n",
       "      <td>119704.31</td>\n",
       "    </tr>\n",
       "    <tr>\n",
       "      <th>3</th>\n",
       "      <td>1100170000000</td>\n",
<<<<<<< HEAD
<<<<<<< HEAD
       "      <td>8022</td>\n",
=======
<<<<<<< HEAD
       "      <td>8022</td>\n",
=======
       "      <td>10017</td>\n",
>>>>>>> Helen
>>>>>>> 958d3b6f3a0d2c5e7972472b1df355b5c251e781
=======
       "      <td>10017</td>\n",
>>>>>>> 66edc7c026dc60249828aa6869a0944f4137744a
       "      <td>0</td>\n",
       "      <td>5.34</td>\n",
       "    </tr>\n",
       "    <tr>\n",
       "      <th>4</th>\n",
       "      <td>1100170000000</td>\n",
<<<<<<< HEAD
<<<<<<< HEAD
       "      <td>8029</td>\n",
=======
<<<<<<< HEAD
       "      <td>8029</td>\n",
=======
       "      <td>10017</td>\n",
>>>>>>> Helen
>>>>>>> 958d3b6f3a0d2c5e7972472b1df355b5c251e781
=======
       "      <td>10017</td>\n",
>>>>>>> 66edc7c026dc60249828aa6869a0944f4137744a
       "      <td>0</td>\n",
       "      <td>1084.38</td>\n",
       "    </tr>\n",
       "    <tr>\n",
       "      <th>...</th>\n",
       "      <td>...</td>\n",
       "      <td>...</td>\n",
       "      <td>...</td>\n",
       "      <td>...</td>\n",
       "    </tr>\n",
       "    <tr>\n",
       "      <th>1282057</th>\n",
       "      <td>58727690000000</td>\n",
<<<<<<< HEAD
<<<<<<< HEAD
       "      <td>9500</td>\n",
=======
<<<<<<< HEAD
       "      <td>9500</td>\n",
=======
       "      <td>72769</td>\n",
>>>>>>> Helen
>>>>>>> 958d3b6f3a0d2c5e7972472b1df355b5c251e781
=======
       "      <td>72769</td>\n",
>>>>>>> 66edc7c026dc60249828aa6869a0944f4137744a
       "      <td>0</td>\n",
       "      <td>1518.48</td>\n",
       "    </tr>\n",
       "    <tr>\n",
       "      <th>1282058</th>\n",
       "      <td>58727690000000</td>\n",
<<<<<<< HEAD
<<<<<<< HEAD
       "      <td>9790</td>\n",
=======
<<<<<<< HEAD
       "      <td>9790</td>\n",
=======
       "      <td>72769</td>\n",
>>>>>>> Helen
>>>>>>> 958d3b6f3a0d2c5e7972472b1df355b5c251e781
=======
       "      <td>72769</td>\n",
>>>>>>> 66edc7c026dc60249828aa6869a0944f4137744a
       "      <td>0</td>\n",
       "      <td>71592.16</td>\n",
       "    </tr>\n",
       "    <tr>\n",
       "      <th>1282059</th>\n",
       "      <td>58727690000000</td>\n",
<<<<<<< HEAD
<<<<<<< HEAD
       "      <td>9791</td>\n",
=======
<<<<<<< HEAD
       "      <td>9791</td>\n",
=======
       "      <td>72769</td>\n",
>>>>>>> Helen
>>>>>>> 958d3b6f3a0d2c5e7972472b1df355b5c251e781
=======
       "      <td>72769</td>\n",
>>>>>>> 66edc7c026dc60249828aa6869a0944f4137744a
       "      <td>0</td>\n",
       "      <td>73088.90</td>\n",
       "    </tr>\n",
       "    <tr>\n",
       "      <th>1282060</th>\n",
       "      <td>58727690000000</td>\n",
<<<<<<< HEAD
<<<<<<< HEAD
       "      <td>979Z</td>\n",
=======
<<<<<<< HEAD
       "      <td>979Z</td>\n",
=======
       "      <td>72769</td>\n",
>>>>>>> Helen
>>>>>>> 958d3b6f3a0d2c5e7972472b1df355b5c251e781
=======
       "      <td>72769</td>\n",
>>>>>>> 66edc7c026dc60249828aa6869a0944f4137744a
       "      <td>0</td>\n",
       "      <td>71592.16</td>\n",
       "    </tr>\n",
       "    <tr>\n",
       "      <th>1282061</th>\n",
       "      <td>58727690000000</td>\n",
<<<<<<< HEAD
<<<<<<< HEAD
       "      <td>5800</td>\n",
=======
<<<<<<< HEAD
       "      <td>5800</td>\n",
=======
       "      <td>72769</td>\n",
>>>>>>> Helen
>>>>>>> 958d3b6f3a0d2c5e7972472b1df355b5c251e781
=======
       "      <td>72769</td>\n",
>>>>>>> 66edc7c026dc60249828aa6869a0944f4137744a
       "      <td>2700</td>\n",
       "      <td>8822.24</td>\n",
       "    </tr>\n",
       "  </tbody>\n",
       "</table>\n",
       "<p>1282062 rows × 4 columns</p>\n",
       "</div>"
      ],
      "text/plain": [
<<<<<<< HEAD
<<<<<<< HEAD
=======
<<<<<<< HEAD
>>>>>>> 958d3b6f3a0d2c5e7972472b1df355b5c251e781
       "               CDS_CODE Object_Code  Function_Code      Amount\n",
       "0         1100170000000        8011              0  1405033.00\n",
       "1         1100170000000        8019              0    13433.00\n",
       "2         1100170000000        8021              0   119704.31\n",
       "3         1100170000000        8022              0        5.34\n",
       "4         1100170000000        8029              0     1084.38\n",
       "...                 ...         ...            ...         ...\n",
       "1282057  58727690000000        9500              0     1518.48\n",
       "1282058  58727690000000        9790              0    71592.16\n",
       "1282059  58727690000000        9791              0    73088.90\n",
       "1282060  58727690000000        979Z              0    71592.16\n",
       "1282061  58727690000000        5800           2700     8822.24\n",
<<<<<<< HEAD
=======
=======
=======
>>>>>>> 66edc7c026dc60249828aa6869a0944f4137744a
       "               CDS_CODE  District_Code  Function_Code      Amount\n",
       "0         1100170000000          10017              0  1405033.00\n",
       "1         1100170000000          10017              0    13433.00\n",
       "2         1100170000000          10017              0   119704.31\n",
       "3         1100170000000          10017              0        5.34\n",
       "4         1100170000000          10017              0     1084.38\n",
       "...                 ...            ...            ...         ...\n",
       "1282057  58727690000000          72769              0     1518.48\n",
       "1282058  58727690000000          72769              0    71592.16\n",
       "1282059  58727690000000          72769              0    73088.90\n",
       "1282060  58727690000000          72769              0    71592.16\n",
       "1282061  58727690000000          72769           2700     8822.24\n",
<<<<<<< HEAD
>>>>>>> Helen
>>>>>>> 958d3b6f3a0d2c5e7972472b1df355b5c251e781
=======
>>>>>>> 66edc7c026dc60249828aa6869a0944f4137744a
       "\n",
       "[1282062 rows x 4 columns]"
      ]
     },
     "execution_count": 8,
     "metadata": {},
     "output_type": "execute_result"
    }
   ],
   "source": [
<<<<<<< HEAD
<<<<<<< HEAD
=======
<<<<<<< HEAD
>>>>>>> 958d3b6f3a0d2c5e7972472b1df355b5c251e781
    "clean_1213df=clean_fi_1213_df[['CDS_CODE','Object_Code','Function_Code','Amount']]\n",
    "clean_1213df"
   ]
  },
  {
   "cell_type": "markdown",
   "metadata": {},
   "source": [
    "## Cleaning Objects.CSV"
<<<<<<< HEAD
=======
=======
    "clean_data=clean_data_df[['CDS_CODE','District_Code','Function_Code','Amount']]\n",
    "clean_data"
>>>>>>> Helen
>>>>>>> 958d3b6f3a0d2c5e7972472b1df355b5c251e781
=======
    "clean_data=clean_data_df[['CDS_CODE','District_Code','Function_Code','Amount']]\n",
    "clean_data"
>>>>>>> 66edc7c026dc60249828aa6869a0944f4137744a
   ]
  },
  {
   "cell_type": "code",
   "execution_count": 9,
   "metadata": {},
   "outputs": [
    {
     "data": {
      "text/html": [
       "<div>\n",
       "<style scoped>\n",
       "    .dataframe tbody tr th:only-of-type {\n",
       "        vertical-align: middle;\n",
       "    }\n",
       "\n",
       "    .dataframe tbody tr th {\n",
       "        vertical-align: top;\n",
       "    }\n",
       "\n",
       "    .dataframe thead th {\n",
       "        text-align: right;\n",
       "    }\n",
       "</style>\n",
       "<table border=\"1\" class=\"dataframe\">\n",
       "  <thead>\n",
       "    <tr style=\"text-align: right;\">\n",
       "      <th></th>\n",
<<<<<<< HEAD
<<<<<<< HEAD
=======
<<<<<<< HEAD
>>>>>>> 958d3b6f3a0d2c5e7972472b1df355b5c251e781
       "      <th>Code</th>\n",
       "      <th>Title</th>\n",
       "      <th>Unnamed: 2</th>\n",
       "      <th>Unnamed: 3</th>\n",
<<<<<<< HEAD
=======
=======
=======
>>>>>>> 66edc7c026dc60249828aa6869a0944f4137744a
       "      <th>CDS_CODE</th>\n",
       "      <th>District_Code</th>\n",
       "      <th>Function_Code</th>\n",
       "      <th>Amount</th>\n",
<<<<<<< HEAD
>>>>>>> Helen
>>>>>>> 958d3b6f3a0d2c5e7972472b1df355b5c251e781
=======
>>>>>>> 66edc7c026dc60249828aa6869a0944f4137744a
       "    </tr>\n",
       "  </thead>\n",
       "  <tbody>\n",
       "    <tr>\n",
<<<<<<< HEAD
<<<<<<< HEAD
=======
<<<<<<< HEAD
>>>>>>> 958d3b6f3a0d2c5e7972472b1df355b5c251e781
       "      <th>0</th>\n",
       "      <td>0000</td>\n",
       "      <td>Not Applicable (For use with revenues and bala...</td>\n",
       "      <td>NaN</td>\n",
       "      <td>NaN</td>\n",
       "    </tr>\n",
       "    <tr>\n",
       "      <th>1</th>\n",
       "      <td>1000</td>\n",
       "      <td>Instruction                                   ...</td>\n",
       "      <td>NaN</td>\n",
       "      <td>NaN</td>\n",
       "    </tr>\n",
       "    <tr>\n",
       "      <th>2</th>\n",
       "      <td>1110</td>\n",
       "      <td>Special Education: Separate Classes           ...</td>\n",
       "      <td>NaN</td>\n",
       "      <td>NaN</td>\n",
       "    </tr>\n",
       "    <tr>\n",
       "      <th>3</th>\n",
       "      <td>1120</td>\n",
       "      <td>Special Education: Resource Specialist Instruc...</td>\n",
       "      <td>NaN</td>\n",
       "      <td>NaN</td>\n",
       "    </tr>\n",
       "    <tr>\n",
       "      <th>4</th>\n",
       "      <td>1130</td>\n",
       "      <td>Special Education: Supplemental Aids &amp; Service...</td>\n",
       "      <td>NaN</td>\n",
       "      <td>NaN</td>\n",
<<<<<<< HEAD
=======
=======
=======
>>>>>>> 66edc7c026dc60249828aa6869a0944f4137744a
       "      <th>29</th>\n",
       "      <td>1100170000000</td>\n",
       "      <td>10017</td>\n",
       "      <td>2100</td>\n",
       "      <td>-43306.31</td>\n",
       "    </tr>\n",
       "    <tr>\n",
       "      <th>30</th>\n",
       "      <td>1100170000000</td>\n",
       "      <td>10017</td>\n",
       "      <td>2100</td>\n",
       "      <td>5148.00</td>\n",
       "    </tr>\n",
       "    <tr>\n",
       "      <th>31</th>\n",
       "      <td>1100170000000</td>\n",
       "      <td>10017</td>\n",
       "      <td>2100</td>\n",
       "      <td>43306.31</td>\n",
       "    </tr>\n",
       "    <tr>\n",
       "      <th>32</th>\n",
       "      <td>1100170000000</td>\n",
       "      <td>10017</td>\n",
       "      <td>2110</td>\n",
       "      <td>-44716.00</td>\n",
       "    </tr>\n",
       "    <tr>\n",
       "      <th>33</th>\n",
       "      <td>1100170000000</td>\n",
       "      <td>10017</td>\n",
       "      <td>3140</td>\n",
       "      <td>13836.60</td>\n",
<<<<<<< HEAD
>>>>>>> Helen
>>>>>>> 958d3b6f3a0d2c5e7972472b1df355b5c251e781
=======
>>>>>>> 66edc7c026dc60249828aa6869a0944f4137744a
       "    </tr>\n",
       "    <tr>\n",
       "      <th>...</th>\n",
       "      <td>...</td>\n",
       "      <td>...</td>\n",
       "      <td>...</td>\n",
       "      <td>...</td>\n",
       "    </tr>\n",
       "    <tr>\n",
<<<<<<< HEAD
<<<<<<< HEAD
=======
<<<<<<< HEAD
>>>>>>> 958d3b6f3a0d2c5e7972472b1df355b5c251e781
       "      <th>80</th>\n",
       "      <td>Instruction</td>\n",
       "      <td>NaN</td>\n",
       "      <td>NaN</td>\n",
       "      <td>NaN</td>\n",
       "    </tr>\n",
       "    <tr>\n",
       "      <th>81</th>\n",
       "      <td>Student Services</td>\n",
       "      <td>NaN</td>\n",
       "      <td>NaN</td>\n",
       "      <td>NaN</td>\n",
       "    </tr>\n",
       "    <tr>\n",
       "      <th>82</th>\n",
       "      <td>Extra-Curricular/Community</td>\n",
       "      <td>NaN</td>\n",
       "      <td>NaN</td>\n",
       "      <td>NaN</td>\n",
       "    </tr>\n",
       "    <tr>\n",
       "      <th>83</th>\n",
       "      <td>Administration</td>\n",
       "      <td>NaN</td>\n",
       "      <td>NaN</td>\n",
       "      <td>NaN</td>\n",
       "    </tr>\n",
       "    <tr>\n",
       "      <th>84</th>\n",
       "      <td>Operations</td>\n",
       "      <td>NaN</td>\n",
       "      <td>NaN</td>\n",
       "      <td>NaN</td>\n",
       "    </tr>\n",
       "  </tbody>\n",
       "</table>\n",
       "<p>85 rows × 4 columns</p>\n",
       "</div>"
      ],
      "text/plain": [
       "                          Code  \\\n",
       "0                         0000   \n",
       "1                         1000   \n",
       "2                         1110   \n",
       "3                         1120   \n",
       "4                         1130   \n",
       "..                         ...   \n",
       "80                 Instruction   \n",
       "81            Student Services   \n",
       "82  Extra-Curricular/Community   \n",
       "83              Administration   \n",
       "84                  Operations   \n",
       "\n",
       "                                                Title  Unnamed: 2  Unnamed: 3  \n",
       "0   Not Applicable (For use with revenues and bala...         NaN         NaN  \n",
       "1   Instruction                                   ...         NaN         NaN  \n",
       "2   Special Education: Separate Classes           ...         NaN         NaN  \n",
       "3   Special Education: Resource Specialist Instruc...         NaN         NaN  \n",
       "4   Special Education: Supplemental Aids & Service...         NaN         NaN  \n",
       "..                                                ...         ...         ...  \n",
       "80                                                NaN         NaN         NaN  \n",
       "81                                                NaN         NaN         NaN  \n",
       "82                                                NaN         NaN         NaN  \n",
       "83                                                NaN         NaN         NaN  \n",
       "84                                                NaN         NaN         NaN  \n",
       "\n",
       "[85 rows x 4 columns]"
<<<<<<< HEAD
=======
=======
=======
>>>>>>> 66edc7c026dc60249828aa6869a0944f4137744a
       "      <th>1282029</th>\n",
       "      <td>58727690000000</td>\n",
       "      <td>72769</td>\n",
       "      <td>8500</td>\n",
       "      <td>29789.00</td>\n",
       "    </tr>\n",
       "    <tr>\n",
       "      <th>1282038</th>\n",
       "      <td>58727690000000</td>\n",
       "      <td>72769</td>\n",
       "      <td>7200</td>\n",
       "      <td>341.06</td>\n",
       "    </tr>\n",
       "    <tr>\n",
       "      <th>1282051</th>\n",
       "      <td>58727690000000</td>\n",
       "      <td>72769</td>\n",
       "      <td>8500</td>\n",
       "      <td>199261.55</td>\n",
       "    </tr>\n",
       "    <tr>\n",
       "      <th>1282052</th>\n",
       "      <td>58727690000000</td>\n",
       "      <td>72769</td>\n",
       "      <td>9100</td>\n",
       "      <td>72778.65</td>\n",
       "    </tr>\n",
       "    <tr>\n",
       "      <th>1282061</th>\n",
       "      <td>58727690000000</td>\n",
       "      <td>72769</td>\n",
       "      <td>2700</td>\n",
       "      <td>8822.24</td>\n",
       "    </tr>\n",
       "  </tbody>\n",
       "</table>\n",
       "<p>1000742 rows × 4 columns</p>\n",
       "</div>"
      ],
      "text/plain": [
       "               CDS_CODE  District_Code  Function_Code     Amount\n",
       "29        1100170000000          10017           2100  -43306.31\n",
       "30        1100170000000          10017           2100    5148.00\n",
       "31        1100170000000          10017           2100   43306.31\n",
       "32        1100170000000          10017           2110  -44716.00\n",
       "33        1100170000000          10017           3140   13836.60\n",
       "...                 ...            ...            ...        ...\n",
       "1282029  58727690000000          72769           8500   29789.00\n",
       "1282038  58727690000000          72769           7200     341.06\n",
       "1282051  58727690000000          72769           8500  199261.55\n",
       "1282052  58727690000000          72769           9100   72778.65\n",
       "1282061  58727690000000          72769           2700    8822.24\n",
       "\n",
       "[1000742 rows x 4 columns]"
<<<<<<< HEAD
>>>>>>> Helen
>>>>>>> 958d3b6f3a0d2c5e7972472b1df355b5c251e781
=======
>>>>>>> 66edc7c026dc60249828aa6869a0944f4137744a
      ]
     },
     "execution_count": 9,
     "metadata": {},
     "output_type": "execute_result"
    }
   ],
   "source": [
<<<<<<< HEAD
<<<<<<< HEAD
=======
<<<<<<< HEAD
>>>>>>> 958d3b6f3a0d2c5e7972472b1df355b5c251e781
    "#load object budget categories\n",
    "object_df=pd.read_csv(\"../Objects (Budget Categories).csv\")\n",
    "#object_df=object_df.set_index('Code')\n",
    "object_df"
<<<<<<< HEAD
=======
=======
    "clean_data = clean_data[clean_data.Function_Code != 0]\n",
    "clean_data"
>>>>>>> Helen
>>>>>>> 958d3b6f3a0d2c5e7972472b1df355b5c251e781
=======
    "clean_data = clean_data[clean_data.Function_Code != 0]\n",
    "clean_data"
>>>>>>> 66edc7c026dc60249828aa6869a0944f4137744a
   ]
  },
  {
   "cell_type": "code",
   "execution_count": 10,
   "metadata": {},
   "outputs": [
    {
     "data": {
<<<<<<< HEAD
<<<<<<< HEAD
=======
<<<<<<< HEAD
>>>>>>> 958d3b6f3a0d2c5e7972472b1df355b5c251e781
      "text/plain": [
       "Code          81\n",
       "Title         76\n",
       "Unnamed: 2     0\n",
       "Unnamed: 3     0\n",
       "dtype: int64"
      ]
     },
     "execution_count": 10,
     "metadata": {},
     "output_type": "execute_result"
    }
   ],
   "source": [
    "#Drop na and count to verify\n",
    "object_df.dropna()\n",
    "object_df.count()"
   ]
  },
  {
   "cell_type": "code",
   "execution_count": 11,
   "metadata": {},
   "outputs": [
    {
     "data": {
<<<<<<< HEAD
=======
=======
>>>>>>> Helen
>>>>>>> 958d3b6f3a0d2c5e7972472b1df355b5c251e781
=======
>>>>>>> 66edc7c026dc60249828aa6869a0944f4137744a
      "text/html": [
       "<div>\n",
       "<style scoped>\n",
       "    .dataframe tbody tr th:only-of-type {\n",
       "        vertical-align: middle;\n",
       "    }\n",
       "\n",
       "    .dataframe tbody tr th {\n",
       "        vertical-align: top;\n",
       "    }\n",
       "\n",
       "    .dataframe thead th {\n",
       "        text-align: right;\n",
       "    }\n",
       "</style>\n",
       "<table border=\"1\" class=\"dataframe\">\n",
       "  <thead>\n",
       "    <tr style=\"text-align: right;\">\n",
       "      <th></th>\n",
<<<<<<< HEAD
<<<<<<< HEAD
       "      <th>Code</th>\n",
       "      <th>Title</th>\n",
=======
<<<<<<< HEAD
       "      <th>Code</th>\n",
       "      <th>Title</th>\n",
=======
=======
>>>>>>> 66edc7c026dc60249828aa6869a0944f4137744a
       "      <th>CDS_CODE</th>\n",
       "      <th>District_Code</th>\n",
       "      <th>Function_Code</th>\n",
       "      <th>Amount</th>\n",
<<<<<<< HEAD
>>>>>>> Helen
>>>>>>> 958d3b6f3a0d2c5e7972472b1df355b5c251e781
=======
>>>>>>> 66edc7c026dc60249828aa6869a0944f4137744a
       "    </tr>\n",
       "  </thead>\n",
       "  <tbody>\n",
       "    <tr>\n",
<<<<<<< HEAD
<<<<<<< HEAD
=======
<<<<<<< HEAD
>>>>>>> 958d3b6f3a0d2c5e7972472b1df355b5c251e781
       "      <th>0</th>\n",
       "      <td>0000</td>\n",
       "      <td>Not Applicable (For use with revenues and bala...</td>\n",
       "    </tr>\n",
       "    <tr>\n",
       "      <th>1</th>\n",
       "      <td>1000</td>\n",
       "      <td>Instruction                                   ...</td>\n",
       "    </tr>\n",
       "    <tr>\n",
       "      <th>2</th>\n",
       "      <td>1110</td>\n",
       "      <td>Special Education: Separate Classes           ...</td>\n",
       "    </tr>\n",
       "    <tr>\n",
       "      <th>3</th>\n",
       "      <td>1120</td>\n",
       "      <td>Special Education: Resource Specialist Instruc...</td>\n",
       "    </tr>\n",
       "    <tr>\n",
       "      <th>4</th>\n",
       "      <td>1130</td>\n",
       "      <td>Special Education: Supplemental Aids &amp; Service...</td>\n",
<<<<<<< HEAD
=======
=======
=======
>>>>>>> 66edc7c026dc60249828aa6869a0944f4137744a
       "      <th>30</th>\n",
       "      <td>1100170000000</td>\n",
       "      <td>10017</td>\n",
       "      <td>2100</td>\n",
       "      <td>5148.00</td>\n",
       "    </tr>\n",
       "    <tr>\n",
       "      <th>31</th>\n",
       "      <td>1100170000000</td>\n",
       "      <td>10017</td>\n",
       "      <td>2100</td>\n",
       "      <td>43306.31</td>\n",
       "    </tr>\n",
       "    <tr>\n",
       "      <th>33</th>\n",
       "      <td>1100170000000</td>\n",
       "      <td>10017</td>\n",
       "      <td>3140</td>\n",
       "      <td>13836.60</td>\n",
       "    </tr>\n",
       "    <tr>\n",
       "      <th>34</th>\n",
       "      <td>1100170000000</td>\n",
       "      <td>10017</td>\n",
       "      <td>3140</td>\n",
       "      <td>5856.82</td>\n",
       "    </tr>\n",
       "    <tr>\n",
       "      <th>35</th>\n",
       "      <td>1100170000000</td>\n",
       "      <td>10017</td>\n",
       "      <td>3140</td>\n",
       "      <td>1103.77</td>\n",
<<<<<<< HEAD
>>>>>>> Helen
>>>>>>> 958d3b6f3a0d2c5e7972472b1df355b5c251e781
=======
>>>>>>> 66edc7c026dc60249828aa6869a0944f4137744a
       "    </tr>\n",
       "    <tr>\n",
       "      <th>...</th>\n",
       "      <td>...</td>\n",
       "      <td>...</td>\n",
<<<<<<< HEAD
<<<<<<< HEAD
=======
<<<<<<< HEAD
>>>>>>> 958d3b6f3a0d2c5e7972472b1df355b5c251e781
       "    </tr>\n",
       "    <tr>\n",
       "      <th>80</th>\n",
       "      <td>Instruction</td>\n",
       "      <td>NaN</td>\n",
       "    </tr>\n",
       "    <tr>\n",
       "      <th>81</th>\n",
       "      <td>Student Services</td>\n",
       "      <td>NaN</td>\n",
       "    </tr>\n",
       "    <tr>\n",
       "      <th>82</th>\n",
       "      <td>Extra-Curricular/Community</td>\n",
       "      <td>NaN</td>\n",
       "    </tr>\n",
       "    <tr>\n",
       "      <th>83</th>\n",
       "      <td>Administration</td>\n",
       "      <td>NaN</td>\n",
       "    </tr>\n",
       "    <tr>\n",
       "      <th>84</th>\n",
       "      <td>Operations</td>\n",
       "      <td>NaN</td>\n",
       "    </tr>\n",
       "  </tbody>\n",
       "</table>\n",
       "<p>85 rows × 2 columns</p>\n",
       "</div>"
      ],
      "text/plain": [
       "                          Code  \\\n",
       "0                         0000   \n",
       "1                         1000   \n",
       "2                         1110   \n",
       "3                         1120   \n",
       "4                         1130   \n",
       "..                         ...   \n",
       "80                 Instruction   \n",
       "81            Student Services   \n",
       "82  Extra-Curricular/Community   \n",
       "83              Administration   \n",
       "84                  Operations   \n",
       "\n",
       "                                                Title  \n",
       "0   Not Applicable (For use with revenues and bala...  \n",
       "1   Instruction                                   ...  \n",
       "2   Special Education: Separate Classes           ...  \n",
       "3   Special Education: Resource Specialist Instruc...  \n",
       "4   Special Education: Supplemental Aids & Service...  \n",
       "..                                                ...  \n",
       "80                                                NaN  \n",
       "81                                                NaN  \n",
       "82                                                NaN  \n",
       "83                                                NaN  \n",
       "84                                                NaN  \n",
       "\n",
       "[85 rows x 2 columns]"
      ]
     },
     "execution_count": 11,
<<<<<<< HEAD
=======
=======
=======
>>>>>>> 66edc7c026dc60249828aa6869a0944f4137744a
       "      <td>...</td>\n",
       "      <td>...</td>\n",
       "    </tr>\n",
       "    <tr>\n",
       "      <th>1282029</th>\n",
       "      <td>58727690000000</td>\n",
       "      <td>72769</td>\n",
       "      <td>8500</td>\n",
       "      <td>29789.00</td>\n",
       "    </tr>\n",
       "    <tr>\n",
       "      <th>1282038</th>\n",
       "      <td>58727690000000</td>\n",
       "      <td>72769</td>\n",
       "      <td>7200</td>\n",
       "      <td>341.06</td>\n",
       "    </tr>\n",
       "    <tr>\n",
       "      <th>1282051</th>\n",
       "      <td>58727690000000</td>\n",
       "      <td>72769</td>\n",
       "      <td>8500</td>\n",
       "      <td>199261.55</td>\n",
       "    </tr>\n",
       "    <tr>\n",
       "      <th>1282052</th>\n",
       "      <td>58727690000000</td>\n",
       "      <td>72769</td>\n",
       "      <td>9100</td>\n",
       "      <td>72778.65</td>\n",
       "    </tr>\n",
       "    <tr>\n",
       "      <th>1282061</th>\n",
       "      <td>58727690000000</td>\n",
       "      <td>72769</td>\n",
       "      <td>2700</td>\n",
       "      <td>8822.24</td>\n",
       "    </tr>\n",
       "  </tbody>\n",
       "</table>\n",
       "<p>977361 rows × 4 columns</p>\n",
       "</div>"
      ],
      "text/plain": [
       "               CDS_CODE  District_Code  Function_Code     Amount\n",
       "30        1100170000000          10017           2100    5148.00\n",
       "31        1100170000000          10017           2100   43306.31\n",
       "33        1100170000000          10017           3140   13836.60\n",
       "34        1100170000000          10017           3140    5856.82\n",
       "35        1100170000000          10017           3140    1103.77\n",
       "...                 ...            ...            ...        ...\n",
       "1282029  58727690000000          72769           8500   29789.00\n",
       "1282038  58727690000000          72769           7200     341.06\n",
       "1282051  58727690000000          72769           8500  199261.55\n",
       "1282052  58727690000000          72769           9100   72778.65\n",
       "1282061  58727690000000          72769           2700    8822.24\n",
       "\n",
       "[977361 rows x 4 columns]"
      ]
     },
     "execution_count": 10,
<<<<<<< HEAD
>>>>>>> Helen
>>>>>>> 958d3b6f3a0d2c5e7972472b1df355b5c251e781
     "metadata": {},
     "output_type": "execute_result"
    }
   ],
   "source": [
<<<<<<< HEAD
=======
<<<<<<< HEAD
>>>>>>> 958d3b6f3a0d2c5e7972472b1df355b5c251e781
    "#Delete extra columns\n",
    "object_df=object_df[['Code','Title']]\n",
    "object_df"
   ]
  },
  {
   "cell_type": "code",
   "execution_count": 12,
   "metadata": {},
   "outputs": [
    {
     "data": {
      "text/plain": [
       "Code     object\n",
       "Title    object\n",
       "dtype: object"
      ]
     },
     "execution_count": 12,
=======
>>>>>>> 66edc7c026dc60249828aa6869a0944f4137744a
     "metadata": {},
     "output_type": "execute_result"
    }
   ],
   "source": [
<<<<<<< HEAD
    "#Verify datatypes\n",
    "object_df.dtypes"
<<<<<<< HEAD
=======
=======
=======
>>>>>>> 66edc7c026dc60249828aa6869a0944f4137744a
    "clean_data = clean_data[clean_data.Amount >= 0]\n",
    "clean_data"
   ]
  },
  {
   "cell_type": "markdown",
   "metadata": {},
   "source": [
    "## Cleaning Objects.CSV"
<<<<<<< HEAD
>>>>>>> Helen
>>>>>>> 958d3b6f3a0d2c5e7972472b1df355b5c251e781
=======
>>>>>>> 66edc7c026dc60249828aa6869a0944f4137744a
   ]
  },
  {
   "cell_type": "code",
<<<<<<< HEAD
<<<<<<< HEAD
=======
<<<<<<< HEAD
>>>>>>> 958d3b6f3a0d2c5e7972472b1df355b5c251e781
   "execution_count": 13,
   "metadata": {},
   "outputs": [
    {
     "data": {
      "text/html": [
       "<div>\n",
       "<style scoped>\n",
       "    .dataframe tbody tr th:only-of-type {\n",
       "        vertical-align: middle;\n",
       "    }\n",
       "\n",
       "    .dataframe tbody tr th {\n",
       "        vertical-align: top;\n",
       "    }\n",
       "\n",
       "    .dataframe thead th {\n",
       "        text-align: right;\n",
       "    }\n",
       "</style>\n",
       "<table border=\"1\" class=\"dataframe\">\n",
       "  <thead>\n",
       "    <tr style=\"text-align: right;\">\n",
       "      <th></th>\n",
       "      <th>Code</th>\n",
       "      <th>Title</th>\n",
       "    </tr>\n",
       "  </thead>\n",
       "  <tbody>\n",
       "    <tr>\n",
       "      <th>76</th>\n",
       "      <td>NaN</td>\n",
       "      <td>NaN</td>\n",
       "    </tr>\n",
       "    <tr>\n",
       "      <th>77</th>\n",
       "      <td>NaN</td>\n",
       "      <td>NaN</td>\n",
       "    </tr>\n",
       "    <tr>\n",
       "      <th>78</th>\n",
       "      <td>NaN</td>\n",
       "      <td>NaN</td>\n",
       "    </tr>\n",
       "    <tr>\n",
       "      <th>79</th>\n",
       "      <td>NaN</td>\n",
       "      <td>NaN</td>\n",
       "    </tr>\n",
       "    <tr>\n",
       "      <th>80</th>\n",
       "      <td>Instruction</td>\n",
       "      <td>NaN</td>\n",
       "    </tr>\n",
       "    <tr>\n",
       "      <th>81</th>\n",
       "      <td>Student Services</td>\n",
       "      <td>NaN</td>\n",
       "    </tr>\n",
       "    <tr>\n",
       "      <th>82</th>\n",
       "      <td>Extra-Curricular/Community</td>\n",
       "      <td>NaN</td>\n",
       "    </tr>\n",
       "    <tr>\n",
       "      <th>83</th>\n",
       "      <td>Administration</td>\n",
       "      <td>NaN</td>\n",
       "    </tr>\n",
       "    <tr>\n",
       "      <th>84</th>\n",
       "      <td>Operations</td>\n",
       "      <td>NaN</td>\n",
       "    </tr>\n",
       "  </tbody>\n",
       "</table>\n",
       "</div>"
      ],
      "text/plain": [
       "                          Code Title\n",
       "76                         NaN   NaN\n",
       "77                         NaN   NaN\n",
       "78                         NaN   NaN\n",
       "79                         NaN   NaN\n",
       "80                 Instruction   NaN\n",
       "81            Student Services   NaN\n",
       "82  Extra-Curricular/Community   NaN\n",
       "83              Administration   NaN\n",
       "84                  Operations   NaN"
      ]
     },
     "execution_count": 13,
     "metadata": {},
     "output_type": "execute_result"
    }
   ],
   "source": [
    "#Clarify what is null, if any\n",
    "object_df1=object_df[object_df.isna().any(axis=1)]\n",
    "object_df1"
<<<<<<< HEAD
=======
=======
   "execution_count": null,
=======
   "execution_count": 11,
>>>>>>> 66edc7c026dc60249828aa6869a0944f4137744a
   "metadata": {},
   "outputs": [],
   "source": [
    "#load object budget categories\n",
    "#object_df=pd.read_csv(\"../Objects (Budget Categories).csv\",\n",
    "                   #  names=['Code','Title'])\n",
    "#object_df"
<<<<<<< HEAD
>>>>>>> Helen
>>>>>>> 958d3b6f3a0d2c5e7972472b1df355b5c251e781
=======
>>>>>>> 66edc7c026dc60249828aa6869a0944f4137744a
   ]
  },
  {
   "cell_type": "code",
<<<<<<< HEAD
<<<<<<< HEAD
=======
<<<<<<< HEAD
>>>>>>> 958d3b6f3a0d2c5e7972472b1df355b5c251e781
   "execution_count": 14,
   "metadata": {},
   "outputs": [
    {
     "data": {
      "text/html": [
       "<div>\n",
       "<style scoped>\n",
       "    .dataframe tbody tr th:only-of-type {\n",
       "        vertical-align: middle;\n",
       "    }\n",
       "\n",
       "    .dataframe tbody tr th {\n",
       "        vertical-align: top;\n",
       "    }\n",
       "\n",
       "    .dataframe thead th {\n",
       "        text-align: right;\n",
       "    }\n",
       "</style>\n",
       "<table border=\"1\" class=\"dataframe\">\n",
       "  <thead>\n",
       "    <tr style=\"text-align: right;\">\n",
       "      <th></th>\n",
       "      <th>Code</th>\n",
       "      <th>Title</th>\n",
       "    </tr>\n",
       "  </thead>\n",
       "  <tbody>\n",
       "    <tr>\n",
       "      <th>0</th>\n",
       "      <td>0000</td>\n",
       "      <td>Not Applicable (For use with revenues and bala...</td>\n",
       "    </tr>\n",
       "    <tr>\n",
       "      <th>1</th>\n",
       "      <td>1000</td>\n",
       "      <td>Instruction                                   ...</td>\n",
       "    </tr>\n",
       "    <tr>\n",
       "      <th>2</th>\n",
       "      <td>1110</td>\n",
       "      <td>Special Education: Separate Classes           ...</td>\n",
       "    </tr>\n",
       "    <tr>\n",
       "      <th>3</th>\n",
       "      <td>1120</td>\n",
       "      <td>Special Education: Resource Specialist Instruc...</td>\n",
       "    </tr>\n",
       "    <tr>\n",
       "      <th>4</th>\n",
       "      <td>1130</td>\n",
       "      <td>Special Education: Supplemental Aids &amp; Service...</td>\n",
       "    </tr>\n",
       "    <tr>\n",
       "      <th>...</th>\n",
       "      <td>...</td>\n",
       "      <td>...</td>\n",
       "    </tr>\n",
       "    <tr>\n",
       "      <th>71</th>\n",
       "      <td>8500</td>\n",
       "      <td>Facilities Acquisition and Construction       ...</td>\n",
       "    </tr>\n",
       "    <tr>\n",
       "      <th>72</th>\n",
       "      <td>8700</td>\n",
       "      <td>Facilities Rents and Leases                   ...</td>\n",
       "    </tr>\n",
       "    <tr>\n",
       "      <th>73</th>\n",
       "      <td>9100</td>\n",
       "      <td>Debt Service                                  ...</td>\n",
       "    </tr>\n",
       "    <tr>\n",
       "      <th>74</th>\n",
       "      <td>9200</td>\n",
       "      <td>Transfers Between Agencies                    ...</td>\n",
       "    </tr>\n",
       "    <tr>\n",
       "      <th>75</th>\n",
       "      <td>9300</td>\n",
       "      <td>Interfund Transfers                           ...</td>\n",
       "    </tr>\n",
       "  </tbody>\n",
       "</table>\n",
       "<p>76 rows × 2 columns</p>\n",
       "</div>"
      ],
      "text/plain": [
       "    Code                                              Title\n",
       "0   0000  Not Applicable (For use with revenues and bala...\n",
       "1   1000  Instruction                                   ...\n",
       "2   1110  Special Education: Separate Classes           ...\n",
       "3   1120  Special Education: Resource Specialist Instruc...\n",
       "4   1130  Special Education: Supplemental Aids & Service...\n",
       "..   ...                                                ...\n",
       "71  8500  Facilities Acquisition and Construction       ...\n",
       "72  8700  Facilities Rents and Leases                   ...\n",
       "73  9100  Debt Service                                  ...\n",
       "74  9200  Transfers Between Agencies                    ...\n",
       "75  9300  Interfund Transfers                           ...\n",
       "\n",
       "[76 rows x 2 columns]"
      ]
     },
     "execution_count": 14,
     "metadata": {},
     "output_type": "execute_result"
    }
   ],
   "source": [
    "#Drop Null\n",
    "object_df=object_df.dropna()\n",
    "object_df"
<<<<<<< HEAD
=======
=======
   "execution_count": null,
   "metadata": {},
=======
   "execution_count": 12,
   "metadata": {},
>>>>>>> 66edc7c026dc60249828aa6869a0944f4137744a
   "outputs": [],
   "source": [
    "#Drop na and count to verify\n",
    "#object_df.dropna()\n",
    "#object_df.count()"
   ]
  },
  {
   "cell_type": "code",
<<<<<<< HEAD
   "execution_count": null,
=======
   "execution_count": 13,
>>>>>>> 66edc7c026dc60249828aa6869a0944f4137744a
   "metadata": {},
   "outputs": [],
   "source": [
    "#Delete extra columns\n",
    "#object_df=object_df[['Code','Title']]\n",
    "#object_df"
   ]
  },
  {
   "cell_type": "code",
<<<<<<< HEAD
   "execution_count": null,
=======
   "execution_count": 14,
>>>>>>> 66edc7c026dc60249828aa6869a0944f4137744a
   "metadata": {},
   "outputs": [],
   "source": [
    "#Verify datatypes\n",
    "#object_df.dtypes"
<<<<<<< HEAD
>>>>>>> 958d3b6f3a0d2c5e7972472b1df355b5c251e781
=======
>>>>>>> 66edc7c026dc60249828aa6869a0944f4137744a
   ]
  },
  {
   "cell_type": "code",
<<<<<<< HEAD
<<<<<<< HEAD
=======
   "execution_count": null,
=======
   "execution_count": 15,
>>>>>>> 66edc7c026dc60249828aa6869a0944f4137744a
   "metadata": {},
   "outputs": [],
   "source": [
    "#Clarify what is null, if any\n",
    "#object_df1=object_df[object_df.isna().any(axis=1)]\n",
    "#object_df1"
   ]
  },
  {
   "cell_type": "code",
<<<<<<< HEAD
   "execution_count": null,
=======
   "execution_count": 16,
>>>>>>> 66edc7c026dc60249828aa6869a0944f4137744a
   "metadata": {},
   "outputs": [],
   "source": [
    "#Drop Null\n",
    "#object_df=object_df.dropna()\n",
    "#object_df"
<<<<<<< HEAD
>>>>>>> Helen
=======
>>>>>>> 66edc7c026dc60249828aa6869a0944f4137744a
   ]
  },
  {
   "cell_type": "code",
<<<<<<< HEAD
<<<<<<< HEAD
>>>>>>> 958d3b6f3a0d2c5e7972472b1df355b5c251e781
   "execution_count": 15,
   "metadata": {},
   "outputs": [
    {
     "data": {
      "text/html": [
       "<div>\n",
       "<style scoped>\n",
       "    .dataframe tbody tr th:only-of-type {\n",
       "        vertical-align: middle;\n",
       "    }\n",
       "\n",
       "    .dataframe tbody tr th {\n",
       "        vertical-align: top;\n",
       "    }\n",
       "\n",
       "    .dataframe thead th {\n",
       "        text-align: right;\n",
       "    }\n",
       "</style>\n",
       "<table border=\"1\" class=\"dataframe\">\n",
       "  <thead>\n",
       "    <tr style=\"text-align: right;\">\n",
       "      <th></th>\n",
       "      <th>Object_Code</th>\n",
       "      <th>Object</th>\n",
       "    </tr>\n",
       "  </thead>\n",
       "  <tbody>\n",
       "    <tr>\n",
       "      <th>0</th>\n",
       "      <td>0000</td>\n",
       "      <td>Not Applicable (For use with revenues and bala...</td>\n",
       "    </tr>\n",
       "    <tr>\n",
       "      <th>1</th>\n",
       "      <td>1000</td>\n",
       "      <td>Instruction                                   ...</td>\n",
       "    </tr>\n",
       "    <tr>\n",
       "      <th>2</th>\n",
       "      <td>1110</td>\n",
       "      <td>Special Education: Separate Classes           ...</td>\n",
       "    </tr>\n",
       "    <tr>\n",
       "      <th>3</th>\n",
       "      <td>1120</td>\n",
       "      <td>Special Education: Resource Specialist Instruc...</td>\n",
       "    </tr>\n",
       "    <tr>\n",
       "      <th>4</th>\n",
       "      <td>1130</td>\n",
       "      <td>Special Education: Supplemental Aids &amp; Service...</td>\n",
       "    </tr>\n",
       "    <tr>\n",
       "      <th>...</th>\n",
       "      <td>...</td>\n",
       "      <td>...</td>\n",
       "    </tr>\n",
       "    <tr>\n",
       "      <th>71</th>\n",
       "      <td>8500</td>\n",
       "      <td>Facilities Acquisition and Construction       ...</td>\n",
       "    </tr>\n",
       "    <tr>\n",
       "      <th>72</th>\n",
       "      <td>8700</td>\n",
       "      <td>Facilities Rents and Leases                   ...</td>\n",
       "    </tr>\n",
       "    <tr>\n",
       "      <th>73</th>\n",
       "      <td>9100</td>\n",
       "      <td>Debt Service                                  ...</td>\n",
       "    </tr>\n",
       "    <tr>\n",
       "      <th>74</th>\n",
       "      <td>9200</td>\n",
       "      <td>Transfers Between Agencies                    ...</td>\n",
       "    </tr>\n",
       "    <tr>\n",
       "      <th>75</th>\n",
       "      <td>9300</td>\n",
       "      <td>Interfund Transfers                           ...</td>\n",
       "    </tr>\n",
       "  </tbody>\n",
       "</table>\n",
       "<p>76 rows × 2 columns</p>\n",
       "</div>"
      ],
      "text/plain": [
       "   Object_Code                                             Object\n",
       "0         0000  Not Applicable (For use with revenues and bala...\n",
       "1         1000  Instruction                                   ...\n",
       "2         1110  Special Education: Separate Classes           ...\n",
       "3         1120  Special Education: Resource Specialist Instruc...\n",
       "4         1130  Special Education: Supplemental Aids & Service...\n",
       "..         ...                                                ...\n",
       "71        8500  Facilities Acquisition and Construction       ...\n",
       "72        8700  Facilities Rents and Leases                   ...\n",
       "73        9100  Debt Service                                  ...\n",
       "74        9200  Transfers Between Agencies                    ...\n",
       "75        9300  Interfund Transfers                           ...\n",
       "\n",
       "[76 rows x 2 columns]"
      ]
     },
     "execution_count": 15,
     "metadata": {},
     "output_type": "execute_result"
    }
   ],
   "source": [
    "#Rename column\n",
    "object_df=object_df.rename(columns={\"Code\":\"Object_Code\",\"Title\":\"Object\"})\n",
    "object_df"
<<<<<<< HEAD
=======
=======
   "execution_count": null,
=======
   "execution_count": 17,
>>>>>>> 66edc7c026dc60249828aa6869a0944f4137744a
   "metadata": {},
   "outputs": [],
   "source": [
    "#Rename column\n",
    "#object_df=object_df.rename(columns={\"Code\":\"Object_Code\",\"Title\":\"Object\"})\n",
    "#object_df"
<<<<<<< HEAD
>>>>>>> Helen
>>>>>>> 958d3b6f3a0d2c5e7972472b1df355b5c251e781
=======
>>>>>>> 66edc7c026dc60249828aa6869a0944f4137744a
   ]
  },
  {
   "cell_type": "code",
<<<<<<< HEAD
<<<<<<< HEAD
=======
<<<<<<< HEAD
>>>>>>> 958d3b6f3a0d2c5e7972472b1df355b5c251e781
   "execution_count": 32,
   "metadata": {},
   "outputs": [],
   "source": [
    "object_df.to_csv('../object.csv')"
<<<<<<< HEAD
=======
=======
   "execution_count": null,
=======
   "execution_count": 18,
>>>>>>> 66edc7c026dc60249828aa6869a0944f4137744a
   "metadata": {},
   "outputs": [],
   "source": [
    "#Merge object table with budget table\n",
    "#clean_data=pd.merge(clean_data, object_df, on =['Object_Code'])\n",
    "#clean_data"
<<<<<<< HEAD
>>>>>>> Helen
>>>>>>> 958d3b6f3a0d2c5e7972472b1df355b5c251e781
=======
>>>>>>> 66edc7c026dc60249828aa6869a0944f4137744a
   ]
  },
  {
   "cell_type": "code",
<<<<<<< HEAD
<<<<<<< HEAD
=======
<<<<<<< HEAD
>>>>>>> 958d3b6f3a0d2c5e7972472b1df355b5c251e781
   "execution_count": 16,
   "metadata": {},
   "outputs": [
    {
     "data": {
      "text/html": [
       "<div>\n",
       "<style scoped>\n",
       "    .dataframe tbody tr th:only-of-type {\n",
       "        vertical-align: middle;\n",
       "    }\n",
       "\n",
       "    .dataframe tbody tr th {\n",
       "        vertical-align: top;\n",
       "    }\n",
       "\n",
       "    .dataframe thead th {\n",
       "        text-align: right;\n",
       "    }\n",
       "</style>\n",
       "<table border=\"1\" class=\"dataframe\">\n",
       "  <thead>\n",
       "    <tr style=\"text-align: right;\">\n",
       "      <th></th>\n",
       "      <th>CDS_CODE</th>\n",
       "      <th>Object_Code</th>\n",
       "      <th>Function_Code</th>\n",
       "      <th>Amount</th>\n",
       "      <th>Object</th>\n",
       "    </tr>\n",
       "  </thead>\n",
       "  <tbody>\n",
       "    <tr>\n",
       "      <th>0</th>\n",
       "      <td>1100170000000</td>\n",
       "      <td>9200</td>\n",
       "      <td>0</td>\n",
       "      <td>750852.09</td>\n",
       "      <td>Transfers Between Agencies                    ...</td>\n",
       "    </tr>\n",
       "    <tr>\n",
       "      <th>1</th>\n",
       "      <td>1100170000000</td>\n",
       "      <td>9200</td>\n",
       "      <td>7490</td>\n",
       "      <td>115.00</td>\n",
       "      <td>Transfers Between Agencies                    ...</td>\n",
       "    </tr>\n",
       "    <tr>\n",
       "      <th>2</th>\n",
       "      <td>1100170000000</td>\n",
       "      <td>9200</td>\n",
       "      <td>2130</td>\n",
       "      <td>3540.99</td>\n",
       "      <td>Transfers Between Agencies                    ...</td>\n",
       "    </tr>\n",
       "    <tr>\n",
       "      <th>3</th>\n",
       "      <td>1100170000000</td>\n",
       "      <td>9200</td>\n",
       "      <td>2140</td>\n",
       "      <td>436.65</td>\n",
       "      <td>Transfers Between Agencies                    ...</td>\n",
       "    </tr>\n",
       "    <tr>\n",
       "      <th>4</th>\n",
       "      <td>1100170000000</td>\n",
       "      <td>9200</td>\n",
       "      <td>7490</td>\n",
       "      <td>5097.96</td>\n",
       "      <td>Transfers Between Agencies                    ...</td>\n",
       "    </tr>\n",
       "    <tr>\n",
       "      <th>...</th>\n",
       "      <td>...</td>\n",
       "      <td>...</td>\n",
       "      <td>...</td>\n",
       "      <td>...</td>\n",
       "      <td>...</td>\n",
       "    </tr>\n",
       "    <tr>\n",
       "      <th>94817</th>\n",
       "      <td>41690700000000</td>\n",
       "      <td>7110</td>\n",
       "      <td>9200</td>\n",
       "      <td>614362.70</td>\n",
       "      <td>Board                                         ...</td>\n",
       "    </tr>\n",
       "    <tr>\n",
       "      <th>94818</th>\n",
       "      <td>42767860000000</td>\n",
       "      <td>7110</td>\n",
       "      <td>9200</td>\n",
       "      <td>25569.34</td>\n",
       "      <td>Board                                         ...</td>\n",
       "    </tr>\n",
       "    <tr>\n",
       "      <th>94819</th>\n",
       "      <td>43694350000000</td>\n",
       "      <td>7110</td>\n",
       "      <td>9200</td>\n",
       "      <td>94817.00</td>\n",
       "      <td>Board                                         ...</td>\n",
       "    </tr>\n",
       "    <tr>\n",
       "      <th>94820</th>\n",
       "      <td>43696660000000</td>\n",
       "      <td>7110</td>\n",
       "      <td>9200</td>\n",
       "      <td>3659.50</td>\n",
       "      <td>Board                                         ...</td>\n",
       "    </tr>\n",
       "    <tr>\n",
       "      <th>94821</th>\n",
       "      <td>46104620000000</td>\n",
       "      <td>7110</td>\n",
       "      <td>9200</td>\n",
       "      <td>137325.10</td>\n",
       "      <td>Board                                         ...</td>\n",
       "    </tr>\n",
       "  </tbody>\n",
       "</table>\n",
       "<p>94822 rows × 5 columns</p>\n",
       "</div>"
      ],
      "text/plain": [
       "             CDS_CODE Object_Code  Function_Code     Amount  \\\n",
       "0       1100170000000        9200              0  750852.09   \n",
       "1       1100170000000        9200           7490     115.00   \n",
       "2       1100170000000        9200           2130    3540.99   \n",
       "3       1100170000000        9200           2140     436.65   \n",
       "4       1100170000000        9200           7490    5097.96   \n",
       "...               ...         ...            ...        ...   \n",
       "94817  41690700000000        7110           9200  614362.70   \n",
       "94818  42767860000000        7110           9200   25569.34   \n",
       "94819  43694350000000        7110           9200   94817.00   \n",
       "94820  43696660000000        7110           9200    3659.50   \n",
       "94821  46104620000000        7110           9200  137325.10   \n",
       "\n",
       "                                                  Object  \n",
       "0      Transfers Between Agencies                    ...  \n",
       "1      Transfers Between Agencies                    ...  \n",
       "2      Transfers Between Agencies                    ...  \n",
       "3      Transfers Between Agencies                    ...  \n",
       "4      Transfers Between Agencies                    ...  \n",
       "...                                                  ...  \n",
       "94817  Board                                         ...  \n",
       "94818  Board                                         ...  \n",
       "94819  Board                                         ...  \n",
       "94820  Board                                         ...  \n",
       "94821  Board                                         ...  \n",
       "\n",
       "[94822 rows x 5 columns]"
      ]
     },
     "execution_count": 16,
     "metadata": {},
     "output_type": "execute_result"
    }
   ],
   "source": [
    "#Merge object table with budget table\n",
    "clean_1213df=pd.merge(clean_1213df, object_df, on =['Object_Code'])\n",
    "clean_1213df"
<<<<<<< HEAD
=======
=======
   "execution_count": null,
   "metadata": {},
   "outputs": [],
   "source": [
    "#Drop unnecessary columns\n",
    "#clean_data=clean_data[['CDS_CODE','Object','Function_Code','Amount']]\n",
    "#clean_data"
   ]
  },
  {
   "cell_type": "markdown",
   "metadata": {},
   "source": [
    "## Cleaning Function.CSV"
>>>>>>> Helen
>>>>>>> 958d3b6f3a0d2c5e7972472b1df355b5c251e781
   ]
  },
  {
   "cell_type": "code",
<<<<<<< HEAD
   "execution_count": 18,
=======
<<<<<<< HEAD
   "execution_count": 18,
=======
   "execution_count": 11,
>>>>>>> Helen
>>>>>>> 958d3b6f3a0d2c5e7972472b1df355b5c251e781
   "metadata": {},
   "outputs": [
    {
     "data": {
      "text/html": [
       "<div>\n",
       "<style scoped>\n",
       "    .dataframe tbody tr th:only-of-type {\n",
       "        vertical-align: middle;\n",
       "    }\n",
       "\n",
       "    .dataframe tbody tr th {\n",
       "        vertical-align: top;\n",
       "    }\n",
       "\n",
       "    .dataframe thead th {\n",
       "        text-align: right;\n",
       "    }\n",
       "</style>\n",
       "<table border=\"1\" class=\"dataframe\">\n",
       "  <thead>\n",
       "    <tr style=\"text-align: right;\">\n",
       "      <th></th>\n",
<<<<<<< HEAD
=======
<<<<<<< HEAD
>>>>>>> 958d3b6f3a0d2c5e7972472b1df355b5c251e781
       "      <th>CDS_CODE</th>\n",
       "      <th>Object</th>\n",
       "      <th>Function_Code</th>\n",
       "      <th>Amount</th>\n",
<<<<<<< HEAD
=======
=======
       "      <th>Function_Code</th>\n",
       "      <th>Function</th>\n",
>>>>>>> Helen
>>>>>>> 958d3b6f3a0d2c5e7972472b1df355b5c251e781
       "    </tr>\n",
       "  </thead>\n",
       "  <tbody>\n",
       "    <tr>\n",
       "      <th>0</th>\n",
<<<<<<< HEAD
=======
<<<<<<< HEAD
>>>>>>> 958d3b6f3a0d2c5e7972472b1df355b5c251e781
       "      <td>1100170000000</td>\n",
       "      <td>Transfers Between Agencies                    ...</td>\n",
       "      <td>0</td>\n",
       "      <td>750852.09</td>\n",
       "    </tr>\n",
       "    <tr>\n",
       "      <th>1</th>\n",
       "      <td>1100170000000</td>\n",
       "      <td>Transfers Between Agencies                    ...</td>\n",
       "      <td>7490</td>\n",
       "      <td>115.00</td>\n",
       "    </tr>\n",
       "    <tr>\n",
       "      <th>2</th>\n",
       "      <td>1100170000000</td>\n",
       "      <td>Transfers Between Agencies                    ...</td>\n",
       "      <td>2130</td>\n",
       "      <td>3540.99</td>\n",
       "    </tr>\n",
       "    <tr>\n",
       "      <th>3</th>\n",
       "      <td>1100170000000</td>\n",
       "      <td>Transfers Between Agencies                    ...</td>\n",
       "      <td>2140</td>\n",
       "      <td>436.65</td>\n",
       "    </tr>\n",
       "    <tr>\n",
       "      <th>4</th>\n",
       "      <td>1100170000000</td>\n",
       "      <td>Transfers Between Agencies                    ...</td>\n",
       "      <td>7490</td>\n",
       "      <td>5097.96</td>\n",
<<<<<<< HEAD
=======
=======
       "      <td>1100</td>\n",
       "      <td>Certificated Teachers' Salaries               ...</td>\n",
       "    </tr>\n",
       "    <tr>\n",
       "      <th>1</th>\n",
       "      <td>1200</td>\n",
       "      <td>Certificated Pupil Support Salaries           ...</td>\n",
       "    </tr>\n",
       "    <tr>\n",
       "      <th>2</th>\n",
       "      <td>1300</td>\n",
       "      <td>Certificated Supervisors' and Administrators' ...</td>\n",
       "    </tr>\n",
       "    <tr>\n",
       "      <th>3</th>\n",
       "      <td>1900</td>\n",
       "      <td>Other Certificated Salaries                   ...</td>\n",
       "    </tr>\n",
       "    <tr>\n",
       "      <th>4</th>\n",
       "      <td>2100</td>\n",
       "      <td>Classified Instructional Salaries             ...</td>\n",
>>>>>>> Helen
>>>>>>> 958d3b6f3a0d2c5e7972472b1df355b5c251e781
       "    </tr>\n",
       "    <tr>\n",
       "      <th>...</th>\n",
       "      <td>...</td>\n",
       "      <td>...</td>\n",
<<<<<<< HEAD
=======
<<<<<<< HEAD
>>>>>>> 958d3b6f3a0d2c5e7972472b1df355b5c251e781
       "      <td>...</td>\n",
       "      <td>...</td>\n",
       "    </tr>\n",
       "    <tr>\n",
       "      <th>94817</th>\n",
       "      <td>41690700000000</td>\n",
       "      <td>Board                                         ...</td>\n",
       "      <td>9200</td>\n",
       "      <td>614362.70</td>\n",
       "    </tr>\n",
       "    <tr>\n",
       "      <th>94818</th>\n",
       "      <td>42767860000000</td>\n",
       "      <td>Board                                         ...</td>\n",
       "      <td>9200</td>\n",
       "      <td>25569.34</td>\n",
       "    </tr>\n",
       "    <tr>\n",
       "      <th>94819</th>\n",
       "      <td>43694350000000</td>\n",
       "      <td>Board                                         ...</td>\n",
       "      <td>9200</td>\n",
       "      <td>94817.00</td>\n",
       "    </tr>\n",
       "    <tr>\n",
       "      <th>94820</th>\n",
       "      <td>43696660000000</td>\n",
       "      <td>Board                                         ...</td>\n",
       "      <td>9200</td>\n",
       "      <td>3659.50</td>\n",
       "    </tr>\n",
       "    <tr>\n",
       "      <th>94821</th>\n",
       "      <td>46104620000000</td>\n",
       "      <td>Board                                         ...</td>\n",
       "      <td>9200</td>\n",
       "      <td>137325.10</td>\n",
       "    </tr>\n",
       "  </tbody>\n",
       "</table>\n",
       "<p>94822 rows × 4 columns</p>\n",
       "</div>"
      ],
      "text/plain": [
       "             CDS_CODE                                             Object  \\\n",
       "0       1100170000000  Transfers Between Agencies                    ...   \n",
       "1       1100170000000  Transfers Between Agencies                    ...   \n",
       "2       1100170000000  Transfers Between Agencies                    ...   \n",
       "3       1100170000000  Transfers Between Agencies                    ...   \n",
       "4       1100170000000  Transfers Between Agencies                    ...   \n",
       "...               ...                                                ...   \n",
       "94817  41690700000000  Board                                         ...   \n",
       "94818  42767860000000  Board                                         ...   \n",
       "94819  43694350000000  Board                                         ...   \n",
       "94820  43696660000000  Board                                         ...   \n",
       "94821  46104620000000  Board                                         ...   \n",
       "\n",
       "       Function_Code     Amount  \n",
       "0                  0  750852.09  \n",
       "1               7490     115.00  \n",
       "2               2130    3540.99  \n",
       "3               2140     436.65  \n",
       "4               7490    5097.96  \n",
       "...              ...        ...  \n",
       "94817           9200  614362.70  \n",
       "94818           9200   25569.34  \n",
       "94819           9200   94817.00  \n",
       "94820           9200    3659.50  \n",
       "94821           9200  137325.10  \n",
       "\n",
       "[94822 rows x 4 columns]"
      ]
     },
     "execution_count": 18,
<<<<<<< HEAD
=======
=======
       "    </tr>\n",
       "    <tr>\n",
       "      <th>233</th>\n",
       "      <td>9793</td>\n",
       "      <td>Audit Adjustments                             ...</td>\n",
       "    </tr>\n",
       "    <tr>\n",
       "      <th>234</th>\n",
       "      <td>9795</td>\n",
       "      <td>Other Restatements                            ...</td>\n",
       "    </tr>\n",
       "    <tr>\n",
       "      <th>235</th>\n",
       "      <td>9796</td>\n",
       "      <td>Net Investment in Capital Assets              ...</td>\n",
       "    </tr>\n",
       "    <tr>\n",
       "      <th>236</th>\n",
       "      <td>9797</td>\n",
       "      <td>Restricted Net Position                       ...</td>\n",
       "    </tr>\n",
       "    <tr>\n",
       "      <th>237</th>\n",
       "      <td>979Z</td>\n",
       "      <td>EFB (Calculated)                              ...</td>\n",
       "    </tr>\n",
       "  </tbody>\n",
       "</table>\n",
       "<p>238 rows × 2 columns</p>\n",
       "</div>"
      ],
      "text/plain": [
       "    Function_Code                                           Function\n",
       "0            1100  Certificated Teachers' Salaries               ...\n",
       "1            1200  Certificated Pupil Support Salaries           ...\n",
       "2            1300  Certificated Supervisors' and Administrators' ...\n",
       "3            1900  Other Certificated Salaries                   ...\n",
       "4            2100  Classified Instructional Salaries             ...\n",
       "..            ...                                                ...\n",
       "233          9793  Audit Adjustments                             ...\n",
       "234          9795  Other Restatements                            ...\n",
       "235          9796  Net Investment in Capital Assets              ...\n",
       "236          9797  Restricted Net Position                       ...\n",
       "237          979Z  EFB (Calculated)                              ...\n",
       "\n",
       "[238 rows x 2 columns]"
      ]
     },
     "execution_count": 11,
>>>>>>> Helen
>>>>>>> 958d3b6f3a0d2c5e7972472b1df355b5c251e781
     "metadata": {},
     "output_type": "execute_result"
    }
   ],
   "source": [
<<<<<<< HEAD
=======
<<<<<<< HEAD
>>>>>>> 958d3b6f3a0d2c5e7972472b1df355b5c251e781
=======
   "execution_count": 19,
   "metadata": {},
   "outputs": [],
   "source": [
>>>>>>> 66edc7c026dc60249828aa6869a0944f4137744a
    "#Drop unnecessary columns\n",
    "#clean_data=clean_data[['CDS_CODE','Object','Function_Code','Amount']]\n",
    "#clean_data"
   ]
  },
  {
   "cell_type": "markdown",
   "metadata": {},
   "source": [
    "## Cleaning Function.CSV"
<<<<<<< HEAD
<<<<<<< HEAD
=======
=======
    "#load object budget categories\n",
    "function_df=pd.read_csv(\"../Objects (Budget Categories).csv\",\n",
    "                     names=['Function_Code','Function'])\n",
    "#object_df\n",
    "#load function csv\n",
    "#function_df=pd.read_csv(\"../Function (Budget Categories).csv\")\n",
    "function_df"
>>>>>>> Helen
>>>>>>> 958d3b6f3a0d2c5e7972472b1df355b5c251e781
=======
>>>>>>> 66edc7c026dc60249828aa6869a0944f4137744a
   ]
  },
  {
   "cell_type": "code",
<<<<<<< HEAD
<<<<<<< HEAD
   "execution_count": 19,
=======
<<<<<<< HEAD
   "execution_count": 19,
=======
   "execution_count": 12,
>>>>>>> Helen
>>>>>>> 958d3b6f3a0d2c5e7972472b1df355b5c251e781
=======
   "execution_count": 20,
>>>>>>> 66edc7c026dc60249828aa6869a0944f4137744a
   "metadata": {},
   "outputs": [
    {
     "data": {
      "text/html": [
       "<div>\n",
       "<style scoped>\n",
       "    .dataframe tbody tr th:only-of-type {\n",
       "        vertical-align: middle;\n",
       "    }\n",
       "\n",
       "    .dataframe tbody tr th {\n",
       "        vertical-align: top;\n",
       "    }\n",
       "\n",
       "    .dataframe thead th {\n",
       "        text-align: right;\n",
       "    }\n",
       "</style>\n",
       "<table border=\"1\" class=\"dataframe\">\n",
       "  <thead>\n",
       "    <tr style=\"text-align: right;\">\n",
       "      <th></th>\n",
<<<<<<< HEAD
<<<<<<< HEAD
=======
<<<<<<< HEAD
>>>>>>> 958d3b6f3a0d2c5e7972472b1df355b5c251e781
       "      <th>Code</th>\n",
       "      <th>Title</th>\n",
       "      <th>Unnamed: 2</th>\n",
       "      <th>Unnamed: 3</th>\n",
<<<<<<< HEAD
=======
=======
       "      <th>Function_Code</th>\n",
       "      <th>Function</th>\n",
>>>>>>> Helen
>>>>>>> 958d3b6f3a0d2c5e7972472b1df355b5c251e781
=======
       "      <th>Function_Code</th>\n",
       "      <th>Function</th>\n",
>>>>>>> 66edc7c026dc60249828aa6869a0944f4137744a
       "    </tr>\n",
       "  </thead>\n",
       "  <tbody>\n",
       "    <tr>\n",
       "      <th>0</th>\n",
<<<<<<< HEAD
<<<<<<< HEAD
=======
<<<<<<< HEAD
>>>>>>> 958d3b6f3a0d2c5e7972472b1df355b5c251e781
       "      <td>0000</td>\n",
       "      <td>Not Applicable (For use with revenues and bala...</td>\n",
       "      <td>NaN</td>\n",
       "      <td>NaN</td>\n",
       "    </tr>\n",
       "    <tr>\n",
       "      <th>1</th>\n",
       "      <td>1000</td>\n",
       "      <td>Instruction                                   ...</td>\n",
       "      <td>NaN</td>\n",
       "      <td>NaN</td>\n",
       "    </tr>\n",
       "    <tr>\n",
       "      <th>2</th>\n",
       "      <td>1110</td>\n",
       "      <td>Special Education: Separate Classes           ...</td>\n",
       "      <td>NaN</td>\n",
       "      <td>NaN</td>\n",
       "    </tr>\n",
       "    <tr>\n",
       "      <th>3</th>\n",
       "      <td>1120</td>\n",
       "      <td>Special Education: Resource Specialist Instruc...</td>\n",
       "      <td>NaN</td>\n",
       "      <td>NaN</td>\n",
       "    </tr>\n",
       "    <tr>\n",
       "      <th>4</th>\n",
       "      <td>1130</td>\n",
       "      <td>Special Education: Supplemental Aids &amp; Service...</td>\n",
       "      <td>NaN</td>\n",
       "      <td>NaN</td>\n",
<<<<<<< HEAD
=======
=======
=======
>>>>>>> 66edc7c026dc60249828aa6869a0944f4137744a
       "      <td>1100</td>\n",
       "      <td>Certificated Teachers' Salaries               ...</td>\n",
       "    </tr>\n",
       "    <tr>\n",
       "      <th>1</th>\n",
       "      <td>1200</td>\n",
       "      <td>Certificated Pupil Support Salaries           ...</td>\n",
       "    </tr>\n",
       "    <tr>\n",
       "      <th>2</th>\n",
       "      <td>1300</td>\n",
       "      <td>Certificated Supervisors' and Administrators' ...</td>\n",
       "    </tr>\n",
       "    <tr>\n",
       "      <th>3</th>\n",
       "      <td>1900</td>\n",
       "      <td>Other Certificated Salaries                   ...</td>\n",
       "    </tr>\n",
       "    <tr>\n",
       "      <th>4</th>\n",
       "      <td>2100</td>\n",
       "      <td>Classified Instructional Salaries             ...</td>\n",
<<<<<<< HEAD
>>>>>>> Helen
>>>>>>> 958d3b6f3a0d2c5e7972472b1df355b5c251e781
=======
>>>>>>> 66edc7c026dc60249828aa6869a0944f4137744a
       "    </tr>\n",
       "    <tr>\n",
       "      <th>...</th>\n",
       "      <td>...</td>\n",
       "      <td>...</td>\n",
<<<<<<< HEAD
<<<<<<< HEAD
=======
<<<<<<< HEAD
>>>>>>> 958d3b6f3a0d2c5e7972472b1df355b5c251e781
       "      <td>...</td>\n",
       "      <td>...</td>\n",
       "    </tr>\n",
       "    <tr>\n",
       "      <th>80</th>\n",
       "      <td>Instruction</td>\n",
       "      <td>NaN</td>\n",
       "      <td>NaN</td>\n",
       "      <td>NaN</td>\n",
       "    </tr>\n",
       "    <tr>\n",
       "      <th>81</th>\n",
       "      <td>Student Services</td>\n",
       "      <td>NaN</td>\n",
       "      <td>NaN</td>\n",
       "      <td>NaN</td>\n",
       "    </tr>\n",
       "    <tr>\n",
       "      <th>82</th>\n",
       "      <td>Extra-Curricular/Community</td>\n",
       "      <td>NaN</td>\n",
       "      <td>NaN</td>\n",
       "      <td>NaN</td>\n",
       "    </tr>\n",
       "    <tr>\n",
       "      <th>83</th>\n",
       "      <td>Administration</td>\n",
       "      <td>NaN</td>\n",
       "      <td>NaN</td>\n",
       "      <td>NaN</td>\n",
       "    </tr>\n",
       "    <tr>\n",
       "      <th>84</th>\n",
       "      <td>Operations</td>\n",
       "      <td>NaN</td>\n",
       "      <td>NaN</td>\n",
       "      <td>NaN</td>\n",
       "    </tr>\n",
       "  </tbody>\n",
       "</table>\n",
       "<p>85 rows × 4 columns</p>\n",
       "</div>"
      ],
      "text/plain": [
       "                          Code  \\\n",
       "0                         0000   \n",
       "1                         1000   \n",
       "2                         1110   \n",
       "3                         1120   \n",
       "4                         1130   \n",
       "..                         ...   \n",
       "80                 Instruction   \n",
       "81            Student Services   \n",
       "82  Extra-Curricular/Community   \n",
       "83              Administration   \n",
       "84                  Operations   \n",
       "\n",
       "                                                Title  Unnamed: 2  Unnamed: 3  \n",
       "0   Not Applicable (For use with revenues and bala...         NaN         NaN  \n",
       "1   Instruction                                   ...         NaN         NaN  \n",
       "2   Special Education: Separate Classes           ...         NaN         NaN  \n",
       "3   Special Education: Resource Specialist Instruc...         NaN         NaN  \n",
       "4   Special Education: Supplemental Aids & Service...         NaN         NaN  \n",
       "..                                                ...         ...         ...  \n",
       "80                                                NaN         NaN         NaN  \n",
       "81                                                NaN         NaN         NaN  \n",
       "82                                                NaN         NaN         NaN  \n",
       "83                                                NaN         NaN         NaN  \n",
       "84                                                NaN         NaN         NaN  \n",
       "\n",
       "[85 rows x 4 columns]"
      ]
     },
     "execution_count": 19,
<<<<<<< HEAD
=======
=======
=======
>>>>>>> 66edc7c026dc60249828aa6869a0944f4137744a
       "    </tr>\n",
       "    <tr>\n",
       "      <th>233</th>\n",
       "      <td>9793</td>\n",
       "      <td>Audit Adjustments                             ...</td>\n",
       "    </tr>\n",
       "    <tr>\n",
       "      <th>234</th>\n",
       "      <td>9795</td>\n",
       "      <td>Other Restatements                            ...</td>\n",
       "    </tr>\n",
       "    <tr>\n",
       "      <th>235</th>\n",
       "      <td>9796</td>\n",
       "      <td>Net Investment in Capital Assets              ...</td>\n",
       "    </tr>\n",
       "    <tr>\n",
       "      <th>236</th>\n",
       "      <td>9797</td>\n",
       "      <td>Restricted Net Position                       ...</td>\n",
       "    </tr>\n",
       "    <tr>\n",
       "      <th>237</th>\n",
       "      <td>979Z</td>\n",
       "      <td>EFB (Calculated)                              ...</td>\n",
       "    </tr>\n",
       "  </tbody>\n",
       "</table>\n",
       "<p>238 rows × 2 columns</p>\n",
       "</div>"
      ],
      "text/plain": [
       "    Function_Code                                           Function\n",
       "0            1100  Certificated Teachers' Salaries               ...\n",
       "1            1200  Certificated Pupil Support Salaries           ...\n",
       "2            1300  Certificated Supervisors' and Administrators' ...\n",
       "3            1900  Other Certificated Salaries                   ...\n",
       "4            2100  Classified Instructional Salaries             ...\n",
       "..            ...                                                ...\n",
       "233          9793  Audit Adjustments                             ...\n",
       "234          9795  Other Restatements                            ...\n",
       "235          9796  Net Investment in Capital Assets              ...\n",
       "236          9797  Restricted Net Position                       ...\n",
       "237          979Z  EFB (Calculated)                              ...\n",
       "\n",
       "[238 rows x 2 columns]"
      ]
     },
<<<<<<< HEAD
     "execution_count": 12,
>>>>>>> Helen
>>>>>>> 958d3b6f3a0d2c5e7972472b1df355b5c251e781
=======
     "execution_count": 20,
>>>>>>> 66edc7c026dc60249828aa6869a0944f4137744a
     "metadata": {},
     "output_type": "execute_result"
    }
   ],
   "source": [
    "#load object budget categories\n",
    "function_df=pd.read_csv(\"../Objects (Budget Categories).csv\",\n",
    "                     names=['Function_Code','Function'])\n",
    "#object_df\n",
    "#load function csv\n",
<<<<<<< HEAD
    "function_df=pd.read_csv(\"../Function (Budget Categories).csv\")\n",
=======
<<<<<<< HEAD
    "#load function csv\n",
    "function_df=pd.read_csv(\"../Function (Budget Categories).csv\")\n",
=======
    "#keep necessary columns\n",
    "function_df=function_df[['Function_Code','Function']]\n",
>>>>>>> Helen
>>>>>>> 958d3b6f3a0d2c5e7972472b1df355b5c251e781
=======
    "#function_df=pd.read_csv(\"../Function (Budget Categories).csv\")\n",
>>>>>>> 66edc7c026dc60249828aa6869a0944f4137744a
    "function_df"
   ]
  },
  {
   "cell_type": "code",
<<<<<<< HEAD
<<<<<<< HEAD
   "execution_count": 20,
=======
<<<<<<< HEAD
   "execution_count": 20,
=======
   "execution_count": 13,
>>>>>>> Helen
>>>>>>> 958d3b6f3a0d2c5e7972472b1df355b5c251e781
=======
   "execution_count": 21,
>>>>>>> 66edc7c026dc60249828aa6869a0944f4137744a
   "metadata": {},
   "outputs": [
    {
     "data": {
      "text/html": [
       "<div>\n",
       "<style scoped>\n",
       "    .dataframe tbody tr th:only-of-type {\n",
       "        vertical-align: middle;\n",
       "    }\n",
       "\n",
       "    .dataframe tbody tr th {\n",
       "        vertical-align: top;\n",
       "    }\n",
       "\n",
       "    .dataframe thead th {\n",
       "        text-align: right;\n",
       "    }\n",
       "</style>\n",
       "<table border=\"1\" class=\"dataframe\">\n",
       "  <thead>\n",
       "    <tr style=\"text-align: right;\">\n",
       "      <th></th>\n",
<<<<<<< HEAD
<<<<<<< HEAD
       "      <th>Code</th>\n",
       "      <th>Title</th>\n",
=======
<<<<<<< HEAD
       "      <th>Code</th>\n",
       "      <th>Title</th>\n",
=======
       "      <th>Function_Code</th>\n",
       "      <th>Function</th>\n",
>>>>>>> Helen
>>>>>>> 958d3b6f3a0d2c5e7972472b1df355b5c251e781
=======
       "      <th>Function_Code</th>\n",
       "      <th>Function</th>\n",
>>>>>>> 66edc7c026dc60249828aa6869a0944f4137744a
       "    </tr>\n",
       "  </thead>\n",
       "  <tbody>\n",
       "    <tr>\n",
       "      <th>0</th>\n",
<<<<<<< HEAD
<<<<<<< HEAD
=======
<<<<<<< HEAD
>>>>>>> 958d3b6f3a0d2c5e7972472b1df355b5c251e781
       "      <td>0000</td>\n",
       "      <td>Not Applicable (For use with revenues and bala...</td>\n",
       "    </tr>\n",
       "    <tr>\n",
       "      <th>1</th>\n",
       "      <td>1000</td>\n",
       "      <td>Instruction                                   ...</td>\n",
       "    </tr>\n",
       "    <tr>\n",
       "      <th>2</th>\n",
       "      <td>1110</td>\n",
       "      <td>Special Education: Separate Classes           ...</td>\n",
       "    </tr>\n",
       "    <tr>\n",
       "      <th>3</th>\n",
       "      <td>1120</td>\n",
       "      <td>Special Education: Resource Specialist Instruc...</td>\n",
       "    </tr>\n",
       "    <tr>\n",
       "      <th>4</th>\n",
       "      <td>1130</td>\n",
       "      <td>Special Education: Supplemental Aids &amp; Service...</td>\n",
<<<<<<< HEAD
=======
=======
=======
>>>>>>> 66edc7c026dc60249828aa6869a0944f4137744a
       "      <td>1100</td>\n",
       "      <td>Certificated Teachers' Salaries               ...</td>\n",
       "    </tr>\n",
       "    <tr>\n",
       "      <th>1</th>\n",
       "      <td>1200</td>\n",
       "      <td>Certificated Pupil Support Salaries           ...</td>\n",
       "    </tr>\n",
       "    <tr>\n",
       "      <th>2</th>\n",
       "      <td>1300</td>\n",
       "      <td>Certificated Supervisors' and Administrators' ...</td>\n",
       "    </tr>\n",
       "    <tr>\n",
       "      <th>3</th>\n",
       "      <td>1900</td>\n",
       "      <td>Other Certificated Salaries                   ...</td>\n",
       "    </tr>\n",
       "    <tr>\n",
       "      <th>4</th>\n",
       "      <td>2100</td>\n",
       "      <td>Classified Instructional Salaries             ...</td>\n",
<<<<<<< HEAD
>>>>>>> Helen
>>>>>>> 958d3b6f3a0d2c5e7972472b1df355b5c251e781
=======
>>>>>>> 66edc7c026dc60249828aa6869a0944f4137744a
       "    </tr>\n",
       "    <tr>\n",
       "      <th>...</th>\n",
       "      <td>...</td>\n",
       "      <td>...</td>\n",
       "    </tr>\n",
       "    <tr>\n",
<<<<<<< HEAD
<<<<<<< HEAD
=======
<<<<<<< HEAD
>>>>>>> 958d3b6f3a0d2c5e7972472b1df355b5c251e781
       "      <th>80</th>\n",
       "      <td>Instruction</td>\n",
       "      <td>NaN</td>\n",
       "    </tr>\n",
       "    <tr>\n",
       "      <th>81</th>\n",
       "      <td>Student Services</td>\n",
       "      <td>NaN</td>\n",
       "    </tr>\n",
       "    <tr>\n",
       "      <th>82</th>\n",
       "      <td>Extra-Curricular/Community</td>\n",
       "      <td>NaN</td>\n",
       "    </tr>\n",
       "    <tr>\n",
       "      <th>83</th>\n",
       "      <td>Administration</td>\n",
       "      <td>NaN</td>\n",
       "    </tr>\n",
       "    <tr>\n",
       "      <th>84</th>\n",
       "      <td>Operations</td>\n",
       "      <td>NaN</td>\n",
       "    </tr>\n",
       "  </tbody>\n",
       "</table>\n",
       "<p>85 rows × 2 columns</p>\n",
       "</div>"
      ],
      "text/plain": [
       "                          Code  \\\n",
       "0                         0000   \n",
       "1                         1000   \n",
       "2                         1110   \n",
       "3                         1120   \n",
       "4                         1130   \n",
       "..                         ...   \n",
       "80                 Instruction   \n",
       "81            Student Services   \n",
       "82  Extra-Curricular/Community   \n",
       "83              Administration   \n",
       "84                  Operations   \n",
       "\n",
       "                                                Title  \n",
       "0   Not Applicable (For use with revenues and bala...  \n",
       "1   Instruction                                   ...  \n",
       "2   Special Education: Separate Classes           ...  \n",
       "3   Special Education: Resource Specialist Instruc...  \n",
       "4   Special Education: Supplemental Aids & Service...  \n",
       "..                                                ...  \n",
       "80                                                NaN  \n",
       "81                                                NaN  \n",
       "82                                                NaN  \n",
       "83                                                NaN  \n",
       "84                                                NaN  \n",
       "\n",
       "[85 rows x 2 columns]"
      ]
     },
     "execution_count": 20,
<<<<<<< HEAD
=======
=======
       "      <th>232</th>\n",
       "      <td>9791</td>\n",
       "      <td>Beginning Fund Balance                        ...</td>\n",
       "    </tr>\n",
       "    <tr>\n",
=======
>>>>>>> 66edc7c026dc60249828aa6869a0944f4137744a
       "      <th>233</th>\n",
       "      <td>9793</td>\n",
       "      <td>Audit Adjustments                             ...</td>\n",
       "    </tr>\n",
       "    <tr>\n",
       "      <th>234</th>\n",
       "      <td>9795</td>\n",
       "      <td>Other Restatements                            ...</td>\n",
       "    </tr>\n",
       "    <tr>\n",
       "      <th>235</th>\n",
       "      <td>9796</td>\n",
       "      <td>Net Investment in Capital Assets              ...</td>\n",
       "    </tr>\n",
       "    <tr>\n",
       "      <th>236</th>\n",
       "      <td>9797</td>\n",
       "      <td>Restricted Net Position                       ...</td>\n",
       "    </tr>\n",
       "    <tr>\n",
       "      <th>237</th>\n",
       "      <td>979Z</td>\n",
       "      <td>EFB (Calculated)                              ...</td>\n",
       "    </tr>\n",
       "  </tbody>\n",
       "</table>\n",
       "<p>238 rows × 2 columns</p>\n",
       "</div>"
      ],
      "text/plain": [
       "    Function_Code                                           Function\n",
       "0            1100  Certificated Teachers' Salaries               ...\n",
       "1            1200  Certificated Pupil Support Salaries           ...\n",
       "2            1300  Certificated Supervisors' and Administrators' ...\n",
       "3            1900  Other Certificated Salaries                   ...\n",
       "4            2100  Classified Instructional Salaries             ...\n",
       "..            ...                                                ...\n",
       "233          9793  Audit Adjustments                             ...\n",
       "234          9795  Other Restatements                            ...\n",
       "235          9796  Net Investment in Capital Assets              ...\n",
       "236          9797  Restricted Net Position                       ...\n",
<<<<<<< HEAD
       "\n",
       "[237 rows x 2 columns]"
      ]
     },
     "execution_count": 13,
>>>>>>> Helen
>>>>>>> 958d3b6f3a0d2c5e7972472b1df355b5c251e781
     "metadata": {},
     "output_type": "execute_result"
    }
   ],
   "source": [
<<<<<<< HEAD
    "#keep necessary columns\n",
    "function_df=function_df[['Code','Title']]\n",
=======
<<<<<<< HEAD
    "#keep necessary columns\n",
    "function_df=function_df[['Code','Title']]\n",
=======
    "function_df=function_df.drop(function_df.index[237])\n",
>>>>>>> Helen
>>>>>>> 958d3b6f3a0d2c5e7972472b1df355b5c251e781
    "function_df"
   ]
  },
  {
   "cell_type": "code",
<<<<<<< HEAD
   "execution_count": 21,
=======
<<<<<<< HEAD
   "execution_count": 21,
=======
   "execution_count": 14,
>>>>>>> Helen
>>>>>>> 958d3b6f3a0d2c5e7972472b1df355b5c251e781
   "metadata": {},
   "outputs": [
    {
     "data": {
      "text/html": [
       "<div>\n",
       "<style scoped>\n",
       "    .dataframe tbody tr th:only-of-type {\n",
       "        vertical-align: middle;\n",
       "    }\n",
       "\n",
       "    .dataframe tbody tr th {\n",
       "        vertical-align: top;\n",
       "    }\n",
       "\n",
       "    .dataframe thead th {\n",
       "        text-align: right;\n",
       "    }\n",
       "</style>\n",
       "<table border=\"1\" class=\"dataframe\">\n",
       "  <thead>\n",
       "    <tr style=\"text-align: right;\">\n",
       "      <th></th>\n",
<<<<<<< HEAD
=======
<<<<<<< HEAD
>>>>>>> 958d3b6f3a0d2c5e7972472b1df355b5c251e781
       "      <th>Code</th>\n",
       "      <th>Title</th>\n",
       "    </tr>\n",
       "  </thead>\n",
       "  <tbody>\n",
       "    <tr>\n",
       "      <th>76</th>\n",
       "      <td>NaN</td>\n",
       "      <td>NaN</td>\n",
       "    </tr>\n",
       "    <tr>\n",
       "      <th>77</th>\n",
       "      <td>NaN</td>\n",
       "      <td>NaN</td>\n",
       "    </tr>\n",
       "    <tr>\n",
       "      <th>78</th>\n",
       "      <td>NaN</td>\n",
       "      <td>NaN</td>\n",
       "    </tr>\n",
       "    <tr>\n",
       "      <th>79</th>\n",
       "      <td>NaN</td>\n",
       "      <td>NaN</td>\n",
       "    </tr>\n",
       "    <tr>\n",
       "      <th>80</th>\n",
       "      <td>Instruction</td>\n",
       "      <td>NaN</td>\n",
       "    </tr>\n",
       "    <tr>\n",
       "      <th>81</th>\n",
       "      <td>Student Services</td>\n",
       "      <td>NaN</td>\n",
       "    </tr>\n",
       "    <tr>\n",
       "      <th>82</th>\n",
       "      <td>Extra-Curricular/Community</td>\n",
       "      <td>NaN</td>\n",
       "    </tr>\n",
       "    <tr>\n",
       "      <th>83</th>\n",
       "      <td>Administration</td>\n",
       "      <td>NaN</td>\n",
       "    </tr>\n",
       "    <tr>\n",
       "      <th>84</th>\n",
       "      <td>Operations</td>\n",
       "      <td>NaN</td>\n",
       "    </tr>\n",
<<<<<<< HEAD
=======
=======
       "      <th>Function_Code</th>\n",
       "      <th>Function</th>\n",
       "    </tr>\n",
       "  </thead>\n",
       "  <tbody>\n",
>>>>>>> Helen
>>>>>>> 958d3b6f3a0d2c5e7972472b1df355b5c251e781
       "  </tbody>\n",
       "</table>\n",
       "</div>"
      ],
      "text/plain": [
<<<<<<< HEAD
=======
<<<<<<< HEAD
>>>>>>> 958d3b6f3a0d2c5e7972472b1df355b5c251e781
       "                          Code Title\n",
       "76                         NaN   NaN\n",
       "77                         NaN   NaN\n",
       "78                         NaN   NaN\n",
       "79                         NaN   NaN\n",
       "80                 Instruction   NaN\n",
       "81            Student Services   NaN\n",
       "82  Extra-Curricular/Community   NaN\n",
       "83              Administration   NaN\n",
       "84                  Operations   NaN"
      ]
     },
     "execution_count": 21,
<<<<<<< HEAD
=======
=======
       "Empty DataFrame\n",
       "Columns: [Function_Code, Function]\n",
       "Index: []"
      ]
     },
     "execution_count": 14,
>>>>>>> Helen
>>>>>>> 958d3b6f3a0d2c5e7972472b1df355b5c251e781
=======
       "237          979Z  EFB (Calculated)                              ...\n",
       "\n",
       "[238 rows x 2 columns]"
      ]
     },
     "execution_count": 21,
>>>>>>> 66edc7c026dc60249828aa6869a0944f4137744a
     "metadata": {},
     "output_type": "execute_result"
    }
   ],
   "source": [
    "#keep necessary columns\n",
    "function_df=function_df[['Function_Code','Function']]\n",
    "function_df"
   ]
  },
  {
   "cell_type": "code",
   "execution_count": 22,
<<<<<<< HEAD
=======
<<<<<<< HEAD
   "execution_count": 22,
=======
   "execution_count": 15,
>>>>>>> Helen
>>>>>>> 958d3b6f3a0d2c5e7972472b1df355b5c251e781
=======
>>>>>>> 66edc7c026dc60249828aa6869a0944f4137744a
   "metadata": {},
   "outputs": [
    {
     "data": {
      "text/html": [
       "<div>\n",
       "<style scoped>\n",
       "    .dataframe tbody tr th:only-of-type {\n",
       "        vertical-align: middle;\n",
       "    }\n",
       "\n",
       "    .dataframe tbody tr th {\n",
       "        vertical-align: top;\n",
       "    }\n",
       "\n",
       "    .dataframe thead th {\n",
       "        text-align: right;\n",
       "    }\n",
       "</style>\n",
       "<table border=\"1\" class=\"dataframe\">\n",
       "  <thead>\n",
       "    <tr style=\"text-align: right;\">\n",
       "      <th></th>\n",
<<<<<<< HEAD
<<<<<<< HEAD
       "      <th>Code</th>\n",
       "      <th>Title</th>\n",
=======
<<<<<<< HEAD
       "      <th>Code</th>\n",
       "      <th>Title</th>\n",
=======
       "      <th>Function_Code</th>\n",
       "      <th>Function</th>\n",
>>>>>>> Helen
>>>>>>> 958d3b6f3a0d2c5e7972472b1df355b5c251e781
=======
       "      <th>Function_Code</th>\n",
       "      <th>Function</th>\n",
>>>>>>> 66edc7c026dc60249828aa6869a0944f4137744a
       "    </tr>\n",
       "  </thead>\n",
       "  <tbody>\n",
       "    <tr>\n",
       "      <th>0</th>\n",
<<<<<<< HEAD
<<<<<<< HEAD
=======
<<<<<<< HEAD
>>>>>>> 958d3b6f3a0d2c5e7972472b1df355b5c251e781
       "      <td>0000</td>\n",
       "      <td>Not Applicable (For use with revenues and bala...</td>\n",
       "    </tr>\n",
       "    <tr>\n",
       "      <th>1</th>\n",
       "      <td>1000</td>\n",
       "      <td>Instruction                                   ...</td>\n",
       "    </tr>\n",
       "    <tr>\n",
       "      <th>2</th>\n",
       "      <td>1110</td>\n",
       "      <td>Special Education: Separate Classes           ...</td>\n",
       "    </tr>\n",
       "    <tr>\n",
       "      <th>3</th>\n",
       "      <td>1120</td>\n",
       "      <td>Special Education: Resource Specialist Instruc...</td>\n",
       "    </tr>\n",
       "    <tr>\n",
       "      <th>4</th>\n",
       "      <td>1130</td>\n",
       "      <td>Special Education: Supplemental Aids &amp; Service...</td>\n",
<<<<<<< HEAD
=======
=======
=======
>>>>>>> 66edc7c026dc60249828aa6869a0944f4137744a
       "      <td>1100</td>\n",
       "      <td>Certificated Teachers' Salaries               ...</td>\n",
       "    </tr>\n",
       "    <tr>\n",
       "      <th>1</th>\n",
       "      <td>1200</td>\n",
       "      <td>Certificated Pupil Support Salaries           ...</td>\n",
       "    </tr>\n",
       "    <tr>\n",
       "      <th>2</th>\n",
       "      <td>1300</td>\n",
       "      <td>Certificated Supervisors' and Administrators' ...</td>\n",
       "    </tr>\n",
       "    <tr>\n",
       "      <th>3</th>\n",
       "      <td>1900</td>\n",
       "      <td>Other Certificated Salaries                   ...</td>\n",
       "    </tr>\n",
       "    <tr>\n",
       "      <th>4</th>\n",
       "      <td>2100</td>\n",
       "      <td>Classified Instructional Salaries             ...</td>\n",
<<<<<<< HEAD
>>>>>>> Helen
>>>>>>> 958d3b6f3a0d2c5e7972472b1df355b5c251e781
=======
>>>>>>> 66edc7c026dc60249828aa6869a0944f4137744a
       "    </tr>\n",
       "    <tr>\n",
       "      <th>...</th>\n",
       "      <td>...</td>\n",
       "      <td>...</td>\n",
       "    </tr>\n",
       "    <tr>\n",
<<<<<<< HEAD
<<<<<<< HEAD
=======
<<<<<<< HEAD
>>>>>>> 958d3b6f3a0d2c5e7972472b1df355b5c251e781
       "      <th>71</th>\n",
       "      <td>8500</td>\n",
       "      <td>Facilities Acquisition and Construction       ...</td>\n",
       "    </tr>\n",
       "    <tr>\n",
       "      <th>72</th>\n",
       "      <td>8700</td>\n",
       "      <td>Facilities Rents and Leases                   ...</td>\n",
       "    </tr>\n",
       "    <tr>\n",
       "      <th>73</th>\n",
       "      <td>9100</td>\n",
       "      <td>Debt Service                                  ...</td>\n",
       "    </tr>\n",
       "    <tr>\n",
       "      <th>74</th>\n",
       "      <td>9200</td>\n",
       "      <td>Transfers Between Agencies                    ...</td>\n",
       "    </tr>\n",
       "    <tr>\n",
       "      <th>75</th>\n",
       "      <td>9300</td>\n",
       "      <td>Interfund Transfers                           ...</td>\n",
       "    </tr>\n",
       "  </tbody>\n",
       "</table>\n",
       "<p>76 rows × 2 columns</p>\n",
       "</div>"
      ],
      "text/plain": [
       "    Code                                              Title\n",
       "0   0000  Not Applicable (For use with revenues and bala...\n",
       "1   1000  Instruction                                   ...\n",
       "2   1110  Special Education: Separate Classes           ...\n",
       "3   1120  Special Education: Resource Specialist Instruc...\n",
       "4   1130  Special Education: Supplemental Aids & Service...\n",
       "..   ...                                                ...\n",
       "71  8500  Facilities Acquisition and Construction       ...\n",
       "72  8700  Facilities Rents and Leases                   ...\n",
       "73  9100  Debt Service                                  ...\n",
       "74  9200  Transfers Between Agencies                    ...\n",
       "75  9300  Interfund Transfers                           ...\n",
       "\n",
       "[76 rows x 2 columns]"
      ]
     },
     "execution_count": 22,
<<<<<<< HEAD
=======
=======
=======
>>>>>>> 66edc7c026dc60249828aa6869a0944f4137744a
       "      <th>232</th>\n",
       "      <td>9791</td>\n",
       "      <td>Beginning Fund Balance                        ...</td>\n",
       "    </tr>\n",
       "    <tr>\n",
       "      <th>233</th>\n",
       "      <td>9793</td>\n",
       "      <td>Audit Adjustments                             ...</td>\n",
       "    </tr>\n",
       "    <tr>\n",
       "      <th>234</th>\n",
       "      <td>9795</td>\n",
       "      <td>Other Restatements                            ...</td>\n",
       "    </tr>\n",
       "    <tr>\n",
       "      <th>235</th>\n",
       "      <td>9796</td>\n",
       "      <td>Net Investment in Capital Assets              ...</td>\n",
       "    </tr>\n",
       "    <tr>\n",
       "      <th>236</th>\n",
       "      <td>9797</td>\n",
       "      <td>Restricted Net Position                       ...</td>\n",
       "    </tr>\n",
       "  </tbody>\n",
       "</table>\n",
       "<p>237 rows × 2 columns</p>\n",
       "</div>"
      ],
      "text/plain": [
       "    Function_Code                                           Function\n",
       "0            1100  Certificated Teachers' Salaries               ...\n",
       "1            1200  Certificated Pupil Support Salaries           ...\n",
       "2            1300  Certificated Supervisors' and Administrators' ...\n",
       "3            1900  Other Certificated Salaries                   ...\n",
       "4            2100  Classified Instructional Salaries             ...\n",
       "..            ...                                                ...\n",
       "232          9791  Beginning Fund Balance                        ...\n",
       "233          9793  Audit Adjustments                             ...\n",
       "234          9795  Other Restatements                            ...\n",
       "235          9796  Net Investment in Capital Assets              ...\n",
       "236          9797  Restricted Net Position                       ...\n",
       "\n",
       "[237 rows x 2 columns]"
      ]
     },
<<<<<<< HEAD
     "execution_count": 15,
>>>>>>> Helen
>>>>>>> 958d3b6f3a0d2c5e7972472b1df355b5c251e781
=======
     "execution_count": 22,
>>>>>>> 66edc7c026dc60249828aa6869a0944f4137744a
     "metadata": {},
     "output_type": "execute_result"
    }
   ],
   "source": [
    "function_df=function_df.drop(function_df.index[237])\n",
    "function_df"
   ]
  },
  {
   "cell_type": "code",
   "execution_count": 23,
<<<<<<< HEAD
=======
<<<<<<< HEAD
   "execution_count": 23,
=======
   "execution_count": 16,
>>>>>>> Helen
>>>>>>> 958d3b6f3a0d2c5e7972472b1df355b5c251e781
=======
>>>>>>> 66edc7c026dc60249828aa6869a0944f4137744a
   "metadata": {},
   "outputs": [
    {
     "data": {
      "text/html": [
       "<div>\n",
       "<style scoped>\n",
       "    .dataframe tbody tr th:only-of-type {\n",
       "        vertical-align: middle;\n",
       "    }\n",
       "\n",
       "    .dataframe tbody tr th {\n",
       "        vertical-align: top;\n",
       "    }\n",
       "\n",
       "    .dataframe thead th {\n",
       "        text-align: right;\n",
       "    }\n",
       "</style>\n",
       "<table border=\"1\" class=\"dataframe\">\n",
       "  <thead>\n",
       "    <tr style=\"text-align: right;\">\n",
       "      <th></th>\n",
       "      <th>Function_Code</th>\n",
       "      <th>Function</th>\n",
       "    </tr>\n",
       "  </thead>\n",
       "  <tbody>\n",
       "  </tbody>\n",
       "</table>\n",
       "</div>"
      ],
      "text/plain": [
<<<<<<< HEAD
<<<<<<< HEAD
=======
<<<<<<< HEAD
>>>>>>> 958d3b6f3a0d2c5e7972472b1df355b5c251e781
       "Code     76\n",
       "Title    76\n",
       "dtype: int64"
      ]
     },
     "execution_count": 23,
<<<<<<< HEAD
=======
=======
       "Function_Code    237\n",
       "Function         237\n",
       "dtype: int64"
      ]
     },
     "execution_count": 16,
>>>>>>> Helen
>>>>>>> 958d3b6f3a0d2c5e7972472b1df355b5c251e781
=======
       "Empty DataFrame\n",
       "Columns: [Function_Code, Function]\n",
       "Index: []"
      ]
     },
     "execution_count": 23,
>>>>>>> 66edc7c026dc60249828aa6869a0944f4137744a
     "metadata": {},
     "output_type": "execute_result"
    }
   ],
   "source": [
    "#determine which are null\n",
    "function_df1=function_df[function_df.isna().any(axis=1)]\n",
    "function_df1"
   ]
  },
  {
   "cell_type": "code",
<<<<<<< HEAD
<<<<<<< HEAD
=======
<<<<<<< HEAD
>>>>>>> 958d3b6f3a0d2c5e7972472b1df355b5c251e781
=======
>>>>>>> 66edc7c026dc60249828aa6869a0944f4137744a
   "execution_count": 24,
   "metadata": {},
   "outputs": [
    {
     "data": {
      "text/html": [
       "<div>\n",
       "<style scoped>\n",
       "    .dataframe tbody tr th:only-of-type {\n",
       "        vertical-align: middle;\n",
       "    }\n",
       "\n",
       "    .dataframe tbody tr th {\n",
       "        vertical-align: top;\n",
       "    }\n",
       "\n",
       "    .dataframe thead th {\n",
       "        text-align: right;\n",
       "    }\n",
       "</style>\n",
       "<table border=\"1\" class=\"dataframe\">\n",
       "  <thead>\n",
       "    <tr style=\"text-align: right;\">\n",
       "      <th></th>\n",
       "      <th>Function_Code</th>\n",
       "      <th>Function</th>\n",
       "    </tr>\n",
       "  </thead>\n",
       "  <tbody>\n",
       "    <tr>\n",
       "      <th>0</th>\n",
       "      <td>1100</td>\n",
       "      <td>Certificated Teachers' Salaries               ...</td>\n",
       "    </tr>\n",
       "    <tr>\n",
       "      <th>1</th>\n",
       "      <td>1200</td>\n",
       "      <td>Certificated Pupil Support Salaries           ...</td>\n",
       "    </tr>\n",
       "    <tr>\n",
       "      <th>2</th>\n",
       "      <td>1300</td>\n",
       "      <td>Certificated Supervisors' and Administrators' ...</td>\n",
       "    </tr>\n",
       "    <tr>\n",
       "      <th>3</th>\n",
       "      <td>1900</td>\n",
       "      <td>Other Certificated Salaries                   ...</td>\n",
       "    </tr>\n",
       "    <tr>\n",
       "      <th>4</th>\n",
       "      <td>2100</td>\n",
       "      <td>Classified Instructional Salaries             ...</td>\n",
       "    </tr>\n",
       "    <tr>\n",
       "      <th>...</th>\n",
       "      <td>...</td>\n",
       "      <td>...</td>\n",
       "    </tr>\n",
       "    <tr>\n",
       "      <th>232</th>\n",
       "      <td>9791</td>\n",
       "      <td>Beginning Fund Balance                        ...</td>\n",
       "    </tr>\n",
       "    <tr>\n",
       "      <th>233</th>\n",
       "      <td>9793</td>\n",
       "      <td>Audit Adjustments                             ...</td>\n",
       "    </tr>\n",
       "    <tr>\n",
       "      <th>234</th>\n",
       "      <td>9795</td>\n",
       "      <td>Other Restatements                            ...</td>\n",
       "    </tr>\n",
       "    <tr>\n",
       "      <th>235</th>\n",
       "      <td>9796</td>\n",
       "      <td>Net Investment in Capital Assets              ...</td>\n",
       "    </tr>\n",
       "    <tr>\n",
       "      <th>236</th>\n",
       "      <td>9797</td>\n",
       "      <td>Restricted Net Position                       ...</td>\n",
       "    </tr>\n",
       "  </tbody>\n",
       "</table>\n",
       "<p>237 rows × 2 columns</p>\n",
       "</div>"
      ],
      "text/plain": [
       "    Function_Code                                           Function\n",
       "0            1100  Certificated Teachers' Salaries               ...\n",
       "1            1200  Certificated Pupil Support Salaries           ...\n",
       "2            1300  Certificated Supervisors' and Administrators' ...\n",
       "3            1900  Other Certificated Salaries                   ...\n",
       "4            2100  Classified Instructional Salaries             ...\n",
       "..            ...                                                ...\n",
       "232          9791  Beginning Fund Balance                        ...\n",
       "233          9793  Audit Adjustments                             ...\n",
       "234          9795  Other Restatements                            ...\n",
       "235          9796  Net Investment in Capital Assets              ...\n",
       "236          9797  Restricted Net Position                       ...\n",
       "\n",
       "[237 rows x 2 columns]"
      ]
     },
     "execution_count": 24,
     "metadata": {},
     "output_type": "execute_result"
    }
   ],
   "source": [
    "#drop NA\n",
    "function_df_clean=function_df.dropna()\n",
    "function_df_clean"
   ]
  },
  {
   "cell_type": "code",
   "execution_count": 25,
   "metadata": {},
   "outputs": [
    {
     "data": {
      "text/plain": [
       "Function_Code    237\n",
       "Function         237\n",
       "dtype: int64"
      ]
     },
     "execution_count": 25,
     "metadata": {},
     "output_type": "execute_result"
    }
   ],
   "source": [
    "#rough estimate\n",
    "function_df_clean.count()"
   ]
  },
  {
   "cell_type": "code",
<<<<<<< HEAD
   "execution_count": 25,
<<<<<<< HEAD
=======
=======
   "execution_count": 17,
>>>>>>> Helen
>>>>>>> 958d3b6f3a0d2c5e7972472b1df355b5c251e781
=======
   "execution_count": 26,
>>>>>>> 66edc7c026dc60249828aa6869a0944f4137744a
   "metadata": {},
   "outputs": [
    {
     "data": {
      "text/plain": [
       "CDS_CODE           int64\n",
<<<<<<< HEAD
<<<<<<< HEAD
       "Object            object\n",
=======
<<<<<<< HEAD
       "Object            object\n",
=======
       "District_Code      int64\n",
>>>>>>> Helen
>>>>>>> 958d3b6f3a0d2c5e7972472b1df355b5c251e781
=======
       "District_Code      int64\n",
>>>>>>> 66edc7c026dc60249828aa6869a0944f4137744a
       "Function_Code      int64\n",
       "Amount           float64\n",
       "dtype: object"
      ]
     },
<<<<<<< HEAD
<<<<<<< HEAD
     "execution_count": 25,
=======
<<<<<<< HEAD
     "execution_count": 25,
=======
     "execution_count": 17,
>>>>>>> Helen
>>>>>>> 958d3b6f3a0d2c5e7972472b1df355b5c251e781
=======
     "execution_count": 26,
>>>>>>> 66edc7c026dc60249828aa6869a0944f4137744a
     "metadata": {},
     "output_type": "execute_result"
    }
   ],
   "source": [
    "#verify datatypes\n",
<<<<<<< HEAD
<<<<<<< HEAD
    "clean_1213df.dtypes"
=======
<<<<<<< HEAD
    "clean_1213df.dtypes"
=======
    "clean_data.dtypes"
>>>>>>> Helen
>>>>>>> 958d3b6f3a0d2c5e7972472b1df355b5c251e781
=======
    "clean_data.dtypes"
>>>>>>> 66edc7c026dc60249828aa6869a0944f4137744a
   ]
  },
  {
   "cell_type": "code",
<<<<<<< HEAD
<<<<<<< HEAD
   "execution_count": 26,
=======
<<<<<<< HEAD
   "execution_count": 26,
=======
   "execution_count": 18,
>>>>>>> Helen
>>>>>>> 958d3b6f3a0d2c5e7972472b1df355b5c251e781
=======
   "execution_count": 27,
>>>>>>> 66edc7c026dc60249828aa6869a0944f4137744a
   "metadata": {},
   "outputs": [
    {
     "name": "stderr",
     "output_type": "stream",
     "text": [
      "C:\\Users\\hhngu\\AppData\\Roaming\\Python\\Python37\\site-packages\\ipykernel_launcher.py:2: SettingWithCopyWarning: \n",
      "A value is trying to be set on a copy of a slice from a DataFrame.\n",
      "Try using .loc[row_indexer,col_indexer] = value instead\n",
      "\n",
      "See the caveats in the documentation: https://pandas.pydata.org/pandas-docs/stable/user_guide/indexing.html#returning-a-view-versus-a-copy\n",
      "  \n"
     ]
    }
   ],
   "source": [
    "#change datatypes to match in order to merge\n",
<<<<<<< HEAD
<<<<<<< HEAD
    "clean_1213df['Function_Code'] = clean_1213df['Function_Code'].astype('int64')\n",
    "function_df_clean['Function_Code']=function_df_clean['Function_Code'].astype('int64')"
=======
<<<<<<< HEAD
    "clean_1213df['Function_Code'] = clean_1213df['Function_Code'].astype('int64')\n",
    "function_df_clean['Function_Code']=function_df_clean['Function_Code'].astype('int64')"
=======
    "clean_data['Function_Code'] = clean_data['Function_Code'].astype('int64')\n",
    "function_df_clean['Function_Code']= function_df_clean['Function_Code'].astype('int64')"
>>>>>>> Helen
>>>>>>> 958d3b6f3a0d2c5e7972472b1df355b5c251e781
=======
    "clean_data['Function_Code'] = clean_data['Function_Code'].astype('int64')\n",
    "function_df_clean['Function_Code']= function_df_clean['Function_Code'].astype('int64')"
>>>>>>> 66edc7c026dc60249828aa6869a0944f4137744a
   ]
  },
  {
   "cell_type": "code",
<<<<<<< HEAD
<<<<<<< HEAD
   "execution_count": 27,
=======
<<<<<<< HEAD
   "execution_count": 27,
=======
   "execution_count": 19,
>>>>>>> Helen
>>>>>>> 958d3b6f3a0d2c5e7972472b1df355b5c251e781
=======
   "execution_count": 28,
>>>>>>> 66edc7c026dc60249828aa6869a0944f4137744a
   "metadata": {},
   "outputs": [
    {
     "data": {
      "text/html": [
       "<div>\n",
       "<style scoped>\n",
       "    .dataframe tbody tr th:only-of-type {\n",
       "        vertical-align: middle;\n",
       "    }\n",
       "\n",
       "    .dataframe tbody tr th {\n",
       "        vertical-align: top;\n",
       "    }\n",
       "\n",
       "    .dataframe thead th {\n",
       "        text-align: right;\n",
       "    }\n",
       "</style>\n",
       "<table border=\"1\" class=\"dataframe\">\n",
       "  <thead>\n",
       "    <tr style=\"text-align: right;\">\n",
       "      <th></th>\n",
       "      <th>CDS_CODE</th>\n",
<<<<<<< HEAD
<<<<<<< HEAD
       "      <th>Object</th>\n",
=======
<<<<<<< HEAD
       "      <th>Object</th>\n",
=======
       "      <th>District_Code</th>\n",
>>>>>>> Helen
>>>>>>> 958d3b6f3a0d2c5e7972472b1df355b5c251e781
=======
       "      <th>District_Code</th>\n",
>>>>>>> 66edc7c026dc60249828aa6869a0944f4137744a
       "      <th>Function_Code</th>\n",
       "      <th>Amount</th>\n",
       "      <th>Function</th>\n",
       "    </tr>\n",
       "  </thead>\n",
       "  <tbody>\n",
       "    <tr>\n",
       "      <th>0</th>\n",
       "      <td>1100170000000</td>\n",
<<<<<<< HEAD
<<<<<<< HEAD
=======
<<<<<<< HEAD
>>>>>>> 958d3b6f3a0d2c5e7972472b1df355b5c251e781
       "      <td>Transfers Between Agencies                    ...</td>\n",
       "      <td>0</td>\n",
       "      <td>750852.09</td>\n",
       "      <td>Not Applicable (For use with revenues and bala...</td>\n",
<<<<<<< HEAD
=======
=======
=======
>>>>>>> 66edc7c026dc60249828aa6869a0944f4137744a
       "      <td>10017</td>\n",
       "      <td>2100</td>\n",
       "      <td>5148.00</td>\n",
       "      <td>Classified Instructional Salaries             ...</td>\n",
<<<<<<< HEAD
>>>>>>> Helen
>>>>>>> 958d3b6f3a0d2c5e7972472b1df355b5c251e781
=======
>>>>>>> 66edc7c026dc60249828aa6869a0944f4137744a
       "    </tr>\n",
       "    <tr>\n",
       "      <th>1</th>\n",
       "      <td>1100170000000</td>\n",
<<<<<<< HEAD
<<<<<<< HEAD
=======
<<<<<<< HEAD
>>>>>>> 958d3b6f3a0d2c5e7972472b1df355b5c251e781
       "      <td>Transfers Between Agencies                    ...</td>\n",
       "      <td>0</td>\n",
       "      <td>633.91</td>\n",
       "      <td>Not Applicable (For use with revenues and bala...</td>\n",
<<<<<<< HEAD
=======
=======
=======
>>>>>>> 66edc7c026dc60249828aa6869a0944f4137744a
       "      <td>10017</td>\n",
       "      <td>2100</td>\n",
       "      <td>43306.31</td>\n",
       "      <td>Classified Instructional Salaries             ...</td>\n",
<<<<<<< HEAD
>>>>>>> Helen
>>>>>>> 958d3b6f3a0d2c5e7972472b1df355b5c251e781
=======
>>>>>>> 66edc7c026dc60249828aa6869a0944f4137744a
       "    </tr>\n",
       "    <tr>\n",
       "      <th>2</th>\n",
       "      <td>1100170000000</td>\n",
<<<<<<< HEAD
<<<<<<< HEAD
=======
<<<<<<< HEAD
>>>>>>> 958d3b6f3a0d2c5e7972472b1df355b5c251e781
       "      <td>Transfers Between Agencies                    ...</td>\n",
       "      <td>0</td>\n",
       "      <td>857.51</td>\n",
       "      <td>Not Applicable (For use with revenues and bala...</td>\n",
<<<<<<< HEAD
=======
=======
=======
>>>>>>> 66edc7c026dc60249828aa6869a0944f4137744a
       "      <td>10017</td>\n",
       "      <td>2100</td>\n",
       "      <td>33486.20</td>\n",
       "      <td>Classified Instructional Salaries             ...</td>\n",
<<<<<<< HEAD
>>>>>>> Helen
>>>>>>> 958d3b6f3a0d2c5e7972472b1df355b5c251e781
=======
>>>>>>> 66edc7c026dc60249828aa6869a0944f4137744a
       "    </tr>\n",
       "    <tr>\n",
       "      <th>3</th>\n",
       "      <td>1100170000000</td>\n",
<<<<<<< HEAD
<<<<<<< HEAD
=======
<<<<<<< HEAD
>>>>>>> 958d3b6f3a0d2c5e7972472b1df355b5c251e781
       "      <td>Transfers Between Agencies                    ...</td>\n",
       "      <td>0</td>\n",
       "      <td>15183.70</td>\n",
       "      <td>Not Applicable (For use with revenues and bala...</td>\n",
<<<<<<< HEAD
=======
=======
=======
>>>>>>> 66edc7c026dc60249828aa6869a0944f4137744a
       "      <td>10017</td>\n",
       "      <td>2100</td>\n",
       "      <td>172578.82</td>\n",
       "      <td>Classified Instructional Salaries             ...</td>\n",
<<<<<<< HEAD
>>>>>>> Helen
>>>>>>> 958d3b6f3a0d2c5e7972472b1df355b5c251e781
=======
>>>>>>> 66edc7c026dc60249828aa6869a0944f4137744a
       "    </tr>\n",
       "    <tr>\n",
       "      <th>4</th>\n",
       "      <td>1100170000000</td>\n",
<<<<<<< HEAD
<<<<<<< HEAD
=======
<<<<<<< HEAD
>>>>>>> 958d3b6f3a0d2c5e7972472b1df355b5c251e781
       "      <td>Transfers Between Agencies                    ...</td>\n",
       "      <td>0</td>\n",
       "      <td>53207.45</td>\n",
       "      <td>Not Applicable (For use with revenues and bala...</td>\n",
<<<<<<< HEAD
=======
=======
=======
>>>>>>> 66edc7c026dc60249828aa6869a0944f4137744a
       "      <td>10017</td>\n",
       "      <td>2100</td>\n",
       "      <td>165525.64</td>\n",
       "      <td>Classified Instructional Salaries             ...</td>\n",
<<<<<<< HEAD
>>>>>>> Helen
>>>>>>> 958d3b6f3a0d2c5e7972472b1df355b5c251e781
=======
>>>>>>> 66edc7c026dc60249828aa6869a0944f4137744a
       "    </tr>\n",
       "    <tr>\n",
       "      <th>...</th>\n",
       "      <td>...</td>\n",
       "      <td>...</td>\n",
       "      <td>...</td>\n",
       "      <td>...</td>\n",
       "      <td>...</td>\n",
       "    </tr>\n",
       "    <tr>\n",
<<<<<<< HEAD
<<<<<<< HEAD
=======
<<<<<<< HEAD
>>>>>>> 958d3b6f3a0d2c5e7972472b1df355b5c251e781
       "      <th>94817</th>\n",
       "      <td>57726940000000</td>\n",
       "      <td>Community Recreation                          ...</td>\n",
       "      <td>1180</td>\n",
       "      <td>35263.39</td>\n",
       "      <td>Special Education:  Nonpublic Agencies/Schools...</td>\n",
       "    </tr>\n",
       "    <tr>\n",
       "      <th>94818</th>\n",
       "      <td>57726940000000</td>\n",
       "      <td>Community Recreation                          ...</td>\n",
       "      <td>1180</td>\n",
       "      <td>219954.00</td>\n",
       "      <td>Special Education:  Nonpublic Agencies/Schools...</td>\n",
       "    </tr>\n",
       "    <tr>\n",
       "      <th>94819</th>\n",
       "      <td>57727100000000</td>\n",
       "      <td>Community Recreation                          ...</td>\n",
       "      <td>1180</td>\n",
       "      <td>141181.98</td>\n",
       "      <td>Special Education:  Nonpublic Agencies/Schools...</td>\n",
       "    </tr>\n",
       "    <tr>\n",
       "      <th>94820</th>\n",
       "      <td>57727100000000</td>\n",
       "      <td>Community Recreation                          ...</td>\n",
       "      <td>1180</td>\n",
       "      <td>8303.49</td>\n",
       "      <td>Special Education:  Nonpublic Agencies/Schools...</td>\n",
       "    </tr>\n",
       "    <tr>\n",
       "      <th>94821</th>\n",
       "      <td>58727360000000</td>\n",
       "      <td>Community Recreation                          ...</td>\n",
       "      <td>1180</td>\n",
       "      <td>242112.65</td>\n",
       "      <td>Special Education:  Nonpublic Agencies/Schools...</td>\n",
       "    </tr>\n",
       "  </tbody>\n",
       "</table>\n",
       "<p>94822 rows × 5 columns</p>\n",
       "</div>"
      ],
      "text/plain": [
       "             CDS_CODE                                             Object  \\\n",
       "0       1100170000000  Transfers Between Agencies                    ...   \n",
       "1       1100170000000  Transfers Between Agencies                    ...   \n",
       "2       1100170000000  Transfers Between Agencies                    ...   \n",
       "3       1100170000000  Transfers Between Agencies                    ...   \n",
       "4       1100170000000  Transfers Between Agencies                    ...   \n",
       "...               ...                                                ...   \n",
       "94817  57726940000000  Community Recreation                          ...   \n",
       "94818  57726940000000  Community Recreation                          ...   \n",
       "94819  57727100000000  Community Recreation                          ...   \n",
       "94820  57727100000000  Community Recreation                          ...   \n",
       "94821  58727360000000  Community Recreation                          ...   \n",
       "\n",
       "       Function_Code     Amount  \\\n",
       "0                  0  750852.09   \n",
       "1                  0     633.91   \n",
       "2                  0     857.51   \n",
       "3                  0   15183.70   \n",
       "4                  0   53207.45   \n",
       "...              ...        ...   \n",
       "94817           1180   35263.39   \n",
       "94818           1180  219954.00   \n",
       "94819           1180  141181.98   \n",
       "94820           1180    8303.49   \n",
       "94821           1180  242112.65   \n",
       "\n",
       "                                                Function  \n",
       "0      Not Applicable (For use with revenues and bala...  \n",
       "1      Not Applicable (For use with revenues and bala...  \n",
       "2      Not Applicable (For use with revenues and bala...  \n",
       "3      Not Applicable (For use with revenues and bala...  \n",
       "4      Not Applicable (For use with revenues and bala...  \n",
       "...                                                  ...  \n",
       "94817  Special Education:  Nonpublic Agencies/Schools...  \n",
       "94818  Special Education:  Nonpublic Agencies/Schools...  \n",
       "94819  Special Education:  Nonpublic Agencies/Schools...  \n",
       "94820  Special Education:  Nonpublic Agencies/Schools...  \n",
       "94821  Special Education:  Nonpublic Agencies/Schools...  \n",
       "\n",
       "[94822 rows x 5 columns]"
      ]
     },
     "execution_count": 27,
<<<<<<< HEAD
=======
=======
=======
>>>>>>> 66edc7c026dc60249828aa6869a0944f4137744a
       "      <th>123974</th>\n",
       "      <td>57105790000000</td>\n",
       "      <td>10579</td>\n",
       "      <td>7350</td>\n",
       "      <td>107.15</td>\n",
       "      <td>Transfers of Indirect Costs - Interfund       ...</td>\n",
       "    </tr>\n",
       "    <tr>\n",
       "      <th>123975</th>\n",
       "      <td>57105790000000</td>\n",
       "      <td>10579</td>\n",
       "      <td>7350</td>\n",
       "      <td>795.80</td>\n",
       "      <td>Transfers of Indirect Costs - Interfund       ...</td>\n",
       "    </tr>\n",
       "    <tr>\n",
       "      <th>123976</th>\n",
       "      <td>57105790000000</td>\n",
       "      <td>10579</td>\n",
       "      <td>7350</td>\n",
       "      <td>19.72</td>\n",
       "      <td>Transfers of Indirect Costs - Interfund       ...</td>\n",
       "    </tr>\n",
       "    <tr>\n",
       "      <th>123977</th>\n",
       "      <td>57105790000000</td>\n",
       "      <td>10579</td>\n",
       "      <td>7350</td>\n",
       "      <td>700.00</td>\n",
       "      <td>Transfers of Indirect Costs - Interfund       ...</td>\n",
       "    </tr>\n",
       "    <tr>\n",
       "      <th>123978</th>\n",
       "      <td>57105790000000</td>\n",
       "      <td>10579</td>\n",
       "      <td>7350</td>\n",
       "      <td>45.88</td>\n",
       "      <td>Transfers of Indirect Costs - Interfund       ...</td>\n",
       "    </tr>\n",
       "  </tbody>\n",
       "</table>\n",
       "<p>123979 rows × 5 columns</p>\n",
       "</div>"
      ],
      "text/plain": [
       "              CDS_CODE  District_Code  Function_Code     Amount  \\\n",
       "0        1100170000000          10017           2100    5148.00   \n",
       "1        1100170000000          10017           2100   43306.31   \n",
       "2        1100170000000          10017           2100   33486.20   \n",
       "3        1100170000000          10017           2100  172578.82   \n",
       "4        1100170000000          10017           2100  165525.64   \n",
       "...                ...            ...            ...        ...   \n",
       "123974  57105790000000          10579           7350     107.15   \n",
       "123975  57105790000000          10579           7350     795.80   \n",
       "123976  57105790000000          10579           7350      19.72   \n",
       "123977  57105790000000          10579           7350     700.00   \n",
       "123978  57105790000000          10579           7350      45.88   \n",
       "\n",
       "                                                 Function  \n",
       "0       Classified Instructional Salaries             ...  \n",
       "1       Classified Instructional Salaries             ...  \n",
       "2       Classified Instructional Salaries             ...  \n",
       "3       Classified Instructional Salaries             ...  \n",
       "4       Classified Instructional Salaries             ...  \n",
       "...                                                   ...  \n",
       "123974  Transfers of Indirect Costs - Interfund       ...  \n",
       "123975  Transfers of Indirect Costs - Interfund       ...  \n",
       "123976  Transfers of Indirect Costs - Interfund       ...  \n",
       "123977  Transfers of Indirect Costs - Interfund       ...  \n",
       "123978  Transfers of Indirect Costs - Interfund       ...  \n",
       "\n",
       "[123979 rows x 5 columns]"
      ]
     },
<<<<<<< HEAD
     "execution_count": 19,
>>>>>>> Helen
>>>>>>> 958d3b6f3a0d2c5e7972472b1df355b5c251e781
=======
     "execution_count": 28,
>>>>>>> 66edc7c026dc60249828aa6869a0944f4137744a
     "metadata": {},
     "output_type": "execute_result"
    }
   ],
   "source": [
    "#merge\n",
<<<<<<< HEAD
<<<<<<< HEAD
    "func_df=pd.merge(clean_1213df, function_df_clean, on=['Function_Code'])\n",
=======
<<<<<<< HEAD
    "func_df=pd.merge(clean_1213df, function_df_clean, on=['Function_Code'])\n",
=======
    "func_df=pd.merge(clean_data, function_df_clean, on=['Function_Code'])\n",
>>>>>>> Helen
>>>>>>> 958d3b6f3a0d2c5e7972472b1df355b5c251e781
=======
    "func_df=pd.merge(clean_data, function_df_clean, on=['Function_Code'])\n",
>>>>>>> 66edc7c026dc60249828aa6869a0944f4137744a
    "func_df"
   ]
  },
  {
   "cell_type": "code",
<<<<<<< HEAD
<<<<<<< HEAD
   "execution_count": 28,
=======
<<<<<<< HEAD
   "execution_count": 28,
=======
   "execution_count": 20,
>>>>>>> Helen
>>>>>>> 958d3b6f3a0d2c5e7972472b1df355b5c251e781
=======
   "execution_count": 29,
>>>>>>> 66edc7c026dc60249828aa6869a0944f4137744a
   "metadata": {},
   "outputs": [
    {
     "data": {
      "text/html": [
       "<div>\n",
       "<style scoped>\n",
       "    .dataframe tbody tr th:only-of-type {\n",
       "        vertical-align: middle;\n",
       "    }\n",
       "\n",
       "    .dataframe tbody tr th {\n",
       "        vertical-align: top;\n",
       "    }\n",
       "\n",
       "    .dataframe thead th {\n",
       "        text-align: right;\n",
       "    }\n",
       "</style>\n",
       "<table border=\"1\" class=\"dataframe\">\n",
       "  <thead>\n",
       "    <tr style=\"text-align: right;\">\n",
       "      <th></th>\n",
       "      <th>CDS_CODE</th>\n",
<<<<<<< HEAD
<<<<<<< HEAD
       "      <th>Object</th>\n",
=======
<<<<<<< HEAD
       "      <th>Object</th>\n",
=======
       "      <th>District_Code</th>\n",
       "      <th>Function_Code</th>\n",
>>>>>>> Helen
>>>>>>> 958d3b6f3a0d2c5e7972472b1df355b5c251e781
=======
       "      <th>District_Code</th>\n",
       "      <th>Function_Code</th>\n",
>>>>>>> 66edc7c026dc60249828aa6869a0944f4137744a
       "      <th>Function</th>\n",
       "      <th>Amount</th>\n",
       "    </tr>\n",
       "  </thead>\n",
       "  <tbody>\n",
       "    <tr>\n",
       "      <th>0</th>\n",
       "      <td>1100170000000</td>\n",
<<<<<<< HEAD
<<<<<<< HEAD
       "      <td>Transfers Between Agencies                    ...</td>\n",
       "      <td>Not Applicable (For use with revenues and bala...</td>\n",
       "      <td>750852.09</td>\n",
=======
<<<<<<< HEAD
       "      <td>Transfers Between Agencies                    ...</td>\n",
       "      <td>Not Applicable (For use with revenues and bala...</td>\n",
       "      <td>750852.09</td>\n",
=======
=======
>>>>>>> 66edc7c026dc60249828aa6869a0944f4137744a
       "      <td>10017</td>\n",
       "      <td>2100</td>\n",
       "      <td>Classified Instructional Salaries             ...</td>\n",
       "      <td>5148.00</td>\n",
<<<<<<< HEAD
>>>>>>> Helen
>>>>>>> 958d3b6f3a0d2c5e7972472b1df355b5c251e781
=======
>>>>>>> 66edc7c026dc60249828aa6869a0944f4137744a
       "    </tr>\n",
       "    <tr>\n",
       "      <th>1</th>\n",
       "      <td>1100170000000</td>\n",
<<<<<<< HEAD
<<<<<<< HEAD
       "      <td>Transfers Between Agencies                    ...</td>\n",
       "      <td>Not Applicable (For use with revenues and bala...</td>\n",
       "      <td>633.91</td>\n",
=======
<<<<<<< HEAD
       "      <td>Transfers Between Agencies                    ...</td>\n",
       "      <td>Not Applicable (For use with revenues and bala...</td>\n",
       "      <td>633.91</td>\n",
=======
=======
>>>>>>> 66edc7c026dc60249828aa6869a0944f4137744a
       "      <td>10017</td>\n",
       "      <td>2100</td>\n",
       "      <td>Classified Instructional Salaries             ...</td>\n",
       "      <td>43306.31</td>\n",
<<<<<<< HEAD
>>>>>>> Helen
>>>>>>> 958d3b6f3a0d2c5e7972472b1df355b5c251e781
=======
>>>>>>> 66edc7c026dc60249828aa6869a0944f4137744a
       "    </tr>\n",
       "    <tr>\n",
       "      <th>2</th>\n",
       "      <td>1100170000000</td>\n",
<<<<<<< HEAD
<<<<<<< HEAD
       "      <td>Transfers Between Agencies                    ...</td>\n",
       "      <td>Not Applicable (For use with revenues and bala...</td>\n",
       "      <td>857.51</td>\n",
=======
<<<<<<< HEAD
       "      <td>Transfers Between Agencies                    ...</td>\n",
       "      <td>Not Applicable (For use with revenues and bala...</td>\n",
       "      <td>857.51</td>\n",
=======
=======
>>>>>>> 66edc7c026dc60249828aa6869a0944f4137744a
       "      <td>10017</td>\n",
       "      <td>2100</td>\n",
       "      <td>Classified Instructional Salaries             ...</td>\n",
       "      <td>33486.20</td>\n",
<<<<<<< HEAD
>>>>>>> Helen
>>>>>>> 958d3b6f3a0d2c5e7972472b1df355b5c251e781
=======
>>>>>>> 66edc7c026dc60249828aa6869a0944f4137744a
       "    </tr>\n",
       "    <tr>\n",
       "      <th>3</th>\n",
       "      <td>1100170000000</td>\n",
<<<<<<< HEAD
<<<<<<< HEAD
       "      <td>Transfers Between Agencies                    ...</td>\n",
       "      <td>Not Applicable (For use with revenues and bala...</td>\n",
       "      <td>15183.70</td>\n",
=======
<<<<<<< HEAD
       "      <td>Transfers Between Agencies                    ...</td>\n",
       "      <td>Not Applicable (For use with revenues and bala...</td>\n",
       "      <td>15183.70</td>\n",
=======
=======
>>>>>>> 66edc7c026dc60249828aa6869a0944f4137744a
       "      <td>10017</td>\n",
       "      <td>2100</td>\n",
       "      <td>Classified Instructional Salaries             ...</td>\n",
       "      <td>172578.82</td>\n",
<<<<<<< HEAD
>>>>>>> Helen
>>>>>>> 958d3b6f3a0d2c5e7972472b1df355b5c251e781
=======
>>>>>>> 66edc7c026dc60249828aa6869a0944f4137744a
       "    </tr>\n",
       "    <tr>\n",
       "      <th>4</th>\n",
       "      <td>1100170000000</td>\n",
<<<<<<< HEAD
<<<<<<< HEAD
       "      <td>Transfers Between Agencies                    ...</td>\n",
       "      <td>Not Applicable (For use with revenues and bala...</td>\n",
       "      <td>53207.45</td>\n",
=======
<<<<<<< HEAD
       "      <td>Transfers Between Agencies                    ...</td>\n",
       "      <td>Not Applicable (For use with revenues and bala...</td>\n",
       "      <td>53207.45</td>\n",
=======
=======
>>>>>>> 66edc7c026dc60249828aa6869a0944f4137744a
       "      <td>10017</td>\n",
       "      <td>2100</td>\n",
       "      <td>Classified Instructional Salaries             ...</td>\n",
       "      <td>165525.64</td>\n",
<<<<<<< HEAD
>>>>>>> Helen
>>>>>>> 958d3b6f3a0d2c5e7972472b1df355b5c251e781
=======
>>>>>>> 66edc7c026dc60249828aa6869a0944f4137744a
       "    </tr>\n",
       "    <tr>\n",
       "      <th>...</th>\n",
       "      <td>...</td>\n",
       "      <td>...</td>\n",
       "      <td>...</td>\n",
       "      <td>...</td>\n",
<<<<<<< HEAD
<<<<<<< HEAD
=======
<<<<<<< HEAD
>>>>>>> 958d3b6f3a0d2c5e7972472b1df355b5c251e781
       "    </tr>\n",
       "    <tr>\n",
       "      <th>94817</th>\n",
       "      <td>57726940000000</td>\n",
       "      <td>Community Recreation                          ...</td>\n",
       "      <td>Special Education:  Nonpublic Agencies/Schools...</td>\n",
       "      <td>35263.39</td>\n",
       "    </tr>\n",
       "    <tr>\n",
       "      <th>94818</th>\n",
       "      <td>57726940000000</td>\n",
       "      <td>Community Recreation                          ...</td>\n",
       "      <td>Special Education:  Nonpublic Agencies/Schools...</td>\n",
       "      <td>219954.00</td>\n",
       "    </tr>\n",
       "    <tr>\n",
       "      <th>94819</th>\n",
       "      <td>57727100000000</td>\n",
       "      <td>Community Recreation                          ...</td>\n",
       "      <td>Special Education:  Nonpublic Agencies/Schools...</td>\n",
       "      <td>141181.98</td>\n",
       "    </tr>\n",
       "    <tr>\n",
       "      <th>94820</th>\n",
       "      <td>57727100000000</td>\n",
       "      <td>Community Recreation                          ...</td>\n",
       "      <td>Special Education:  Nonpublic Agencies/Schools...</td>\n",
       "      <td>8303.49</td>\n",
       "    </tr>\n",
       "    <tr>\n",
       "      <th>94821</th>\n",
       "      <td>58727360000000</td>\n",
       "      <td>Community Recreation                          ...</td>\n",
       "      <td>Special Education:  Nonpublic Agencies/Schools...</td>\n",
       "      <td>242112.65</td>\n",
       "    </tr>\n",
       "  </tbody>\n",
       "</table>\n",
       "<p>94822 rows × 4 columns</p>\n",
       "</div>"
      ],
      "text/plain": [
       "             CDS_CODE                                             Object  \\\n",
       "0       1100170000000  Transfers Between Agencies                    ...   \n",
       "1       1100170000000  Transfers Between Agencies                    ...   \n",
       "2       1100170000000  Transfers Between Agencies                    ...   \n",
       "3       1100170000000  Transfers Between Agencies                    ...   \n",
       "4       1100170000000  Transfers Between Agencies                    ...   \n",
       "...               ...                                                ...   \n",
       "94817  57726940000000  Community Recreation                          ...   \n",
       "94818  57726940000000  Community Recreation                          ...   \n",
       "94819  57727100000000  Community Recreation                          ...   \n",
       "94820  57727100000000  Community Recreation                          ...   \n",
       "94821  58727360000000  Community Recreation                          ...   \n",
       "\n",
       "                                                Function     Amount  \n",
       "0      Not Applicable (For use with revenues and bala...  750852.09  \n",
       "1      Not Applicable (For use with revenues and bala...     633.91  \n",
       "2      Not Applicable (For use with revenues and bala...     857.51  \n",
       "3      Not Applicable (For use with revenues and bala...   15183.70  \n",
       "4      Not Applicable (For use with revenues and bala...   53207.45  \n",
       "...                                                  ...        ...  \n",
       "94817  Special Education:  Nonpublic Agencies/Schools...   35263.39  \n",
       "94818  Special Education:  Nonpublic Agencies/Schools...  219954.00  \n",
       "94819  Special Education:  Nonpublic Agencies/Schools...  141181.98  \n",
       "94820  Special Education:  Nonpublic Agencies/Schools...    8303.49  \n",
       "94821  Special Education:  Nonpublic Agencies/Schools...  242112.65  \n",
       "\n",
       "[94822 rows x 4 columns]"
      ]
     },
     "execution_count": 28,
<<<<<<< HEAD
=======
=======
=======
>>>>>>> 66edc7c026dc60249828aa6869a0944f4137744a
       "      <td>...</td>\n",
       "    </tr>\n",
       "    <tr>\n",
       "      <th>123974</th>\n",
       "      <td>57105790000000</td>\n",
       "      <td>10579</td>\n",
       "      <td>7350</td>\n",
       "      <td>Transfers of Indirect Costs - Interfund       ...</td>\n",
       "      <td>107.15</td>\n",
       "    </tr>\n",
       "    <tr>\n",
       "      <th>123975</th>\n",
       "      <td>57105790000000</td>\n",
       "      <td>10579</td>\n",
       "      <td>7350</td>\n",
       "      <td>Transfers of Indirect Costs - Interfund       ...</td>\n",
       "      <td>795.80</td>\n",
       "    </tr>\n",
       "    <tr>\n",
       "      <th>123976</th>\n",
       "      <td>57105790000000</td>\n",
       "      <td>10579</td>\n",
       "      <td>7350</td>\n",
       "      <td>Transfers of Indirect Costs - Interfund       ...</td>\n",
       "      <td>19.72</td>\n",
       "    </tr>\n",
       "    <tr>\n",
       "      <th>123977</th>\n",
       "      <td>57105790000000</td>\n",
       "      <td>10579</td>\n",
       "      <td>7350</td>\n",
       "      <td>Transfers of Indirect Costs - Interfund       ...</td>\n",
       "      <td>700.00</td>\n",
       "    </tr>\n",
       "    <tr>\n",
       "      <th>123978</th>\n",
       "      <td>57105790000000</td>\n",
       "      <td>10579</td>\n",
       "      <td>7350</td>\n",
       "      <td>Transfers of Indirect Costs - Interfund       ...</td>\n",
       "      <td>45.88</td>\n",
       "    </tr>\n",
       "  </tbody>\n",
       "</table>\n",
       "<p>123979 rows × 5 columns</p>\n",
       "</div>"
      ],
      "text/plain": [
       "              CDS_CODE  District_Code  Function_Code  \\\n",
       "0        1100170000000          10017           2100   \n",
       "1        1100170000000          10017           2100   \n",
       "2        1100170000000          10017           2100   \n",
       "3        1100170000000          10017           2100   \n",
       "4        1100170000000          10017           2100   \n",
       "...                ...            ...            ...   \n",
       "123974  57105790000000          10579           7350   \n",
       "123975  57105790000000          10579           7350   \n",
       "123976  57105790000000          10579           7350   \n",
       "123977  57105790000000          10579           7350   \n",
       "123978  57105790000000          10579           7350   \n",
       "\n",
       "                                                 Function     Amount  \n",
       "0       Classified Instructional Salaries             ...    5148.00  \n",
       "1       Classified Instructional Salaries             ...   43306.31  \n",
       "2       Classified Instructional Salaries             ...   33486.20  \n",
       "3       Classified Instructional Salaries             ...  172578.82  \n",
       "4       Classified Instructional Salaries             ...  165525.64  \n",
       "...                                                   ...        ...  \n",
       "123974  Transfers of Indirect Costs - Interfund       ...     107.15  \n",
       "123975  Transfers of Indirect Costs - Interfund       ...     795.80  \n",
       "123976  Transfers of Indirect Costs - Interfund       ...      19.72  \n",
       "123977  Transfers of Indirect Costs - Interfund       ...     700.00  \n",
       "123978  Transfers of Indirect Costs - Interfund       ...      45.88  \n",
       "\n",
       "[123979 rows x 5 columns]"
      ]
     },
<<<<<<< HEAD
     "execution_count": 20,
>>>>>>> Helen
>>>>>>> 958d3b6f3a0d2c5e7972472b1df355b5c251e781
=======
     "execution_count": 29,
>>>>>>> 66edc7c026dc60249828aa6869a0944f4137744a
     "metadata": {},
     "output_type": "execute_result"
    }
   ],
   "source": [
    "#Keep necessary columns\n",
<<<<<<< HEAD
<<<<<<< HEAD
    "final_1213df=func_df[['CDS_CODE','Object','Function','Amount']]\n",
    "final_1213df"
=======
<<<<<<< HEAD
    "final_1213df=func_df[['CDS_CODE','Object','Function','Amount']]\n",
    "final_1213df"
=======
    "final_data=func_df[['CDS_CODE','District_Code','Function_Code','Function','Amount']]\n",
    "final_data"
>>>>>>> Helen
>>>>>>> 958d3b6f3a0d2c5e7972472b1df355b5c251e781
=======
    "final_data=func_df[['CDS_CODE','District_Code','Function_Code','Function','Amount']]\n",
    "final_data"
>>>>>>> 66edc7c026dc60249828aa6869a0944f4137744a
   ]
  },
  {
   "cell_type": "code",
<<<<<<< HEAD
<<<<<<< HEAD
   "execution_count": 31,
=======
<<<<<<< HEAD
   "execution_count": 31,
=======
   "execution_count": 21,
>>>>>>> Helen
>>>>>>> 958d3b6f3a0d2c5e7972472b1df355b5c251e781
=======
   "execution_count": 30,
>>>>>>> 66edc7c026dc60249828aa6869a0944f4137744a
   "metadata": {},
   "outputs": [
    {
     "data": {
      "text/html": [
       "<div>\n",
       "<style scoped>\n",
       "    .dataframe tbody tr th:only-of-type {\n",
       "        vertical-align: middle;\n",
       "    }\n",
       "\n",
       "    .dataframe tbody tr th {\n",
       "        vertical-align: top;\n",
       "    }\n",
       "\n",
       "    .dataframe thead th {\n",
       "        text-align: right;\n",
       "    }\n",
       "</style>\n",
       "<table border=\"1\" class=\"dataframe\">\n",
       "  <thead>\n",
       "    <tr style=\"text-align: right;\">\n",
       "      <th></th>\n",
       "      <th></th>\n",
       "      <th></th>\n",
<<<<<<< HEAD
<<<<<<< HEAD
=======
<<<<<<< HEAD
=======
       "      <th></th>\n",
>>>>>>> Helen
>>>>>>> 958d3b6f3a0d2c5e7972472b1df355b5c251e781
=======
       "      <th></th>\n",
>>>>>>> 66edc7c026dc60249828aa6869a0944f4137744a
       "      <th>Amount</th>\n",
       "    </tr>\n",
       "    <tr>\n",
       "      <th>CDS_CODE</th>\n",
<<<<<<< HEAD
<<<<<<< HEAD
       "      <th>Object</th>\n",
=======
<<<<<<< HEAD
       "      <th>Object</th>\n",
=======
       "      <th>District_Code</th>\n",
       "      <th>Function_Code</th>\n",
>>>>>>> Helen
>>>>>>> 958d3b6f3a0d2c5e7972472b1df355b5c251e781
=======
       "      <th>District_Code</th>\n",
       "      <th>Function_Code</th>\n",
>>>>>>> 66edc7c026dc60249828aa6869a0944f4137744a
       "      <th>Function</th>\n",
       "      <th></th>\n",
       "    </tr>\n",
       "  </thead>\n",
       "  <tbody>\n",
       "    <tr>\n",
       "      <th rowspan=\"5\" valign=\"top\">1100170000000</th>\n",
<<<<<<< HEAD
<<<<<<< HEAD
=======
<<<<<<< HEAD
>>>>>>> 958d3b6f3a0d2c5e7972472b1df355b5c251e781
       "      <th rowspan=\"5\" valign=\"top\">Administrative Unit (AU) of a Multidistrict SELPA</th>\n",
       "      <th>Attendance and Social Work Services</th>\n",
       "      <td>204725.06</td>\n",
       "    </tr>\n",
       "    <tr>\n",
       "      <th>Board and Superintendent</th>\n",
       "      <td>697.09</td>\n",
       "    </tr>\n",
       "    <tr>\n",
       "      <th>Other Ancillary Services</th>\n",
       "      <td>225934.43</td>\n",
       "    </tr>\n",
       "    <tr>\n",
       "      <th>Other Community Services</th>\n",
       "      <td>20516.00</td>\n",
       "    </tr>\n",
       "    <tr>\n",
       "      <th>Plant Maintenance and Operations</th>\n",
       "      <td>476930.59</td>\n",
<<<<<<< HEAD
=======
=======
=======
>>>>>>> 66edc7c026dc60249828aa6869a0944f4137744a
       "      <th rowspan=\"5\" valign=\"top\">10017</th>\n",
       "      <th>2100</th>\n",
       "      <th>Classified Instructional Salaries</th>\n",
       "      <td>5761988.84</td>\n",
       "    </tr>\n",
       "    <tr>\n",
       "      <th>5900</th>\n",
       "      <th>Communications</th>\n",
       "      <td>2126900.99</td>\n",
       "    </tr>\n",
       "    <tr>\n",
       "      <th>7110</th>\n",
       "      <th>Tuition for Instruction Under Interdistrict Attendance Agreements</th>\n",
       "      <td>248316.29</td>\n",
       "    </tr>\n",
       "    <tr>\n",
       "      <th>8110</th>\n",
       "      <th>Maintenance and Operations (Public Law 81-874)</th>\n",
       "      <td>2607.78</td>\n",
       "    </tr>\n",
       "    <tr>\n",
       "      <th>9200</th>\n",
       "      <th>Accounts Receivable</th>\n",
       "      <td>1138122.98</td>\n",
<<<<<<< HEAD
>>>>>>> Helen
>>>>>>> 958d3b6f3a0d2c5e7972472b1df355b5c251e781
=======
>>>>>>> 66edc7c026dc60249828aa6869a0944f4137744a
       "    </tr>\n",
       "    <tr>\n",
       "      <th>...</th>\n",
       "      <th>...</th>\n",
       "      <th>...</th>\n",
<<<<<<< HEAD
<<<<<<< HEAD
=======
<<<<<<< HEAD
>>>>>>> 958d3b6f3a0d2c5e7972472b1df355b5c251e781
       "      <td>...</td>\n",
       "    </tr>\n",
       "    <tr>\n",
       "      <th rowspan=\"5\" valign=\"top\">58727690000000</th>\n",
       "      <th>Maintenance</th>\n",
       "      <th>Not Applicable (For use with revenues and balance sheet transactions only)</th>\n",
       "      <td>292564.35</td>\n",
       "    </tr>\n",
       "    <tr>\n",
       "      <th rowspan=\"2\" valign=\"top\">Other Community Services</th>\n",
       "      <th>Operations</th>\n",
       "      <td>13739.22</td>\n",
       "    </tr>\n",
       "    <tr>\n",
       "      <th>School Administration</th>\n",
       "      <td>5680.51</td>\n",
       "    </tr>\n",
       "    <tr>\n",
       "      <th>School-Sponsored Co-curricular</th>\n",
       "      <th>Instruction</th>\n",
       "      <td>70795.26</td>\n",
       "    </tr>\n",
       "    <tr>\n",
       "      <th>Transfers Between Agencies</th>\n",
       "      <th>Not Applicable (For use with revenues and balance sheet transactions only)</th>\n",
       "      <td>1193792.19</td>\n",
       "    </tr>\n",
       "  </tbody>\n",
       "</table>\n",
       "<p>29641 rows × 1 columns</p>\n",
       "</div>"
      ],
      "text/plain": [
       "                                                                                                                          Amount\n",
       "CDS_CODE       Object                                             Function                                                      \n",
       "1100170000000  Administrative Unit (AU) of a Multidistrict SEL... Attendance and Social Work Services            ...   204725.06\n",
       "                                                                  Board and Superintendent                       ...      697.09\n",
       "                                                                  Other Ancillary Services                       ...   225934.43\n",
       "                                                                  Other Community Services                       ...    20516.00\n",
       "                                                                  Plant Maintenance and Operations               ...   476930.59\n",
       "...                                                                                                                          ...\n",
       "58727690000000 Maintenance                                    ... Not Applicable (For use with revenues and balan...   292564.35\n",
       "               Other Community Services                       ... Operations                                     ...    13739.22\n",
       "                                                                  School Administration                          ...     5680.51\n",
       "               School-Sponsored Co-curricular                 ... Instruction                                    ...    70795.26\n",
       "               Transfers Between Agencies                     ... Not Applicable (For use with revenues and balan...  1193792.19\n",
       "\n",
       "[29641 rows x 1 columns]"
      ]
     },
     "execution_count": 31,
<<<<<<< HEAD
=======
=======
=======
>>>>>>> 66edc7c026dc60249828aa6869a0944f4137744a
       "      <th>...</th>\n",
       "      <td>...</td>\n",
       "    </tr>\n",
       "    <tr>\n",
       "      <th>58727510000000</th>\n",
       "      <th>72751</th>\n",
       "      <th>9200</th>\n",
       "      <th>Accounts Receivable</th>\n",
       "      <td>257897.98</td>\n",
       "    </tr>\n",
       "    <tr>\n",
       "      <th rowspan=\"4\" valign=\"top\">58727690000000</th>\n",
       "      <th rowspan=\"4\" valign=\"top\">72769</th>\n",
       "      <th>2100</th>\n",
       "      <th>Classified Instructional Salaries</th>\n",
       "      <td>81262.45</td>\n",
       "    </tr>\n",
       "    <tr>\n",
       "      <th>4200</th>\n",
       "      <th>Books and Other Reference Materials</th>\n",
       "      <td>145863.48</td>\n",
       "    </tr>\n",
       "    <tr>\n",
       "      <th>8110</th>\n",
       "      <th>Maintenance and Operations (Public Law 81-874)</th>\n",
       "      <td>227745.90</td>\n",
       "    </tr>\n",
       "    <tr>\n",
       "      <th>9200</th>\n",
       "      <th>Accounts Receivable</th>\n",
       "      <td>64649.82</td>\n",
       "    </tr>\n",
       "  </tbody>\n",
       "</table>\n",
       "<p>3998 rows × 1 columns</p>\n",
       "</div>"
      ],
      "text/plain": [
       "                                                                                                   Amount\n",
       "CDS_CODE       District_Code Function_Code Function                                                      \n",
       "1100170000000  10017         2100          Classified Instructional Salaries              ...  5761988.84\n",
       "                             5900          Communications                                 ...  2126900.99\n",
       "                             7110          Tuition for Instruction Under Interdistrict Att...   248316.29\n",
       "                             8110          Maintenance and Operations (Public Law 81-874) ...     2607.78\n",
       "                             9200          Accounts Receivable                            ...  1138122.98\n",
       "...                                                                                                   ...\n",
       "58727510000000 72751         9200          Accounts Receivable                            ...   257897.98\n",
       "58727690000000 72769         2100          Classified Instructional Salaries              ...    81262.45\n",
       "                             4200          Books and Other Reference Materials            ...   145863.48\n",
       "                             8110          Maintenance and Operations (Public Law 81-874) ...   227745.90\n",
       "                             9200          Accounts Receivable                            ...    64649.82\n",
       "\n",
       "[3998 rows x 1 columns]"
      ]
     },
<<<<<<< HEAD
     "execution_count": 21,
>>>>>>> Helen
>>>>>>> 958d3b6f3a0d2c5e7972472b1df355b5c251e781
=======
     "execution_count": 30,
>>>>>>> 66edc7c026dc60249828aa6869a0944f4137744a
     "metadata": {},
     "output_type": "execute_result"
    }
   ],
   "source": [
    "#Organize data\n",
<<<<<<< HEAD
<<<<<<< HEAD
    "final_1213df=final_1213df.groupby(['CDS_CODE','Object','Function']).sum()\n",
    "final_1213df"
=======
<<<<<<< HEAD
    "final_1213df=final_1213df.groupby(['CDS_CODE','Object','Function']).sum()\n",
    "final_1213df"
=======
    "final_data=final_data.groupby(['CDS_CODE','District_Code','Function_Code','Function']).sum()\n",
    "final_data"
>>>>>>> Helen
>>>>>>> 958d3b6f3a0d2c5e7972472b1df355b5c251e781
=======
    "final_data=final_data.groupby(['CDS_CODE','District_Code','Function_Code','Function']).sum()\n",
    "final_data"
>>>>>>> 66edc7c026dc60249828aa6869a0944f4137744a
   ]
  },
  {
   "cell_type": "code",
<<<<<<< HEAD
<<<<<<< HEAD
=======
<<<<<<< HEAD
>>>>>>> 958d3b6f3a0d2c5e7972472b1df355b5c251e781
   "execution_count": 34,
   "metadata": {},
   "outputs": [],
   "source": [
    "final_1213df.to_csv('../Finance_Data/Finance_1213.csv')"
   ]
<<<<<<< HEAD
=======
=======
   "execution_count": 22,
=======
   "execution_count": 31,
>>>>>>> 66edc7c026dc60249828aa6869a0944f4137744a
   "metadata": {},
   "outputs": [],
   "source": [
    "final_data.to_csv('../Finance_Data/Finance_1213.csv')"
   ]
  },
  {
   "cell_type": "code",
   "execution_count": null,
   "metadata": {},
   "outputs": [],
   "source": []
<<<<<<< HEAD
>>>>>>> Helen
>>>>>>> 958d3b6f3a0d2c5e7972472b1df355b5c251e781
=======
>>>>>>> 66edc7c026dc60249828aa6869a0944f4137744a
  }
 ],
 "metadata": {
  "kernelspec": {
   "display_name": "PythonData",
   "language": "python",
   "name": "pythondata"
  },
  "language_info": {
   "codemirror_mode": {
    "name": "ipython",
    "version": 3
   },
   "file_extension": ".py",
   "mimetype": "text/x-python",
   "name": "python",
   "nbconvert_exporter": "python",
   "pygments_lexer": "ipython3",
   "version": "3.7.4"
  }
 },
 "nbformat": 4,
 "nbformat_minor": 4
}
