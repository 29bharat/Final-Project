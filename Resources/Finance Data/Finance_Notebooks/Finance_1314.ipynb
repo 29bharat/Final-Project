{
 "cells": [
  {
   "cell_type": "code",
   "execution_count": 1,
   "metadata": {},
   "outputs": [],
   "source": [
    "#add depedencies\n",
    "import pandas as pd"
   ]
  },
  {
   "cell_type": "markdown",
   "metadata": {},
   "source": [
    "## Cleaning Budget Data"
   ]
  },
  {
   "cell_type": "code",
   "execution_count": 2,
   "metadata": {},
   "outputs": [
    {
     "name": "stderr",
     "output_type": "stream",
     "text": [
      "C:\\Users\\hhngu\\AppData\\Roaming\\Python\\Python37\\site-packages\\IPython\\core\\interactiveshell.py:3051: DtypeWarning: Columns (9) have mixed types.Specify dtype option on import or set low_memory=False.\n",
      "  interactivity=interactivity, compiler=compiler, result=result)\n"
     ]
    },
    {
     "data": {
      "text/html": [
       "<div>\n",
       "<style scoped>\n",
       "    .dataframe tbody tr th:only-of-type {\n",
       "        vertical-align: middle;\n",
       "    }\n",
       "\n",
       "    .dataframe tbody tr th {\n",
       "        vertical-align: top;\n",
       "    }\n",
       "\n",
       "    .dataframe thead th {\n",
       "        text-align: right;\n",
       "    }\n",
       "</style>\n",
       "<table border=\"1\" class=\"dataframe\">\n",
       "  <thead>\n",
       "    <tr style=\"text-align: right;\">\n",
       "      <th></th>\n",
       "      <th>County_Code</th>\n",
       "      <th>District_Code</th>\n",
       "      <th>School_Code</th>\n",
       "      <th>Fiscal_Year</th>\n",
       "      <th>Period</th>\n",
       "      <th>Colcode</th>\n",
       "      <th>Account_Code</th>\n",
       "      <th>Fund_Code</th>\n",
       "      <th>Resource_Code</th>\n",
       "      <th>Project_Year</th>\n",
       "      <th>Goal</th>\n",
       "      <th>Function_Code</th>\n",
       "      <th>Object_Code</th>\n",
       "      <th>Amount</th>\n",
       "    </tr>\n",
       "  </thead>\n",
       "  <tbody>\n",
       "    <tr>\n",
       "      <th>0</th>\n",
       "      <td>1</td>\n",
       "      <td>10017</td>\n",
       "      <td>0</td>\n",
       "      <td>2013</td>\n",
       "      <td>A</td>\n",
       "      <td>BA</td>\n",
       "      <td>0100000000000008011</td>\n",
       "      <td>1</td>\n",
       "      <td>0</td>\n",
       "      <td>0</td>\n",
       "      <td>0000</td>\n",
       "      <td>0</td>\n",
       "      <td>8011</td>\n",
       "      <td>9139833.00</td>\n",
       "    </tr>\n",
       "    <tr>\n",
       "      <th>1</th>\n",
       "      <td>1</td>\n",
       "      <td>10017</td>\n",
       "      <td>0</td>\n",
       "      <td>2013</td>\n",
       "      <td>A</td>\n",
       "      <td>BA</td>\n",
       "      <td>0100000000000008019</td>\n",
       "      <td>1</td>\n",
       "      <td>0</td>\n",
       "      <td>0</td>\n",
       "      <td>0000</td>\n",
       "      <td>0</td>\n",
       "      <td>8019</td>\n",
       "      <td>-21550.00</td>\n",
       "    </tr>\n",
       "    <tr>\n",
       "      <th>2</th>\n",
       "      <td>1</td>\n",
       "      <td>10017</td>\n",
       "      <td>0</td>\n",
       "      <td>2013</td>\n",
       "      <td>A</td>\n",
       "      <td>BA</td>\n",
       "      <td>0100000000000008021</td>\n",
       "      <td>1</td>\n",
       "      <td>0</td>\n",
       "      <td>0</td>\n",
       "      <td>0000</td>\n",
       "      <td>0</td>\n",
       "      <td>8021</td>\n",
       "      <td>121246.67</td>\n",
       "    </tr>\n",
       "    <tr>\n",
       "      <th>3</th>\n",
       "      <td>1</td>\n",
       "      <td>10017</td>\n",
       "      <td>0</td>\n",
       "      <td>2013</td>\n",
       "      <td>A</td>\n",
       "      <td>BA</td>\n",
       "      <td>0100000000000008029</td>\n",
       "      <td>1</td>\n",
       "      <td>0</td>\n",
       "      <td>0</td>\n",
       "      <td>0000</td>\n",
       "      <td>0</td>\n",
       "      <td>8029</td>\n",
       "      <td>1388.00</td>\n",
       "    </tr>\n",
       "    <tr>\n",
       "      <th>4</th>\n",
       "      <td>1</td>\n",
       "      <td>10017</td>\n",
       "      <td>0</td>\n",
       "      <td>2013</td>\n",
       "      <td>A</td>\n",
       "      <td>BA</td>\n",
       "      <td>0100000000000008041</td>\n",
       "      <td>1</td>\n",
       "      <td>0</td>\n",
       "      <td>0</td>\n",
       "      <td>0000</td>\n",
       "      <td>0</td>\n",
       "      <td>8041</td>\n",
       "      <td>11471418.19</td>\n",
       "    </tr>\n",
       "    <tr>\n",
       "      <th>...</th>\n",
       "      <td>...</td>\n",
       "      <td>...</td>\n",
       "      <td>...</td>\n",
       "      <td>...</td>\n",
       "      <td>...</td>\n",
       "      <td>...</td>\n",
       "      <td>...</td>\n",
       "      <td>...</td>\n",
       "      <td>...</td>\n",
       "      <td>...</td>\n",
       "      <td>...</td>\n",
       "      <td>...</td>\n",
       "      <td>...</td>\n",
       "      <td>...</td>\n",
       "    </tr>\n",
       "    <tr>\n",
       "      <th>1234772</th>\n",
       "      <td>58</td>\n",
       "      <td>72769</td>\n",
       "      <td>0</td>\n",
       "      <td>2013</td>\n",
       "      <td>A</td>\n",
       "      <td>BA</td>\n",
       "      <td>7300000000000009500</td>\n",
       "      <td>73</td>\n",
       "      <td>0</td>\n",
       "      <td>0</td>\n",
       "      <td>0000</td>\n",
       "      <td>0</td>\n",
       "      <td>9500</td>\n",
       "      <td>1000.00</td>\n",
       "    </tr>\n",
       "    <tr>\n",
       "      <th>1234773</th>\n",
       "      <td>58</td>\n",
       "      <td>72769</td>\n",
       "      <td>0</td>\n",
       "      <td>2013</td>\n",
       "      <td>A</td>\n",
       "      <td>BA</td>\n",
       "      <td>7300000000000009790</td>\n",
       "      <td>73</td>\n",
       "      <td>0</td>\n",
       "      <td>0</td>\n",
       "      <td>0000</td>\n",
       "      <td>0</td>\n",
       "      <td>9790</td>\n",
       "      <td>72064.66</td>\n",
       "    </tr>\n",
       "    <tr>\n",
       "      <th>1234774</th>\n",
       "      <td>58</td>\n",
       "      <td>72769</td>\n",
       "      <td>0</td>\n",
       "      <td>2013</td>\n",
       "      <td>A</td>\n",
       "      <td>BA</td>\n",
       "      <td>7300000000000009791</td>\n",
       "      <td>73</td>\n",
       "      <td>0</td>\n",
       "      <td>0</td>\n",
       "      <td>0000</td>\n",
       "      <td>0</td>\n",
       "      <td>9791</td>\n",
       "      <td>71592.16</td>\n",
       "    </tr>\n",
       "    <tr>\n",
       "      <th>1234775</th>\n",
       "      <td>58</td>\n",
       "      <td>72769</td>\n",
       "      <td>0</td>\n",
       "      <td>2013</td>\n",
       "      <td>A</td>\n",
       "      <td>BA</td>\n",
       "      <td>730000000000000979Z</td>\n",
       "      <td>73</td>\n",
       "      <td>0</td>\n",
       "      <td>0</td>\n",
       "      <td>0000</td>\n",
       "      <td>0</td>\n",
       "      <td>979Z</td>\n",
       "      <td>72064.66</td>\n",
       "    </tr>\n",
       "    <tr>\n",
       "      <th>1234776</th>\n",
       "      <td>58</td>\n",
       "      <td>72769</td>\n",
       "      <td>0</td>\n",
       "      <td>2013</td>\n",
       "      <td>A</td>\n",
       "      <td>BA</td>\n",
       "      <td>7300000000027005800</td>\n",
       "      <td>73</td>\n",
       "      <td>0</td>\n",
       "      <td>0</td>\n",
       "      <td>0000</td>\n",
       "      <td>2700</td>\n",
       "      <td>5800</td>\n",
       "      <td>1000.00</td>\n",
       "    </tr>\n",
       "  </tbody>\n",
       "</table>\n",
       "<p>1234777 rows × 14 columns</p>\n",
       "</div>"
      ],
      "text/plain": [
       "         County_Code  District_Code  School_Code  Fiscal_Year Period Colcode  \\\n",
       "0                  1          10017            0         2013   A       BA     \n",
       "1                  1          10017            0         2013   A       BA     \n",
       "2                  1          10017            0         2013   A       BA     \n",
       "3                  1          10017            0         2013   A       BA     \n",
       "4                  1          10017            0         2013   A       BA     \n",
       "...              ...            ...          ...          ...    ...     ...   \n",
       "1234772           58          72769            0         2013   A       BA     \n",
       "1234773           58          72769            0         2013   A       BA     \n",
       "1234774           58          72769            0         2013   A       BA     \n",
       "1234775           58          72769            0         2013   A       BA     \n",
       "1234776           58          72769            0         2013   A       BA     \n",
       "\n",
       "                Account_Code  Fund_Code  Resource_Code Project_Year  Goal  \\\n",
       "0        0100000000000008011          1              0            0  0000   \n",
       "1        0100000000000008019          1              0            0  0000   \n",
       "2        0100000000000008021          1              0            0  0000   \n",
       "3        0100000000000008029          1              0            0  0000   \n",
       "4        0100000000000008041          1              0            0  0000   \n",
       "...                      ...        ...            ...          ...   ...   \n",
       "1234772  7300000000000009500         73              0            0  0000   \n",
       "1234773  7300000000000009790         73              0            0  0000   \n",
       "1234774  7300000000000009791         73              0            0  0000   \n",
       "1234775  730000000000000979Z         73              0            0  0000   \n",
       "1234776  7300000000027005800         73              0            0  0000   \n",
       "\n",
       "         Function_Code Object_Code       Amount  \n",
       "0                    0        8011   9139833.00  \n",
       "1                    0        8019    -21550.00  \n",
       "2                    0        8021    121246.67  \n",
       "3                    0        8029      1388.00  \n",
       "4                    0        8041  11471418.19  \n",
       "...                ...         ...          ...  \n",
       "1234772              0        9500      1000.00  \n",
       "1234773              0        9790     72064.66  \n",
       "1234774              0        9791     71592.16  \n",
       "1234775              0        979Z     72064.66  \n",
       "1234776           2700        5800      1000.00  \n",
       "\n",
       "[1234777 rows x 14 columns]"
      ]
     },
     "execution_count": 2,
     "metadata": {},
     "output_type": "execute_result"
    }
   ],
   "source": [
    "#Load finance file\n",
    "data_df=pd.read_csv(\"../School Budget Data '13-'14.zip\",\n",
    "                       names=['County_Code','District_Code','School_Code','Fiscal_Year',\n",
    "                                  'Period','Colcode','Account_Code','Fund_Code','Resource_Code',\n",
    "                                  'Project_Year','Goal','Function_Code','Object_Code','Amount'])\n",
    "data_df"
   ]
  },
  {
   "cell_type": "code",
   "execution_count": 3,
   "metadata": {},
   "outputs": [
    {
     "data": {
      "text/plain": [
       "County_Code      1234777\n",
       "District_Code    1234777\n",
       "School_Code      1234777\n",
       "Fiscal_Year      1234777\n",
       "Period           1234777\n",
       "Colcode          1234777\n",
       "Account_Code     1234777\n",
       "Fund_Code        1234777\n",
       "Resource_Code    1234777\n",
       "Project_Year     1234777\n",
       "Goal             1234777\n",
       "Function_Code    1234777\n",
       "Object_Code      1234777\n",
       "Amount           1234777\n",
       "dtype: int64"
      ]
     },
     "execution_count": 3,
     "metadata": {},
     "output_type": "execute_result"
    }
   ],
   "source": [
    "#Determine any missing values \n",
    "data_df.dropna()\n",
    "data_df.count()"
   ]
  },
  {
   "cell_type": "code",
   "execution_count": 4,
   "metadata": {},
   "outputs": [
    {
     "data": {
      "text/plain": [
       "County_Code        int64\n",
       "District_Code      int64\n",
       "School_Code        int64\n",
       "Fiscal_Year        int64\n",
       "Period            object\n",
       "Colcode           object\n",
       "Account_Code      object\n",
       "Fund_Code          int64\n",
       "Resource_Code      int64\n",
       "Project_Year      object\n",
       "Goal              object\n",
       "Function_Code      int64\n",
       "Object_Code       object\n",
       "Amount           float64\n",
       "dtype: object"
      ]
     },
     "execution_count": 4,
     "metadata": {},
     "output_type": "execute_result"
    }
   ],
   "source": [
    "data_df.dtypes"
   ]
  },
  {
   "cell_type": "code",
   "execution_count": 5,
   "metadata": {},
   "outputs": [
    {
     "data": {
      "text/html": [
       "<div>\n",
       "<style scoped>\n",
       "    .dataframe tbody tr th:only-of-type {\n",
       "        vertical-align: middle;\n",
       "    }\n",
       "\n",
       "    .dataframe tbody tr th {\n",
       "        vertical-align: top;\n",
       "    }\n",
       "\n",
       "    .dataframe thead th {\n",
       "        text-align: right;\n",
       "    }\n",
       "</style>\n",
       "<table border=\"1\" class=\"dataframe\">\n",
       "  <thead>\n",
       "    <tr style=\"text-align: right;\">\n",
       "      <th></th>\n",
       "      <th>County_Code</th>\n",
       "      <th>District_Code</th>\n",
       "      <th>School_Code</th>\n",
<<<<<<< HEAD
       "      <th>Object_Code</th>\n",
=======
<<<<<<< HEAD
       "      <th>Object_Code</th>\n",
=======
>>>>>>> Helen
>>>>>>> 958d3b6f3a0d2c5e7972472b1df355b5c251e781
       "      <th>Function_Code</th>\n",
       "      <th>Amount</th>\n",
       "    </tr>\n",
       "  </thead>\n",
       "  <tbody>\n",
       "    <tr>\n",
       "      <th>0</th>\n",
       "      <td>1</td>\n",
       "      <td>10017</td>\n",
       "      <td>0</td>\n",
<<<<<<< HEAD
       "      <td>8011</td>\n",
=======
<<<<<<< HEAD
       "      <td>8011</td>\n",
=======
>>>>>>> Helen
>>>>>>> 958d3b6f3a0d2c5e7972472b1df355b5c251e781
       "      <td>0</td>\n",
       "      <td>9139833.00</td>\n",
       "    </tr>\n",
       "    <tr>\n",
       "      <th>1</th>\n",
       "      <td>1</td>\n",
       "      <td>10017</td>\n",
       "      <td>0</td>\n",
<<<<<<< HEAD
       "      <td>8019</td>\n",
=======
<<<<<<< HEAD
       "      <td>8019</td>\n",
=======
>>>>>>> Helen
>>>>>>> 958d3b6f3a0d2c5e7972472b1df355b5c251e781
       "      <td>0</td>\n",
       "      <td>-21550.00</td>\n",
       "    </tr>\n",
       "    <tr>\n",
       "      <th>2</th>\n",
       "      <td>1</td>\n",
       "      <td>10017</td>\n",
       "      <td>0</td>\n",
<<<<<<< HEAD
       "      <td>8021</td>\n",
=======
<<<<<<< HEAD
       "      <td>8021</td>\n",
=======
>>>>>>> Helen
>>>>>>> 958d3b6f3a0d2c5e7972472b1df355b5c251e781
       "      <td>0</td>\n",
       "      <td>121246.67</td>\n",
       "    </tr>\n",
       "    <tr>\n",
       "      <th>3</th>\n",
       "      <td>1</td>\n",
       "      <td>10017</td>\n",
       "      <td>0</td>\n",
<<<<<<< HEAD
       "      <td>8029</td>\n",
=======
<<<<<<< HEAD
       "      <td>8029</td>\n",
=======
>>>>>>> Helen
>>>>>>> 958d3b6f3a0d2c5e7972472b1df355b5c251e781
       "      <td>0</td>\n",
       "      <td>1388.00</td>\n",
       "    </tr>\n",
       "    <tr>\n",
       "      <th>4</th>\n",
       "      <td>1</td>\n",
       "      <td>10017</td>\n",
       "      <td>0</td>\n",
<<<<<<< HEAD
       "      <td>8041</td>\n",
=======
<<<<<<< HEAD
       "      <td>8041</td>\n",
=======
>>>>>>> Helen
>>>>>>> 958d3b6f3a0d2c5e7972472b1df355b5c251e781
       "      <td>0</td>\n",
       "      <td>11471418.19</td>\n",
       "    </tr>\n",
       "    <tr>\n",
       "      <th>...</th>\n",
       "      <td>...</td>\n",
       "      <td>...</td>\n",
       "      <td>...</td>\n",
       "      <td>...</td>\n",
       "      <td>...</td>\n",
<<<<<<< HEAD
       "      <td>...</td>\n",
=======
<<<<<<< HEAD
       "      <td>...</td>\n",
=======
>>>>>>> Helen
>>>>>>> 958d3b6f3a0d2c5e7972472b1df355b5c251e781
       "    </tr>\n",
       "    <tr>\n",
       "      <th>1234772</th>\n",
       "      <td>58</td>\n",
       "      <td>72769</td>\n",
       "      <td>0</td>\n",
<<<<<<< HEAD
       "      <td>9500</td>\n",
=======
<<<<<<< HEAD
       "      <td>9500</td>\n",
=======
>>>>>>> Helen
>>>>>>> 958d3b6f3a0d2c5e7972472b1df355b5c251e781
       "      <td>0</td>\n",
       "      <td>1000.00</td>\n",
       "    </tr>\n",
       "    <tr>\n",
       "      <th>1234773</th>\n",
       "      <td>58</td>\n",
       "      <td>72769</td>\n",
       "      <td>0</td>\n",
<<<<<<< HEAD
       "      <td>9790</td>\n",
=======
<<<<<<< HEAD
       "      <td>9790</td>\n",
=======
>>>>>>> Helen
>>>>>>> 958d3b6f3a0d2c5e7972472b1df355b5c251e781
       "      <td>0</td>\n",
       "      <td>72064.66</td>\n",
       "    </tr>\n",
       "    <tr>\n",
       "      <th>1234774</th>\n",
       "      <td>58</td>\n",
       "      <td>72769</td>\n",
       "      <td>0</td>\n",
<<<<<<< HEAD
       "      <td>9791</td>\n",
=======
<<<<<<< HEAD
       "      <td>9791</td>\n",
=======
>>>>>>> Helen
>>>>>>> 958d3b6f3a0d2c5e7972472b1df355b5c251e781
       "      <td>0</td>\n",
       "      <td>71592.16</td>\n",
       "    </tr>\n",
       "    <tr>\n",
       "      <th>1234775</th>\n",
       "      <td>58</td>\n",
       "      <td>72769</td>\n",
       "      <td>0</td>\n",
<<<<<<< HEAD
       "      <td>979Z</td>\n",
=======
<<<<<<< HEAD
       "      <td>979Z</td>\n",
=======
>>>>>>> Helen
>>>>>>> 958d3b6f3a0d2c5e7972472b1df355b5c251e781
       "      <td>0</td>\n",
       "      <td>72064.66</td>\n",
       "    </tr>\n",
       "    <tr>\n",
       "      <th>1234776</th>\n",
       "      <td>58</td>\n",
       "      <td>72769</td>\n",
       "      <td>0</td>\n",
<<<<<<< HEAD
       "      <td>5800</td>\n",
=======
<<<<<<< HEAD
       "      <td>5800</td>\n",
=======
>>>>>>> Helen
>>>>>>> 958d3b6f3a0d2c5e7972472b1df355b5c251e781
       "      <td>2700</td>\n",
       "      <td>1000.00</td>\n",
       "    </tr>\n",
       "  </tbody>\n",
       "</table>\n",
<<<<<<< HEAD
=======
<<<<<<< HEAD
>>>>>>> 958d3b6f3a0d2c5e7972472b1df355b5c251e781
       "<p>1234777 rows × 6 columns</p>\n",
       "</div>"
      ],
      "text/plain": [
       "         County_Code  District_Code  School_Code Object_Code  Function_Code  \\\n",
       "0                  1          10017            0        8011              0   \n",
       "1                  1          10017            0        8019              0   \n",
       "2                  1          10017            0        8021              0   \n",
       "3                  1          10017            0        8029              0   \n",
       "4                  1          10017            0        8041              0   \n",
       "...              ...            ...          ...         ...            ...   \n",
       "1234772           58          72769            0        9500              0   \n",
       "1234773           58          72769            0        9790              0   \n",
       "1234774           58          72769            0        9791              0   \n",
       "1234775           58          72769            0        979Z              0   \n",
       "1234776           58          72769            0        5800           2700   \n",
       "\n",
       "              Amount  \n",
       "0         9139833.00  \n",
       "1          -21550.00  \n",
       "2          121246.67  \n",
       "3            1388.00  \n",
       "4        11471418.19  \n",
       "...              ...  \n",
       "1234772      1000.00  \n",
       "1234773     72064.66  \n",
       "1234774     71592.16  \n",
       "1234775     72064.66  \n",
       "1234776      1000.00  \n",
       "\n",
       "[1234777 rows x 6 columns]"
<<<<<<< HEAD
=======
=======
       "<p>1234777 rows × 5 columns</p>\n",
       "</div>"
      ],
      "text/plain": [
       "         County_Code  District_Code  School_Code  Function_Code       Amount\n",
       "0                  1          10017            0              0   9139833.00\n",
       "1                  1          10017            0              0    -21550.00\n",
       "2                  1          10017            0              0    121246.67\n",
       "3                  1          10017            0              0      1388.00\n",
       "4                  1          10017            0              0  11471418.19\n",
       "...              ...            ...          ...            ...          ...\n",
       "1234772           58          72769            0              0      1000.00\n",
       "1234773           58          72769            0              0     72064.66\n",
       "1234774           58          72769            0              0     71592.16\n",
       "1234775           58          72769            0              0     72064.66\n",
       "1234776           58          72769            0           2700      1000.00\n",
       "\n",
       "[1234777 rows x 5 columns]"
>>>>>>> Helen
>>>>>>> 958d3b6f3a0d2c5e7972472b1df355b5c251e781
      ]
     },
     "execution_count": 5,
     "metadata": {},
     "output_type": "execute_result"
    }
   ],
   "source": [
    "#Select desired columns\n",
<<<<<<< HEAD
    "clean_data_df=data_df[['County_Code','District_Code','School_Code','Object_Code','Function_Code','Amount']]\n",
=======
<<<<<<< HEAD
    "clean_data_df=data_df[['County_Code','District_Code','School_Code','Object_Code','Function_Code','Amount']]\n",
=======
    "clean_data_df=data_df[['County_Code','District_Code','School_Code','Function_Code','Amount']]\n",
>>>>>>> Helen
>>>>>>> 958d3b6f3a0d2c5e7972472b1df355b5c251e781
    "clean_data_df"
   ]
  },
  {
   "cell_type": "code",
   "execution_count": 6,
   "metadata": {},
   "outputs": [
    {
     "name": "stderr",
     "output_type": "stream",
     "text": [
      "C:\\Users\\hhngu\\AppData\\Roaming\\Python\\Python37\\site-packages\\ipykernel_launcher.py:2: SettingWithCopyWarning: \n",
      "A value is trying to be set on a copy of a slice from a DataFrame.\n",
      "Try using .loc[row_indexer,col_indexer] = value instead\n",
      "\n",
      "See the caveats in the documentation: https://pandas.pydata.org/pandas-docs/stable/user_guide/indexing.html#returning-a-view-versus-a-copy\n",
      "  \n",
      "C:\\Users\\hhngu\\AppData\\Roaming\\Python\\Python37\\site-packages\\ipykernel_launcher.py:3: SettingWithCopyWarning: \n",
      "A value is trying to be set on a copy of a slice from a DataFrame.\n",
      "Try using .loc[row_indexer,col_indexer] = value instead\n",
      "\n",
      "See the caveats in the documentation: https://pandas.pydata.org/pandas-docs/stable/user_guide/indexing.html#returning-a-view-versus-a-copy\n",
      "  This is separate from the ipykernel package so we can avoid doing imports until\n"
     ]
    },
    {
     "data": {
      "text/html": [
       "<div>\n",
       "<style scoped>\n",
       "    .dataframe tbody tr th:only-of-type {\n",
       "        vertical-align: middle;\n",
       "    }\n",
       "\n",
       "    .dataframe tbody tr th {\n",
       "        vertical-align: top;\n",
       "    }\n",
       "\n",
       "    .dataframe thead th {\n",
       "        text-align: right;\n",
       "    }\n",
       "</style>\n",
       "<table border=\"1\" class=\"dataframe\">\n",
       "  <thead>\n",
       "    <tr style=\"text-align: right;\">\n",
       "      <th></th>\n",
       "      <th>County_Code</th>\n",
       "      <th>District_Code</th>\n",
       "      <th>School_Code</th>\n",
<<<<<<< HEAD
       "      <th>Object_Code</th>\n",
=======
<<<<<<< HEAD
       "      <th>Object_Code</th>\n",
=======
>>>>>>> Helen
>>>>>>> 958d3b6f3a0d2c5e7972472b1df355b5c251e781
       "      <th>Function_Code</th>\n",
       "      <th>Amount</th>\n",
       "      <th>District</th>\n",
       "      <th>County</th>\n",
       "    </tr>\n",
       "  </thead>\n",
       "  <tbody>\n",
       "    <tr>\n",
       "      <th>0</th>\n",
       "      <td>1</td>\n",
       "      <td>10017</td>\n",
       "      <td>0</td>\n",
<<<<<<< HEAD
       "      <td>8011</td>\n",
=======
<<<<<<< HEAD
       "      <td>8011</td>\n",
=======
>>>>>>> Helen
>>>>>>> 958d3b6f3a0d2c5e7972472b1df355b5c251e781
       "      <td>0</td>\n",
       "      <td>9139833.00</td>\n",
       "      <td>100170000000</td>\n",
       "      <td>1000000000000</td>\n",
       "    </tr>\n",
       "    <tr>\n",
       "      <th>1</th>\n",
       "      <td>1</td>\n",
       "      <td>10017</td>\n",
       "      <td>0</td>\n",
<<<<<<< HEAD
       "      <td>8019</td>\n",
=======
<<<<<<< HEAD
       "      <td>8019</td>\n",
=======
>>>>>>> Helen
>>>>>>> 958d3b6f3a0d2c5e7972472b1df355b5c251e781
       "      <td>0</td>\n",
       "      <td>-21550.00</td>\n",
       "      <td>100170000000</td>\n",
       "      <td>1000000000000</td>\n",
       "    </tr>\n",
       "    <tr>\n",
       "      <th>2</th>\n",
       "      <td>1</td>\n",
       "      <td>10017</td>\n",
       "      <td>0</td>\n",
<<<<<<< HEAD
       "      <td>8021</td>\n",
=======
<<<<<<< HEAD
       "      <td>8021</td>\n",
=======
>>>>>>> Helen
>>>>>>> 958d3b6f3a0d2c5e7972472b1df355b5c251e781
       "      <td>0</td>\n",
       "      <td>121246.67</td>\n",
       "      <td>100170000000</td>\n",
       "      <td>1000000000000</td>\n",
       "    </tr>\n",
       "    <tr>\n",
       "      <th>3</th>\n",
       "      <td>1</td>\n",
       "      <td>10017</td>\n",
       "      <td>0</td>\n",
<<<<<<< HEAD
       "      <td>8029</td>\n",
=======
<<<<<<< HEAD
       "      <td>8029</td>\n",
=======
>>>>>>> Helen
>>>>>>> 958d3b6f3a0d2c5e7972472b1df355b5c251e781
       "      <td>0</td>\n",
       "      <td>1388.00</td>\n",
       "      <td>100170000000</td>\n",
       "      <td>1000000000000</td>\n",
       "    </tr>\n",
       "    <tr>\n",
       "      <th>4</th>\n",
       "      <td>1</td>\n",
       "      <td>10017</td>\n",
       "      <td>0</td>\n",
<<<<<<< HEAD
       "      <td>8041</td>\n",
=======
<<<<<<< HEAD
       "      <td>8041</td>\n",
=======
>>>>>>> Helen
>>>>>>> 958d3b6f3a0d2c5e7972472b1df355b5c251e781
       "      <td>0</td>\n",
       "      <td>11471418.19</td>\n",
       "      <td>100170000000</td>\n",
       "      <td>1000000000000</td>\n",
       "    </tr>\n",
       "    <tr>\n",
       "      <th>...</th>\n",
       "      <td>...</td>\n",
       "      <td>...</td>\n",
       "      <td>...</td>\n",
       "      <td>...</td>\n",
       "      <td>...</td>\n",
       "      <td>...</td>\n",
       "      <td>...</td>\n",
<<<<<<< HEAD
       "      <td>...</td>\n",
=======
<<<<<<< HEAD
       "      <td>...</td>\n",
=======
>>>>>>> Helen
>>>>>>> 958d3b6f3a0d2c5e7972472b1df355b5c251e781
       "    </tr>\n",
       "    <tr>\n",
       "      <th>1234772</th>\n",
       "      <td>58</td>\n",
       "      <td>72769</td>\n",
       "      <td>0</td>\n",
<<<<<<< HEAD
       "      <td>9500</td>\n",
=======
<<<<<<< HEAD
       "      <td>9500</td>\n",
=======
>>>>>>> Helen
>>>>>>> 958d3b6f3a0d2c5e7972472b1df355b5c251e781
       "      <td>0</td>\n",
       "      <td>1000.00</td>\n",
       "      <td>727690000000</td>\n",
       "      <td>58000000000000</td>\n",
       "    </tr>\n",
       "    <tr>\n",
       "      <th>1234773</th>\n",
       "      <td>58</td>\n",
       "      <td>72769</td>\n",
       "      <td>0</td>\n",
<<<<<<< HEAD
       "      <td>9790</td>\n",
=======
<<<<<<< HEAD
       "      <td>9790</td>\n",
=======
>>>>>>> Helen
>>>>>>> 958d3b6f3a0d2c5e7972472b1df355b5c251e781
       "      <td>0</td>\n",
       "      <td>72064.66</td>\n",
       "      <td>727690000000</td>\n",
       "      <td>58000000000000</td>\n",
       "    </tr>\n",
       "    <tr>\n",
       "      <th>1234774</th>\n",
       "      <td>58</td>\n",
       "      <td>72769</td>\n",
       "      <td>0</td>\n",
<<<<<<< HEAD
       "      <td>9791</td>\n",
=======
<<<<<<< HEAD
       "      <td>9791</td>\n",
=======
>>>>>>> Helen
>>>>>>> 958d3b6f3a0d2c5e7972472b1df355b5c251e781
       "      <td>0</td>\n",
       "      <td>71592.16</td>\n",
       "      <td>727690000000</td>\n",
       "      <td>58000000000000</td>\n",
       "    </tr>\n",
       "    <tr>\n",
       "      <th>1234775</th>\n",
       "      <td>58</td>\n",
       "      <td>72769</td>\n",
       "      <td>0</td>\n",
<<<<<<< HEAD
       "      <td>979Z</td>\n",
=======
<<<<<<< HEAD
       "      <td>979Z</td>\n",
=======
>>>>>>> Helen
>>>>>>> 958d3b6f3a0d2c5e7972472b1df355b5c251e781
       "      <td>0</td>\n",
       "      <td>72064.66</td>\n",
       "      <td>727690000000</td>\n",
       "      <td>58000000000000</td>\n",
       "    </tr>\n",
       "    <tr>\n",
       "      <th>1234776</th>\n",
       "      <td>58</td>\n",
       "      <td>72769</td>\n",
       "      <td>0</td>\n",
<<<<<<< HEAD
       "      <td>5800</td>\n",
=======
<<<<<<< HEAD
       "      <td>5800</td>\n",
=======
>>>>>>> Helen
>>>>>>> 958d3b6f3a0d2c5e7972472b1df355b5c251e781
       "      <td>2700</td>\n",
       "      <td>1000.00</td>\n",
       "      <td>727690000000</td>\n",
       "      <td>58000000000000</td>\n",
       "    </tr>\n",
       "  </tbody>\n",
       "</table>\n",
<<<<<<< HEAD
=======
<<<<<<< HEAD
>>>>>>> 958d3b6f3a0d2c5e7972472b1df355b5c251e781
       "<p>1234777 rows × 8 columns</p>\n",
       "</div>"
      ],
      "text/plain": [
       "         County_Code  District_Code  School_Code Object_Code  Function_Code  \\\n",
       "0                  1          10017            0        8011              0   \n",
       "1                  1          10017            0        8019              0   \n",
       "2                  1          10017            0        8021              0   \n",
       "3                  1          10017            0        8029              0   \n",
       "4                  1          10017            0        8041              0   \n",
       "...              ...            ...          ...         ...            ...   \n",
       "1234772           58          72769            0        9500              0   \n",
       "1234773           58          72769            0        9790              0   \n",
       "1234774           58          72769            0        9791              0   \n",
       "1234775           58          72769            0        979Z              0   \n",
       "1234776           58          72769            0        5800           2700   \n",
       "\n",
       "              Amount      District          County  \n",
       "0         9139833.00  100170000000   1000000000000  \n",
       "1          -21550.00  100170000000   1000000000000  \n",
       "2          121246.67  100170000000   1000000000000  \n",
       "3            1388.00  100170000000   1000000000000  \n",
       "4        11471418.19  100170000000   1000000000000  \n",
       "...              ...           ...             ...  \n",
       "1234772      1000.00  727690000000  58000000000000  \n",
       "1234773     72064.66  727690000000  58000000000000  \n",
       "1234774     71592.16  727690000000  58000000000000  \n",
       "1234775     72064.66  727690000000  58000000000000  \n",
       "1234776      1000.00  727690000000  58000000000000  \n",
       "\n",
       "[1234777 rows x 8 columns]"
<<<<<<< HEAD
=======
=======
       "<p>1234777 rows × 7 columns</p>\n",
       "</div>"
      ],
      "text/plain": [
       "         County_Code  District_Code  School_Code  Function_Code       Amount  \\\n",
       "0                  1          10017            0              0   9139833.00   \n",
       "1                  1          10017            0              0    -21550.00   \n",
       "2                  1          10017            0              0    121246.67   \n",
       "3                  1          10017            0              0      1388.00   \n",
       "4                  1          10017            0              0  11471418.19   \n",
       "...              ...            ...          ...            ...          ...   \n",
       "1234772           58          72769            0              0      1000.00   \n",
       "1234773           58          72769            0              0     72064.66   \n",
       "1234774           58          72769            0              0     71592.16   \n",
       "1234775           58          72769            0              0     72064.66   \n",
       "1234776           58          72769            0           2700      1000.00   \n",
       "\n",
       "             District          County  \n",
       "0        100170000000   1000000000000  \n",
       "1        100170000000   1000000000000  \n",
       "2        100170000000   1000000000000  \n",
       "3        100170000000   1000000000000  \n",
       "4        100170000000   1000000000000  \n",
       "...               ...             ...  \n",
       "1234772  727690000000  58000000000000  \n",
       "1234773  727690000000  58000000000000  \n",
       "1234774  727690000000  58000000000000  \n",
       "1234775  727690000000  58000000000000  \n",
       "1234776  727690000000  58000000000000  \n",
       "\n",
       "[1234777 rows x 7 columns]"
>>>>>>> Helen
>>>>>>> 958d3b6f3a0d2c5e7972472b1df355b5c251e781
      ]
     },
     "execution_count": 6,
     "metadata": {},
     "output_type": "execute_result"
    }
   ],
   "source": [
    "#Concatenate district, county and school code to get CDS CODE\n",
    "clean_data_df['District']=clean_data_df['District_Code'] * 10000000\n",
    "clean_data_df['County']=clean_data_df['County_Code'] * 1000000000000\n",
    "clean_data_df"
   ]
  },
  {
   "cell_type": "code",
   "execution_count": 7,
   "metadata": {},
   "outputs": [
    {
     "name": "stderr",
     "output_type": "stream",
     "text": [
      "C:\\Users\\hhngu\\AppData\\Roaming\\Python\\Python37\\site-packages\\ipykernel_launcher.py:1: SettingWithCopyWarning: \n",
      "A value is trying to be set on a copy of a slice from a DataFrame.\n",
      "Try using .loc[row_indexer,col_indexer] = value instead\n",
      "\n",
      "See the caveats in the documentation: https://pandas.pydata.org/pandas-docs/stable/user_guide/indexing.html#returning-a-view-versus-a-copy\n",
      "  \"\"\"Entry point for launching an IPython kernel.\n"
     ]
    },
    {
     "data": {
      "text/html": [
       "<div>\n",
       "<style scoped>\n",
       "    .dataframe tbody tr th:only-of-type {\n",
       "        vertical-align: middle;\n",
       "    }\n",
       "\n",
       "    .dataframe tbody tr th {\n",
       "        vertical-align: top;\n",
       "    }\n",
       "\n",
       "    .dataframe thead th {\n",
       "        text-align: right;\n",
       "    }\n",
       "</style>\n",
       "<table border=\"1\" class=\"dataframe\">\n",
       "  <thead>\n",
       "    <tr style=\"text-align: right;\">\n",
       "      <th></th>\n",
       "      <th>County_Code</th>\n",
       "      <th>District_Code</th>\n",
       "      <th>School_Code</th>\n",
<<<<<<< HEAD
       "      <th>Object_Code</th>\n",
=======
<<<<<<< HEAD
       "      <th>Object_Code</th>\n",
=======
>>>>>>> Helen
>>>>>>> 958d3b6f3a0d2c5e7972472b1df355b5c251e781
       "      <th>Function_Code</th>\n",
       "      <th>Amount</th>\n",
       "      <th>District</th>\n",
       "      <th>County</th>\n",
       "      <th>CDS_CODE</th>\n",
       "    </tr>\n",
       "  </thead>\n",
       "  <tbody>\n",
       "    <tr>\n",
       "      <th>0</th>\n",
       "      <td>1</td>\n",
       "      <td>10017</td>\n",
       "      <td>0</td>\n",
<<<<<<< HEAD
       "      <td>8011</td>\n",
=======
<<<<<<< HEAD
       "      <td>8011</td>\n",
=======
>>>>>>> Helen
>>>>>>> 958d3b6f3a0d2c5e7972472b1df355b5c251e781
       "      <td>0</td>\n",
       "      <td>9139833.00</td>\n",
       "      <td>100170000000</td>\n",
       "      <td>1000000000000</td>\n",
       "      <td>1100170000000</td>\n",
       "    </tr>\n",
       "    <tr>\n",
       "      <th>1</th>\n",
       "      <td>1</td>\n",
       "      <td>10017</td>\n",
       "      <td>0</td>\n",
<<<<<<< HEAD
       "      <td>8019</td>\n",
=======
<<<<<<< HEAD
       "      <td>8019</td>\n",
=======
>>>>>>> Helen
>>>>>>> 958d3b6f3a0d2c5e7972472b1df355b5c251e781
       "      <td>0</td>\n",
       "      <td>-21550.00</td>\n",
       "      <td>100170000000</td>\n",
       "      <td>1000000000000</td>\n",
       "      <td>1100170000000</td>\n",
       "    </tr>\n",
       "    <tr>\n",
       "      <th>2</th>\n",
       "      <td>1</td>\n",
       "      <td>10017</td>\n",
       "      <td>0</td>\n",
<<<<<<< HEAD
       "      <td>8021</td>\n",
=======
<<<<<<< HEAD
       "      <td>8021</td>\n",
=======
>>>>>>> Helen
>>>>>>> 958d3b6f3a0d2c5e7972472b1df355b5c251e781
       "      <td>0</td>\n",
       "      <td>121246.67</td>\n",
       "      <td>100170000000</td>\n",
       "      <td>1000000000000</td>\n",
       "      <td>1100170000000</td>\n",
       "    </tr>\n",
       "    <tr>\n",
       "      <th>3</th>\n",
       "      <td>1</td>\n",
       "      <td>10017</td>\n",
       "      <td>0</td>\n",
<<<<<<< HEAD
       "      <td>8029</td>\n",
=======
<<<<<<< HEAD
       "      <td>8029</td>\n",
=======
>>>>>>> Helen
>>>>>>> 958d3b6f3a0d2c5e7972472b1df355b5c251e781
       "      <td>0</td>\n",
       "      <td>1388.00</td>\n",
       "      <td>100170000000</td>\n",
       "      <td>1000000000000</td>\n",
       "      <td>1100170000000</td>\n",
       "    </tr>\n",
       "    <tr>\n",
       "      <th>4</th>\n",
       "      <td>1</td>\n",
       "      <td>10017</td>\n",
       "      <td>0</td>\n",
<<<<<<< HEAD
       "      <td>8041</td>\n",
=======
<<<<<<< HEAD
       "      <td>8041</td>\n",
=======
>>>>>>> Helen
>>>>>>> 958d3b6f3a0d2c5e7972472b1df355b5c251e781
       "      <td>0</td>\n",
       "      <td>11471418.19</td>\n",
       "      <td>100170000000</td>\n",
       "      <td>1000000000000</td>\n",
       "      <td>1100170000000</td>\n",
       "    </tr>\n",
       "    <tr>\n",
       "      <th>...</th>\n",
       "      <td>...</td>\n",
       "      <td>...</td>\n",
       "      <td>...</td>\n",
       "      <td>...</td>\n",
       "      <td>...</td>\n",
       "      <td>...</td>\n",
       "      <td>...</td>\n",
       "      <td>...</td>\n",
<<<<<<< HEAD
       "      <td>...</td>\n",
=======
<<<<<<< HEAD
       "      <td>...</td>\n",
=======
>>>>>>> Helen
>>>>>>> 958d3b6f3a0d2c5e7972472b1df355b5c251e781
       "    </tr>\n",
       "    <tr>\n",
       "      <th>1234772</th>\n",
       "      <td>58</td>\n",
       "      <td>72769</td>\n",
       "      <td>0</td>\n",
<<<<<<< HEAD
       "      <td>9500</td>\n",
=======
<<<<<<< HEAD
       "      <td>9500</td>\n",
=======
>>>>>>> Helen
>>>>>>> 958d3b6f3a0d2c5e7972472b1df355b5c251e781
       "      <td>0</td>\n",
       "      <td>1000.00</td>\n",
       "      <td>727690000000</td>\n",
       "      <td>58000000000000</td>\n",
       "      <td>58727690000000</td>\n",
       "    </tr>\n",
       "    <tr>\n",
       "      <th>1234773</th>\n",
       "      <td>58</td>\n",
       "      <td>72769</td>\n",
       "      <td>0</td>\n",
<<<<<<< HEAD
       "      <td>9790</td>\n",
=======
<<<<<<< HEAD
       "      <td>9790</td>\n",
=======
>>>>>>> Helen
>>>>>>> 958d3b6f3a0d2c5e7972472b1df355b5c251e781
       "      <td>0</td>\n",
       "      <td>72064.66</td>\n",
       "      <td>727690000000</td>\n",
       "      <td>58000000000000</td>\n",
       "      <td>58727690000000</td>\n",
       "    </tr>\n",
       "    <tr>\n",
       "      <th>1234774</th>\n",
       "      <td>58</td>\n",
       "      <td>72769</td>\n",
       "      <td>0</td>\n",
<<<<<<< HEAD
       "      <td>9791</td>\n",
=======
<<<<<<< HEAD
       "      <td>9791</td>\n",
=======
>>>>>>> Helen
>>>>>>> 958d3b6f3a0d2c5e7972472b1df355b5c251e781
       "      <td>0</td>\n",
       "      <td>71592.16</td>\n",
       "      <td>727690000000</td>\n",
       "      <td>58000000000000</td>\n",
       "      <td>58727690000000</td>\n",
       "    </tr>\n",
       "    <tr>\n",
       "      <th>1234775</th>\n",
       "      <td>58</td>\n",
       "      <td>72769</td>\n",
       "      <td>0</td>\n",
<<<<<<< HEAD
       "      <td>979Z</td>\n",
=======
<<<<<<< HEAD
       "      <td>979Z</td>\n",
=======
>>>>>>> Helen
>>>>>>> 958d3b6f3a0d2c5e7972472b1df355b5c251e781
       "      <td>0</td>\n",
       "      <td>72064.66</td>\n",
       "      <td>727690000000</td>\n",
       "      <td>58000000000000</td>\n",
       "      <td>58727690000000</td>\n",
       "    </tr>\n",
       "    <tr>\n",
       "      <th>1234776</th>\n",
       "      <td>58</td>\n",
       "      <td>72769</td>\n",
       "      <td>0</td>\n",
<<<<<<< HEAD
       "      <td>5800</td>\n",
=======
<<<<<<< HEAD
       "      <td>5800</td>\n",
=======
>>>>>>> Helen
>>>>>>> 958d3b6f3a0d2c5e7972472b1df355b5c251e781
       "      <td>2700</td>\n",
       "      <td>1000.00</td>\n",
       "      <td>727690000000</td>\n",
       "      <td>58000000000000</td>\n",
       "      <td>58727690000000</td>\n",
       "    </tr>\n",
       "  </tbody>\n",
       "</table>\n",
<<<<<<< HEAD
=======
<<<<<<< HEAD
>>>>>>> 958d3b6f3a0d2c5e7972472b1df355b5c251e781
       "<p>1234777 rows × 9 columns</p>\n",
       "</div>"
      ],
      "text/plain": [
       "         County_Code  District_Code  School_Code Object_Code  Function_Code  \\\n",
       "0                  1          10017            0        8011              0   \n",
       "1                  1          10017            0        8019              0   \n",
       "2                  1          10017            0        8021              0   \n",
       "3                  1          10017            0        8029              0   \n",
       "4                  1          10017            0        8041              0   \n",
       "...              ...            ...          ...         ...            ...   \n",
       "1234772           58          72769            0        9500              0   \n",
       "1234773           58          72769            0        9790              0   \n",
       "1234774           58          72769            0        9791              0   \n",
       "1234775           58          72769            0        979Z              0   \n",
       "1234776           58          72769            0        5800           2700   \n",
       "\n",
       "              Amount      District          County        CDS_CODE  \n",
       "0         9139833.00  100170000000   1000000000000   1100170000000  \n",
       "1          -21550.00  100170000000   1000000000000   1100170000000  \n",
       "2          121246.67  100170000000   1000000000000   1100170000000  \n",
       "3            1388.00  100170000000   1000000000000   1100170000000  \n",
       "4        11471418.19  100170000000   1000000000000   1100170000000  \n",
       "...              ...           ...             ...             ...  \n",
       "1234772      1000.00  727690000000  58000000000000  58727690000000  \n",
       "1234773     72064.66  727690000000  58000000000000  58727690000000  \n",
       "1234774     71592.16  727690000000  58000000000000  58727690000000  \n",
       "1234775     72064.66  727690000000  58000000000000  58727690000000  \n",
       "1234776      1000.00  727690000000  58000000000000  58727690000000  \n",
       "\n",
       "[1234777 rows x 9 columns]"
<<<<<<< HEAD
=======
=======
       "<p>1234777 rows × 8 columns</p>\n",
       "</div>"
      ],
      "text/plain": [
       "         County_Code  District_Code  School_Code  Function_Code       Amount  \\\n",
       "0                  1          10017            0              0   9139833.00   \n",
       "1                  1          10017            0              0    -21550.00   \n",
       "2                  1          10017            0              0    121246.67   \n",
       "3                  1          10017            0              0      1388.00   \n",
       "4                  1          10017            0              0  11471418.19   \n",
       "...              ...            ...          ...            ...          ...   \n",
       "1234772           58          72769            0              0      1000.00   \n",
       "1234773           58          72769            0              0     72064.66   \n",
       "1234774           58          72769            0              0     71592.16   \n",
       "1234775           58          72769            0              0     72064.66   \n",
       "1234776           58          72769            0           2700      1000.00   \n",
       "\n",
       "             District          County        CDS_CODE  \n",
       "0        100170000000   1000000000000   1100170000000  \n",
       "1        100170000000   1000000000000   1100170000000  \n",
       "2        100170000000   1000000000000   1100170000000  \n",
       "3        100170000000   1000000000000   1100170000000  \n",
       "4        100170000000   1000000000000   1100170000000  \n",
       "...               ...             ...             ...  \n",
       "1234772  727690000000  58000000000000  58727690000000  \n",
       "1234773  727690000000  58000000000000  58727690000000  \n",
       "1234774  727690000000  58000000000000  58727690000000  \n",
       "1234775  727690000000  58000000000000  58727690000000  \n",
       "1234776  727690000000  58000000000000  58727690000000  \n",
       "\n",
       "[1234777 rows x 8 columns]"
>>>>>>> Helen
>>>>>>> 958d3b6f3a0d2c5e7972472b1df355b5c251e781
      ]
     },
     "execution_count": 7,
     "metadata": {},
     "output_type": "execute_result"
    }
   ],
   "source": [
    "clean_data_df['CDS_CODE']=clean_data_df['District'] + clean_data_df['County'] + clean_data_df['School_Code']\n",
    "clean_data_df"
   ]
  },
  {
   "cell_type": "code",
   "execution_count": 8,
   "metadata": {},
   "outputs": [
    {
     "data": {
      "text/html": [
       "<div>\n",
       "<style scoped>\n",
       "    .dataframe tbody tr th:only-of-type {\n",
       "        vertical-align: middle;\n",
       "    }\n",
       "\n",
       "    .dataframe tbody tr th {\n",
       "        vertical-align: top;\n",
       "    }\n",
       "\n",
       "    .dataframe thead th {\n",
       "        text-align: right;\n",
       "    }\n",
       "</style>\n",
       "<table border=\"1\" class=\"dataframe\">\n",
       "  <thead>\n",
       "    <tr style=\"text-align: right;\">\n",
       "      <th></th>\n",
       "      <th>CDS_CODE</th>\n",
<<<<<<< HEAD
       "      <th>Object_Code</th>\n",
=======
<<<<<<< HEAD
       "      <th>Object_Code</th>\n",
=======
       "      <th>District_Code</th>\n",
>>>>>>> Helen
>>>>>>> 958d3b6f3a0d2c5e7972472b1df355b5c251e781
       "      <th>Function_Code</th>\n",
       "      <th>Amount</th>\n",
       "    </tr>\n",
       "  </thead>\n",
       "  <tbody>\n",
       "    <tr>\n",
       "      <th>0</th>\n",
       "      <td>1100170000000</td>\n",
<<<<<<< HEAD
       "      <td>8011</td>\n",
=======
<<<<<<< HEAD
       "      <td>8011</td>\n",
=======
       "      <td>10017</td>\n",
>>>>>>> Helen
>>>>>>> 958d3b6f3a0d2c5e7972472b1df355b5c251e781
       "      <td>0</td>\n",
       "      <td>9139833.00</td>\n",
       "    </tr>\n",
       "    <tr>\n",
       "      <th>1</th>\n",
       "      <td>1100170000000</td>\n",
<<<<<<< HEAD
       "      <td>8019</td>\n",
=======
<<<<<<< HEAD
       "      <td>8019</td>\n",
=======
       "      <td>10017</td>\n",
>>>>>>> Helen
>>>>>>> 958d3b6f3a0d2c5e7972472b1df355b5c251e781
       "      <td>0</td>\n",
       "      <td>-21550.00</td>\n",
       "    </tr>\n",
       "    <tr>\n",
       "      <th>2</th>\n",
       "      <td>1100170000000</td>\n",
<<<<<<< HEAD
       "      <td>8021</td>\n",
=======
<<<<<<< HEAD
       "      <td>8021</td>\n",
=======
       "      <td>10017</td>\n",
>>>>>>> Helen
>>>>>>> 958d3b6f3a0d2c5e7972472b1df355b5c251e781
       "      <td>0</td>\n",
       "      <td>121246.67</td>\n",
       "    </tr>\n",
       "    <tr>\n",
       "      <th>3</th>\n",
       "      <td>1100170000000</td>\n",
<<<<<<< HEAD
       "      <td>8029</td>\n",
=======
<<<<<<< HEAD
       "      <td>8029</td>\n",
=======
       "      <td>10017</td>\n",
>>>>>>> Helen
>>>>>>> 958d3b6f3a0d2c5e7972472b1df355b5c251e781
       "      <td>0</td>\n",
       "      <td>1388.00</td>\n",
       "    </tr>\n",
       "    <tr>\n",
       "      <th>4</th>\n",
       "      <td>1100170000000</td>\n",
<<<<<<< HEAD
       "      <td>8041</td>\n",
=======
<<<<<<< HEAD
       "      <td>8041</td>\n",
=======
       "      <td>10017</td>\n",
>>>>>>> Helen
>>>>>>> 958d3b6f3a0d2c5e7972472b1df355b5c251e781
       "      <td>0</td>\n",
       "      <td>11471418.19</td>\n",
       "    </tr>\n",
       "    <tr>\n",
       "      <th>...</th>\n",
       "      <td>...</td>\n",
       "      <td>...</td>\n",
       "      <td>...</td>\n",
       "      <td>...</td>\n",
       "    </tr>\n",
       "    <tr>\n",
       "      <th>1234772</th>\n",
       "      <td>58727690000000</td>\n",
<<<<<<< HEAD
       "      <td>9500</td>\n",
=======
<<<<<<< HEAD
       "      <td>9500</td>\n",
=======
       "      <td>72769</td>\n",
>>>>>>> Helen
>>>>>>> 958d3b6f3a0d2c5e7972472b1df355b5c251e781
       "      <td>0</td>\n",
       "      <td>1000.00</td>\n",
       "    </tr>\n",
       "    <tr>\n",
       "      <th>1234773</th>\n",
       "      <td>58727690000000</td>\n",
<<<<<<< HEAD
       "      <td>9790</td>\n",
=======
<<<<<<< HEAD
       "      <td>9790</td>\n",
=======
       "      <td>72769</td>\n",
>>>>>>> Helen
>>>>>>> 958d3b6f3a0d2c5e7972472b1df355b5c251e781
       "      <td>0</td>\n",
       "      <td>72064.66</td>\n",
       "    </tr>\n",
       "    <tr>\n",
       "      <th>1234774</th>\n",
       "      <td>58727690000000</td>\n",
<<<<<<< HEAD
       "      <td>9791</td>\n",
=======
<<<<<<< HEAD
       "      <td>9791</td>\n",
=======
       "      <td>72769</td>\n",
>>>>>>> Helen
>>>>>>> 958d3b6f3a0d2c5e7972472b1df355b5c251e781
       "      <td>0</td>\n",
       "      <td>71592.16</td>\n",
       "    </tr>\n",
       "    <tr>\n",
       "      <th>1234775</th>\n",
       "      <td>58727690000000</td>\n",
<<<<<<< HEAD
       "      <td>979Z</td>\n",
=======
<<<<<<< HEAD
       "      <td>979Z</td>\n",
=======
       "      <td>72769</td>\n",
>>>>>>> Helen
>>>>>>> 958d3b6f3a0d2c5e7972472b1df355b5c251e781
       "      <td>0</td>\n",
       "      <td>72064.66</td>\n",
       "    </tr>\n",
       "    <tr>\n",
       "      <th>1234776</th>\n",
       "      <td>58727690000000</td>\n",
<<<<<<< HEAD
       "      <td>5800</td>\n",
=======
<<<<<<< HEAD
       "      <td>5800</td>\n",
=======
       "      <td>72769</td>\n",
>>>>>>> Helen
>>>>>>> 958d3b6f3a0d2c5e7972472b1df355b5c251e781
       "      <td>2700</td>\n",
       "      <td>1000.00</td>\n",
       "    </tr>\n",
       "  </tbody>\n",
       "</table>\n",
       "<p>1234777 rows × 4 columns</p>\n",
       "</div>"
      ],
      "text/plain": [
<<<<<<< HEAD
=======
<<<<<<< HEAD
>>>>>>> 958d3b6f3a0d2c5e7972472b1df355b5c251e781
       "               CDS_CODE Object_Code  Function_Code       Amount\n",
       "0         1100170000000        8011              0   9139833.00\n",
       "1         1100170000000        8019              0    -21550.00\n",
       "2         1100170000000        8021              0    121246.67\n",
       "3         1100170000000        8029              0      1388.00\n",
       "4         1100170000000        8041              0  11471418.19\n",
       "...                 ...         ...            ...          ...\n",
       "1234772  58727690000000        9500              0      1000.00\n",
       "1234773  58727690000000        9790              0     72064.66\n",
       "1234774  58727690000000        9791              0     71592.16\n",
       "1234775  58727690000000        979Z              0     72064.66\n",
       "1234776  58727690000000        5800           2700      1000.00\n",
<<<<<<< HEAD
=======
=======
       "               CDS_CODE  District_Code  Function_Code       Amount\n",
       "0         1100170000000          10017              0   9139833.00\n",
       "1         1100170000000          10017              0    -21550.00\n",
       "2         1100170000000          10017              0    121246.67\n",
       "3         1100170000000          10017              0      1388.00\n",
       "4         1100170000000          10017              0  11471418.19\n",
       "...                 ...            ...            ...          ...\n",
       "1234772  58727690000000          72769              0      1000.00\n",
       "1234773  58727690000000          72769              0     72064.66\n",
       "1234774  58727690000000          72769              0     71592.16\n",
       "1234775  58727690000000          72769              0     72064.66\n",
       "1234776  58727690000000          72769           2700      1000.00\n",
>>>>>>> Helen
>>>>>>> 958d3b6f3a0d2c5e7972472b1df355b5c251e781
       "\n",
       "[1234777 rows x 4 columns]"
      ]
     },
     "execution_count": 8,
     "metadata": {},
     "output_type": "execute_result"
    }
   ],
   "source": [
<<<<<<< HEAD
    "clean_data=clean_data_df[['CDS_CODE','Object_Code','Function_Code','Amount']]\n",
=======
<<<<<<< HEAD
    "clean_data=clean_data_df[['CDS_CODE','Object_Code','Function_Code','Amount']]\n",
=======
    "clean_data=clean_data_df[['CDS_CODE','District_Code','Function_Code','Amount']]\n",
>>>>>>> Helen
>>>>>>> 958d3b6f3a0d2c5e7972472b1df355b5c251e781
    "clean_data"
   ]
  },
  {
<<<<<<< HEAD
=======
<<<<<<< HEAD
>>>>>>> 958d3b6f3a0d2c5e7972472b1df355b5c251e781
   "cell_type": "markdown",
   "metadata": {},
   "source": [
    "## Cleaning Objects.CSV"
   ]
  },
  {
<<<<<<< HEAD
=======
=======
>>>>>>> Helen
>>>>>>> 958d3b6f3a0d2c5e7972472b1df355b5c251e781
   "cell_type": "code",
   "execution_count": 9,
   "metadata": {},
   "outputs": [
    {
     "data": {
      "text/html": [
       "<div>\n",
       "<style scoped>\n",
       "    .dataframe tbody tr th:only-of-type {\n",
       "        vertical-align: middle;\n",
       "    }\n",
       "\n",
       "    .dataframe tbody tr th {\n",
       "        vertical-align: top;\n",
       "    }\n",
       "\n",
       "    .dataframe thead th {\n",
       "        text-align: right;\n",
       "    }\n",
       "</style>\n",
       "<table border=\"1\" class=\"dataframe\">\n",
       "  <thead>\n",
       "    <tr style=\"text-align: right;\">\n",
       "      <th></th>\n",
<<<<<<< HEAD
=======
<<<<<<< HEAD
>>>>>>> 958d3b6f3a0d2c5e7972472b1df355b5c251e781
       "      <th>Code</th>\n",
       "      <th>Title</th>\n",
       "      <th>Unnamed: 2</th>\n",
       "      <th>Unnamed: 3</th>\n",
<<<<<<< HEAD
=======
=======
       "      <th>CDS_CODE</th>\n",
       "      <th>District_Code</th>\n",
       "      <th>Function_Code</th>\n",
       "      <th>Amount</th>\n",
>>>>>>> Helen
>>>>>>> 958d3b6f3a0d2c5e7972472b1df355b5c251e781
       "    </tr>\n",
       "  </thead>\n",
       "  <tbody>\n",
       "    <tr>\n",
<<<<<<< HEAD
=======
<<<<<<< HEAD
>>>>>>> 958d3b6f3a0d2c5e7972472b1df355b5c251e781
       "      <th>0</th>\n",
       "      <td>0000</td>\n",
       "      <td>Not Applicable (For use with revenues and bala...</td>\n",
       "      <td>NaN</td>\n",
       "      <td>NaN</td>\n",
       "    </tr>\n",
       "    <tr>\n",
       "      <th>1</th>\n",
       "      <td>1000</td>\n",
       "      <td>Instruction                                   ...</td>\n",
       "      <td>NaN</td>\n",
       "      <td>NaN</td>\n",
       "    </tr>\n",
       "    <tr>\n",
       "      <th>2</th>\n",
       "      <td>1110</td>\n",
       "      <td>Special Education: Separate Classes           ...</td>\n",
       "      <td>NaN</td>\n",
       "      <td>NaN</td>\n",
       "    </tr>\n",
       "    <tr>\n",
       "      <th>3</th>\n",
       "      <td>1120</td>\n",
       "      <td>Special Education: Resource Specialist Instruc...</td>\n",
       "      <td>NaN</td>\n",
       "      <td>NaN</td>\n",
       "    </tr>\n",
       "    <tr>\n",
       "      <th>4</th>\n",
       "      <td>1130</td>\n",
       "      <td>Special Education: Supplemental Aids &amp; Service...</td>\n",
       "      <td>NaN</td>\n",
       "      <td>NaN</td>\n",
<<<<<<< HEAD
=======
=======
       "      <th>37</th>\n",
       "      <td>1100170000000</td>\n",
       "      <td>10017</td>\n",
       "      <td>2100</td>\n",
       "      <td>-48218.00</td>\n",
       "    </tr>\n",
       "    <tr>\n",
       "      <th>38</th>\n",
       "      <td>1100170000000</td>\n",
       "      <td>10017</td>\n",
       "      <td>2140</td>\n",
       "      <td>-1262.23</td>\n",
       "    </tr>\n",
       "    <tr>\n",
       "      <th>39</th>\n",
       "      <td>1100170000000</td>\n",
       "      <td>10017</td>\n",
       "      <td>2490</td>\n",
       "      <td>-45247.72</td>\n",
       "    </tr>\n",
       "    <tr>\n",
       "      <th>40</th>\n",
       "      <td>1100170000000</td>\n",
       "      <td>10017</td>\n",
       "      <td>3140</td>\n",
       "      <td>5322.75</td>\n",
       "    </tr>\n",
       "    <tr>\n",
       "      <th>41</th>\n",
       "      <td>1100170000000</td>\n",
       "      <td>10017</td>\n",
       "      <td>3140</td>\n",
       "      <td>1271.78</td>\n",
>>>>>>> Helen
>>>>>>> 958d3b6f3a0d2c5e7972472b1df355b5c251e781
       "    </tr>\n",
       "    <tr>\n",
       "      <th>...</th>\n",
       "      <td>...</td>\n",
       "      <td>...</td>\n",
       "      <td>...</td>\n",
       "      <td>...</td>\n",
       "    </tr>\n",
       "    <tr>\n",
<<<<<<< HEAD
=======
<<<<<<< HEAD
>>>>>>> 958d3b6f3a0d2c5e7972472b1df355b5c251e781
       "      <th>80</th>\n",
       "      <td>Instruction</td>\n",
       "      <td>NaN</td>\n",
       "      <td>NaN</td>\n",
       "      <td>NaN</td>\n",
       "    </tr>\n",
       "    <tr>\n",
       "      <th>81</th>\n",
       "      <td>Student Services</td>\n",
       "      <td>NaN</td>\n",
       "      <td>NaN</td>\n",
       "      <td>NaN</td>\n",
       "    </tr>\n",
       "    <tr>\n",
       "      <th>82</th>\n",
       "      <td>Extra-Curricular/Community</td>\n",
       "      <td>NaN</td>\n",
       "      <td>NaN</td>\n",
       "      <td>NaN</td>\n",
       "    </tr>\n",
       "    <tr>\n",
       "      <th>83</th>\n",
       "      <td>Administration</td>\n",
       "      <td>NaN</td>\n",
       "      <td>NaN</td>\n",
       "      <td>NaN</td>\n",
       "    </tr>\n",
       "    <tr>\n",
       "      <th>84</th>\n",
       "      <td>Operations</td>\n",
       "      <td>NaN</td>\n",
       "      <td>NaN</td>\n",
       "      <td>NaN</td>\n",
       "    </tr>\n",
       "  </tbody>\n",
       "</table>\n",
       "<p>85 rows × 4 columns</p>\n",
       "</div>"
      ],
      "text/plain": [
       "                          Code  \\\n",
       "0                         0000   \n",
       "1                         1000   \n",
       "2                         1110   \n",
       "3                         1120   \n",
       "4                         1130   \n",
       "..                         ...   \n",
       "80                 Instruction   \n",
       "81            Student Services   \n",
       "82  Extra-Curricular/Community   \n",
       "83              Administration   \n",
       "84                  Operations   \n",
       "\n",
       "                                                Title  Unnamed: 2  Unnamed: 3  \n",
       "0   Not Applicable (For use with revenues and bala...         NaN         NaN  \n",
       "1   Instruction                                   ...         NaN         NaN  \n",
       "2   Special Education: Separate Classes           ...         NaN         NaN  \n",
       "3   Special Education: Resource Specialist Instruc...         NaN         NaN  \n",
       "4   Special Education: Supplemental Aids & Service...         NaN         NaN  \n",
       "..                                                ...         ...         ...  \n",
       "80                                                NaN         NaN         NaN  \n",
       "81                                                NaN         NaN         NaN  \n",
       "82                                                NaN         NaN         NaN  \n",
       "83                                                NaN         NaN         NaN  \n",
       "84                                                NaN         NaN         NaN  \n",
       "\n",
       "[85 rows x 4 columns]"
<<<<<<< HEAD
=======
=======
       "      <th>1234749</th>\n",
       "      <td>58727690000000</td>\n",
       "      <td>72769</td>\n",
       "      <td>9100</td>\n",
       "      <td>52246.39</td>\n",
       "    </tr>\n",
       "    <tr>\n",
       "      <th>1234750</th>\n",
       "      <td>58727690000000</td>\n",
       "      <td>72769</td>\n",
       "      <td>9100</td>\n",
       "      <td>43238.64</td>\n",
       "    </tr>\n",
       "    <tr>\n",
       "      <th>1234761</th>\n",
       "      <td>58727690000000</td>\n",
       "      <td>72769</td>\n",
       "      <td>8500</td>\n",
       "      <td>766574.50</td>\n",
       "    </tr>\n",
       "    <tr>\n",
       "      <th>1234768</th>\n",
       "      <td>58727690000000</td>\n",
       "      <td>72769</td>\n",
       "      <td>9100</td>\n",
       "      <td>125092.24</td>\n",
       "    </tr>\n",
       "    <tr>\n",
       "      <th>1234776</th>\n",
       "      <td>58727690000000</td>\n",
       "      <td>72769</td>\n",
       "      <td>2700</td>\n",
       "      <td>1000.00</td>\n",
       "    </tr>\n",
       "  </tbody>\n",
       "</table>\n",
       "<p>963932 rows × 4 columns</p>\n",
       "</div>"
      ],
      "text/plain": [
       "               CDS_CODE  District_Code  Function_Code     Amount\n",
       "37        1100170000000          10017           2100  -48218.00\n",
       "38        1100170000000          10017           2140   -1262.23\n",
       "39        1100170000000          10017           2490  -45247.72\n",
       "40        1100170000000          10017           3140    5322.75\n",
       "41        1100170000000          10017           3140    1271.78\n",
       "...                 ...            ...            ...        ...\n",
       "1234749  58727690000000          72769           9100   52246.39\n",
       "1234750  58727690000000          72769           9100   43238.64\n",
       "1234761  58727690000000          72769           8500  766574.50\n",
       "1234768  58727690000000          72769           9100  125092.24\n",
       "1234776  58727690000000          72769           2700    1000.00\n",
       "\n",
       "[963932 rows x 4 columns]"
>>>>>>> Helen
>>>>>>> 958d3b6f3a0d2c5e7972472b1df355b5c251e781
      ]
     },
     "execution_count": 9,
     "metadata": {},
     "output_type": "execute_result"
    }
   ],
   "source": [
<<<<<<< HEAD
    "#load object budget categories\n",
    "object_df=pd.read_csv(\"../Objects (Budget Categories).csv\")\n",
    "object_df"
=======
<<<<<<< HEAD
    "#load object budget categories\n",
    "object_df=pd.read_csv(\"../Objects (Budget Categories).csv\")\n",
    "object_df"
=======
    "clean_data = clean_data[clean_data.Function_Code != 0]\n",
    "clean_data"
>>>>>>> Helen
>>>>>>> 958d3b6f3a0d2c5e7972472b1df355b5c251e781
   ]
  },
  {
   "cell_type": "code",
   "execution_count": 10,
   "metadata": {},
   "outputs": [
    {
     "data": {
<<<<<<< HEAD
=======
<<<<<<< HEAD
>>>>>>> 958d3b6f3a0d2c5e7972472b1df355b5c251e781
      "text/plain": [
       "Code          81\n",
       "Title         76\n",
       "Unnamed: 2     0\n",
       "Unnamed: 3     0\n",
       "dtype: int64"
      ]
     },
     "execution_count": 10,
     "metadata": {},
     "output_type": "execute_result"
    }
   ],
   "source": [
    "#Drop na and count to verify\n",
    "object_df.dropna()\n",
    "object_df.count()"
   ]
  },
  {
   "cell_type": "code",
   "execution_count": 11,
   "metadata": {},
   "outputs": [
    {
     "data": {
<<<<<<< HEAD
=======
=======
>>>>>>> Helen
>>>>>>> 958d3b6f3a0d2c5e7972472b1df355b5c251e781
      "text/html": [
       "<div>\n",
       "<style scoped>\n",
       "    .dataframe tbody tr th:only-of-type {\n",
       "        vertical-align: middle;\n",
       "    }\n",
       "\n",
       "    .dataframe tbody tr th {\n",
       "        vertical-align: top;\n",
       "    }\n",
       "\n",
       "    .dataframe thead th {\n",
       "        text-align: right;\n",
       "    }\n",
       "</style>\n",
       "<table border=\"1\" class=\"dataframe\">\n",
       "  <thead>\n",
       "    <tr style=\"text-align: right;\">\n",
       "      <th></th>\n",
<<<<<<< HEAD
       "      <th>Code</th>\n",
       "      <th>Title</th>\n",
=======
<<<<<<< HEAD
       "      <th>Code</th>\n",
       "      <th>Title</th>\n",
=======
       "      <th>CDS_CODE</th>\n",
       "      <th>District_Code</th>\n",
       "      <th>Function_Code</th>\n",
       "      <th>Amount</th>\n",
>>>>>>> Helen
>>>>>>> 958d3b6f3a0d2c5e7972472b1df355b5c251e781
       "    </tr>\n",
       "  </thead>\n",
       "  <tbody>\n",
       "    <tr>\n",
<<<<<<< HEAD
=======
<<<<<<< HEAD
>>>>>>> 958d3b6f3a0d2c5e7972472b1df355b5c251e781
       "      <th>0</th>\n",
       "      <td>0000</td>\n",
       "      <td>Not Applicable (For use with revenues and bala...</td>\n",
       "    </tr>\n",
       "    <tr>\n",
       "      <th>1</th>\n",
       "      <td>1000</td>\n",
       "      <td>Instruction                                   ...</td>\n",
       "    </tr>\n",
       "    <tr>\n",
       "      <th>2</th>\n",
       "      <td>1110</td>\n",
       "      <td>Special Education: Separate Classes           ...</td>\n",
       "    </tr>\n",
       "    <tr>\n",
       "      <th>3</th>\n",
       "      <td>1120</td>\n",
       "      <td>Special Education: Resource Specialist Instruc...</td>\n",
       "    </tr>\n",
       "    <tr>\n",
       "      <th>4</th>\n",
       "      <td>1130</td>\n",
       "      <td>Special Education: Supplemental Aids &amp; Service...</td>\n",
<<<<<<< HEAD
=======
=======
       "      <th>40</th>\n",
       "      <td>1100170000000</td>\n",
       "      <td>10017</td>\n",
       "      <td>3140</td>\n",
       "      <td>5322.75</td>\n",
       "    </tr>\n",
       "    <tr>\n",
       "      <th>41</th>\n",
       "      <td>1100170000000</td>\n",
       "      <td>10017</td>\n",
       "      <td>3140</td>\n",
       "      <td>1271.78</td>\n",
       "    </tr>\n",
       "    <tr>\n",
       "      <th>42</th>\n",
       "      <td>1100170000000</td>\n",
       "      <td>10017</td>\n",
       "      <td>3140</td>\n",
       "      <td>5718.14</td>\n",
       "    </tr>\n",
       "    <tr>\n",
       "      <th>43</th>\n",
       "      <td>1100170000000</td>\n",
       "      <td>10017</td>\n",
       "      <td>3140</td>\n",
       "      <td>69.00</td>\n",
       "    </tr>\n",
       "    <tr>\n",
       "      <th>44</th>\n",
       "      <td>1100170000000</td>\n",
       "      <td>10017</td>\n",
       "      <td>3140</td>\n",
       "      <td>8601.39</td>\n",
>>>>>>> Helen
>>>>>>> 958d3b6f3a0d2c5e7972472b1df355b5c251e781
       "    </tr>\n",
       "    <tr>\n",
       "      <th>...</th>\n",
       "      <td>...</td>\n",
       "      <td>...</td>\n",
<<<<<<< HEAD
=======
<<<<<<< HEAD
>>>>>>> 958d3b6f3a0d2c5e7972472b1df355b5c251e781
       "    </tr>\n",
       "    <tr>\n",
       "      <th>80</th>\n",
       "      <td>Instruction</td>\n",
       "      <td>NaN</td>\n",
       "    </tr>\n",
       "    <tr>\n",
       "      <th>81</th>\n",
       "      <td>Student Services</td>\n",
       "      <td>NaN</td>\n",
       "    </tr>\n",
       "    <tr>\n",
       "      <th>82</th>\n",
       "      <td>Extra-Curricular/Community</td>\n",
       "      <td>NaN</td>\n",
       "    </tr>\n",
       "    <tr>\n",
       "      <th>83</th>\n",
       "      <td>Administration</td>\n",
       "      <td>NaN</td>\n",
       "    </tr>\n",
       "    <tr>\n",
       "      <th>84</th>\n",
       "      <td>Operations</td>\n",
       "      <td>NaN</td>\n",
       "    </tr>\n",
       "  </tbody>\n",
       "</table>\n",
       "<p>85 rows × 2 columns</p>\n",
       "</div>"
      ],
      "text/plain": [
       "                          Code  \\\n",
       "0                         0000   \n",
       "1                         1000   \n",
       "2                         1110   \n",
       "3                         1120   \n",
       "4                         1130   \n",
       "..                         ...   \n",
       "80                 Instruction   \n",
       "81            Student Services   \n",
       "82  Extra-Curricular/Community   \n",
       "83              Administration   \n",
       "84                  Operations   \n",
       "\n",
       "                                                Title  \n",
       "0   Not Applicable (For use with revenues and bala...  \n",
       "1   Instruction                                   ...  \n",
       "2   Special Education: Separate Classes           ...  \n",
       "3   Special Education: Resource Specialist Instruc...  \n",
       "4   Special Education: Supplemental Aids & Service...  \n",
       "..                                                ...  \n",
       "80                                                NaN  \n",
       "81                                                NaN  \n",
       "82                                                NaN  \n",
       "83                                                NaN  \n",
       "84                                                NaN  \n",
       "\n",
       "[85 rows x 2 columns]"
      ]
     },
     "execution_count": 11,
<<<<<<< HEAD
=======
=======
       "      <td>...</td>\n",
       "      <td>...</td>\n",
       "    </tr>\n",
       "    <tr>\n",
       "      <th>1234749</th>\n",
       "      <td>58727690000000</td>\n",
       "      <td>72769</td>\n",
       "      <td>9100</td>\n",
       "      <td>52246.39</td>\n",
       "    </tr>\n",
       "    <tr>\n",
       "      <th>1234750</th>\n",
       "      <td>58727690000000</td>\n",
       "      <td>72769</td>\n",
       "      <td>9100</td>\n",
       "      <td>43238.64</td>\n",
       "    </tr>\n",
       "    <tr>\n",
       "      <th>1234761</th>\n",
       "      <td>58727690000000</td>\n",
       "      <td>72769</td>\n",
       "      <td>8500</td>\n",
       "      <td>766574.50</td>\n",
       "    </tr>\n",
       "    <tr>\n",
       "      <th>1234768</th>\n",
       "      <td>58727690000000</td>\n",
       "      <td>72769</td>\n",
       "      <td>9100</td>\n",
       "      <td>125092.24</td>\n",
       "    </tr>\n",
       "    <tr>\n",
       "      <th>1234776</th>\n",
       "      <td>58727690000000</td>\n",
       "      <td>72769</td>\n",
       "      <td>2700</td>\n",
       "      <td>1000.00</td>\n",
       "    </tr>\n",
       "  </tbody>\n",
       "</table>\n",
       "<p>940904 rows × 4 columns</p>\n",
       "</div>"
      ],
      "text/plain": [
       "               CDS_CODE  District_Code  Function_Code     Amount\n",
       "40        1100170000000          10017           3140    5322.75\n",
       "41        1100170000000          10017           3140    1271.78\n",
       "42        1100170000000          10017           3140    5718.14\n",
       "43        1100170000000          10017           3140      69.00\n",
       "44        1100170000000          10017           3140    8601.39\n",
       "...                 ...            ...            ...        ...\n",
       "1234749  58727690000000          72769           9100   52246.39\n",
       "1234750  58727690000000          72769           9100   43238.64\n",
       "1234761  58727690000000          72769           8500  766574.50\n",
       "1234768  58727690000000          72769           9100  125092.24\n",
       "1234776  58727690000000          72769           2700    1000.00\n",
       "\n",
       "[940904 rows x 4 columns]"
      ]
     },
     "execution_count": 10,
>>>>>>> Helen
>>>>>>> 958d3b6f3a0d2c5e7972472b1df355b5c251e781
     "metadata": {},
     "output_type": "execute_result"
    }
   ],
   "source": [
<<<<<<< HEAD
    "#Delete extra columns\n",
    "object_df=object_df[['Code','Title']]\n",
    "object_df"
=======
<<<<<<< HEAD
    "#Delete extra columns\n",
    "object_df=object_df[['Code','Title']]\n",
    "object_df"
=======
    "clean_data = clean_data[clean_data.Amount >= 0]\n",
    "clean_data"
   ]
  },
  {
   "cell_type": "markdown",
   "metadata": {},
   "source": [
    "## Cleaning Objects.CSV"
>>>>>>> 958d3b6f3a0d2c5e7972472b1df355b5c251e781
   ]
  },
  {
   "cell_type": "code",
<<<<<<< HEAD
=======
   "execution_count": null,
   "metadata": {},
   "outputs": [],
   "source": [
    "#load object budget categories\n",
    "#object_df=pd.read_csv(\"../Objects (Budget Categories).csv\",\n",
    "                   #  names=['Code','Title'])\n",
    "#object_df"
   ]
  },
  {
   "cell_type": "code",
   "execution_count": null,
   "metadata": {},
   "outputs": [],
   "source": [
    "#Drop na and count to verify\n",
    "#object_df.dropna()\n",
    "#object_df.count()"
   ]
  },
  {
   "cell_type": "code",
   "execution_count": null,
   "metadata": {},
   "outputs": [],
   "source": [
    "#Delete extra columns\n",
    "#object_df=object_df[['Code','Title']]\n",
    "#object_df"
>>>>>>> Helen
   ]
  },
  {
   "cell_type": "code",
<<<<<<< HEAD
>>>>>>> 958d3b6f3a0d2c5e7972472b1df355b5c251e781
   "execution_count": 12,
   "metadata": {},
   "outputs": [
    {
     "data": {
      "text/plain": [
       "Code     object\n",
       "Title    object\n",
       "dtype: object"
      ]
     },
     "execution_count": 12,
     "metadata": {},
     "output_type": "execute_result"
    }
   ],
   "source": [
    "#Verify datatypes\n",
    "object_df.dtypes"
<<<<<<< HEAD
=======
=======
   "execution_count": null,
   "metadata": {},
   "outputs": [],
   "source": [
    "#Verify datatypes\n",
    "#object_df.dtypes"
>>>>>>> Helen
>>>>>>> 958d3b6f3a0d2c5e7972472b1df355b5c251e781
   ]
  },
  {
   "cell_type": "code",
<<<<<<< HEAD
=======
<<<<<<< HEAD
>>>>>>> 958d3b6f3a0d2c5e7972472b1df355b5c251e781
   "execution_count": 13,
   "metadata": {},
   "outputs": [
    {
     "data": {
      "text/html": [
       "<div>\n",
       "<style scoped>\n",
       "    .dataframe tbody tr th:only-of-type {\n",
       "        vertical-align: middle;\n",
       "    }\n",
       "\n",
       "    .dataframe tbody tr th {\n",
       "        vertical-align: top;\n",
       "    }\n",
       "\n",
       "    .dataframe thead th {\n",
       "        text-align: right;\n",
       "    }\n",
       "</style>\n",
       "<table border=\"1\" class=\"dataframe\">\n",
       "  <thead>\n",
       "    <tr style=\"text-align: right;\">\n",
       "      <th></th>\n",
       "      <th>Code</th>\n",
       "      <th>Title</th>\n",
       "    </tr>\n",
       "  </thead>\n",
       "  <tbody>\n",
       "    <tr>\n",
       "      <th>76</th>\n",
       "      <td>NaN</td>\n",
       "      <td>NaN</td>\n",
       "    </tr>\n",
       "    <tr>\n",
       "      <th>77</th>\n",
       "      <td>NaN</td>\n",
       "      <td>NaN</td>\n",
       "    </tr>\n",
       "    <tr>\n",
       "      <th>78</th>\n",
       "      <td>NaN</td>\n",
       "      <td>NaN</td>\n",
       "    </tr>\n",
       "    <tr>\n",
       "      <th>79</th>\n",
       "      <td>NaN</td>\n",
       "      <td>NaN</td>\n",
       "    </tr>\n",
       "    <tr>\n",
       "      <th>80</th>\n",
       "      <td>Instruction</td>\n",
       "      <td>NaN</td>\n",
       "    </tr>\n",
       "    <tr>\n",
       "      <th>81</th>\n",
       "      <td>Student Services</td>\n",
       "      <td>NaN</td>\n",
       "    </tr>\n",
       "    <tr>\n",
       "      <th>82</th>\n",
       "      <td>Extra-Curricular/Community</td>\n",
       "      <td>NaN</td>\n",
       "    </tr>\n",
       "    <tr>\n",
       "      <th>83</th>\n",
       "      <td>Administration</td>\n",
       "      <td>NaN</td>\n",
       "    </tr>\n",
       "    <tr>\n",
       "      <th>84</th>\n",
       "      <td>Operations</td>\n",
       "      <td>NaN</td>\n",
       "    </tr>\n",
       "  </tbody>\n",
       "</table>\n",
       "</div>"
      ],
      "text/plain": [
       "                          Code Title\n",
       "76                         NaN   NaN\n",
       "77                         NaN   NaN\n",
       "78                         NaN   NaN\n",
       "79                         NaN   NaN\n",
       "80                 Instruction   NaN\n",
       "81            Student Services   NaN\n",
       "82  Extra-Curricular/Community   NaN\n",
       "83              Administration   NaN\n",
       "84                  Operations   NaN"
      ]
     },
     "execution_count": 13,
     "metadata": {},
     "output_type": "execute_result"
    }
   ],
   "source": [
    "#Clarify what is null, if any\n",
    "object_df1=object_df[object_df.isna().any(axis=1)]\n",
    "object_df1"
<<<<<<< HEAD
=======
=======
   "execution_count": null,
   "metadata": {},
   "outputs": [],
   "source": [
    "#Clarify what is null, if any\n",
    "#object_df1=object_df[object_df.isna().any(axis=1)]\n",
    "#object_df1"
>>>>>>> Helen
>>>>>>> 958d3b6f3a0d2c5e7972472b1df355b5c251e781
   ]
  },
  {
   "cell_type": "code",
<<<<<<< HEAD
=======
<<<<<<< HEAD
>>>>>>> 958d3b6f3a0d2c5e7972472b1df355b5c251e781
   "execution_count": 14,
   "metadata": {},
   "outputs": [
    {
     "data": {
      "text/html": [
       "<div>\n",
       "<style scoped>\n",
       "    .dataframe tbody tr th:only-of-type {\n",
       "        vertical-align: middle;\n",
       "    }\n",
       "\n",
       "    .dataframe tbody tr th {\n",
       "        vertical-align: top;\n",
       "    }\n",
       "\n",
       "    .dataframe thead th {\n",
       "        text-align: right;\n",
       "    }\n",
       "</style>\n",
       "<table border=\"1\" class=\"dataframe\">\n",
       "  <thead>\n",
       "    <tr style=\"text-align: right;\">\n",
       "      <th></th>\n",
       "      <th>Code</th>\n",
       "      <th>Title</th>\n",
       "    </tr>\n",
       "  </thead>\n",
       "  <tbody>\n",
       "    <tr>\n",
       "      <th>0</th>\n",
       "      <td>0000</td>\n",
       "      <td>Not Applicable (For use with revenues and bala...</td>\n",
       "    </tr>\n",
       "    <tr>\n",
       "      <th>1</th>\n",
       "      <td>1000</td>\n",
       "      <td>Instruction                                   ...</td>\n",
       "    </tr>\n",
       "    <tr>\n",
       "      <th>2</th>\n",
       "      <td>1110</td>\n",
       "      <td>Special Education: Separate Classes           ...</td>\n",
       "    </tr>\n",
       "    <tr>\n",
       "      <th>3</th>\n",
       "      <td>1120</td>\n",
       "      <td>Special Education: Resource Specialist Instruc...</td>\n",
       "    </tr>\n",
       "    <tr>\n",
       "      <th>4</th>\n",
       "      <td>1130</td>\n",
       "      <td>Special Education: Supplemental Aids &amp; Service...</td>\n",
       "    </tr>\n",
       "    <tr>\n",
       "      <th>...</th>\n",
       "      <td>...</td>\n",
       "      <td>...</td>\n",
       "    </tr>\n",
       "    <tr>\n",
       "      <th>71</th>\n",
       "      <td>8500</td>\n",
       "      <td>Facilities Acquisition and Construction       ...</td>\n",
       "    </tr>\n",
       "    <tr>\n",
       "      <th>72</th>\n",
       "      <td>8700</td>\n",
       "      <td>Facilities Rents and Leases                   ...</td>\n",
       "    </tr>\n",
       "    <tr>\n",
       "      <th>73</th>\n",
       "      <td>9100</td>\n",
       "      <td>Debt Service                                  ...</td>\n",
       "    </tr>\n",
       "    <tr>\n",
       "      <th>74</th>\n",
       "      <td>9200</td>\n",
       "      <td>Transfers Between Agencies                    ...</td>\n",
       "    </tr>\n",
       "    <tr>\n",
       "      <th>75</th>\n",
       "      <td>9300</td>\n",
       "      <td>Interfund Transfers                           ...</td>\n",
       "    </tr>\n",
       "  </tbody>\n",
       "</table>\n",
       "<p>76 rows × 2 columns</p>\n",
       "</div>"
      ],
      "text/plain": [
       "    Code                                              Title\n",
       "0   0000  Not Applicable (For use with revenues and bala...\n",
       "1   1000  Instruction                                   ...\n",
       "2   1110  Special Education: Separate Classes           ...\n",
       "3   1120  Special Education: Resource Specialist Instruc...\n",
       "4   1130  Special Education: Supplemental Aids & Service...\n",
       "..   ...                                                ...\n",
       "71  8500  Facilities Acquisition and Construction       ...\n",
       "72  8700  Facilities Rents and Leases                   ...\n",
       "73  9100  Debt Service                                  ...\n",
       "74  9200  Transfers Between Agencies                    ...\n",
       "75  9300  Interfund Transfers                           ...\n",
       "\n",
       "[76 rows x 2 columns]"
      ]
     },
     "execution_count": 14,
     "metadata": {},
     "output_type": "execute_result"
    }
   ],
   "source": [
    "#Drop Null\n",
    "object_df=object_df.dropna()\n",
    "object_df"
   ]
  },
  {
   "cell_type": "code",
   "execution_count": 15,
   "metadata": {},
   "outputs": [
    {
     "data": {
      "text/html": [
       "<div>\n",
       "<style scoped>\n",
       "    .dataframe tbody tr th:only-of-type {\n",
       "        vertical-align: middle;\n",
       "    }\n",
       "\n",
       "    .dataframe tbody tr th {\n",
       "        vertical-align: top;\n",
       "    }\n",
       "\n",
       "    .dataframe thead th {\n",
       "        text-align: right;\n",
       "    }\n",
       "</style>\n",
       "<table border=\"1\" class=\"dataframe\">\n",
       "  <thead>\n",
       "    <tr style=\"text-align: right;\">\n",
       "      <th></th>\n",
       "      <th>Object_Code</th>\n",
       "      <th>Object</th>\n",
       "    </tr>\n",
       "  </thead>\n",
       "  <tbody>\n",
       "    <tr>\n",
       "      <th>0</th>\n",
       "      <td>0000</td>\n",
       "      <td>Not Applicable (For use with revenues and bala...</td>\n",
       "    </tr>\n",
       "    <tr>\n",
       "      <th>1</th>\n",
       "      <td>1000</td>\n",
       "      <td>Instruction                                   ...</td>\n",
       "    </tr>\n",
       "    <tr>\n",
       "      <th>2</th>\n",
       "      <td>1110</td>\n",
       "      <td>Special Education: Separate Classes           ...</td>\n",
       "    </tr>\n",
       "    <tr>\n",
       "      <th>3</th>\n",
       "      <td>1120</td>\n",
       "      <td>Special Education: Resource Specialist Instruc...</td>\n",
       "    </tr>\n",
       "    <tr>\n",
       "      <th>4</th>\n",
       "      <td>1130</td>\n",
       "      <td>Special Education: Supplemental Aids &amp; Service...</td>\n",
       "    </tr>\n",
       "    <tr>\n",
       "      <th>...</th>\n",
       "      <td>...</td>\n",
       "      <td>...</td>\n",
       "    </tr>\n",
       "    <tr>\n",
       "      <th>71</th>\n",
       "      <td>8500</td>\n",
       "      <td>Facilities Acquisition and Construction       ...</td>\n",
       "    </tr>\n",
       "    <tr>\n",
       "      <th>72</th>\n",
       "      <td>8700</td>\n",
       "      <td>Facilities Rents and Leases                   ...</td>\n",
       "    </tr>\n",
       "    <tr>\n",
       "      <th>73</th>\n",
       "      <td>9100</td>\n",
       "      <td>Debt Service                                  ...</td>\n",
       "    </tr>\n",
       "    <tr>\n",
       "      <th>74</th>\n",
       "      <td>9200</td>\n",
       "      <td>Transfers Between Agencies                    ...</td>\n",
       "    </tr>\n",
       "    <tr>\n",
       "      <th>75</th>\n",
       "      <td>9300</td>\n",
       "      <td>Interfund Transfers                           ...</td>\n",
       "    </tr>\n",
       "  </tbody>\n",
       "</table>\n",
       "<p>76 rows × 2 columns</p>\n",
       "</div>"
      ],
      "text/plain": [
       "   Object_Code                                             Object\n",
       "0         0000  Not Applicable (For use with revenues and bala...\n",
       "1         1000  Instruction                                   ...\n",
       "2         1110  Special Education: Separate Classes           ...\n",
       "3         1120  Special Education: Resource Specialist Instruc...\n",
       "4         1130  Special Education: Supplemental Aids & Service...\n",
       "..         ...                                                ...\n",
       "71        8500  Facilities Acquisition and Construction       ...\n",
       "72        8700  Facilities Rents and Leases                   ...\n",
       "73        9100  Debt Service                                  ...\n",
       "74        9200  Transfers Between Agencies                    ...\n",
       "75        9300  Interfund Transfers                           ...\n",
       "\n",
       "[76 rows x 2 columns]"
      ]
     },
     "execution_count": 15,
     "metadata": {},
     "output_type": "execute_result"
    }
   ],
   "source": [
    "#Rename column\n",
    "object_df=object_df.rename(columns={\"Code\":\"Object_Code\",\"Title\":\"Object\"})\n",
    "object_df"
   ]
  },
  {
   "cell_type": "code",
   "execution_count": 16,
   "metadata": {},
   "outputs": [
    {
     "data": {
      "text/html": [
       "<div>\n",
       "<style scoped>\n",
       "    .dataframe tbody tr th:only-of-type {\n",
       "        vertical-align: middle;\n",
       "    }\n",
       "\n",
       "    .dataframe tbody tr th {\n",
       "        vertical-align: top;\n",
       "    }\n",
       "\n",
       "    .dataframe thead th {\n",
       "        text-align: right;\n",
       "    }\n",
       "</style>\n",
       "<table border=\"1\" class=\"dataframe\">\n",
       "  <thead>\n",
       "    <tr style=\"text-align: right;\">\n",
       "      <th></th>\n",
       "      <th>CDS_CODE</th>\n",
       "      <th>Object_Code</th>\n",
       "      <th>Function_Code</th>\n",
       "      <th>Amount</th>\n",
       "      <th>Object</th>\n",
       "    </tr>\n",
       "  </thead>\n",
       "  <tbody>\n",
       "    <tr>\n",
       "      <th>0</th>\n",
       "      <td>1100170000000</td>\n",
       "      <td>9200</td>\n",
       "      <td>0</td>\n",
       "      <td>2908958.05</td>\n",
       "      <td>Transfers Between Agencies                    ...</td>\n",
       "    </tr>\n",
       "    <tr>\n",
       "      <th>1</th>\n",
       "      <td>1100170000000</td>\n",
       "      <td>9200</td>\n",
       "      <td>0</td>\n",
       "      <td>-574.59</td>\n",
       "      <td>Transfers Between Agencies                    ...</td>\n",
       "    </tr>\n",
       "    <tr>\n",
       "      <th>2</th>\n",
       "      <td>1100170000000</td>\n",
       "      <td>9200</td>\n",
       "      <td>0</td>\n",
       "      <td>16435.18</td>\n",
       "      <td>Transfers Between Agencies                    ...</td>\n",
       "    </tr>\n",
       "    <tr>\n",
       "      <th>3</th>\n",
       "      <td>1100170000000</td>\n",
       "      <td>9200</td>\n",
       "      <td>0</td>\n",
       "      <td>44269.44</td>\n",
       "      <td>Transfers Between Agencies                    ...</td>\n",
       "    </tr>\n",
       "    <tr>\n",
       "      <th>4</th>\n",
       "      <td>1100170000000</td>\n",
       "      <td>9200</td>\n",
       "      <td>0</td>\n",
       "      <td>25451.47</td>\n",
       "      <td>Transfers Between Agencies                    ...</td>\n",
       "    </tr>\n",
       "    <tr>\n",
       "      <th>...</th>\n",
       "      <td>...</td>\n",
       "      <td>...</td>\n",
       "      <td>...</td>\n",
       "      <td>...</td>\n",
       "      <td>...</td>\n",
       "    </tr>\n",
       "    <tr>\n",
       "      <th>92133</th>\n",
       "      <td>42767860000000</td>\n",
       "      <td>7110</td>\n",
       "      <td>9200</td>\n",
       "      <td>35290.37</td>\n",
       "      <td>Board                                         ...</td>\n",
       "    </tr>\n",
       "    <tr>\n",
       "      <th>92134</th>\n",
       "      <td>43694350000000</td>\n",
       "      <td>7110</td>\n",
       "      <td>9200</td>\n",
       "      <td>46126.50</td>\n",
       "      <td>Board                                         ...</td>\n",
       "    </tr>\n",
       "    <tr>\n",
       "      <th>92135</th>\n",
       "      <td>43696660000000</td>\n",
       "      <td>7110</td>\n",
       "      <td>9200</td>\n",
       "      <td>84930.00</td>\n",
       "      <td>Board                                         ...</td>\n",
       "    </tr>\n",
       "    <tr>\n",
       "      <th>92136</th>\n",
       "      <td>46104620000000</td>\n",
       "      <td>7110</td>\n",
       "      <td>9200</td>\n",
       "      <td>129548.34</td>\n",
       "      <td>Board                                         ...</td>\n",
       "    </tr>\n",
       "    <tr>\n",
       "      <th>92137</th>\n",
       "      <td>58727690000000</td>\n",
       "      <td>7110</td>\n",
       "      <td>9200</td>\n",
       "      <td>5484.00</td>\n",
       "      <td>Board                                         ...</td>\n",
       "    </tr>\n",
       "  </tbody>\n",
       "</table>\n",
       "<p>92138 rows × 5 columns</p>\n",
       "</div>"
      ],
      "text/plain": [
       "             CDS_CODE Object_Code  Function_Code      Amount  \\\n",
       "0       1100170000000        9200              0  2908958.05   \n",
       "1       1100170000000        9200              0     -574.59   \n",
       "2       1100170000000        9200              0    16435.18   \n",
       "3       1100170000000        9200              0    44269.44   \n",
       "4       1100170000000        9200              0    25451.47   \n",
       "...               ...         ...            ...         ...   \n",
       "92133  42767860000000        7110           9200    35290.37   \n",
       "92134  43694350000000        7110           9200    46126.50   \n",
       "92135  43696660000000        7110           9200    84930.00   \n",
       "92136  46104620000000        7110           9200   129548.34   \n",
       "92137  58727690000000        7110           9200     5484.00   \n",
       "\n",
       "                                                  Object  \n",
       "0      Transfers Between Agencies                    ...  \n",
       "1      Transfers Between Agencies                    ...  \n",
       "2      Transfers Between Agencies                    ...  \n",
       "3      Transfers Between Agencies                    ...  \n",
       "4      Transfers Between Agencies                    ...  \n",
       "...                                                  ...  \n",
       "92133  Board                                         ...  \n",
       "92134  Board                                         ...  \n",
       "92135  Board                                         ...  \n",
       "92136  Board                                         ...  \n",
       "92137  Board                                         ...  \n",
       "\n",
       "[92138 rows x 5 columns]"
      ]
     },
     "execution_count": 16,
     "metadata": {},
     "output_type": "execute_result"
    }
   ],
   "source": [
    "#Merge object table with budget table\n",
    "clean_data=pd.merge(clean_data, object_df, on =['Object_Code'])\n",
    "clean_data"
<<<<<<< HEAD
=======
=======
   "execution_count": null,
   "metadata": {},
   "outputs": [],
   "source": [
    "#Drop Null\n",
    "#object_df=object_df.dropna()\n",
    "#object_df"
   ]
  },
  {
   "cell_type": "code",
   "execution_count": null,
   "metadata": {},
   "outputs": [],
   "source": [
    "#Rename column\n",
    "#object_df=object_df.rename(columns={\"Code\":\"Object_Code\",\"Title\":\"Object\"})\n",
    "#object_df"
   ]
  },
  {
   "cell_type": "code",
   "execution_count": null,
   "metadata": {},
   "outputs": [],
   "source": [
    "#Merge object table with budget table\n",
    "#clean_data=pd.merge(clean_data, object_df, on =['Object_Code'])\n",
    "#clean_data"
>>>>>>> Helen
>>>>>>> 958d3b6f3a0d2c5e7972472b1df355b5c251e781
   ]
  },
  {
   "cell_type": "code",
<<<<<<< HEAD
   "execution_count": 17,
=======
<<<<<<< HEAD
   "execution_count": 17,
=======
   "execution_count": null,
   "metadata": {},
   "outputs": [],
   "source": [
    "#Drop unnecessary columns\n",
    "#clean_data=clean_data[['CDS_CODE','Object','Function_Code','Amount']]\n",
    "#clean_data"
   ]
  },
  {
   "cell_type": "markdown",
   "metadata": {},
   "source": [
    "## Cleaning Function.CSV"
   ]
  },
  {
   "cell_type": "code",
   "execution_count": 11,
>>>>>>> Helen
>>>>>>> 958d3b6f3a0d2c5e7972472b1df355b5c251e781
   "metadata": {},
   "outputs": [
    {
     "data": {
      "text/html": [
       "<div>\n",
       "<style scoped>\n",
       "    .dataframe tbody tr th:only-of-type {\n",
       "        vertical-align: middle;\n",
       "    }\n",
       "\n",
       "    .dataframe tbody tr th {\n",
       "        vertical-align: top;\n",
       "    }\n",
       "\n",
       "    .dataframe thead th {\n",
       "        text-align: right;\n",
       "    }\n",
       "</style>\n",
       "<table border=\"1\" class=\"dataframe\">\n",
       "  <thead>\n",
       "    <tr style=\"text-align: right;\">\n",
       "      <th></th>\n",
<<<<<<< HEAD
=======
<<<<<<< HEAD
>>>>>>> 958d3b6f3a0d2c5e7972472b1df355b5c251e781
       "      <th>CDS_CODE</th>\n",
       "      <th>Object</th>\n",
       "      <th>Function_Code</th>\n",
       "      <th>Amount</th>\n",
<<<<<<< HEAD
=======
=======
       "      <th>Function_Code</th>\n",
       "      <th>Function</th>\n",
>>>>>>> Helen
>>>>>>> 958d3b6f3a0d2c5e7972472b1df355b5c251e781
       "    </tr>\n",
       "  </thead>\n",
       "  <tbody>\n",
       "    <tr>\n",
       "      <th>0</th>\n",
<<<<<<< HEAD
=======
<<<<<<< HEAD
>>>>>>> 958d3b6f3a0d2c5e7972472b1df355b5c251e781
       "      <td>1100170000000</td>\n",
       "      <td>Transfers Between Agencies                    ...</td>\n",
       "      <td>0</td>\n",
       "      <td>2908958.05</td>\n",
       "    </tr>\n",
       "    <tr>\n",
       "      <th>1</th>\n",
       "      <td>1100170000000</td>\n",
       "      <td>Transfers Between Agencies                    ...</td>\n",
       "      <td>0</td>\n",
       "      <td>-574.59</td>\n",
       "    </tr>\n",
       "    <tr>\n",
       "      <th>2</th>\n",
       "      <td>1100170000000</td>\n",
       "      <td>Transfers Between Agencies                    ...</td>\n",
       "      <td>0</td>\n",
       "      <td>16435.18</td>\n",
       "    </tr>\n",
       "    <tr>\n",
       "      <th>3</th>\n",
       "      <td>1100170000000</td>\n",
       "      <td>Transfers Between Agencies                    ...</td>\n",
       "      <td>0</td>\n",
       "      <td>44269.44</td>\n",
       "    </tr>\n",
       "    <tr>\n",
       "      <th>4</th>\n",
       "      <td>1100170000000</td>\n",
       "      <td>Transfers Between Agencies                    ...</td>\n",
       "      <td>0</td>\n",
       "      <td>25451.47</td>\n",
<<<<<<< HEAD
=======
=======
       "      <td>1100</td>\n",
       "      <td>Certificated Teachers' Salaries               ...</td>\n",
       "    </tr>\n",
       "    <tr>\n",
       "      <th>1</th>\n",
       "      <td>1200</td>\n",
       "      <td>Certificated Pupil Support Salaries           ...</td>\n",
       "    </tr>\n",
       "    <tr>\n",
       "      <th>2</th>\n",
       "      <td>1300</td>\n",
       "      <td>Certificated Supervisors' and Administrators' ...</td>\n",
       "    </tr>\n",
       "    <tr>\n",
       "      <th>3</th>\n",
       "      <td>1900</td>\n",
       "      <td>Other Certificated Salaries                   ...</td>\n",
       "    </tr>\n",
       "    <tr>\n",
       "      <th>4</th>\n",
       "      <td>2100</td>\n",
       "      <td>Classified Instructional Salaries             ...</td>\n",
>>>>>>> Helen
>>>>>>> 958d3b6f3a0d2c5e7972472b1df355b5c251e781
       "    </tr>\n",
       "    <tr>\n",
       "      <th>...</th>\n",
       "      <td>...</td>\n",
       "      <td>...</td>\n",
<<<<<<< HEAD
=======
<<<<<<< HEAD
>>>>>>> 958d3b6f3a0d2c5e7972472b1df355b5c251e781
       "      <td>...</td>\n",
       "      <td>...</td>\n",
       "    </tr>\n",
       "    <tr>\n",
       "      <th>92133</th>\n",
       "      <td>42767860000000</td>\n",
       "      <td>Board                                         ...</td>\n",
       "      <td>9200</td>\n",
       "      <td>35290.37</td>\n",
       "    </tr>\n",
       "    <tr>\n",
       "      <th>92134</th>\n",
       "      <td>43694350000000</td>\n",
       "      <td>Board                                         ...</td>\n",
       "      <td>9200</td>\n",
       "      <td>46126.50</td>\n",
       "    </tr>\n",
       "    <tr>\n",
       "      <th>92135</th>\n",
       "      <td>43696660000000</td>\n",
       "      <td>Board                                         ...</td>\n",
       "      <td>9200</td>\n",
       "      <td>84930.00</td>\n",
       "    </tr>\n",
       "    <tr>\n",
       "      <th>92136</th>\n",
       "      <td>46104620000000</td>\n",
       "      <td>Board                                         ...</td>\n",
       "      <td>9200</td>\n",
       "      <td>129548.34</td>\n",
       "    </tr>\n",
       "    <tr>\n",
       "      <th>92137</th>\n",
       "      <td>58727690000000</td>\n",
       "      <td>Board                                         ...</td>\n",
       "      <td>9200</td>\n",
       "      <td>5484.00</td>\n",
       "    </tr>\n",
       "  </tbody>\n",
       "</table>\n",
       "<p>92138 rows × 4 columns</p>\n",
       "</div>"
      ],
      "text/plain": [
       "             CDS_CODE                                             Object  \\\n",
       "0       1100170000000  Transfers Between Agencies                    ...   \n",
       "1       1100170000000  Transfers Between Agencies                    ...   \n",
       "2       1100170000000  Transfers Between Agencies                    ...   \n",
       "3       1100170000000  Transfers Between Agencies                    ...   \n",
       "4       1100170000000  Transfers Between Agencies                    ...   \n",
       "...               ...                                                ...   \n",
       "92133  42767860000000  Board                                         ...   \n",
       "92134  43694350000000  Board                                         ...   \n",
       "92135  43696660000000  Board                                         ...   \n",
       "92136  46104620000000  Board                                         ...   \n",
       "92137  58727690000000  Board                                         ...   \n",
       "\n",
       "       Function_Code      Amount  \n",
       "0                  0  2908958.05  \n",
       "1                  0     -574.59  \n",
       "2                  0    16435.18  \n",
       "3                  0    44269.44  \n",
       "4                  0    25451.47  \n",
       "...              ...         ...  \n",
       "92133           9200    35290.37  \n",
       "92134           9200    46126.50  \n",
       "92135           9200    84930.00  \n",
       "92136           9200   129548.34  \n",
       "92137           9200     5484.00  \n",
       "\n",
       "[92138 rows x 4 columns]"
      ]
     },
     "execution_count": 17,
<<<<<<< HEAD
=======
=======
       "    </tr>\n",
       "    <tr>\n",
       "      <th>233</th>\n",
       "      <td>9793</td>\n",
       "      <td>Audit Adjustments                             ...</td>\n",
       "    </tr>\n",
       "    <tr>\n",
       "      <th>234</th>\n",
       "      <td>9795</td>\n",
       "      <td>Other Restatements                            ...</td>\n",
       "    </tr>\n",
       "    <tr>\n",
       "      <th>235</th>\n",
       "      <td>9796</td>\n",
       "      <td>Net Investment in Capital Assets              ...</td>\n",
       "    </tr>\n",
       "    <tr>\n",
       "      <th>236</th>\n",
       "      <td>9797</td>\n",
       "      <td>Restricted Net Position                       ...</td>\n",
       "    </tr>\n",
       "    <tr>\n",
       "      <th>237</th>\n",
       "      <td>979Z</td>\n",
       "      <td>EFB (Calculated)                              ...</td>\n",
       "    </tr>\n",
       "  </tbody>\n",
       "</table>\n",
       "<p>238 rows × 2 columns</p>\n",
       "</div>"
      ],
      "text/plain": [
       "    Function_Code                                           Function\n",
       "0            1100  Certificated Teachers' Salaries               ...\n",
       "1            1200  Certificated Pupil Support Salaries           ...\n",
       "2            1300  Certificated Supervisors' and Administrators' ...\n",
       "3            1900  Other Certificated Salaries                   ...\n",
       "4            2100  Classified Instructional Salaries             ...\n",
       "..            ...                                                ...\n",
       "233          9793  Audit Adjustments                             ...\n",
       "234          9795  Other Restatements                            ...\n",
       "235          9796  Net Investment in Capital Assets              ...\n",
       "236          9797  Restricted Net Position                       ...\n",
       "237          979Z  EFB (Calculated)                              ...\n",
       "\n",
       "[238 rows x 2 columns]"
      ]
     },
     "execution_count": 11,
>>>>>>> Helen
>>>>>>> 958d3b6f3a0d2c5e7972472b1df355b5c251e781
     "metadata": {},
     "output_type": "execute_result"
    }
   ],
   "source": [
<<<<<<< HEAD
=======
<<<<<<< HEAD
>>>>>>> 958d3b6f3a0d2c5e7972472b1df355b5c251e781
    "#Drop unnecessary columns\n",
    "clean_data=clean_data[['CDS_CODE','Object','Function_Code','Amount']]\n",
    "clean_data"
   ]
  },
  {
   "cell_type": "markdown",
   "metadata": {},
   "source": [
    "## Cleaning Function.CSV"
<<<<<<< HEAD
=======
=======
    "#load object budget categories\n",
    "function_df=pd.read_csv(\"../Objects (Budget Categories).csv\",\n",
    "                     names=['Function_Code','Function'])\n",
    "#object_df\n",
    "#load function csv\n",
    "#function_df=pd.read_csv(\"../Function (Budget Categories).csv\")\n",
    "function_df"
>>>>>>> Helen
>>>>>>> 958d3b6f3a0d2c5e7972472b1df355b5c251e781
   ]
  },
  {
   "cell_type": "code",
<<<<<<< HEAD
   "execution_count": 18,
=======
<<<<<<< HEAD
   "execution_count": 18,
=======
   "execution_count": 12,
>>>>>>> Helen
>>>>>>> 958d3b6f3a0d2c5e7972472b1df355b5c251e781
   "metadata": {},
   "outputs": [
    {
     "data": {
      "text/html": [
       "<div>\n",
       "<style scoped>\n",
       "    .dataframe tbody tr th:only-of-type {\n",
       "        vertical-align: middle;\n",
       "    }\n",
       "\n",
       "    .dataframe tbody tr th {\n",
       "        vertical-align: top;\n",
       "    }\n",
       "\n",
       "    .dataframe thead th {\n",
       "        text-align: right;\n",
       "    }\n",
       "</style>\n",
       "<table border=\"1\" class=\"dataframe\">\n",
       "  <thead>\n",
       "    <tr style=\"text-align: right;\">\n",
       "      <th></th>\n",
<<<<<<< HEAD
=======
<<<<<<< HEAD
>>>>>>> 958d3b6f3a0d2c5e7972472b1df355b5c251e781
       "      <th>Code</th>\n",
       "      <th>Title</th>\n",
       "      <th>Unnamed: 2</th>\n",
       "      <th>Unnamed: 3</th>\n",
<<<<<<< HEAD
=======
=======
       "      <th>Function_Code</th>\n",
       "      <th>Function</th>\n",
>>>>>>> Helen
>>>>>>> 958d3b6f3a0d2c5e7972472b1df355b5c251e781
       "    </tr>\n",
       "  </thead>\n",
       "  <tbody>\n",
       "    <tr>\n",
       "      <th>0</th>\n",
<<<<<<< HEAD
=======
<<<<<<< HEAD
>>>>>>> 958d3b6f3a0d2c5e7972472b1df355b5c251e781
       "      <td>0000</td>\n",
       "      <td>Not Applicable (For use with revenues and bala...</td>\n",
       "      <td>NaN</td>\n",
       "      <td>NaN</td>\n",
       "    </tr>\n",
       "    <tr>\n",
       "      <th>1</th>\n",
       "      <td>1000</td>\n",
       "      <td>Instruction                                   ...</td>\n",
       "      <td>NaN</td>\n",
       "      <td>NaN</td>\n",
       "    </tr>\n",
       "    <tr>\n",
       "      <th>2</th>\n",
       "      <td>1110</td>\n",
       "      <td>Special Education: Separate Classes           ...</td>\n",
       "      <td>NaN</td>\n",
       "      <td>NaN</td>\n",
       "    </tr>\n",
       "    <tr>\n",
       "      <th>3</th>\n",
       "      <td>1120</td>\n",
       "      <td>Special Education: Resource Specialist Instruc...</td>\n",
       "      <td>NaN</td>\n",
       "      <td>NaN</td>\n",
       "    </tr>\n",
       "    <tr>\n",
       "      <th>4</th>\n",
       "      <td>1130</td>\n",
       "      <td>Special Education: Supplemental Aids &amp; Service...</td>\n",
       "      <td>NaN</td>\n",
       "      <td>NaN</td>\n",
<<<<<<< HEAD
=======
=======
       "      <td>1100</td>\n",
       "      <td>Certificated Teachers' Salaries               ...</td>\n",
       "    </tr>\n",
       "    <tr>\n",
       "      <th>1</th>\n",
       "      <td>1200</td>\n",
       "      <td>Certificated Pupil Support Salaries           ...</td>\n",
       "    </tr>\n",
       "    <tr>\n",
       "      <th>2</th>\n",
       "      <td>1300</td>\n",
       "      <td>Certificated Supervisors' and Administrators' ...</td>\n",
       "    </tr>\n",
       "    <tr>\n",
       "      <th>3</th>\n",
       "      <td>1900</td>\n",
       "      <td>Other Certificated Salaries                   ...</td>\n",
       "    </tr>\n",
       "    <tr>\n",
       "      <th>4</th>\n",
       "      <td>2100</td>\n",
       "      <td>Classified Instructional Salaries             ...</td>\n",
>>>>>>> Helen
>>>>>>> 958d3b6f3a0d2c5e7972472b1df355b5c251e781
       "    </tr>\n",
       "    <tr>\n",
       "      <th>...</th>\n",
       "      <td>...</td>\n",
       "      <td>...</td>\n",
<<<<<<< HEAD
=======
<<<<<<< HEAD
>>>>>>> 958d3b6f3a0d2c5e7972472b1df355b5c251e781
       "      <td>...</td>\n",
       "      <td>...</td>\n",
       "    </tr>\n",
       "    <tr>\n",
       "      <th>80</th>\n",
       "      <td>Instruction</td>\n",
       "      <td>NaN</td>\n",
       "      <td>NaN</td>\n",
       "      <td>NaN</td>\n",
       "    </tr>\n",
       "    <tr>\n",
       "      <th>81</th>\n",
       "      <td>Student Services</td>\n",
       "      <td>NaN</td>\n",
       "      <td>NaN</td>\n",
       "      <td>NaN</td>\n",
       "    </tr>\n",
       "    <tr>\n",
       "      <th>82</th>\n",
       "      <td>Extra-Curricular/Community</td>\n",
       "      <td>NaN</td>\n",
       "      <td>NaN</td>\n",
       "      <td>NaN</td>\n",
       "    </tr>\n",
       "    <tr>\n",
       "      <th>83</th>\n",
       "      <td>Administration</td>\n",
       "      <td>NaN</td>\n",
       "      <td>NaN</td>\n",
       "      <td>NaN</td>\n",
       "    </tr>\n",
       "    <tr>\n",
       "      <th>84</th>\n",
       "      <td>Operations</td>\n",
       "      <td>NaN</td>\n",
       "      <td>NaN</td>\n",
       "      <td>NaN</td>\n",
       "    </tr>\n",
       "  </tbody>\n",
       "</table>\n",
       "<p>85 rows × 4 columns</p>\n",
       "</div>"
      ],
      "text/plain": [
       "                          Code  \\\n",
       "0                         0000   \n",
       "1                         1000   \n",
       "2                         1110   \n",
       "3                         1120   \n",
       "4                         1130   \n",
       "..                         ...   \n",
       "80                 Instruction   \n",
       "81            Student Services   \n",
       "82  Extra-Curricular/Community   \n",
       "83              Administration   \n",
       "84                  Operations   \n",
       "\n",
       "                                                Title  Unnamed: 2  Unnamed: 3  \n",
       "0   Not Applicable (For use with revenues and bala...         NaN         NaN  \n",
       "1   Instruction                                   ...         NaN         NaN  \n",
       "2   Special Education: Separate Classes           ...         NaN         NaN  \n",
       "3   Special Education: Resource Specialist Instruc...         NaN         NaN  \n",
       "4   Special Education: Supplemental Aids & Service...         NaN         NaN  \n",
       "..                                                ...         ...         ...  \n",
       "80                                                NaN         NaN         NaN  \n",
       "81                                                NaN         NaN         NaN  \n",
       "82                                                NaN         NaN         NaN  \n",
       "83                                                NaN         NaN         NaN  \n",
       "84                                                NaN         NaN         NaN  \n",
       "\n",
       "[85 rows x 4 columns]"
      ]
     },
     "execution_count": 18,
<<<<<<< HEAD
=======
=======
       "    </tr>\n",
       "    <tr>\n",
       "      <th>233</th>\n",
       "      <td>9793</td>\n",
       "      <td>Audit Adjustments                             ...</td>\n",
       "    </tr>\n",
       "    <tr>\n",
       "      <th>234</th>\n",
       "      <td>9795</td>\n",
       "      <td>Other Restatements                            ...</td>\n",
       "    </tr>\n",
       "    <tr>\n",
       "      <th>235</th>\n",
       "      <td>9796</td>\n",
       "      <td>Net Investment in Capital Assets              ...</td>\n",
       "    </tr>\n",
       "    <tr>\n",
       "      <th>236</th>\n",
       "      <td>9797</td>\n",
       "      <td>Restricted Net Position                       ...</td>\n",
       "    </tr>\n",
       "    <tr>\n",
       "      <th>237</th>\n",
       "      <td>979Z</td>\n",
       "      <td>EFB (Calculated)                              ...</td>\n",
       "    </tr>\n",
       "  </tbody>\n",
       "</table>\n",
       "<p>238 rows × 2 columns</p>\n",
       "</div>"
      ],
      "text/plain": [
       "    Function_Code                                           Function\n",
       "0            1100  Certificated Teachers' Salaries               ...\n",
       "1            1200  Certificated Pupil Support Salaries           ...\n",
       "2            1300  Certificated Supervisors' and Administrators' ...\n",
       "3            1900  Other Certificated Salaries                   ...\n",
       "4            2100  Classified Instructional Salaries             ...\n",
       "..            ...                                                ...\n",
       "233          9793  Audit Adjustments                             ...\n",
       "234          9795  Other Restatements                            ...\n",
       "235          9796  Net Investment in Capital Assets              ...\n",
       "236          9797  Restricted Net Position                       ...\n",
       "237          979Z  EFB (Calculated)                              ...\n",
       "\n",
       "[238 rows x 2 columns]"
      ]
     },
     "execution_count": 12,
>>>>>>> Helen
>>>>>>> 958d3b6f3a0d2c5e7972472b1df355b5c251e781
     "metadata": {},
     "output_type": "execute_result"
    }
   ],
   "source": [
<<<<<<< HEAD
    "#load function csv\n",
    "function_df=pd.read_csv(\"../Function (Budget Categories).csv\")\n",
=======
<<<<<<< HEAD
    "#load function csv\n",
    "function_df=pd.read_csv(\"../Function (Budget Categories).csv\")\n",
=======
    "#keep necessary columns\n",
    "function_df=function_df[['Function_Code','Function']]\n",
>>>>>>> Helen
>>>>>>> 958d3b6f3a0d2c5e7972472b1df355b5c251e781
    "function_df"
   ]
  },
  {
   "cell_type": "code",
<<<<<<< HEAD
   "execution_count": 19,
=======
<<<<<<< HEAD
   "execution_count": 19,
=======
   "execution_count": 13,
>>>>>>> Helen
>>>>>>> 958d3b6f3a0d2c5e7972472b1df355b5c251e781
   "metadata": {},
   "outputs": [
    {
     "data": {
      "text/html": [
       "<div>\n",
       "<style scoped>\n",
       "    .dataframe tbody tr th:only-of-type {\n",
       "        vertical-align: middle;\n",
       "    }\n",
       "\n",
       "    .dataframe tbody tr th {\n",
       "        vertical-align: top;\n",
       "    }\n",
       "\n",
       "    .dataframe thead th {\n",
       "        text-align: right;\n",
       "    }\n",
       "</style>\n",
       "<table border=\"1\" class=\"dataframe\">\n",
       "  <thead>\n",
       "    <tr style=\"text-align: right;\">\n",
       "      <th></th>\n",
<<<<<<< HEAD
       "      <th>Code</th>\n",
       "      <th>Title</th>\n",
=======
<<<<<<< HEAD
       "      <th>Code</th>\n",
       "      <th>Title</th>\n",
=======
       "      <th>Function_Code</th>\n",
       "      <th>Function</th>\n",
>>>>>>> Helen
>>>>>>> 958d3b6f3a0d2c5e7972472b1df355b5c251e781
       "    </tr>\n",
       "  </thead>\n",
       "  <tbody>\n",
       "    <tr>\n",
       "      <th>0</th>\n",
<<<<<<< HEAD
=======
<<<<<<< HEAD
>>>>>>> 958d3b6f3a0d2c5e7972472b1df355b5c251e781
       "      <td>0000</td>\n",
       "      <td>Not Applicable (For use with revenues and bala...</td>\n",
       "    </tr>\n",
       "    <tr>\n",
       "      <th>1</th>\n",
       "      <td>1000</td>\n",
       "      <td>Instruction                                   ...</td>\n",
       "    </tr>\n",
       "    <tr>\n",
       "      <th>2</th>\n",
       "      <td>1110</td>\n",
       "      <td>Special Education: Separate Classes           ...</td>\n",
       "    </tr>\n",
       "    <tr>\n",
       "      <th>3</th>\n",
       "      <td>1120</td>\n",
       "      <td>Special Education: Resource Specialist Instruc...</td>\n",
       "    </tr>\n",
       "    <tr>\n",
       "      <th>4</th>\n",
       "      <td>1130</td>\n",
       "      <td>Special Education: Supplemental Aids &amp; Service...</td>\n",
<<<<<<< HEAD
=======
=======
       "      <td>1100</td>\n",
       "      <td>Certificated Teachers' Salaries               ...</td>\n",
       "    </tr>\n",
       "    <tr>\n",
       "      <th>1</th>\n",
       "      <td>1200</td>\n",
       "      <td>Certificated Pupil Support Salaries           ...</td>\n",
       "    </tr>\n",
       "    <tr>\n",
       "      <th>2</th>\n",
       "      <td>1300</td>\n",
       "      <td>Certificated Supervisors' and Administrators' ...</td>\n",
       "    </tr>\n",
       "    <tr>\n",
       "      <th>3</th>\n",
       "      <td>1900</td>\n",
       "      <td>Other Certificated Salaries                   ...</td>\n",
       "    </tr>\n",
       "    <tr>\n",
       "      <th>4</th>\n",
       "      <td>2100</td>\n",
       "      <td>Classified Instructional Salaries             ...</td>\n",
>>>>>>> Helen
>>>>>>> 958d3b6f3a0d2c5e7972472b1df355b5c251e781
       "    </tr>\n",
       "    <tr>\n",
       "      <th>...</th>\n",
       "      <td>...</td>\n",
       "      <td>...</td>\n",
       "    </tr>\n",
       "    <tr>\n",
<<<<<<< HEAD
=======
<<<<<<< HEAD
>>>>>>> 958d3b6f3a0d2c5e7972472b1df355b5c251e781
       "      <th>80</th>\n",
       "      <td>Instruction</td>\n",
       "      <td>NaN</td>\n",
       "    </tr>\n",
       "    <tr>\n",
       "      <th>81</th>\n",
       "      <td>Student Services</td>\n",
       "      <td>NaN</td>\n",
       "    </tr>\n",
       "    <tr>\n",
       "      <th>82</th>\n",
       "      <td>Extra-Curricular/Community</td>\n",
       "      <td>NaN</td>\n",
       "    </tr>\n",
       "    <tr>\n",
       "      <th>83</th>\n",
       "      <td>Administration</td>\n",
       "      <td>NaN</td>\n",
       "    </tr>\n",
       "    <tr>\n",
       "      <th>84</th>\n",
       "      <td>Operations</td>\n",
       "      <td>NaN</td>\n",
       "    </tr>\n",
       "  </tbody>\n",
       "</table>\n",
       "<p>85 rows × 2 columns</p>\n",
       "</div>"
      ],
      "text/plain": [
       "                          Code  \\\n",
       "0                         0000   \n",
       "1                         1000   \n",
       "2                         1110   \n",
       "3                         1120   \n",
       "4                         1130   \n",
       "..                         ...   \n",
       "80                 Instruction   \n",
       "81            Student Services   \n",
       "82  Extra-Curricular/Community   \n",
       "83              Administration   \n",
       "84                  Operations   \n",
       "\n",
       "                                                Title  \n",
       "0   Not Applicable (For use with revenues and bala...  \n",
       "1   Instruction                                   ...  \n",
       "2   Special Education: Separate Classes           ...  \n",
       "3   Special Education: Resource Specialist Instruc...  \n",
       "4   Special Education: Supplemental Aids & Service...  \n",
       "..                                                ...  \n",
       "80                                                NaN  \n",
       "81                                                NaN  \n",
       "82                                                NaN  \n",
       "83                                                NaN  \n",
       "84                                                NaN  \n",
       "\n",
       "[85 rows x 2 columns]"
      ]
     },
     "execution_count": 19,
<<<<<<< HEAD
=======
=======
       "      <th>232</th>\n",
       "      <td>9791</td>\n",
       "      <td>Beginning Fund Balance                        ...</td>\n",
       "    </tr>\n",
       "    <tr>\n",
       "      <th>233</th>\n",
       "      <td>9793</td>\n",
       "      <td>Audit Adjustments                             ...</td>\n",
       "    </tr>\n",
       "    <tr>\n",
       "      <th>234</th>\n",
       "      <td>9795</td>\n",
       "      <td>Other Restatements                            ...</td>\n",
       "    </tr>\n",
       "    <tr>\n",
       "      <th>235</th>\n",
       "      <td>9796</td>\n",
       "      <td>Net Investment in Capital Assets              ...</td>\n",
       "    </tr>\n",
       "    <tr>\n",
       "      <th>236</th>\n",
       "      <td>9797</td>\n",
       "      <td>Restricted Net Position                       ...</td>\n",
       "    </tr>\n",
       "  </tbody>\n",
       "</table>\n",
       "<p>237 rows × 2 columns</p>\n",
       "</div>"
      ],
      "text/plain": [
       "    Function_Code                                           Function\n",
       "0            1100  Certificated Teachers' Salaries               ...\n",
       "1            1200  Certificated Pupil Support Salaries           ...\n",
       "2            1300  Certificated Supervisors' and Administrators' ...\n",
       "3            1900  Other Certificated Salaries                   ...\n",
       "4            2100  Classified Instructional Salaries             ...\n",
       "..            ...                                                ...\n",
       "232          9791  Beginning Fund Balance                        ...\n",
       "233          9793  Audit Adjustments                             ...\n",
       "234          9795  Other Restatements                            ...\n",
       "235          9796  Net Investment in Capital Assets              ...\n",
       "236          9797  Restricted Net Position                       ...\n",
       "\n",
       "[237 rows x 2 columns]"
      ]
     },
     "execution_count": 13,
>>>>>>> Helen
>>>>>>> 958d3b6f3a0d2c5e7972472b1df355b5c251e781
     "metadata": {},
     "output_type": "execute_result"
    }
   ],
   "source": [
<<<<<<< HEAD
    "#keep necessary columns\n",
    "function_df=function_df[['Code','Title']]\n",
=======
<<<<<<< HEAD
    "#keep necessary columns\n",
    "function_df=function_df[['Code','Title']]\n",
=======
    "function_df=function_df.drop(function_df.index[237])\n",
>>>>>>> Helen
>>>>>>> 958d3b6f3a0d2c5e7972472b1df355b5c251e781
    "function_df"
   ]
  },
  {
   "cell_type": "code",
<<<<<<< HEAD
   "execution_count": 20,
=======
<<<<<<< HEAD
   "execution_count": 20,
=======
   "execution_count": 14,
>>>>>>> Helen
>>>>>>> 958d3b6f3a0d2c5e7972472b1df355b5c251e781
   "metadata": {},
   "outputs": [
    {
     "data": {
      "text/html": [
       "<div>\n",
       "<style scoped>\n",
       "    .dataframe tbody tr th:only-of-type {\n",
       "        vertical-align: middle;\n",
       "    }\n",
       "\n",
       "    .dataframe tbody tr th {\n",
       "        vertical-align: top;\n",
       "    }\n",
       "\n",
       "    .dataframe thead th {\n",
       "        text-align: right;\n",
       "    }\n",
       "</style>\n",
       "<table border=\"1\" class=\"dataframe\">\n",
       "  <thead>\n",
       "    <tr style=\"text-align: right;\">\n",
       "      <th></th>\n",
<<<<<<< HEAD
=======
<<<<<<< HEAD
>>>>>>> 958d3b6f3a0d2c5e7972472b1df355b5c251e781
       "      <th>Code</th>\n",
       "      <th>Title</th>\n",
       "    </tr>\n",
       "  </thead>\n",
       "  <tbody>\n",
       "    <tr>\n",
       "      <th>76</th>\n",
       "      <td>NaN</td>\n",
       "      <td>NaN</td>\n",
       "    </tr>\n",
       "    <tr>\n",
       "      <th>77</th>\n",
       "      <td>NaN</td>\n",
       "      <td>NaN</td>\n",
       "    </tr>\n",
       "    <tr>\n",
       "      <th>78</th>\n",
       "      <td>NaN</td>\n",
       "      <td>NaN</td>\n",
       "    </tr>\n",
       "    <tr>\n",
       "      <th>79</th>\n",
       "      <td>NaN</td>\n",
       "      <td>NaN</td>\n",
       "    </tr>\n",
       "    <tr>\n",
       "      <th>80</th>\n",
       "      <td>Instruction</td>\n",
       "      <td>NaN</td>\n",
       "    </tr>\n",
       "    <tr>\n",
       "      <th>81</th>\n",
       "      <td>Student Services</td>\n",
       "      <td>NaN</td>\n",
       "    </tr>\n",
       "    <tr>\n",
       "      <th>82</th>\n",
       "      <td>Extra-Curricular/Community</td>\n",
       "      <td>NaN</td>\n",
       "    </tr>\n",
       "    <tr>\n",
       "      <th>83</th>\n",
       "      <td>Administration</td>\n",
       "      <td>NaN</td>\n",
       "    </tr>\n",
       "    <tr>\n",
       "      <th>84</th>\n",
       "      <td>Operations</td>\n",
       "      <td>NaN</td>\n",
       "    </tr>\n",
<<<<<<< HEAD
=======
=======
       "      <th>Function_Code</th>\n",
       "      <th>Function</th>\n",
       "    </tr>\n",
       "  </thead>\n",
       "  <tbody>\n",
>>>>>>> Helen
>>>>>>> 958d3b6f3a0d2c5e7972472b1df355b5c251e781
       "  </tbody>\n",
       "</table>\n",
       "</div>"
      ],
      "text/plain": [
<<<<<<< HEAD
=======
<<<<<<< HEAD
>>>>>>> 958d3b6f3a0d2c5e7972472b1df355b5c251e781
       "                          Code Title\n",
       "76                         NaN   NaN\n",
       "77                         NaN   NaN\n",
       "78                         NaN   NaN\n",
       "79                         NaN   NaN\n",
       "80                 Instruction   NaN\n",
       "81            Student Services   NaN\n",
       "82  Extra-Curricular/Community   NaN\n",
       "83              Administration   NaN\n",
       "84                  Operations   NaN"
      ]
     },
     "execution_count": 20,
<<<<<<< HEAD
=======
=======
       "Empty DataFrame\n",
       "Columns: [Function_Code, Function]\n",
       "Index: []"
      ]
     },
     "execution_count": 14,
>>>>>>> Helen
>>>>>>> 958d3b6f3a0d2c5e7972472b1df355b5c251e781
     "metadata": {},
     "output_type": "execute_result"
    }
   ],
   "source": [
    "#determine which are null\n",
    "function_df1=function_df[function_df.isna().any(axis=1)]\n",
    "function_df1"
   ]
  },
  {
   "cell_type": "code",
<<<<<<< HEAD
   "execution_count": 21,
=======
<<<<<<< HEAD
   "execution_count": 21,
=======
   "execution_count": 15,
>>>>>>> Helen
>>>>>>> 958d3b6f3a0d2c5e7972472b1df355b5c251e781
   "metadata": {},
   "outputs": [
    {
     "data": {
      "text/html": [
       "<div>\n",
       "<style scoped>\n",
       "    .dataframe tbody tr th:only-of-type {\n",
       "        vertical-align: middle;\n",
       "    }\n",
       "\n",
       "    .dataframe tbody tr th {\n",
       "        vertical-align: top;\n",
       "    }\n",
       "\n",
       "    .dataframe thead th {\n",
       "        text-align: right;\n",
       "    }\n",
       "</style>\n",
       "<table border=\"1\" class=\"dataframe\">\n",
       "  <thead>\n",
       "    <tr style=\"text-align: right;\">\n",
       "      <th></th>\n",
<<<<<<< HEAD
       "      <th>Code</th>\n",
       "      <th>Title</th>\n",
=======
<<<<<<< HEAD
       "      <th>Code</th>\n",
       "      <th>Title</th>\n",
=======
       "      <th>Function_Code</th>\n",
       "      <th>Function</th>\n",
>>>>>>> Helen
>>>>>>> 958d3b6f3a0d2c5e7972472b1df355b5c251e781
       "    </tr>\n",
       "  </thead>\n",
       "  <tbody>\n",
       "    <tr>\n",
       "      <th>0</th>\n",
<<<<<<< HEAD
=======
<<<<<<< HEAD
>>>>>>> 958d3b6f3a0d2c5e7972472b1df355b5c251e781
       "      <td>0000</td>\n",
       "      <td>Not Applicable (For use with revenues and bala...</td>\n",
       "    </tr>\n",
       "    <tr>\n",
       "      <th>1</th>\n",
       "      <td>1000</td>\n",
       "      <td>Instruction                                   ...</td>\n",
       "    </tr>\n",
       "    <tr>\n",
       "      <th>2</th>\n",
       "      <td>1110</td>\n",
       "      <td>Special Education: Separate Classes           ...</td>\n",
       "    </tr>\n",
       "    <tr>\n",
       "      <th>3</th>\n",
       "      <td>1120</td>\n",
       "      <td>Special Education: Resource Specialist Instruc...</td>\n",
       "    </tr>\n",
       "    <tr>\n",
       "      <th>4</th>\n",
       "      <td>1130</td>\n",
       "      <td>Special Education: Supplemental Aids &amp; Service...</td>\n",
<<<<<<< HEAD
=======
=======
       "      <td>1100</td>\n",
       "      <td>Certificated Teachers' Salaries               ...</td>\n",
       "    </tr>\n",
       "    <tr>\n",
       "      <th>1</th>\n",
       "      <td>1200</td>\n",
       "      <td>Certificated Pupil Support Salaries           ...</td>\n",
       "    </tr>\n",
       "    <tr>\n",
       "      <th>2</th>\n",
       "      <td>1300</td>\n",
       "      <td>Certificated Supervisors' and Administrators' ...</td>\n",
       "    </tr>\n",
       "    <tr>\n",
       "      <th>3</th>\n",
       "      <td>1900</td>\n",
       "      <td>Other Certificated Salaries                   ...</td>\n",
       "    </tr>\n",
       "    <tr>\n",
       "      <th>4</th>\n",
       "      <td>2100</td>\n",
       "      <td>Classified Instructional Salaries             ...</td>\n",
>>>>>>> Helen
>>>>>>> 958d3b6f3a0d2c5e7972472b1df355b5c251e781
       "    </tr>\n",
       "    <tr>\n",
       "      <th>...</th>\n",
       "      <td>...</td>\n",
       "      <td>...</td>\n",
       "    </tr>\n",
       "    <tr>\n",
<<<<<<< HEAD
=======
<<<<<<< HEAD
>>>>>>> 958d3b6f3a0d2c5e7972472b1df355b5c251e781
       "      <th>71</th>\n",
       "      <td>8500</td>\n",
       "      <td>Facilities Acquisition and Construction       ...</td>\n",
       "    </tr>\n",
       "    <tr>\n",
       "      <th>72</th>\n",
       "      <td>8700</td>\n",
       "      <td>Facilities Rents and Leases                   ...</td>\n",
       "    </tr>\n",
       "    <tr>\n",
       "      <th>73</th>\n",
       "      <td>9100</td>\n",
       "      <td>Debt Service                                  ...</td>\n",
       "    </tr>\n",
       "    <tr>\n",
       "      <th>74</th>\n",
       "      <td>9200</td>\n",
       "      <td>Transfers Between Agencies                    ...</td>\n",
       "    </tr>\n",
       "    <tr>\n",
       "      <th>75</th>\n",
       "      <td>9300</td>\n",
       "      <td>Interfund Transfers                           ...</td>\n",
       "    </tr>\n",
       "  </tbody>\n",
       "</table>\n",
       "<p>76 rows × 2 columns</p>\n",
       "</div>"
      ],
      "text/plain": [
       "    Code                                              Title\n",
       "0   0000  Not Applicable (For use with revenues and bala...\n",
       "1   1000  Instruction                                   ...\n",
       "2   1110  Special Education: Separate Classes           ...\n",
       "3   1120  Special Education: Resource Specialist Instruc...\n",
       "4   1130  Special Education: Supplemental Aids & Service...\n",
       "..   ...                                                ...\n",
       "71  8500  Facilities Acquisition and Construction       ...\n",
       "72  8700  Facilities Rents and Leases                   ...\n",
       "73  9100  Debt Service                                  ...\n",
       "74  9200  Transfers Between Agencies                    ...\n",
       "75  9300  Interfund Transfers                           ...\n",
       "\n",
       "[76 rows x 2 columns]"
      ]
     },
     "execution_count": 21,
<<<<<<< HEAD
=======
=======
       "      <th>232</th>\n",
       "      <td>9791</td>\n",
       "      <td>Beginning Fund Balance                        ...</td>\n",
       "    </tr>\n",
       "    <tr>\n",
       "      <th>233</th>\n",
       "      <td>9793</td>\n",
       "      <td>Audit Adjustments                             ...</td>\n",
       "    </tr>\n",
       "    <tr>\n",
       "      <th>234</th>\n",
       "      <td>9795</td>\n",
       "      <td>Other Restatements                            ...</td>\n",
       "    </tr>\n",
       "    <tr>\n",
       "      <th>235</th>\n",
       "      <td>9796</td>\n",
       "      <td>Net Investment in Capital Assets              ...</td>\n",
       "    </tr>\n",
       "    <tr>\n",
       "      <th>236</th>\n",
       "      <td>9797</td>\n",
       "      <td>Restricted Net Position                       ...</td>\n",
       "    </tr>\n",
       "  </tbody>\n",
       "</table>\n",
       "<p>237 rows × 2 columns</p>\n",
       "</div>"
      ],
      "text/plain": [
       "    Function_Code                                           Function\n",
       "0            1100  Certificated Teachers' Salaries               ...\n",
       "1            1200  Certificated Pupil Support Salaries           ...\n",
       "2            1300  Certificated Supervisors' and Administrators' ...\n",
       "3            1900  Other Certificated Salaries                   ...\n",
       "4            2100  Classified Instructional Salaries             ...\n",
       "..            ...                                                ...\n",
       "232          9791  Beginning Fund Balance                        ...\n",
       "233          9793  Audit Adjustments                             ...\n",
       "234          9795  Other Restatements                            ...\n",
       "235          9796  Net Investment in Capital Assets              ...\n",
       "236          9797  Restricted Net Position                       ...\n",
       "\n",
       "[237 rows x 2 columns]"
      ]
     },
     "execution_count": 15,
>>>>>>> Helen
>>>>>>> 958d3b6f3a0d2c5e7972472b1df355b5c251e781
     "metadata": {},
     "output_type": "execute_result"
    }
   ],
   "source": [
    "#drop NA\n",
    "function_df_clean=function_df.dropna()\n",
    "function_df_clean"
   ]
  },
  {
   "cell_type": "code",
<<<<<<< HEAD
   "execution_count": 22,
=======
<<<<<<< HEAD
   "execution_count": 22,
=======
   "execution_count": 16,
>>>>>>> Helen
>>>>>>> 958d3b6f3a0d2c5e7972472b1df355b5c251e781
   "metadata": {},
   "outputs": [
    {
     "data": {
      "text/plain": [
<<<<<<< HEAD
=======
<<<<<<< HEAD
>>>>>>> 958d3b6f3a0d2c5e7972472b1df355b5c251e781
       "Code     76\n",
       "Title    76\n",
       "dtype: int64"
      ]
     },
     "execution_count": 22,
<<<<<<< HEAD
=======
=======
       "Function_Code    237\n",
       "Function         237\n",
       "dtype: int64"
      ]
     },
     "execution_count": 16,
>>>>>>> Helen
>>>>>>> 958d3b6f3a0d2c5e7972472b1df355b5c251e781
     "metadata": {},
     "output_type": "execute_result"
    }
   ],
   "source": [
    "#rough estimate\n",
    "function_df_clean.count()"
   ]
  },
  {
   "cell_type": "code",
<<<<<<< HEAD
=======
<<<<<<< HEAD
>>>>>>> 958d3b6f3a0d2c5e7972472b1df355b5c251e781
   "execution_count": 23,
   "metadata": {},
   "outputs": [
    {
     "data": {
      "text/html": [
       "<div>\n",
       "<style scoped>\n",
       "    .dataframe tbody tr th:only-of-type {\n",
       "        vertical-align: middle;\n",
       "    }\n",
       "\n",
       "    .dataframe tbody tr th {\n",
       "        vertical-align: top;\n",
       "    }\n",
       "\n",
       "    .dataframe thead th {\n",
       "        text-align: right;\n",
       "    }\n",
       "</style>\n",
       "<table border=\"1\" class=\"dataframe\">\n",
       "  <thead>\n",
       "    <tr style=\"text-align: right;\">\n",
       "      <th></th>\n",
       "      <th>Function_Code</th>\n",
       "      <th>Function</th>\n",
       "    </tr>\n",
       "  </thead>\n",
       "  <tbody>\n",
       "    <tr>\n",
       "      <th>0</th>\n",
       "      <td>0000</td>\n",
       "      <td>Not Applicable (For use with revenues and bala...</td>\n",
       "    </tr>\n",
       "    <tr>\n",
       "      <th>1</th>\n",
       "      <td>1000</td>\n",
       "      <td>Instruction                                   ...</td>\n",
       "    </tr>\n",
       "    <tr>\n",
       "      <th>2</th>\n",
       "      <td>1110</td>\n",
       "      <td>Special Education: Separate Classes           ...</td>\n",
       "    </tr>\n",
       "    <tr>\n",
       "      <th>3</th>\n",
       "      <td>1120</td>\n",
       "      <td>Special Education: Resource Specialist Instruc...</td>\n",
       "    </tr>\n",
       "    <tr>\n",
       "      <th>4</th>\n",
       "      <td>1130</td>\n",
       "      <td>Special Education: Supplemental Aids &amp; Service...</td>\n",
       "    </tr>\n",
       "    <tr>\n",
       "      <th>...</th>\n",
       "      <td>...</td>\n",
       "      <td>...</td>\n",
       "    </tr>\n",
       "    <tr>\n",
       "      <th>71</th>\n",
       "      <td>8500</td>\n",
       "      <td>Facilities Acquisition and Construction       ...</td>\n",
       "    </tr>\n",
       "    <tr>\n",
       "      <th>72</th>\n",
       "      <td>8700</td>\n",
       "      <td>Facilities Rents and Leases                   ...</td>\n",
       "    </tr>\n",
       "    <tr>\n",
       "      <th>73</th>\n",
       "      <td>9100</td>\n",
       "      <td>Debt Service                                  ...</td>\n",
       "    </tr>\n",
       "    <tr>\n",
       "      <th>74</th>\n",
       "      <td>9200</td>\n",
       "      <td>Transfers Between Agencies                    ...</td>\n",
       "    </tr>\n",
       "    <tr>\n",
       "      <th>75</th>\n",
       "      <td>9300</td>\n",
       "      <td>Interfund Transfers                           ...</td>\n",
       "    </tr>\n",
       "  </tbody>\n",
       "</table>\n",
       "<p>76 rows × 2 columns</p>\n",
       "</div>"
      ],
      "text/plain": [
       "   Function_Code                                           Function\n",
       "0           0000  Not Applicable (For use with revenues and bala...\n",
       "1           1000  Instruction                                   ...\n",
       "2           1110  Special Education: Separate Classes           ...\n",
       "3           1120  Special Education: Resource Specialist Instruc...\n",
       "4           1130  Special Education: Supplemental Aids & Service...\n",
       "..           ...                                                ...\n",
       "71          8500  Facilities Acquisition and Construction       ...\n",
       "72          8700  Facilities Rents and Leases                   ...\n",
       "73          9100  Debt Service                                  ...\n",
       "74          9200  Transfers Between Agencies                    ...\n",
       "75          9300  Interfund Transfers                           ...\n",
       "\n",
       "[76 rows x 2 columns]"
      ]
     },
     "execution_count": 23,
     "metadata": {},
     "output_type": "execute_result"
    }
   ],
   "source": [
    "#rename columns\n",
    "function_df_clean=function_df_clean.rename(columns={\"Code\":\"Function_Code\",\"Title\":\"Function\"})\n",
    "function_df_clean\n"
   ]
  },
  {
   "cell_type": "code",
   "execution_count": 24,
<<<<<<< HEAD
=======
=======
   "execution_count": 17,
>>>>>>> Helen
>>>>>>> 958d3b6f3a0d2c5e7972472b1df355b5c251e781
   "metadata": {},
   "outputs": [
    {
     "data": {
      "text/plain": [
       "CDS_CODE           int64\n",
<<<<<<< HEAD
       "Object            object\n",
=======
<<<<<<< HEAD
       "Object            object\n",
=======
       "District_Code      int64\n",
>>>>>>> Helen
>>>>>>> 958d3b6f3a0d2c5e7972472b1df355b5c251e781
       "Function_Code      int64\n",
       "Amount           float64\n",
       "dtype: object"
      ]
     },
<<<<<<< HEAD
     "execution_count": 24,
=======
<<<<<<< HEAD
     "execution_count": 24,
=======
     "execution_count": 17,
>>>>>>> Helen
>>>>>>> 958d3b6f3a0d2c5e7972472b1df355b5c251e781
     "metadata": {},
     "output_type": "execute_result"
    }
   ],
   "source": [
    "#verify datatypes\n",
    "clean_data.dtypes"
   ]
  },
  {
   "cell_type": "code",
<<<<<<< HEAD
   "execution_count": 25,
=======
<<<<<<< HEAD
   "execution_count": 25,
=======
   "execution_count": 18,
>>>>>>> Helen
>>>>>>> 958d3b6f3a0d2c5e7972472b1df355b5c251e781
   "metadata": {},
   "outputs": [
    {
     "name": "stderr",
     "output_type": "stream",
     "text": [
      "C:\\Users\\hhngu\\AppData\\Roaming\\Python\\Python37\\site-packages\\ipykernel_launcher.py:2: SettingWithCopyWarning: \n",
      "A value is trying to be set on a copy of a slice from a DataFrame.\n",
      "Try using .loc[row_indexer,col_indexer] = value instead\n",
      "\n",
      "See the caveats in the documentation: https://pandas.pydata.org/pandas-docs/stable/user_guide/indexing.html#returning-a-view-versus-a-copy\n",
      "  \n"
     ]
    }
   ],
   "source": [
    "#change datatypes to match in order to merge\n",
    "clean_data['Function_Code'] = clean_data['Function_Code'].astype('int64')\n",
<<<<<<< HEAD
    "function_df_clean['Function_Code']=function_df_clean['Function_Code'].astype('int64')"
=======
<<<<<<< HEAD
    "function_df_clean['Function_Code']=function_df_clean['Function_Code'].astype('int64')"
=======
    "function_df_clean['Function_Code']= function_df_clean['Function_Code'].astype('int64')"
>>>>>>> Helen
>>>>>>> 958d3b6f3a0d2c5e7972472b1df355b5c251e781
   ]
  },
  {
   "cell_type": "code",
<<<<<<< HEAD
   "execution_count": 26,
=======
<<<<<<< HEAD
   "execution_count": 26,
=======
   "execution_count": 19,
>>>>>>> Helen
>>>>>>> 958d3b6f3a0d2c5e7972472b1df355b5c251e781
   "metadata": {},
   "outputs": [
    {
     "data": {
      "text/html": [
       "<div>\n",
       "<style scoped>\n",
       "    .dataframe tbody tr th:only-of-type {\n",
       "        vertical-align: middle;\n",
       "    }\n",
       "\n",
       "    .dataframe tbody tr th {\n",
       "        vertical-align: top;\n",
       "    }\n",
       "\n",
       "    .dataframe thead th {\n",
       "        text-align: right;\n",
       "    }\n",
       "</style>\n",
       "<table border=\"1\" class=\"dataframe\">\n",
       "  <thead>\n",
       "    <tr style=\"text-align: right;\">\n",
       "      <th></th>\n",
       "      <th>CDS_CODE</th>\n",
<<<<<<< HEAD
       "      <th>Object</th>\n",
=======
<<<<<<< HEAD
       "      <th>Object</th>\n",
=======
       "      <th>District_Code</th>\n",
>>>>>>> Helen
>>>>>>> 958d3b6f3a0d2c5e7972472b1df355b5c251e781
       "      <th>Function_Code</th>\n",
       "      <th>Amount</th>\n",
       "      <th>Function</th>\n",
       "    </tr>\n",
       "  </thead>\n",
       "  <tbody>\n",
       "    <tr>\n",
       "      <th>0</th>\n",
       "      <td>1100170000000</td>\n",
<<<<<<< HEAD
=======
<<<<<<< HEAD
>>>>>>> 958d3b6f3a0d2c5e7972472b1df355b5c251e781
       "      <td>Transfers Between Agencies                    ...</td>\n",
       "      <td>0</td>\n",
       "      <td>2908958.05</td>\n",
       "      <td>Not Applicable (For use with revenues and bala...</td>\n",
<<<<<<< HEAD
=======
=======
       "      <td>10017</td>\n",
       "      <td>7110</td>\n",
       "      <td>78815.18</td>\n",
       "      <td>Tuition for Instruction Under Interdistrict At...</td>\n",
>>>>>>> Helen
>>>>>>> 958d3b6f3a0d2c5e7972472b1df355b5c251e781
       "    </tr>\n",
       "    <tr>\n",
       "      <th>1</th>\n",
       "      <td>1100170000000</td>\n",
<<<<<<< HEAD
=======
<<<<<<< HEAD
>>>>>>> 958d3b6f3a0d2c5e7972472b1df355b5c251e781
       "      <td>Transfers Between Agencies                    ...</td>\n",
       "      <td>0</td>\n",
       "      <td>-574.59</td>\n",
       "      <td>Not Applicable (For use with revenues and bala...</td>\n",
<<<<<<< HEAD
=======
=======
       "      <td>10017</td>\n",
       "      <td>7110</td>\n",
       "      <td>2721.48</td>\n",
       "      <td>Tuition for Instruction Under Interdistrict At...</td>\n",
>>>>>>> Helen
>>>>>>> 958d3b6f3a0d2c5e7972472b1df355b5c251e781
       "    </tr>\n",
       "    <tr>\n",
       "      <th>2</th>\n",
       "      <td>1100170000000</td>\n",
<<<<<<< HEAD
=======
<<<<<<< HEAD
>>>>>>> 958d3b6f3a0d2c5e7972472b1df355b5c251e781
       "      <td>Transfers Between Agencies                    ...</td>\n",
       "      <td>0</td>\n",
       "      <td>16435.18</td>\n",
       "      <td>Not Applicable (For use with revenues and bala...</td>\n",
<<<<<<< HEAD
=======
=======
       "      <td>10017</td>\n",
       "      <td>7110</td>\n",
       "      <td>54117.47</td>\n",
       "      <td>Tuition for Instruction Under Interdistrict At...</td>\n",
>>>>>>> Helen
>>>>>>> 958d3b6f3a0d2c5e7972472b1df355b5c251e781
       "    </tr>\n",
       "    <tr>\n",
       "      <th>3</th>\n",
       "      <td>1100170000000</td>\n",
<<<<<<< HEAD
=======
<<<<<<< HEAD
>>>>>>> 958d3b6f3a0d2c5e7972472b1df355b5c251e781
       "      <td>Transfers Between Agencies                    ...</td>\n",
       "      <td>0</td>\n",
       "      <td>44269.44</td>\n",
       "      <td>Not Applicable (For use with revenues and bala...</td>\n",
<<<<<<< HEAD
=======
=======
       "      <td>10017</td>\n",
       "      <td>7110</td>\n",
       "      <td>9099.62</td>\n",
       "      <td>Tuition for Instruction Under Interdistrict At...</td>\n",
>>>>>>> Helen
>>>>>>> 958d3b6f3a0d2c5e7972472b1df355b5c251e781
       "    </tr>\n",
       "    <tr>\n",
       "      <th>4</th>\n",
       "      <td>1100170000000</td>\n",
<<<<<<< HEAD
=======
<<<<<<< HEAD
>>>>>>> 958d3b6f3a0d2c5e7972472b1df355b5c251e781
       "      <td>Transfers Between Agencies                    ...</td>\n",
       "      <td>0</td>\n",
       "      <td>25451.47</td>\n",
       "      <td>Not Applicable (For use with revenues and bala...</td>\n",
<<<<<<< HEAD
=======
=======
       "      <td>10017</td>\n",
       "      <td>7110</td>\n",
       "      <td>9285.82</td>\n",
       "      <td>Tuition for Instruction Under Interdistrict At...</td>\n",
>>>>>>> Helen
>>>>>>> 958d3b6f3a0d2c5e7972472b1df355b5c251e781
       "    </tr>\n",
       "    <tr>\n",
       "      <th>...</th>\n",
       "      <td>...</td>\n",
       "      <td>...</td>\n",
       "      <td>...</td>\n",
       "      <td>...</td>\n",
       "      <td>...</td>\n",
       "    </tr>\n",
       "    <tr>\n",
<<<<<<< HEAD
=======
<<<<<<< HEAD
>>>>>>> 958d3b6f3a0d2c5e7972472b1df355b5c251e781
       "      <th>92133</th>\n",
       "      <td>57726940000000</td>\n",
       "      <td>Community Recreation                          ...</td>\n",
       "      <td>1180</td>\n",
       "      <td>63788.00</td>\n",
       "      <td>Special Education:  Nonpublic Agencies/Schools...</td>\n",
       "    </tr>\n",
       "    <tr>\n",
       "      <th>92134</th>\n",
       "      <td>57726940000000</td>\n",
       "      <td>Community Recreation                          ...</td>\n",
       "      <td>1180</td>\n",
       "      <td>106080.92</td>\n",
       "      <td>Special Education:  Nonpublic Agencies/Schools...</td>\n",
       "    </tr>\n",
       "    <tr>\n",
       "      <th>92135</th>\n",
       "      <td>57726940000000</td>\n",
       "      <td>Community Recreation                          ...</td>\n",
       "      <td>1180</td>\n",
       "      <td>76561.00</td>\n",
       "      <td>Special Education:  Nonpublic Agencies/Schools...</td>\n",
       "    </tr>\n",
       "    <tr>\n",
       "      <th>92136</th>\n",
       "      <td>57727100000000</td>\n",
       "      <td>Community Recreation                          ...</td>\n",
       "      <td>1180</td>\n",
       "      <td>336571.41</td>\n",
       "      <td>Special Education:  Nonpublic Agencies/Schools...</td>\n",
       "    </tr>\n",
       "    <tr>\n",
       "      <th>92137</th>\n",
       "      <td>58727360000000</td>\n",
       "      <td>Community Recreation                          ...</td>\n",
       "      <td>1180</td>\n",
       "      <td>232504.78</td>\n",
       "      <td>Special Education:  Nonpublic Agencies/Schools...</td>\n",
       "    </tr>\n",
       "  </tbody>\n",
       "</table>\n",
       "<p>92138 rows × 5 columns</p>\n",
       "</div>"
      ],
      "text/plain": [
       "             CDS_CODE                                             Object  \\\n",
       "0       1100170000000  Transfers Between Agencies                    ...   \n",
       "1       1100170000000  Transfers Between Agencies                    ...   \n",
       "2       1100170000000  Transfers Between Agencies                    ...   \n",
       "3       1100170000000  Transfers Between Agencies                    ...   \n",
       "4       1100170000000  Transfers Between Agencies                    ...   \n",
       "...               ...                                                ...   \n",
       "92133  57726940000000  Community Recreation                          ...   \n",
       "92134  57726940000000  Community Recreation                          ...   \n",
       "92135  57726940000000  Community Recreation                          ...   \n",
       "92136  57727100000000  Community Recreation                          ...   \n",
       "92137  58727360000000  Community Recreation                          ...   \n",
       "\n",
       "       Function_Code      Amount  \\\n",
       "0                  0  2908958.05   \n",
       "1                  0     -574.59   \n",
       "2                  0    16435.18   \n",
       "3                  0    44269.44   \n",
       "4                  0    25451.47   \n",
       "...              ...         ...   \n",
       "92133           1180    63788.00   \n",
       "92134           1180   106080.92   \n",
       "92135           1180    76561.00   \n",
       "92136           1180   336571.41   \n",
       "92137           1180   232504.78   \n",
       "\n",
       "                                                Function  \n",
       "0      Not Applicable (For use with revenues and bala...  \n",
       "1      Not Applicable (For use with revenues and bala...  \n",
       "2      Not Applicable (For use with revenues and bala...  \n",
       "3      Not Applicable (For use with revenues and bala...  \n",
       "4      Not Applicable (For use with revenues and bala...  \n",
       "...                                                  ...  \n",
       "92133  Special Education:  Nonpublic Agencies/Schools...  \n",
       "92134  Special Education:  Nonpublic Agencies/Schools...  \n",
       "92135  Special Education:  Nonpublic Agencies/Schools...  \n",
       "92136  Special Education:  Nonpublic Agencies/Schools...  \n",
       "92137  Special Education:  Nonpublic Agencies/Schools...  \n",
       "\n",
       "[92138 rows x 5 columns]"
      ]
     },
     "execution_count": 26,
<<<<<<< HEAD
=======
=======
       "      <th>119489</th>\n",
       "      <td>57105790000000</td>\n",
       "      <td>10579</td>\n",
       "      <td>7350</td>\n",
       "      <td>244.98</td>\n",
       "      <td>Transfers of Indirect Costs - Interfund       ...</td>\n",
       "    </tr>\n",
       "    <tr>\n",
       "      <th>119490</th>\n",
       "      <td>57105790000000</td>\n",
       "      <td>10579</td>\n",
       "      <td>7350</td>\n",
       "      <td>119.81</td>\n",
       "      <td>Transfers of Indirect Costs - Interfund       ...</td>\n",
       "    </tr>\n",
       "    <tr>\n",
       "      <th>119491</th>\n",
       "      <td>57105790000000</td>\n",
       "      <td>10579</td>\n",
       "      <td>7350</td>\n",
       "      <td>0.78</td>\n",
       "      <td>Transfers of Indirect Costs - Interfund       ...</td>\n",
       "    </tr>\n",
       "    <tr>\n",
       "      <th>119492</th>\n",
       "      <td>57105790000000</td>\n",
       "      <td>10579</td>\n",
       "      <td>7350</td>\n",
       "      <td>31.79</td>\n",
       "      <td>Transfers of Indirect Costs - Interfund       ...</td>\n",
       "    </tr>\n",
       "    <tr>\n",
       "      <th>119493</th>\n",
       "      <td>57105790000000</td>\n",
       "      <td>10579</td>\n",
       "      <td>7350</td>\n",
       "      <td>37.59</td>\n",
       "      <td>Transfers of Indirect Costs - Interfund       ...</td>\n",
       "    </tr>\n",
       "  </tbody>\n",
       "</table>\n",
       "<p>119494 rows × 5 columns</p>\n",
       "</div>"
      ],
      "text/plain": [
       "              CDS_CODE  District_Code  Function_Code    Amount  \\\n",
       "0        1100170000000          10017           7110  78815.18   \n",
       "1        1100170000000          10017           7110   2721.48   \n",
       "2        1100170000000          10017           7110  54117.47   \n",
       "3        1100170000000          10017           7110   9099.62   \n",
       "4        1100170000000          10017           7110   9285.82   \n",
       "...                ...            ...            ...       ...   \n",
       "119489  57105790000000          10579           7350    244.98   \n",
       "119490  57105790000000          10579           7350    119.81   \n",
       "119491  57105790000000          10579           7350      0.78   \n",
       "119492  57105790000000          10579           7350     31.79   \n",
       "119493  57105790000000          10579           7350     37.59   \n",
       "\n",
       "                                                 Function  \n",
       "0       Tuition for Instruction Under Interdistrict At...  \n",
       "1       Tuition for Instruction Under Interdistrict At...  \n",
       "2       Tuition for Instruction Under Interdistrict At...  \n",
       "3       Tuition for Instruction Under Interdistrict At...  \n",
       "4       Tuition for Instruction Under Interdistrict At...  \n",
       "...                                                   ...  \n",
       "119489  Transfers of Indirect Costs - Interfund       ...  \n",
       "119490  Transfers of Indirect Costs - Interfund       ...  \n",
       "119491  Transfers of Indirect Costs - Interfund       ...  \n",
       "119492  Transfers of Indirect Costs - Interfund       ...  \n",
       "119493  Transfers of Indirect Costs - Interfund       ...  \n",
       "\n",
       "[119494 rows x 5 columns]"
      ]
     },
     "execution_count": 19,
>>>>>>> Helen
>>>>>>> 958d3b6f3a0d2c5e7972472b1df355b5c251e781
     "metadata": {},
     "output_type": "execute_result"
    }
   ],
   "source": [
    "#merge\n",
    "func_df=pd.merge(clean_data, function_df_clean, on=['Function_Code'])\n",
    "func_df"
   ]
  },
  {
   "cell_type": "code",
<<<<<<< HEAD
   "execution_count": 27,
=======
<<<<<<< HEAD
   "execution_count": 27,
=======
   "execution_count": 20,
>>>>>>> Helen
>>>>>>> 958d3b6f3a0d2c5e7972472b1df355b5c251e781
   "metadata": {},
   "outputs": [
    {
     "data": {
      "text/html": [
       "<div>\n",
       "<style scoped>\n",
       "    .dataframe tbody tr th:only-of-type {\n",
       "        vertical-align: middle;\n",
       "    }\n",
       "\n",
       "    .dataframe tbody tr th {\n",
       "        vertical-align: top;\n",
       "    }\n",
       "\n",
       "    .dataframe thead th {\n",
       "        text-align: right;\n",
       "    }\n",
       "</style>\n",
       "<table border=\"1\" class=\"dataframe\">\n",
       "  <thead>\n",
       "    <tr style=\"text-align: right;\">\n",
       "      <th></th>\n",
       "      <th>CDS_CODE</th>\n",
<<<<<<< HEAD
       "      <th>Object</th>\n",
=======
<<<<<<< HEAD
       "      <th>Object</th>\n",
=======
       "      <th>District_Code</th>\n",
       "      <th>Function_Code</th>\n",
>>>>>>> Helen
>>>>>>> 958d3b6f3a0d2c5e7972472b1df355b5c251e781
       "      <th>Function</th>\n",
       "      <th>Amount</th>\n",
       "    </tr>\n",
       "  </thead>\n",
       "  <tbody>\n",
       "    <tr>\n",
       "      <th>0</th>\n",
       "      <td>1100170000000</td>\n",
<<<<<<< HEAD
       "      <td>Transfers Between Agencies                    ...</td>\n",
       "      <td>Not Applicable (For use with revenues and bala...</td>\n",
       "      <td>2908958.05</td>\n",
=======
<<<<<<< HEAD
       "      <td>Transfers Between Agencies                    ...</td>\n",
       "      <td>Not Applicable (For use with revenues and bala...</td>\n",
       "      <td>2908958.05</td>\n",
=======
       "      <td>10017</td>\n",
       "      <td>7110</td>\n",
       "      <td>Tuition for Instruction Under Interdistrict At...</td>\n",
       "      <td>78815.18</td>\n",
>>>>>>> Helen
>>>>>>> 958d3b6f3a0d2c5e7972472b1df355b5c251e781
       "    </tr>\n",
       "    <tr>\n",
       "      <th>1</th>\n",
       "      <td>1100170000000</td>\n",
<<<<<<< HEAD
       "      <td>Transfers Between Agencies                    ...</td>\n",
       "      <td>Not Applicable (For use with revenues and bala...</td>\n",
       "      <td>-574.59</td>\n",
=======
<<<<<<< HEAD
       "      <td>Transfers Between Agencies                    ...</td>\n",
       "      <td>Not Applicable (For use with revenues and bala...</td>\n",
       "      <td>-574.59</td>\n",
=======
       "      <td>10017</td>\n",
       "      <td>7110</td>\n",
       "      <td>Tuition for Instruction Under Interdistrict At...</td>\n",
       "      <td>2721.48</td>\n",
>>>>>>> Helen
>>>>>>> 958d3b6f3a0d2c5e7972472b1df355b5c251e781
       "    </tr>\n",
       "    <tr>\n",
       "      <th>2</th>\n",
       "      <td>1100170000000</td>\n",
<<<<<<< HEAD
       "      <td>Transfers Between Agencies                    ...</td>\n",
       "      <td>Not Applicable (For use with revenues and bala...</td>\n",
       "      <td>16435.18</td>\n",
=======
<<<<<<< HEAD
       "      <td>Transfers Between Agencies                    ...</td>\n",
       "      <td>Not Applicable (For use with revenues and bala...</td>\n",
       "      <td>16435.18</td>\n",
=======
       "      <td>10017</td>\n",
       "      <td>7110</td>\n",
       "      <td>Tuition for Instruction Under Interdistrict At...</td>\n",
       "      <td>54117.47</td>\n",
>>>>>>> Helen
>>>>>>> 958d3b6f3a0d2c5e7972472b1df355b5c251e781
       "    </tr>\n",
       "    <tr>\n",
       "      <th>3</th>\n",
       "      <td>1100170000000</td>\n",
<<<<<<< HEAD
       "      <td>Transfers Between Agencies                    ...</td>\n",
       "      <td>Not Applicable (For use with revenues and bala...</td>\n",
       "      <td>44269.44</td>\n",
=======
<<<<<<< HEAD
       "      <td>Transfers Between Agencies                    ...</td>\n",
       "      <td>Not Applicable (For use with revenues and bala...</td>\n",
       "      <td>44269.44</td>\n",
=======
       "      <td>10017</td>\n",
       "      <td>7110</td>\n",
       "      <td>Tuition for Instruction Under Interdistrict At...</td>\n",
       "      <td>9099.62</td>\n",
>>>>>>> Helen
>>>>>>> 958d3b6f3a0d2c5e7972472b1df355b5c251e781
       "    </tr>\n",
       "    <tr>\n",
       "      <th>4</th>\n",
       "      <td>1100170000000</td>\n",
<<<<<<< HEAD
       "      <td>Transfers Between Agencies                    ...</td>\n",
       "      <td>Not Applicable (For use with revenues and bala...</td>\n",
       "      <td>25451.47</td>\n",
=======
<<<<<<< HEAD
       "      <td>Transfers Between Agencies                    ...</td>\n",
       "      <td>Not Applicable (For use with revenues and bala...</td>\n",
       "      <td>25451.47</td>\n",
=======
       "      <td>10017</td>\n",
       "      <td>7110</td>\n",
       "      <td>Tuition for Instruction Under Interdistrict At...</td>\n",
       "      <td>9285.82</td>\n",
>>>>>>> Helen
>>>>>>> 958d3b6f3a0d2c5e7972472b1df355b5c251e781
       "    </tr>\n",
       "    <tr>\n",
       "      <th>...</th>\n",
       "      <td>...</td>\n",
       "      <td>...</td>\n",
       "      <td>...</td>\n",
       "      <td>...</td>\n",
<<<<<<< HEAD
=======
<<<<<<< HEAD
>>>>>>> 958d3b6f3a0d2c5e7972472b1df355b5c251e781
       "    </tr>\n",
       "    <tr>\n",
       "      <th>92133</th>\n",
       "      <td>57726940000000</td>\n",
       "      <td>Community Recreation                          ...</td>\n",
       "      <td>Special Education:  Nonpublic Agencies/Schools...</td>\n",
       "      <td>63788.00</td>\n",
       "    </tr>\n",
       "    <tr>\n",
       "      <th>92134</th>\n",
       "      <td>57726940000000</td>\n",
       "      <td>Community Recreation                          ...</td>\n",
       "      <td>Special Education:  Nonpublic Agencies/Schools...</td>\n",
       "      <td>106080.92</td>\n",
       "    </tr>\n",
       "    <tr>\n",
       "      <th>92135</th>\n",
       "      <td>57726940000000</td>\n",
       "      <td>Community Recreation                          ...</td>\n",
       "      <td>Special Education:  Nonpublic Agencies/Schools...</td>\n",
       "      <td>76561.00</td>\n",
       "    </tr>\n",
       "    <tr>\n",
       "      <th>92136</th>\n",
       "      <td>57727100000000</td>\n",
       "      <td>Community Recreation                          ...</td>\n",
       "      <td>Special Education:  Nonpublic Agencies/Schools...</td>\n",
       "      <td>336571.41</td>\n",
       "    </tr>\n",
       "    <tr>\n",
       "      <th>92137</th>\n",
       "      <td>58727360000000</td>\n",
       "      <td>Community Recreation                          ...</td>\n",
       "      <td>Special Education:  Nonpublic Agencies/Schools...</td>\n",
       "      <td>232504.78</td>\n",
       "    </tr>\n",
       "  </tbody>\n",
       "</table>\n",
       "<p>92138 rows × 4 columns</p>\n",
       "</div>"
      ],
      "text/plain": [
       "             CDS_CODE                                             Object  \\\n",
       "0       1100170000000  Transfers Between Agencies                    ...   \n",
       "1       1100170000000  Transfers Between Agencies                    ...   \n",
       "2       1100170000000  Transfers Between Agencies                    ...   \n",
       "3       1100170000000  Transfers Between Agencies                    ...   \n",
       "4       1100170000000  Transfers Between Agencies                    ...   \n",
       "...               ...                                                ...   \n",
       "92133  57726940000000  Community Recreation                          ...   \n",
       "92134  57726940000000  Community Recreation                          ...   \n",
       "92135  57726940000000  Community Recreation                          ...   \n",
       "92136  57727100000000  Community Recreation                          ...   \n",
       "92137  58727360000000  Community Recreation                          ...   \n",
       "\n",
       "                                                Function      Amount  \n",
       "0      Not Applicable (For use with revenues and bala...  2908958.05  \n",
       "1      Not Applicable (For use with revenues and bala...     -574.59  \n",
       "2      Not Applicable (For use with revenues and bala...    16435.18  \n",
       "3      Not Applicable (For use with revenues and bala...    44269.44  \n",
       "4      Not Applicable (For use with revenues and bala...    25451.47  \n",
       "...                                                  ...         ...  \n",
       "92133  Special Education:  Nonpublic Agencies/Schools...    63788.00  \n",
       "92134  Special Education:  Nonpublic Agencies/Schools...   106080.92  \n",
       "92135  Special Education:  Nonpublic Agencies/Schools...    76561.00  \n",
       "92136  Special Education:  Nonpublic Agencies/Schools...   336571.41  \n",
       "92137  Special Education:  Nonpublic Agencies/Schools...   232504.78  \n",
       "\n",
       "[92138 rows x 4 columns]"
      ]
     },
     "execution_count": 27,
<<<<<<< HEAD
=======
=======
       "      <td>...</td>\n",
       "    </tr>\n",
       "    <tr>\n",
       "      <th>119489</th>\n",
       "      <td>57105790000000</td>\n",
       "      <td>10579</td>\n",
       "      <td>7350</td>\n",
       "      <td>Transfers of Indirect Costs - Interfund       ...</td>\n",
       "      <td>244.98</td>\n",
       "    </tr>\n",
       "    <tr>\n",
       "      <th>119490</th>\n",
       "      <td>57105790000000</td>\n",
       "      <td>10579</td>\n",
       "      <td>7350</td>\n",
       "      <td>Transfers of Indirect Costs - Interfund       ...</td>\n",
       "      <td>119.81</td>\n",
       "    </tr>\n",
       "    <tr>\n",
       "      <th>119491</th>\n",
       "      <td>57105790000000</td>\n",
       "      <td>10579</td>\n",
       "      <td>7350</td>\n",
       "      <td>Transfers of Indirect Costs - Interfund       ...</td>\n",
       "      <td>0.78</td>\n",
       "    </tr>\n",
       "    <tr>\n",
       "      <th>119492</th>\n",
       "      <td>57105790000000</td>\n",
       "      <td>10579</td>\n",
       "      <td>7350</td>\n",
       "      <td>Transfers of Indirect Costs - Interfund       ...</td>\n",
       "      <td>31.79</td>\n",
       "    </tr>\n",
       "    <tr>\n",
       "      <th>119493</th>\n",
       "      <td>57105790000000</td>\n",
       "      <td>10579</td>\n",
       "      <td>7350</td>\n",
       "      <td>Transfers of Indirect Costs - Interfund       ...</td>\n",
       "      <td>37.59</td>\n",
       "    </tr>\n",
       "  </tbody>\n",
       "</table>\n",
       "<p>119494 rows × 5 columns</p>\n",
       "</div>"
      ],
      "text/plain": [
       "              CDS_CODE  District_Code  Function_Code  \\\n",
       "0        1100170000000          10017           7110   \n",
       "1        1100170000000          10017           7110   \n",
       "2        1100170000000          10017           7110   \n",
       "3        1100170000000          10017           7110   \n",
       "4        1100170000000          10017           7110   \n",
       "...                ...            ...            ...   \n",
       "119489  57105790000000          10579           7350   \n",
       "119490  57105790000000          10579           7350   \n",
       "119491  57105790000000          10579           7350   \n",
       "119492  57105790000000          10579           7350   \n",
       "119493  57105790000000          10579           7350   \n",
       "\n",
       "                                                 Function    Amount  \n",
       "0       Tuition for Instruction Under Interdistrict At...  78815.18  \n",
       "1       Tuition for Instruction Under Interdistrict At...   2721.48  \n",
       "2       Tuition for Instruction Under Interdistrict At...  54117.47  \n",
       "3       Tuition for Instruction Under Interdistrict At...   9099.62  \n",
       "4       Tuition for Instruction Under Interdistrict At...   9285.82  \n",
       "...                                                   ...       ...  \n",
       "119489  Transfers of Indirect Costs - Interfund       ...    244.98  \n",
       "119490  Transfers of Indirect Costs - Interfund       ...    119.81  \n",
       "119491  Transfers of Indirect Costs - Interfund       ...      0.78  \n",
       "119492  Transfers of Indirect Costs - Interfund       ...     31.79  \n",
       "119493  Transfers of Indirect Costs - Interfund       ...     37.59  \n",
       "\n",
       "[119494 rows x 5 columns]"
      ]
     },
     "execution_count": 20,
>>>>>>> Helen
>>>>>>> 958d3b6f3a0d2c5e7972472b1df355b5c251e781
     "metadata": {},
     "output_type": "execute_result"
    }
   ],
   "source": [
    "#Keep necessary columns\n",
<<<<<<< HEAD
    "final_data=func_df[['CDS_CODE','Object','Function','Amount']]\n",
=======
<<<<<<< HEAD
    "final_data=func_df[['CDS_CODE','Object','Function','Amount']]\n",
=======
    "final_data=func_df[['CDS_CODE','District_Code','Function_Code','Function','Amount']]\n",
>>>>>>> Helen
>>>>>>> 958d3b6f3a0d2c5e7972472b1df355b5c251e781
    "final_data"
   ]
  },
  {
   "cell_type": "code",
<<<<<<< HEAD
   "execution_count": 28,
=======
<<<<<<< HEAD
   "execution_count": 28,
=======
   "execution_count": 21,
>>>>>>> Helen
>>>>>>> 958d3b6f3a0d2c5e7972472b1df355b5c251e781
   "metadata": {},
   "outputs": [
    {
     "data": {
      "text/html": [
       "<div>\n",
       "<style scoped>\n",
       "    .dataframe tbody tr th:only-of-type {\n",
       "        vertical-align: middle;\n",
       "    }\n",
       "\n",
       "    .dataframe tbody tr th {\n",
       "        vertical-align: top;\n",
       "    }\n",
       "\n",
       "    .dataframe thead th {\n",
       "        text-align: right;\n",
       "    }\n",
       "</style>\n",
       "<table border=\"1\" class=\"dataframe\">\n",
       "  <thead>\n",
       "    <tr style=\"text-align: right;\">\n",
       "      <th></th>\n",
       "      <th></th>\n",
       "      <th></th>\n",
<<<<<<< HEAD
=======
<<<<<<< HEAD
=======
       "      <th></th>\n",
>>>>>>> Helen
>>>>>>> 958d3b6f3a0d2c5e7972472b1df355b5c251e781
       "      <th>Amount</th>\n",
       "    </tr>\n",
       "    <tr>\n",
       "      <th>CDS_CODE</th>\n",
<<<<<<< HEAD
       "      <th>Object</th>\n",
=======
<<<<<<< HEAD
       "      <th>Object</th>\n",
=======
       "      <th>District_Code</th>\n",
       "      <th>Function_Code</th>\n",
>>>>>>> Helen
>>>>>>> 958d3b6f3a0d2c5e7972472b1df355b5c251e781
       "      <th>Function</th>\n",
       "      <th></th>\n",
       "    </tr>\n",
       "  </thead>\n",
       "  <tbody>\n",
       "    <tr>\n",
<<<<<<< HEAD
=======
<<<<<<< HEAD
>>>>>>> 958d3b6f3a0d2c5e7972472b1df355b5c251e781
       "      <th rowspan=\"5\" valign=\"top\">1100170000000</th>\n",
       "      <th rowspan=\"5\" valign=\"top\">Administrative Unit (AU) of a Multidistrict SELPA</th>\n",
       "      <th>Ancillary Services</th>\n",
       "      <td>111940.80</td>\n",
       "    </tr>\n",
       "    <tr>\n",
       "      <th>Guidance and Counseling Services</th>\n",
       "      <td>274701.75</td>\n",
       "    </tr>\n",
       "    <tr>\n",
       "      <th>Other Community Services</th>\n",
       "      <td>10074.78</td>\n",
       "    </tr>\n",
       "    <tr>\n",
       "      <th>Other Pupil Services</th>\n",
       "      <td>1813.20</td>\n",
       "    </tr>\n",
       "    <tr>\n",
       "      <th>Plant Maintenance and Operations</th>\n",
       "      <td>570729.04</td>\n",
<<<<<<< HEAD
=======
=======
       "      <th rowspan=\"4\" valign=\"top\">1100170000000</th>\n",
       "      <th rowspan=\"4\" valign=\"top\">10017</th>\n",
       "      <th>2100</th>\n",
       "      <th>Classified Instructional Salaries</th>\n",
       "      <td>10945394.96</td>\n",
       "    </tr>\n",
       "    <tr>\n",
       "      <th>5900</th>\n",
       "      <th>Communications</th>\n",
       "      <td>1087658.80</td>\n",
       "    </tr>\n",
       "    <tr>\n",
       "      <th>7110</th>\n",
       "      <th>Tuition for Instruction Under Interdistrict Attendance Agreements</th>\n",
       "      <td>248516.98</td>\n",
       "    </tr>\n",
       "    <tr>\n",
       "      <th>9200</th>\n",
       "      <th>Accounts Receivable</th>\n",
       "      <td>992168.53</td>\n",
       "    </tr>\n",
       "    <tr>\n",
       "      <th>1404020000000</th>\n",
       "      <th>40402</th>\n",
       "      <th>2100</th>\n",
       "      <th>Classified Instructional Salaries</th>\n",
       "      <td>405042.47</td>\n",
>>>>>>> Helen
>>>>>>> 958d3b6f3a0d2c5e7972472b1df355b5c251e781
       "    </tr>\n",
       "    <tr>\n",
       "      <th>...</th>\n",
       "      <th>...</th>\n",
       "      <th>...</th>\n",
<<<<<<< HEAD
=======
<<<<<<< HEAD
>>>>>>> 958d3b6f3a0d2c5e7972472b1df355b5c251e781
       "      <td>...</td>\n",
       "    </tr>\n",
       "    <tr>\n",
       "      <th rowspan=\"5\" valign=\"top\">58727690000000</th>\n",
       "      <th>Other Community Services</th>\n",
       "      <th>School Administration</th>\n",
       "      <td>15024.84</td>\n",
       "    </tr>\n",
       "    <tr>\n",
       "      <th rowspan=\"2\" valign=\"top\">School-Sponsored Athletics</th>\n",
       "      <th>Instruction</th>\n",
       "      <td>1364.90</td>\n",
       "    </tr>\n",
       "    <tr>\n",
       "      <th>Instructional Library, Media, and Technology</th>\n",
       "      <td>2584.57</td>\n",
       "    </tr>\n",
       "    <tr>\n",
       "      <th>School-Sponsored Co-curricular</th>\n",
       "      <th>Instruction</th>\n",
       "      <td>15609.50</td>\n",
       "    </tr>\n",
       "    <tr>\n",
       "      <th>Transfers Between Agencies</th>\n",
       "      <th>Not Applicable (For use with revenues and balance sheet transactions only)</th>\n",
       "      <td>807882.08</td>\n",
       "    </tr>\n",
       "  </tbody>\n",
       "</table>\n",
       "<p>29791 rows × 1 columns</p>\n",
       "</div>"
      ],
      "text/plain": [
       "                                                                                                                         Amount\n",
       "CDS_CODE       Object                                             Function                                                     \n",
       "1100170000000  Administrative Unit (AU) of a Multidistrict SEL... Ancillary Services                             ...  111940.80\n",
       "                                                                  Guidance and Counseling Services               ...  274701.75\n",
       "                                                                  Other Community Services                       ...   10074.78\n",
       "                                                                  Other Pupil Services                           ...    1813.20\n",
       "                                                                  Plant Maintenance and Operations               ...  570729.04\n",
       "...                                                                                                                         ...\n",
       "58727690000000 Other Community Services                       ... School Administration                          ...   15024.84\n",
       "               School-Sponsored Athletics                     ... Instruction                                    ...    1364.90\n",
       "                                                                  Instructional Library, Media, and Technology   ...    2584.57\n",
       "               School-Sponsored Co-curricular                 ... Instruction                                    ...   15609.50\n",
       "               Transfers Between Agencies                     ... Not Applicable (For use with revenues and balan...  807882.08\n",
       "\n",
       "[29791 rows x 1 columns]"
      ]
     },
     "execution_count": 28,
<<<<<<< HEAD
=======
=======
       "      <th>...</th>\n",
       "      <td>...</td>\n",
       "    </tr>\n",
       "    <tr>\n",
       "      <th>58727510000000</th>\n",
       "      <th>72751</th>\n",
       "      <th>9200</th>\n",
       "      <th>Accounts Receivable</th>\n",
       "      <td>531215.41</td>\n",
       "    </tr>\n",
       "    <tr>\n",
       "      <th rowspan=\"4\" valign=\"top\">58727690000000</th>\n",
       "      <th rowspan=\"4\" valign=\"top\">72769</th>\n",
       "      <th>2100</th>\n",
       "      <th>Classified Instructional Salaries</th>\n",
       "      <td>116326.07</td>\n",
       "    </tr>\n",
       "    <tr>\n",
       "      <th>4200</th>\n",
       "      <th>Books and Other Reference Materials</th>\n",
       "      <td>157711.32</td>\n",
       "    </tr>\n",
       "    <tr>\n",
       "      <th>8110</th>\n",
       "      <th>Maintenance and Operations (Public Law 81-874)</th>\n",
       "      <td>146155.16</td>\n",
       "    </tr>\n",
       "    <tr>\n",
       "      <th>9200</th>\n",
       "      <th>Accounts Receivable</th>\n",
       "      <td>220954.53</td>\n",
       "    </tr>\n",
       "  </tbody>\n",
       "</table>\n",
       "<p>4024 rows × 1 columns</p>\n",
       "</div>"
      ],
      "text/plain": [
       "                                                                                                    Amount\n",
       "CDS_CODE       District_Code Function_Code Function                                                       \n",
       "1100170000000  10017         2100          Classified Instructional Salaries              ...  10945394.96\n",
       "                             5900          Communications                                 ...   1087658.80\n",
       "                             7110          Tuition for Instruction Under Interdistrict Att...    248516.98\n",
       "                             9200          Accounts Receivable                            ...    992168.53\n",
       "1404020000000  40402         2100          Classified Instructional Salaries              ...    405042.47\n",
       "...                                                                                                    ...\n",
       "58727510000000 72751         9200          Accounts Receivable                            ...    531215.41\n",
       "58727690000000 72769         2100          Classified Instructional Salaries              ...    116326.07\n",
       "                             4200          Books and Other Reference Materials            ...    157711.32\n",
       "                             8110          Maintenance and Operations (Public Law 81-874) ...    146155.16\n",
       "                             9200          Accounts Receivable                            ...    220954.53\n",
       "\n",
       "[4024 rows x 1 columns]"
      ]
     },
     "execution_count": 21,
>>>>>>> Helen
>>>>>>> 958d3b6f3a0d2c5e7972472b1df355b5c251e781
     "metadata": {},
     "output_type": "execute_result"
    }
   ],
   "source": [
    "#Organize data\n",
<<<<<<< HEAD
    "final_data=final_data.groupby(['CDS_CODE','Object','Function']).sum()\n",
=======
<<<<<<< HEAD
    "final_data=final_data.groupby(['CDS_CODE','Object','Function']).sum()\n",
=======
    "final_data=final_data.groupby(['CDS_CODE','District_Code','Function_Code','Function']).sum()\n",
>>>>>>> Helen
>>>>>>> 958d3b6f3a0d2c5e7972472b1df355b5c251e781
    "final_data"
   ]
  },
  {
   "cell_type": "code",
<<<<<<< HEAD
   "execution_count": 29,
=======
<<<<<<< HEAD
   "execution_count": 29,
=======
   "execution_count": 22,
>>>>>>> Helen
>>>>>>> 958d3b6f3a0d2c5e7972472b1df355b5c251e781
   "metadata": {},
   "outputs": [],
   "source": [
    "final_data.to_csv('../Finance_Data/Finance_1314.csv')"
   ]
  },
  {
   "cell_type": "code",
   "execution_count": null,
   "metadata": {},
   "outputs": [],
   "source": []
  }
 ],
 "metadata": {
  "kernelspec": {
   "display_name": "PythonData",
   "language": "python",
   "name": "pythondata"
  },
  "language_info": {
   "codemirror_mode": {
    "name": "ipython",
    "version": 3
   },
   "file_extension": ".py",
   "mimetype": "text/x-python",
   "name": "python",
   "nbconvert_exporter": "python",
   "pygments_lexer": "ipython3",
   "version": "3.7.4"
  }
 },
 "nbformat": 4,
 "nbformat_minor": 4
}
