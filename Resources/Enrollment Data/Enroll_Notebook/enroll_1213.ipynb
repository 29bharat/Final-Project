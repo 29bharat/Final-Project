{
 "cells": [
  {
   "cell_type": "code",
   "execution_count": 1,
   "metadata": {},
   "outputs": [],
   "source": [
    "#Add the Pandas dependency\n",
    "import pandas as pd"
   ]
  },
  {
   "cell_type": "code",
   "execution_count": 2,
   "metadata": {},
   "outputs": [
    {
     "data": {
      "text/html": [
       "<div>\n",
       "<style scoped>\n",
       "    .dataframe tbody tr th:only-of-type {\n",
       "        vertical-align: middle;\n",
       "    }\n",
       "\n",
       "    .dataframe tbody tr th {\n",
       "        vertical-align: top;\n",
       "    }\n",
       "\n",
       "    .dataframe thead th {\n",
       "        text-align: right;\n",
       "    }\n",
       "</style>\n",
       "<table border=\"1\" class=\"dataframe\">\n",
       "  <thead>\n",
       "    <tr style=\"text-align: right;\">\n",
       "      <th></th>\n",
       "      <th>CDS_CODE</th>\n",
       "      <th>COUNTY</th>\n",
       "      <th>DISTRICT</th>\n",
       "      <th>SCHOOL</th>\n",
       "      <th>ETHNIC</th>\n",
       "      <th>GENDER</th>\n",
       "      <th>KDGN</th>\n",
       "      <th>GR_1</th>\n",
       "      <th>GR_2</th>\n",
       "      <th>GR_3</th>\n",
       "      <th>...</th>\n",
       "      <th>GR_7</th>\n",
       "      <th>GR_8</th>\n",
       "      <th>UNGR_ELM</th>\n",
       "      <th>GR_9</th>\n",
       "      <th>GR_10</th>\n",
       "      <th>GR_11</th>\n",
       "      <th>GR_12</th>\n",
       "      <th>UNGR_SEC</th>\n",
       "      <th>ENR_TOTAL</th>\n",
       "      <th>ADULT</th>\n",
       "    </tr>\n",
       "  </thead>\n",
       "  <tbody>\n",
       "    <tr>\n",
       "      <th>93106</th>\n",
       "      <td>1.100170e+12</td>\n",
       "      <td>Alameda</td>\n",
       "      <td>Alameda County Office of Education</td>\n",
       "      <td>Alameda County Juvenile Hall/Court</td>\n",
       "      <td>5</td>\n",
       "      <td>F</td>\n",
       "      <td>0</td>\n",
       "      <td>0</td>\n",
       "      <td>0</td>\n",
       "      <td>0</td>\n",
       "      <td>...</td>\n",
       "      <td>0</td>\n",
       "      <td>2</td>\n",
       "      <td>0</td>\n",
       "      <td>0</td>\n",
       "      <td>1</td>\n",
       "      <td>1</td>\n",
       "      <td>1</td>\n",
       "      <td>0</td>\n",
       "      <td>5</td>\n",
       "      <td>0</td>\n",
       "    </tr>\n",
       "    <tr>\n",
       "      <th>91107</th>\n",
       "      <td>1.100170e+12</td>\n",
       "      <td>Alameda</td>\n",
       "      <td>Alameda County Office of Education</td>\n",
       "      <td>Community School for Creative Education</td>\n",
       "      <td>4</td>\n",
       "      <td>M</td>\n",
       "      <td>1</td>\n",
       "      <td>0</td>\n",
       "      <td>0</td>\n",
       "      <td>0</td>\n",
       "      <td>...</td>\n",
       "      <td>0</td>\n",
       "      <td>0</td>\n",
       "      <td>0</td>\n",
       "      <td>0</td>\n",
       "      <td>0</td>\n",
       "      <td>0</td>\n",
       "      <td>0</td>\n",
       "      <td>0</td>\n",
       "      <td>1</td>\n",
       "      <td>0</td>\n",
       "    </tr>\n",
       "    <tr>\n",
       "      <th>91108</th>\n",
       "      <td>1.100170e+12</td>\n",
       "      <td>Alameda</td>\n",
       "      <td>Alameda County Office of Education</td>\n",
       "      <td>Urban Montessori Charter</td>\n",
       "      <td>1</td>\n",
       "      <td>M</td>\n",
       "      <td>1</td>\n",
       "      <td>0</td>\n",
       "      <td>0</td>\n",
       "      <td>0</td>\n",
       "      <td>...</td>\n",
       "      <td>0</td>\n",
       "      <td>0</td>\n",
       "      <td>0</td>\n",
       "      <td>0</td>\n",
       "      <td>0</td>\n",
       "      <td>0</td>\n",
       "      <td>0</td>\n",
       "      <td>0</td>\n",
       "      <td>1</td>\n",
       "      <td>0</td>\n",
       "    </tr>\n",
       "    <tr>\n",
       "      <th>91109</th>\n",
       "      <td>1.100170e+12</td>\n",
       "      <td>Alameda</td>\n",
       "      <td>Alameda County Office of Education</td>\n",
       "      <td>Urban Montessori Charter</td>\n",
       "      <td>9</td>\n",
       "      <td>M</td>\n",
       "      <td>5</td>\n",
       "      <td>7</td>\n",
       "      <td>1</td>\n",
       "      <td>0</td>\n",
       "      <td>...</td>\n",
       "      <td>0</td>\n",
       "      <td>0</td>\n",
       "      <td>0</td>\n",
       "      <td>0</td>\n",
       "      <td>0</td>\n",
       "      <td>0</td>\n",
       "      <td>0</td>\n",
       "      <td>0</td>\n",
       "      <td>13</td>\n",
       "      <td>0</td>\n",
       "    </tr>\n",
       "    <tr>\n",
       "      <th>91110</th>\n",
       "      <td>1.100170e+12</td>\n",
       "      <td>Alameda</td>\n",
       "      <td>Alameda County Office of Education</td>\n",
       "      <td>Urban Montessori Charter</td>\n",
       "      <td>2</td>\n",
       "      <td>M</td>\n",
       "      <td>2</td>\n",
       "      <td>2</td>\n",
       "      <td>0</td>\n",
       "      <td>0</td>\n",
       "      <td>...</td>\n",
       "      <td>0</td>\n",
       "      <td>0</td>\n",
       "      <td>0</td>\n",
       "      <td>0</td>\n",
       "      <td>0</td>\n",
       "      <td>0</td>\n",
       "      <td>0</td>\n",
       "      <td>0</td>\n",
       "      <td>4</td>\n",
       "      <td>0</td>\n",
       "    </tr>\n",
       "  </tbody>\n",
       "</table>\n",
       "<p>5 rows × 23 columns</p>\n",
       "</div>"
      ],
      "text/plain": [
       "           CDS_CODE   COUNTY                            DISTRICT  \\\n",
       "93106  1.100170e+12  Alameda  Alameda County Office of Education   \n",
       "91107  1.100170e+12  Alameda  Alameda County Office of Education   \n",
       "91108  1.100170e+12  Alameda  Alameda County Office of Education   \n",
       "91109  1.100170e+12  Alameda  Alameda County Office of Education   \n",
       "91110  1.100170e+12  Alameda  Alameda County Office of Education   \n",
       "\n",
       "                                        SCHOOL  ETHNIC GENDER  KDGN  GR_1  \\\n",
       "93106       Alameda County Juvenile Hall/Court       5      F     0     0   \n",
       "91107  Community School for Creative Education       4      M     1     0   \n",
       "91108                 Urban Montessori Charter       1      M     1     0   \n",
       "91109                 Urban Montessori Charter       9      M     5     7   \n",
       "91110                 Urban Montessori Charter       2      M     2     2   \n",
       "\n",
       "       GR_2  GR_3  ...  GR_7  GR_8  UNGR_ELM  GR_9  GR_10  GR_11  GR_12  \\\n",
       "93106     0     0  ...     0     2         0     0      1      1      1   \n",
       "91107     0     0  ...     0     0         0     0      0      0      0   \n",
       "91108     0     0  ...     0     0         0     0      0      0      0   \n",
       "91109     1     0  ...     0     0         0     0      0      0      0   \n",
       "91110     0     0  ...     0     0         0     0      0      0      0   \n",
       "\n",
       "       UNGR_SEC  ENR_TOTAL  ADULT  \n",
       "93106         0          5      0  \n",
       "91107         0          1      0  \n",
       "91108         0          1      0  \n",
       "91109         0         13      0  \n",
       "91110         0          4      0  \n",
       "\n",
       "[5 rows x 23 columns]"
      ]
     },
     "execution_count": 2,
     "metadata": {},
     "output_type": "execute_result"
    }
   ],
   "source": [
    "#Files to load\n",
    "enroll_df=pd.read_csv(\"../enrollment '12-'13.zip\")\n",
    "enroll_df=enroll_df.sort_values(by='CDS_CODE')\n",
    "enroll_df.head()"
   ]
  },
  {
   "cell_type": "code",
   "execution_count": 3,
   "metadata": {},
   "outputs": [
    {
     "data": {
      "text/plain": [
       "CDS_CODE     127445\n",
       "COUNTY       127445\n",
       "DISTRICT     127445\n",
       "SCHOOL       127445\n",
       "ETHNIC       127445\n",
       "GENDER       127445\n",
       "KDGN         127445\n",
       "GR_1         127445\n",
       "GR_2         127445\n",
       "GR_3         127445\n",
       "GR_4         127445\n",
       "GR_5         127445\n",
       "GR_6         127445\n",
       "GR_7         127445\n",
       "GR_8         127445\n",
       "UNGR_ELM     127445\n",
       "GR_9         127445\n",
       "GR_10        127445\n",
       "GR_11        127445\n",
       "GR_12        127445\n",
       "UNGR_SEC     127445\n",
       "ENR_TOTAL    127445\n",
       "ADULT        127445\n",
       "dtype: int64"
      ]
     },
     "execution_count": 3,
     "metadata": {},
     "output_type": "execute_result"
    }
   ],
   "source": [
    "#Determine any missing values \n",
    "enroll_df.dropna()\n",
    "enroll_df.count()"
   ]
  },
  {
   "cell_type": "code",
   "execution_count": 4,
   "metadata": {},
   "outputs": [
    {
     "data": {
      "text/plain": [
       "CDS_CODE     float64\n",
       "COUNTY        object\n",
       "DISTRICT      object\n",
       "SCHOOL        object\n",
       "ETHNIC         int64\n",
       "GENDER        object\n",
       "KDGN           int64\n",
       "GR_1           int64\n",
       "GR_2           int64\n",
       "GR_3           int64\n",
       "GR_4           int64\n",
       "GR_5           int64\n",
       "GR_6           int64\n",
       "GR_7           int64\n",
       "GR_8           int64\n",
       "UNGR_ELM       int64\n",
       "GR_9           int64\n",
       "GR_10          int64\n",
       "GR_11          int64\n",
       "GR_12          int64\n",
       "UNGR_SEC       int64\n",
       "ENR_TOTAL      int64\n",
       "ADULT          int64\n",
       "dtype: object"
      ]
     },
     "execution_count": 4,
     "metadata": {},
     "output_type": "execute_result"
    }
   ],
   "source": [
    "#Determine data types\n",
    "enroll_df.dtypes"
   ]
  },
  {
   "cell_type": "code",
   "execution_count": 5,
   "metadata": {},
   "outputs": [
    {
     "data": {
      "text/html": [
       "<div>\n",
       "<style scoped>\n",
       "    .dataframe tbody tr th:only-of-type {\n",
       "        vertical-align: middle;\n",
       "    }\n",
       "\n",
       "    .dataframe tbody tr th {\n",
       "        vertical-align: top;\n",
       "    }\n",
       "\n",
       "    .dataframe thead th {\n",
       "        text-align: right;\n",
       "    }\n",
       "</style>\n",
       "<table border=\"1\" class=\"dataframe\">\n",
       "  <thead>\n",
       "    <tr style=\"text-align: right;\">\n",
       "      <th></th>\n",
       "      <th>CDS_CODE</th>\n",
<<<<<<< HEAD
<<<<<<< HEAD
=======
<<<<<<< HEAD
=======
       "      <th>DISTRICT</th>\n",
>>>>>>> Helen
>>>>>>> 958d3b6f3a0d2c5e7972472b1df355b5c251e781
=======
       "      <th>DISTRICT</th>\n",
>>>>>>> 66edc7c026dc60249828aa6869a0944f4137744a
       "      <th>ETHNIC</th>\n",
       "      <th>GENDER</th>\n",
       "      <th>GR_12</th>\n",
       "      <th>ENR_TOTAL</th>\n",
       "    </tr>\n",
       "  </thead>\n",
       "  <tbody>\n",
       "    <tr>\n",
       "      <th>0</th>\n",
       "      <td>1.100170e+12</td>\n",
<<<<<<< HEAD
<<<<<<< HEAD
=======
<<<<<<< HEAD
=======
       "      <td>Alameda County Office of Education</td>\n",
>>>>>>> Helen
>>>>>>> 958d3b6f3a0d2c5e7972472b1df355b5c251e781
=======
       "      <td>Alameda County Office of Education</td>\n",
>>>>>>> 66edc7c026dc60249828aa6869a0944f4137744a
       "      <td>5</td>\n",
       "      <td>F</td>\n",
       "      <td>1</td>\n",
       "      <td>5</td>\n",
       "    </tr>\n",
       "    <tr>\n",
       "      <th>1</th>\n",
       "      <td>1.100170e+12</td>\n",
<<<<<<< HEAD
<<<<<<< HEAD
=======
<<<<<<< HEAD
=======
       "      <td>Alameda County Office of Education</td>\n",
>>>>>>> Helen
>>>>>>> 958d3b6f3a0d2c5e7972472b1df355b5c251e781
=======
       "      <td>Alameda County Office of Education</td>\n",
>>>>>>> 66edc7c026dc60249828aa6869a0944f4137744a
       "      <td>4</td>\n",
       "      <td>M</td>\n",
       "      <td>0</td>\n",
       "      <td>1</td>\n",
       "    </tr>\n",
       "    <tr>\n",
       "      <th>2</th>\n",
       "      <td>1.100170e+12</td>\n",
<<<<<<< HEAD
<<<<<<< HEAD
=======
<<<<<<< HEAD
=======
       "      <td>Alameda County Office of Education</td>\n",
>>>>>>> Helen
>>>>>>> 958d3b6f3a0d2c5e7972472b1df355b5c251e781
=======
       "      <td>Alameda County Office of Education</td>\n",
>>>>>>> 66edc7c026dc60249828aa6869a0944f4137744a
       "      <td>1</td>\n",
       "      <td>M</td>\n",
       "      <td>0</td>\n",
       "      <td>1</td>\n",
       "    </tr>\n",
       "    <tr>\n",
       "      <th>3</th>\n",
       "      <td>1.100170e+12</td>\n",
<<<<<<< HEAD
<<<<<<< HEAD
=======
<<<<<<< HEAD
=======
       "      <td>Alameda County Office of Education</td>\n",
>>>>>>> Helen
>>>>>>> 958d3b6f3a0d2c5e7972472b1df355b5c251e781
=======
       "      <td>Alameda County Office of Education</td>\n",
>>>>>>> 66edc7c026dc60249828aa6869a0944f4137744a
       "      <td>9</td>\n",
       "      <td>M</td>\n",
       "      <td>0</td>\n",
       "      <td>13</td>\n",
       "    </tr>\n",
       "    <tr>\n",
       "      <th>4</th>\n",
       "      <td>1.100170e+12</td>\n",
<<<<<<< HEAD
<<<<<<< HEAD
=======
<<<<<<< HEAD
=======
       "      <td>Alameda County Office of Education</td>\n",
>>>>>>> Helen
>>>>>>> 958d3b6f3a0d2c5e7972472b1df355b5c251e781
=======
       "      <td>Alameda County Office of Education</td>\n",
>>>>>>> 66edc7c026dc60249828aa6869a0944f4137744a
       "      <td>2</td>\n",
       "      <td>M</td>\n",
       "      <td>0</td>\n",
       "      <td>4</td>\n",
       "    </tr>\n",
       "    <tr>\n",
       "      <th>...</th>\n",
       "      <td>...</td>\n",
       "      <td>...</td>\n",
       "      <td>...</td>\n",
       "      <td>...</td>\n",
       "      <td>...</td>\n",
<<<<<<< HEAD
<<<<<<< HEAD
=======
<<<<<<< HEAD
=======
       "      <td>...</td>\n",
>>>>>>> Helen
>>>>>>> 958d3b6f3a0d2c5e7972472b1df355b5c251e781
=======
       "      <td>...</td>\n",
>>>>>>> 66edc7c026dc60249828aa6869a0944f4137744a
       "    </tr>\n",
       "    <tr>\n",
       "      <th>127440</th>\n",
       "      <td>5.872770e+13</td>\n",
<<<<<<< HEAD
<<<<<<< HEAD
=======
<<<<<<< HEAD
=======
       "      <td>Wheatland Union High</td>\n",
>>>>>>> Helen
>>>>>>> 958d3b6f3a0d2c5e7972472b1df355b5c251e781
=======
       "      <td>Wheatland Union High</td>\n",
>>>>>>> 66edc7c026dc60249828aa6869a0944f4137744a
       "      <td>4</td>\n",
       "      <td>F</td>\n",
       "      <td>3</td>\n",
       "      <td>7</td>\n",
       "    </tr>\n",
       "    <tr>\n",
       "      <th>127441</th>\n",
       "      <td>5.872770e+13</td>\n",
<<<<<<< HEAD
<<<<<<< HEAD
=======
<<<<<<< HEAD
=======
       "      <td>Wheatland Union High</td>\n",
>>>>>>> Helen
>>>>>>> 958d3b6f3a0d2c5e7972472b1df355b5c251e781
=======
       "      <td>Wheatland Union High</td>\n",
>>>>>>> 66edc7c026dc60249828aa6869a0944f4137744a
       "      <td>4</td>\n",
       "      <td>M</td>\n",
       "      <td>0</td>\n",
       "      <td>6</td>\n",
       "    </tr>\n",
       "    <tr>\n",
       "      <th>127442</th>\n",
       "      <td>5.872770e+13</td>\n",
<<<<<<< HEAD
<<<<<<< HEAD
=======
<<<<<<< HEAD
=======
       "      <td>Wheatland Union High</td>\n",
>>>>>>> Helen
>>>>>>> 958d3b6f3a0d2c5e7972472b1df355b5c251e781
=======
       "      <td>Wheatland Union High</td>\n",
>>>>>>> 66edc7c026dc60249828aa6869a0944f4137744a
       "      <td>3</td>\n",
       "      <td>M</td>\n",
       "      <td>1</td>\n",
       "      <td>1</td>\n",
       "    </tr>\n",
       "    <tr>\n",
       "      <th>127443</th>\n",
       "      <td>5.872770e+13</td>\n",
<<<<<<< HEAD
<<<<<<< HEAD
=======
<<<<<<< HEAD
=======
       "      <td>Wheatland Union High</td>\n",
>>>>>>> Helen
>>>>>>> 958d3b6f3a0d2c5e7972472b1df355b5c251e781
=======
       "      <td>Wheatland Union High</td>\n",
>>>>>>> 66edc7c026dc60249828aa6869a0944f4137744a
       "      <td>5</td>\n",
       "      <td>M</td>\n",
       "      <td>28</td>\n",
       "      <td>100</td>\n",
       "    </tr>\n",
       "    <tr>\n",
       "      <th>127444</th>\n",
       "      <td>5.872770e+13</td>\n",
<<<<<<< HEAD
<<<<<<< HEAD
=======
<<<<<<< HEAD
=======
       "      <td>Wheatland Union High</td>\n",
>>>>>>> Helen
>>>>>>> 958d3b6f3a0d2c5e7972472b1df355b5c251e781
=======
       "      <td>Wheatland Union High</td>\n",
>>>>>>> 66edc7c026dc60249828aa6869a0944f4137744a
       "      <td>0</td>\n",
       "      <td>M</td>\n",
       "      <td>0</td>\n",
       "      <td>1</td>\n",
       "    </tr>\n",
       "  </tbody>\n",
       "</table>\n",
<<<<<<< HEAD
<<<<<<< HEAD
=======
<<<<<<< HEAD
>>>>>>> 958d3b6f3a0d2c5e7972472b1df355b5c251e781
       "<p>127445 rows × 5 columns</p>\n",
       "</div>"
      ],
      "text/plain": [
       "            CDS_CODE  ETHNIC GENDER  GR_12  ENR_TOTAL\n",
       "0       1.100170e+12       5      F      1          5\n",
       "1       1.100170e+12       4      M      0          1\n",
       "2       1.100170e+12       1      M      0          1\n",
       "3       1.100170e+12       9      M      0         13\n",
       "4       1.100170e+12       2      M      0          4\n",
       "...              ...     ...    ...    ...        ...\n",
       "127440  5.872770e+13       4      F      3          7\n",
       "127441  5.872770e+13       4      M      0          6\n",
       "127442  5.872770e+13       3      M      1          1\n",
       "127443  5.872770e+13       5      M     28        100\n",
       "127444  5.872770e+13       0      M      0          1\n",
       "\n",
       "[127445 rows x 5 columns]"
<<<<<<< HEAD
=======
=======
=======
>>>>>>> 66edc7c026dc60249828aa6869a0944f4137744a
       "<p>127445 rows × 6 columns</p>\n",
       "</div>"
      ],
      "text/plain": [
       "            CDS_CODE                            DISTRICT  ETHNIC GENDER  \\\n",
       "0       1.100170e+12  Alameda County Office of Education       5      F   \n",
       "1       1.100170e+12  Alameda County Office of Education       4      M   \n",
       "2       1.100170e+12  Alameda County Office of Education       1      M   \n",
       "3       1.100170e+12  Alameda County Office of Education       9      M   \n",
       "4       1.100170e+12  Alameda County Office of Education       2      M   \n",
       "...              ...                                 ...     ...    ...   \n",
       "127440  5.872770e+13                Wheatland Union High       4      F   \n",
       "127441  5.872770e+13                Wheatland Union High       4      M   \n",
       "127442  5.872770e+13                Wheatland Union High       3      M   \n",
       "127443  5.872770e+13                Wheatland Union High       5      M   \n",
       "127444  5.872770e+13                Wheatland Union High       0      M   \n",
       "\n",
       "        GR_12  ENR_TOTAL  \n",
       "0           1          5  \n",
       "1           0          1  \n",
       "2           0          1  \n",
       "3           0         13  \n",
       "4           0          4  \n",
       "...       ...        ...  \n",
       "127440      3          7  \n",
       "127441      0          6  \n",
       "127442      1          1  \n",
       "127443     28        100  \n",
       "127444      0          1  \n",
       "\n",
       "[127445 rows x 6 columns]"
<<<<<<< HEAD
>>>>>>> Helen
>>>>>>> 958d3b6f3a0d2c5e7972472b1df355b5c251e781
=======
>>>>>>> 66edc7c026dc60249828aa6869a0944f4137744a
      ]
     },
     "execution_count": 5,
     "metadata": {},
     "output_type": "execute_result"
    }
   ],
   "source": [
<<<<<<< HEAD
<<<<<<< HEAD
    "clean_enroll_df=enroll_df[['CDS_CODE','ETHNIC','GENDER','GR_12','ENR_TOTAL']]\n",
=======
<<<<<<< HEAD
    "clean_enroll_df=enroll_df[['CDS_CODE','ETHNIC','GENDER','GR_12','ENR_TOTAL']]\n",
=======
    "clean_enroll_df=enroll_df[['CDS_CODE','DISTRICT','ETHNIC','GENDER','GR_12','ENR_TOTAL']]\n",
>>>>>>> Helen
>>>>>>> 958d3b6f3a0d2c5e7972472b1df355b5c251e781
=======
    "clean_enroll_df=enroll_df[['CDS_CODE','DISTRICT','ETHNIC','GENDER','GR_12','ENR_TOTAL']]\n",
>>>>>>> 66edc7c026dc60249828aa6869a0944f4137744a
    "clean_enroll_df=clean_enroll_df.reset_index(drop=True)\n",
    "clean_enroll_df"
   ]
  },
  {
   "cell_type": "code",
   "execution_count": 6,
   "metadata": {},
   "outputs": [
    {
     "data": {
      "text/html": [
       "<div>\n",
       "<style scoped>\n",
       "    .dataframe tbody tr th:only-of-type {\n",
       "        vertical-align: middle;\n",
       "    }\n",
       "\n",
       "    .dataframe tbody tr th {\n",
       "        vertical-align: top;\n",
       "    }\n",
       "\n",
       "    .dataframe thead th {\n",
       "        text-align: right;\n",
       "    }\n",
       "</style>\n",
       "<table border=\"1\" class=\"dataframe\">\n",
       "  <thead>\n",
       "    <tr style=\"text-align: right;\">\n",
       "      <th></th>\n",
       "      <th>CDS_CODE</th>\n",
<<<<<<< HEAD
<<<<<<< HEAD
=======
<<<<<<< HEAD
=======
       "      <th>DISTRICT</th>\n",
>>>>>>> Helen
>>>>>>> 958d3b6f3a0d2c5e7972472b1df355b5c251e781
=======
       "      <th>DISTRICT</th>\n",
>>>>>>> 66edc7c026dc60249828aa6869a0944f4137744a
       "      <th>ETHNIC</th>\n",
       "      <th>GENDER</th>\n",
       "      <th>GR_12</th>\n",
       "      <th>ENR_TOTAL</th>\n",
       "    </tr>\n",
       "  </thead>\n",
       "  <tbody>\n",
       "    <tr>\n",
       "      <th>0</th>\n",
       "      <td>1100170000000</td>\n",
<<<<<<< HEAD
<<<<<<< HEAD
=======
<<<<<<< HEAD
=======
       "      <td>Alameda County Office of Education</td>\n",
>>>>>>> Helen
>>>>>>> 958d3b6f3a0d2c5e7972472b1df355b5c251e781
=======
       "      <td>Alameda County Office of Education</td>\n",
>>>>>>> 66edc7c026dc60249828aa6869a0944f4137744a
       "      <td>5</td>\n",
       "      <td>F</td>\n",
       "      <td>1</td>\n",
       "      <td>5</td>\n",
       "    </tr>\n",
       "    <tr>\n",
       "      <th>1</th>\n",
       "      <td>1100170000000</td>\n",
<<<<<<< HEAD
<<<<<<< HEAD
=======
<<<<<<< HEAD
=======
       "      <td>Alameda County Office of Education</td>\n",
>>>>>>> Helen
>>>>>>> 958d3b6f3a0d2c5e7972472b1df355b5c251e781
=======
       "      <td>Alameda County Office of Education</td>\n",
>>>>>>> 66edc7c026dc60249828aa6869a0944f4137744a
       "      <td>4</td>\n",
       "      <td>M</td>\n",
       "      <td>0</td>\n",
       "      <td>1</td>\n",
       "    </tr>\n",
       "    <tr>\n",
       "      <th>2</th>\n",
       "      <td>1100170000000</td>\n",
<<<<<<< HEAD
<<<<<<< HEAD
=======
<<<<<<< HEAD
=======
       "      <td>Alameda County Office of Education</td>\n",
>>>>>>> Helen
>>>>>>> 958d3b6f3a0d2c5e7972472b1df355b5c251e781
=======
       "      <td>Alameda County Office of Education</td>\n",
>>>>>>> 66edc7c026dc60249828aa6869a0944f4137744a
       "      <td>1</td>\n",
       "      <td>M</td>\n",
       "      <td>0</td>\n",
       "      <td>1</td>\n",
       "    </tr>\n",
       "    <tr>\n",
       "      <th>3</th>\n",
       "      <td>1100170000000</td>\n",
<<<<<<< HEAD
<<<<<<< HEAD
=======
<<<<<<< HEAD
=======
       "      <td>Alameda County Office of Education</td>\n",
>>>>>>> Helen
>>>>>>> 958d3b6f3a0d2c5e7972472b1df355b5c251e781
=======
       "      <td>Alameda County Office of Education</td>\n",
>>>>>>> 66edc7c026dc60249828aa6869a0944f4137744a
       "      <td>9</td>\n",
       "      <td>M</td>\n",
       "      <td>0</td>\n",
       "      <td>13</td>\n",
       "    </tr>\n",
       "    <tr>\n",
       "      <th>4</th>\n",
       "      <td>1100170000000</td>\n",
<<<<<<< HEAD
<<<<<<< HEAD
=======
<<<<<<< HEAD
=======
       "      <td>Alameda County Office of Education</td>\n",
>>>>>>> Helen
>>>>>>> 958d3b6f3a0d2c5e7972472b1df355b5c251e781
=======
       "      <td>Alameda County Office of Education</td>\n",
>>>>>>> 66edc7c026dc60249828aa6869a0944f4137744a
       "      <td>2</td>\n",
       "      <td>M</td>\n",
       "      <td>0</td>\n",
       "      <td>4</td>\n",
       "    </tr>\n",
       "    <tr>\n",
       "      <th>...</th>\n",
       "      <td>...</td>\n",
       "      <td>...</td>\n",
       "      <td>...</td>\n",
       "      <td>...</td>\n",
       "      <td>...</td>\n",
<<<<<<< HEAD
<<<<<<< HEAD
=======
<<<<<<< HEAD
=======
       "      <td>...</td>\n",
>>>>>>> Helen
>>>>>>> 958d3b6f3a0d2c5e7972472b1df355b5c251e781
=======
       "      <td>...</td>\n",
>>>>>>> 66edc7c026dc60249828aa6869a0944f4137744a
       "    </tr>\n",
       "    <tr>\n",
       "      <th>127440</th>\n",
       "      <td>58727700000000</td>\n",
<<<<<<< HEAD
<<<<<<< HEAD
=======
<<<<<<< HEAD
=======
       "      <td>Wheatland Union High</td>\n",
>>>>>>> Helen
>>>>>>> 958d3b6f3a0d2c5e7972472b1df355b5c251e781
=======
       "      <td>Wheatland Union High</td>\n",
>>>>>>> 66edc7c026dc60249828aa6869a0944f4137744a
       "      <td>4</td>\n",
       "      <td>F</td>\n",
       "      <td>3</td>\n",
       "      <td>7</td>\n",
       "    </tr>\n",
       "    <tr>\n",
       "      <th>127441</th>\n",
       "      <td>58727700000000</td>\n",
<<<<<<< HEAD
<<<<<<< HEAD
=======
<<<<<<< HEAD
=======
       "      <td>Wheatland Union High</td>\n",
>>>>>>> Helen
>>>>>>> 958d3b6f3a0d2c5e7972472b1df355b5c251e781
=======
       "      <td>Wheatland Union High</td>\n",
>>>>>>> 66edc7c026dc60249828aa6869a0944f4137744a
       "      <td>4</td>\n",
       "      <td>M</td>\n",
       "      <td>0</td>\n",
       "      <td>6</td>\n",
       "    </tr>\n",
       "    <tr>\n",
       "      <th>127442</th>\n",
       "      <td>58727700000000</td>\n",
<<<<<<< HEAD
<<<<<<< HEAD
=======
<<<<<<< HEAD
=======
       "      <td>Wheatland Union High</td>\n",
>>>>>>> Helen
>>>>>>> 958d3b6f3a0d2c5e7972472b1df355b5c251e781
=======
       "      <td>Wheatland Union High</td>\n",
>>>>>>> 66edc7c026dc60249828aa6869a0944f4137744a
       "      <td>3</td>\n",
       "      <td>M</td>\n",
       "      <td>1</td>\n",
       "      <td>1</td>\n",
       "    </tr>\n",
       "    <tr>\n",
       "      <th>127443</th>\n",
       "      <td>58727700000000</td>\n",
<<<<<<< HEAD
<<<<<<< HEAD
=======
<<<<<<< HEAD
=======
       "      <td>Wheatland Union High</td>\n",
>>>>>>> Helen
>>>>>>> 958d3b6f3a0d2c5e7972472b1df355b5c251e781
=======
       "      <td>Wheatland Union High</td>\n",
>>>>>>> 66edc7c026dc60249828aa6869a0944f4137744a
       "      <td>5</td>\n",
       "      <td>M</td>\n",
       "      <td>28</td>\n",
       "      <td>100</td>\n",
       "    </tr>\n",
       "    <tr>\n",
       "      <th>127444</th>\n",
       "      <td>58727700000000</td>\n",
<<<<<<< HEAD
<<<<<<< HEAD
=======
<<<<<<< HEAD
=======
       "      <td>Wheatland Union High</td>\n",
>>>>>>> Helen
>>>>>>> 958d3b6f3a0d2c5e7972472b1df355b5c251e781
=======
       "      <td>Wheatland Union High</td>\n",
>>>>>>> 66edc7c026dc60249828aa6869a0944f4137744a
       "      <td>0</td>\n",
       "      <td>M</td>\n",
       "      <td>0</td>\n",
       "      <td>1</td>\n",
       "    </tr>\n",
       "  </tbody>\n",
       "</table>\n",
<<<<<<< HEAD
<<<<<<< HEAD
=======
<<<<<<< HEAD
>>>>>>> 958d3b6f3a0d2c5e7972472b1df355b5c251e781
       "<p>127445 rows × 5 columns</p>\n",
       "</div>"
      ],
      "text/plain": [
       "              CDS_CODE  ETHNIC GENDER  GR_12  ENR_TOTAL\n",
       "0        1100170000000       5      F      1          5\n",
       "1        1100170000000       4      M      0          1\n",
       "2        1100170000000       1      M      0          1\n",
       "3        1100170000000       9      M      0         13\n",
       "4        1100170000000       2      M      0          4\n",
       "...                ...     ...    ...    ...        ...\n",
       "127440  58727700000000       4      F      3          7\n",
       "127441  58727700000000       4      M      0          6\n",
       "127442  58727700000000       3      M      1          1\n",
       "127443  58727700000000       5      M     28        100\n",
       "127444  58727700000000       0      M      0          1\n",
       "\n",
       "[127445 rows x 5 columns]"
<<<<<<< HEAD
=======
=======
=======
>>>>>>> 66edc7c026dc60249828aa6869a0944f4137744a
       "<p>127445 rows × 6 columns</p>\n",
       "</div>"
      ],
      "text/plain": [
       "              CDS_CODE                            DISTRICT  ETHNIC GENDER  \\\n",
       "0        1100170000000  Alameda County Office of Education       5      F   \n",
       "1        1100170000000  Alameda County Office of Education       4      M   \n",
       "2        1100170000000  Alameda County Office of Education       1      M   \n",
       "3        1100170000000  Alameda County Office of Education       9      M   \n",
       "4        1100170000000  Alameda County Office of Education       2      M   \n",
       "...                ...                                 ...     ...    ...   \n",
       "127440  58727700000000                Wheatland Union High       4      F   \n",
       "127441  58727700000000                Wheatland Union High       4      M   \n",
       "127442  58727700000000                Wheatland Union High       3      M   \n",
       "127443  58727700000000                Wheatland Union High       5      M   \n",
       "127444  58727700000000                Wheatland Union High       0      M   \n",
       "\n",
       "        GR_12  ENR_TOTAL  \n",
       "0           1          5  \n",
       "1           0          1  \n",
       "2           0          1  \n",
       "3           0         13  \n",
       "4           0          4  \n",
       "...       ...        ...  \n",
       "127440      3          7  \n",
       "127441      0          6  \n",
       "127442      1          1  \n",
       "127443     28        100  \n",
       "127444      0          1  \n",
       "\n",
       "[127445 rows x 6 columns]"
<<<<<<< HEAD
>>>>>>> Helen
>>>>>>> 958d3b6f3a0d2c5e7972472b1df355b5c251e781
=======
>>>>>>> 66edc7c026dc60249828aa6869a0944f4137744a
      ]
     },
     "execution_count": 6,
     "metadata": {},
     "output_type": "execute_result"
    }
   ],
   "source": [
    "clean_enroll_df['CDS_CODE'] = clean_enroll_df['CDS_CODE'].astype('int64') \n",
    "clean_enroll_df"
   ]
  },
  {
   "cell_type": "code",
   "execution_count": 7,
   "metadata": {},
   "outputs": [
    {
     "data": {
      "text/html": [
       "<div>\n",
       "<style scoped>\n",
       "    .dataframe tbody tr th:only-of-type {\n",
       "        vertical-align: middle;\n",
       "    }\n",
       "\n",
       "    .dataframe tbody tr th {\n",
       "        vertical-align: top;\n",
       "    }\n",
       "\n",
       "    .dataframe thead th {\n",
       "        text-align: right;\n",
       "    }\n",
       "</style>\n",
       "<table border=\"1\" class=\"dataframe\">\n",
       "  <thead>\n",
       "    <tr style=\"text-align: right;\">\n",
       "      <th></th>\n",
       "      <th></th>\n",
       "      <th></th>\n",
       "      <th></th>\n",
       "      <th>GR_12</th>\n",
       "      <th>ENR_TOTAL</th>\n",
       "    </tr>\n",
       "    <tr>\n",
       "      <th>CDS_CODE</th>\n",
       "      <th>ETHNIC</th>\n",
       "      <th>DISTRICT</th>\n",
       "      <th>GENDER</th>\n",
       "      <th></th>\n",
       "      <th></th>\n",
       "    </tr>\n",
       "  </thead>\n",
       "  <tbody>\n",
       "    <tr>\n",
       "      <th rowspan=\"5\" valign=\"top\">1100170000000</th>\n",
       "      <th rowspan=\"2\" valign=\"top\">0</th>\n",
       "      <th rowspan=\"2\" valign=\"top\">Alameda County Office of Education</th>\n",
       "      <th>F</th>\n",
       "      <td>1</td>\n",
       "      <td>21</td>\n",
       "    </tr>\n",
       "    <tr>\n",
       "      <th>M</th>\n",
       "      <td>1</td>\n",
       "      <td>14</td>\n",
       "    </tr>\n",
       "    <tr>\n",
       "      <th rowspan=\"2\" valign=\"top\">1</th>\n",
       "      <th rowspan=\"2\" valign=\"top\">Alameda County Office of Education</th>\n",
       "      <th>F</th>\n",
       "      <td>1</td>\n",
       "      <td>12</td>\n",
       "    </tr>\n",
       "    <tr>\n",
       "      <th>M</th>\n",
       "      <td>1</td>\n",
       "      <td>12</td>\n",
       "    </tr>\n",
       "    <tr>\n",
       "      <th>2</th>\n",
       "      <th>Alameda County Office of Education</th>\n",
       "      <th>F</th>\n",
       "      <td>7</td>\n",
       "      <td>177</td>\n",
       "    </tr>\n",
       "    <tr>\n",
       "      <th>...</th>\n",
       "      <th>...</th>\n",
       "      <th>...</th>\n",
       "      <th>...</th>\n",
       "      <td>...</td>\n",
       "      <td>...</td>\n",
       "    </tr>\n",
       "    <tr>\n",
       "      <th rowspan=\"5\" valign=\"top\">58727700000000</th>\n",
       "      <th>6</th>\n",
       "      <th>Wheatland Union High</th>\n",
       "      <th>M</th>\n",
       "      <td>1</td>\n",
       "      <td>9</td>\n",
       "    </tr>\n",
       "    <tr>\n",
       "      <th rowspan=\"2\" valign=\"top\">7</th>\n",
       "      <th rowspan=\"2\" valign=\"top\">Wheatland Union High</th>\n",
       "      <th>F</th>\n",
       "      <td>44</td>\n",
       "      <td>189</td>\n",
       "    </tr>\n",
       "    <tr>\n",
       "      <th>M</th>\n",
       "      <td>42</td>\n",
       "      <td>193</td>\n",
       "    </tr>\n",
       "    <tr>\n",
       "      <th rowspan=\"2\" valign=\"top\">9</th>\n",
       "      <th rowspan=\"2\" valign=\"top\">Wheatland Union High</th>\n",
       "      <th>F</th>\n",
       "      <td>8</td>\n",
       "      <td>41</td>\n",
       "    </tr>\n",
       "    <tr>\n",
       "      <th>M</th>\n",
       "      <td>3</td>\n",
       "      <td>23</td>\n",
       "    </tr>\n",
       "  </tbody>\n",
       "</table>\n",
       "<p>15376 rows × 2 columns</p>\n",
       "</div>"
      ],
      "text/plain": [
       "                                                                 GR_12  \\\n",
       "CDS_CODE       ETHNIC DISTRICT                           GENDER          \n",
       "1100170000000  0      Alameda County Office of Education F           1   \n",
       "                                                         M           1   \n",
       "               1      Alameda County Office of Education F           1   \n",
       "                                                         M           1   \n",
       "               2      Alameda County Office of Education F           7   \n",
       "...                                                                ...   \n",
       "58727700000000 6      Wheatland Union High               M           1   \n",
       "               7      Wheatland Union High               F          44   \n",
       "                                                         M          42   \n",
       "               9      Wheatland Union High               F           8   \n",
       "                                                         M           3   \n",
       "\n",
       "                                                                 ENR_TOTAL  \n",
       "CDS_CODE       ETHNIC DISTRICT                           GENDER             \n",
       "1100170000000  0      Alameda County Office of Education F              21  \n",
       "                                                         M              14  \n",
       "               1      Alameda County Office of Education F              12  \n",
       "                                                         M              12  \n",
       "               2      Alameda County Office of Education F             177  \n",
       "...                                                                    ...  \n",
       "58727700000000 6      Wheatland Union High               M               9  \n",
       "               7      Wheatland Union High               F             189  \n",
       "                                                         M             193  \n",
       "               9      Wheatland Union High               F              41  \n",
       "                                                         M              23  \n",
       "\n",
       "[15376 rows x 2 columns]"
      ]
     },
     "execution_count": 7,
     "metadata": {},
     "output_type": "execute_result"
    }
   ],
   "source": [
    "clean_enroll_df=clean_enroll_df.groupby(['CDS_CODE','ETHNIC','DISTRICT','GENDER']).sum()\n",
    "clean_enroll_df"
   ]
  },
  {
   "cell_type": "code",
   "execution_count": 8,
   "metadata": {},
   "outputs": [],
   "source": [
    "clean_enroll_df.to_csv('../Enroll_Data/clean_enroll12_13.csv',index=True)"
   ]
  },
  {
   "cell_type": "code",
   "execution_count": null,
   "metadata": {},
   "outputs": [],
   "source": []
  }
 ],
 "metadata": {
  "kernelspec": {
   "display_name": "PythonData",
   "language": "python",
   "name": "pythondata"
  },
  "language_info": {
   "codemirror_mode": {
    "name": "ipython",
    "version": 3
   },
   "file_extension": ".py",
   "mimetype": "text/x-python",
   "name": "python",
   "nbconvert_exporter": "python",
   "pygments_lexer": "ipython3",
   "version": "3.7.4"
  }
 },
 "nbformat": 4,
 "nbformat_minor": 4
}
