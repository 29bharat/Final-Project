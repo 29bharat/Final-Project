{
 "cells": [
  {
   "cell_type": "code",
   "execution_count": 1,
   "metadata": {},
   "outputs": [],
   "source": [
    "#add dependencies\n",
    "import pandas as pd\n",
    "import zipfile"
   ]
  },
  {
   "cell_type": "code",
<<<<<<< HEAD
<<<<<<< HEAD
   "execution_count": 4,
=======
<<<<<<< HEAD
   "execution_count": 4,
=======
   "execution_count": 2,
>>>>>>> Helen
>>>>>>> 958d3b6f3a0d2c5e7972472b1df355b5c251e781
=======
   "execution_count": 2,
>>>>>>> 66edc7c026dc60249828aa6869a0944f4137744a
   "metadata": {},
   "outputs": [],
   "source": [
    "#Load file\n",
    "zf=zipfile.ZipFile(\"../Graduation '16-'17.zip\")\n"
   ]
  },
  {
   "cell_type": "code",
<<<<<<< HEAD
<<<<<<< HEAD
   "execution_count": 5,
=======
<<<<<<< HEAD
   "execution_count": 5,
=======
   "execution_count": 3,
>>>>>>> Helen
>>>>>>> 958d3b6f3a0d2c5e7972472b1df355b5c251e781
=======
   "execution_count": 3,
>>>>>>> 66edc7c026dc60249828aa6869a0944f4137744a
   "metadata": {},
   "outputs": [
    {
     "data": {
      "text/html": [
       "<div>\n",
       "<style scoped>\n",
       "    .dataframe tbody tr th:only-of-type {\n",
       "        vertical-align: middle;\n",
       "    }\n",
       "\n",
       "    .dataframe tbody tr th {\n",
       "        vertical-align: top;\n",
       "    }\n",
       "\n",
       "    .dataframe thead th {\n",
       "        text-align: right;\n",
       "    }\n",
       "</style>\n",
       "<table border=\"1\" class=\"dataframe\">\n",
       "  <thead>\n",
       "    <tr style=\"text-align: right;\">\n",
       "      <th></th>\n",
       "      <th>CDS_CODE</th>\n",
       "      <th>ETHNIC</th>\n",
       "      <th>GENDER</th>\n",
       "      <th>GRADS</th>\n",
       "      <th>UC_GRADS</th>\n",
       "      <th>YEAR</th>\n",
       "    </tr>\n",
       "  </thead>\n",
       "  <tbody>\n",
       "    <tr>\n",
       "      <th>0</th>\n",
       "      <td>1100170112607</td>\n",
       "      <td>1</td>\n",
       "      <td>M</td>\n",
       "      <td>1</td>\n",
       "      <td>1</td>\n",
       "      <td>1617</td>\n",
       "    </tr>\n",
       "    <tr>\n",
       "      <th>1</th>\n",
       "      <td>1100170112607</td>\n",
       "      <td>6</td>\n",
       "      <td>F</td>\n",
       "      <td>13</td>\n",
       "      <td>13</td>\n",
       "      <td>1617</td>\n",
       "    </tr>\n",
       "    <tr>\n",
       "      <th>2</th>\n",
       "      <td>1100170112607</td>\n",
       "      <td>6</td>\n",
       "      <td>M</td>\n",
       "      <td>11</td>\n",
       "      <td>11</td>\n",
       "      <td>1617</td>\n",
       "    </tr>\n",
       "    <tr>\n",
       "      <th>3</th>\n",
       "      <td>1100170112607</td>\n",
       "      <td>7</td>\n",
       "      <td>F</td>\n",
       "      <td>1</td>\n",
       "      <td>1</td>\n",
       "      <td>1617</td>\n",
       "    </tr>\n",
       "    <tr>\n",
       "      <th>4</th>\n",
       "      <td>1100170112607</td>\n",
       "      <td>7</td>\n",
       "      <td>M</td>\n",
       "      <td>4</td>\n",
       "      <td>4</td>\n",
       "      <td>1617</td>\n",
       "    </tr>\n",
       "    <tr>\n",
       "      <th>...</th>\n",
       "      <td>...</td>\n",
       "      <td>...</td>\n",
       "      <td>...</td>\n",
       "      <td>...</td>\n",
       "      <td>...</td>\n",
       "      <td>...</td>\n",
       "    </tr>\n",
       "    <tr>\n",
       "      <th>21602</th>\n",
       "      <td>58727695838305</td>\n",
       "      <td>0</td>\n",
       "      <td>F</td>\n",
       "      <td>2</td>\n",
       "      <td>1</td>\n",
       "      <td>1617</td>\n",
       "    </tr>\n",
       "    <tr>\n",
       "      <th>21603</th>\n",
       "      <td>58727695838305</td>\n",
       "      <td>0</td>\n",
       "      <td>M</td>\n",
       "      <td>1</td>\n",
       "      <td>1</td>\n",
       "      <td>1617</td>\n",
       "    </tr>\n",
       "    <tr>\n",
       "      <th>21604</th>\n",
       "      <td>58727695838305</td>\n",
       "      <td>5</td>\n",
       "      <td>F</td>\n",
       "      <td>20</td>\n",
       "      <td>15</td>\n",
       "      <td>1617</td>\n",
       "    </tr>\n",
       "    <tr>\n",
       "      <th>21605</th>\n",
       "      <td>58727695838305</td>\n",
       "      <td>5</td>\n",
       "      <td>M</td>\n",
       "      <td>29</td>\n",
       "      <td>17</td>\n",
       "      <td>1617</td>\n",
       "    </tr>\n",
       "    <tr>\n",
       "      <th>21606</th>\n",
       "      <td>58727695838305</td>\n",
       "      <td>7</td>\n",
       "      <td>M</td>\n",
       "      <td>38</td>\n",
       "      <td>14</td>\n",
       "      <td>1617</td>\n",
       "    </tr>\n",
       "  </tbody>\n",
       "</table>\n",
       "<p>21607 rows × 6 columns</p>\n",
       "</div>"
      ],
      "text/plain": [
       "             CDS_CODE  ETHNIC GENDER  GRADS  UC_GRADS  YEAR\n",
       "0       1100170112607       1      M      1         1  1617\n",
       "1       1100170112607       6      F     13        13  1617\n",
       "2       1100170112607       6      M     11        11  1617\n",
       "3       1100170112607       7      F      1         1  1617\n",
       "4       1100170112607       7      M      4         4  1617\n",
       "...               ...     ...    ...    ...       ...   ...\n",
       "21602  58727695838305       0      F      2         1  1617\n",
       "21603  58727695838305       0      M      1         1  1617\n",
       "21604  58727695838305       5      F     20        15  1617\n",
       "21605  58727695838305       5      M     29        17  1617\n",
       "21606  58727695838305       7      M     38        14  1617\n",
       "\n",
       "[21607 rows x 6 columns]"
      ]
     },
<<<<<<< HEAD
<<<<<<< HEAD
     "execution_count": 5,
=======
<<<<<<< HEAD
     "execution_count": 5,
=======
     "execution_count": 3,
>>>>>>> Helen
>>>>>>> 958d3b6f3a0d2c5e7972472b1df355b5c251e781
=======
     "execution_count": 3,
>>>>>>> 66edc7c026dc60249828aa6869a0944f4137744a
     "metadata": {},
     "output_type": "execute_result"
    }
   ],
   "source": [
    "grad_df=pd.read_excel(zf.open(\"Graduation '16-'17.xlsx\"))\n",
    "grad_df"
   ]
  },
  {
   "cell_type": "code",
<<<<<<< HEAD
<<<<<<< HEAD
   "execution_count": 6,
=======
<<<<<<< HEAD
   "execution_count": 6,
=======
   "execution_count": 4,
>>>>>>> Helen
>>>>>>> 958d3b6f3a0d2c5e7972472b1df355b5c251e781
=======
   "execution_count": 4,
>>>>>>> 66edc7c026dc60249828aa6869a0944f4137744a
   "metadata": {},
   "outputs": [
    {
     "data": {
      "text/plain": [
       "CDS_CODE    21607\n",
       "ETHNIC      21607\n",
       "GENDER      21607\n",
       "GRADS       21607\n",
       "UC_GRADS    21607\n",
       "YEAR        21607\n",
       "dtype: int64"
      ]
     },
<<<<<<< HEAD
<<<<<<< HEAD
     "execution_count": 6,
=======
<<<<<<< HEAD
     "execution_count": 6,
=======
     "execution_count": 4,
>>>>>>> Helen
>>>>>>> 958d3b6f3a0d2c5e7972472b1df355b5c251e781
=======
     "execution_count": 4,
>>>>>>> 66edc7c026dc60249828aa6869a0944f4137744a
     "metadata": {},
     "output_type": "execute_result"
    }
   ],
   "source": [
    "#Determine any missing values\n",
    "grad_df.dropna()\n",
    "grad_df.count()"
   ]
  },
  {
   "cell_type": "code",
<<<<<<< HEAD
<<<<<<< HEAD
   "execution_count": 7,
=======
<<<<<<< HEAD
   "execution_count": 7,
=======
   "execution_count": 5,
>>>>>>> Helen
>>>>>>> 958d3b6f3a0d2c5e7972472b1df355b5c251e781
=======
   "execution_count": 5,
>>>>>>> 66edc7c026dc60249828aa6869a0944f4137744a
   "metadata": {},
   "outputs": [
    {
     "data": {
      "text/plain": [
       "CDS_CODE     int64\n",
       "ETHNIC       int64\n",
       "GENDER      object\n",
       "GRADS        int64\n",
       "UC_GRADS     int64\n",
       "YEAR         int64\n",
       "dtype: object"
      ]
     },
<<<<<<< HEAD
<<<<<<< HEAD
     "execution_count": 7,
=======
<<<<<<< HEAD
     "execution_count": 7,
=======
     "execution_count": 5,
>>>>>>> Helen
>>>>>>> 958d3b6f3a0d2c5e7972472b1df355b5c251e781
=======
     "execution_count": 5,
>>>>>>> 66edc7c026dc60249828aa6869a0944f4137744a
     "metadata": {},
     "output_type": "execute_result"
    }
   ],
   "source": [
    "#Determine data types\n",
    "grad_df.dtypes"
   ]
  },
  {
   "cell_type": "code",
<<<<<<< HEAD
<<<<<<< HEAD
   "execution_count": 8,
=======
<<<<<<< HEAD
   "execution_count": 8,
=======
   "execution_count": 6,
>>>>>>> Helen
>>>>>>> 958d3b6f3a0d2c5e7972472b1df355b5c251e781
=======
   "execution_count": 6,
>>>>>>> 66edc7c026dc60249828aa6869a0944f4137744a
   "metadata": {},
   "outputs": [
    {
     "data": {
      "text/html": [
       "<div>\n",
       "<style scoped>\n",
       "    .dataframe tbody tr th:only-of-type {\n",
       "        vertical-align: middle;\n",
       "    }\n",
       "\n",
       "    .dataframe tbody tr th {\n",
       "        vertical-align: top;\n",
       "    }\n",
       "\n",
       "    .dataframe thead th {\n",
       "        text-align: right;\n",
       "    }\n",
       "</style>\n",
       "<table border=\"1\" class=\"dataframe\">\n",
       "  <thead>\n",
       "    <tr style=\"text-align: right;\">\n",
       "      <th></th>\n",
       "      <th>CDS_CODE</th>\n",
       "      <th>ETHNIC</th>\n",
       "      <th>GRADS</th>\n",
       "      <th>UC_GRADS</th>\n",
       "    </tr>\n",
       "  </thead>\n",
       "  <tbody>\n",
       "    <tr>\n",
       "      <th>0</th>\n",
       "      <td>1100170112607</td>\n",
       "      <td>1</td>\n",
       "      <td>1</td>\n",
       "      <td>1</td>\n",
       "    </tr>\n",
       "    <tr>\n",
       "      <th>1</th>\n",
       "      <td>1100170112607</td>\n",
       "      <td>6</td>\n",
       "      <td>13</td>\n",
       "      <td>13</td>\n",
       "    </tr>\n",
       "    <tr>\n",
       "      <th>2</th>\n",
       "      <td>1100170112607</td>\n",
       "      <td>6</td>\n",
       "      <td>11</td>\n",
       "      <td>11</td>\n",
       "    </tr>\n",
       "    <tr>\n",
       "      <th>3</th>\n",
       "      <td>1100170112607</td>\n",
       "      <td>7</td>\n",
       "      <td>1</td>\n",
       "      <td>1</td>\n",
       "    </tr>\n",
       "    <tr>\n",
       "      <th>4</th>\n",
       "      <td>1100170112607</td>\n",
       "      <td>7</td>\n",
       "      <td>4</td>\n",
       "      <td>4</td>\n",
       "    </tr>\n",
       "    <tr>\n",
       "      <th>...</th>\n",
       "      <td>...</td>\n",
       "      <td>...</td>\n",
       "      <td>...</td>\n",
       "      <td>...</td>\n",
       "    </tr>\n",
       "    <tr>\n",
       "      <th>21602</th>\n",
       "      <td>58727695838305</td>\n",
       "      <td>0</td>\n",
       "      <td>2</td>\n",
       "      <td>1</td>\n",
       "    </tr>\n",
       "    <tr>\n",
       "      <th>21603</th>\n",
       "      <td>58727695838305</td>\n",
       "      <td>0</td>\n",
       "      <td>1</td>\n",
       "      <td>1</td>\n",
       "    </tr>\n",
       "    <tr>\n",
       "      <th>21604</th>\n",
       "      <td>58727695838305</td>\n",
       "      <td>5</td>\n",
       "      <td>20</td>\n",
       "      <td>15</td>\n",
       "    </tr>\n",
       "    <tr>\n",
       "      <th>21605</th>\n",
       "      <td>58727695838305</td>\n",
       "      <td>5</td>\n",
       "      <td>29</td>\n",
       "      <td>17</td>\n",
       "    </tr>\n",
       "    <tr>\n",
       "      <th>21606</th>\n",
       "      <td>58727695838305</td>\n",
       "      <td>7</td>\n",
       "      <td>38</td>\n",
       "      <td>14</td>\n",
       "    </tr>\n",
       "  </tbody>\n",
       "</table>\n",
       "<p>21607 rows × 4 columns</p>\n",
       "</div>"
      ],
      "text/plain": [
       "             CDS_CODE  ETHNIC  GRADS  UC_GRADS\n",
       "0       1100170112607       1      1         1\n",
       "1       1100170112607       6     13        13\n",
       "2       1100170112607       6     11        11\n",
       "3       1100170112607       7      1         1\n",
       "4       1100170112607       7      4         4\n",
       "...               ...     ...    ...       ...\n",
       "21602  58727695838305       0      2         1\n",
       "21603  58727695838305       0      1         1\n",
       "21604  58727695838305       5     20        15\n",
       "21605  58727695838305       5     29        17\n",
       "21606  58727695838305       7     38        14\n",
       "\n",
       "[21607 rows x 4 columns]"
      ]
     },
<<<<<<< HEAD
<<<<<<< HEAD
     "execution_count": 8,
=======
<<<<<<< HEAD
     "execution_count": 8,
=======
     "execution_count": 6,
>>>>>>> Helen
>>>>>>> 958d3b6f3a0d2c5e7972472b1df355b5c251e781
=======
     "execution_count": 6,
>>>>>>> 66edc7c026dc60249828aa6869a0944f4137744a
     "metadata": {},
     "output_type": "execute_result"
    }
   ],
   "source": [
    "#keep wanted columns\n",
    "grad_df=grad_df[['CDS_CODE','ETHNIC','GRADS','UC_GRADS']]\n",
    "grad_df"
   ]
  },
  {
   "cell_type": "code",
<<<<<<< HEAD
<<<<<<< HEAD
   "execution_count": 9,
=======
<<<<<<< HEAD
   "execution_count": 9,
=======
   "execution_count": 7,
>>>>>>> Helen
>>>>>>> 958d3b6f3a0d2c5e7972472b1df355b5c251e781
=======
   "execution_count": 7,
>>>>>>> 66edc7c026dc60249828aa6869a0944f4137744a
   "metadata": {},
   "outputs": [
    {
     "name": "stderr",
     "output_type": "stream",
     "text": [
      "C:\\Users\\hhngu\\AppData\\Roaming\\Python\\Python37\\site-packages\\ipykernel_launcher.py:2: SettingWithCopyWarning: \n",
      "A value is trying to be set on a copy of a slice from a DataFrame.\n",
      "Try using .loc[row_indexer,col_indexer] = value instead\n",
      "\n",
      "See the caveats in the documentation: https://pandas.pydata.org/pandas-docs/stable/user_guide/indexing.html#returning-a-view-versus-a-copy\n",
      "  \n"
     ]
    },
    {
     "data": {
      "text/html": [
       "<div>\n",
       "<style scoped>\n",
       "    .dataframe tbody tr th:only-of-type {\n",
       "        vertical-align: middle;\n",
       "    }\n",
       "\n",
       "    .dataframe tbody tr th {\n",
       "        vertical-align: top;\n",
       "    }\n",
       "\n",
       "    .dataframe thead th {\n",
       "        text-align: right;\n",
       "    }\n",
       "</style>\n",
       "<table border=\"1\" class=\"dataframe\">\n",
       "  <thead>\n",
       "    <tr style=\"text-align: right;\">\n",
       "      <th></th>\n",
       "      <th>CDS_CODE</th>\n",
       "      <th>ETHNIC</th>\n",
       "      <th>GRADS</th>\n",
       "      <th>UC_GRADS</th>\n",
       "    </tr>\n",
       "  </thead>\n",
       "  <tbody>\n",
       "    <tr>\n",
       "      <th>0</th>\n",
       "      <td>1100170112607</td>\n",
       "      <td>1</td>\n",
       "      <td>1</td>\n",
       "      <td>1</td>\n",
       "    </tr>\n",
       "    <tr>\n",
       "      <th>1</th>\n",
       "      <td>1100170112607</td>\n",
       "      <td>6</td>\n",
       "      <td>13</td>\n",
       "      <td>13</td>\n",
       "    </tr>\n",
       "    <tr>\n",
       "      <th>2</th>\n",
       "      <td>1100170112607</td>\n",
       "      <td>6</td>\n",
       "      <td>11</td>\n",
       "      <td>11</td>\n",
       "    </tr>\n",
       "    <tr>\n",
       "      <th>3</th>\n",
       "      <td>1100170112607</td>\n",
       "      <td>7</td>\n",
       "      <td>1</td>\n",
       "      <td>1</td>\n",
       "    </tr>\n",
       "    <tr>\n",
       "      <th>4</th>\n",
       "      <td>1100170112607</td>\n",
       "      <td>7</td>\n",
       "      <td>4</td>\n",
       "      <td>4</td>\n",
       "    </tr>\n",
       "    <tr>\n",
       "      <th>5</th>\n",
       "      <td>1100170112607</td>\n",
       "      <td>2</td>\n",
       "      <td>1</td>\n",
       "      <td>1</td>\n",
       "    </tr>\n",
       "    <tr>\n",
       "      <th>6</th>\n",
       "      <td>1100170112607</td>\n",
       "      <td>5</td>\n",
       "      <td>18</td>\n",
       "      <td>18</td>\n",
       "    </tr>\n",
       "    <tr>\n",
       "      <th>7</th>\n",
       "      <td>1100170112607</td>\n",
       "      <td>5</td>\n",
       "      <td>19</td>\n",
       "      <td>19</td>\n",
       "    </tr>\n",
       "    <tr>\n",
       "      <th>8</th>\n",
       "      <td>1100170112607</td>\n",
       "      <td>2</td>\n",
       "      <td>1</td>\n",
       "      <td>1</td>\n",
       "    </tr>\n",
       "    <tr>\n",
       "      <th>9</th>\n",
       "      <td>1100170130401</td>\n",
       "      <td>5</td>\n",
       "      <td>9</td>\n",
       "      <td>0</td>\n",
       "    </tr>\n",
       "    <tr>\n",
       "      <th>10</th>\n",
       "      <td>1100170130401</td>\n",
       "      <td>3</td>\n",
       "      <td>1</td>\n",
       "      <td>0</td>\n",
       "    </tr>\n",
       "  </tbody>\n",
       "</table>\n",
       "</div>"
      ],
      "text/plain": [
       "         CDS_CODE  ETHNIC  GRADS  UC_GRADS\n",
       "0   1100170112607       1      1         1\n",
       "1   1100170112607       6     13        13\n",
       "2   1100170112607       6     11        11\n",
       "3   1100170112607       7      1         1\n",
       "4   1100170112607       7      4         4\n",
       "5   1100170112607       2      1         1\n",
       "6   1100170112607       5     18        18\n",
       "7   1100170112607       5     19        19\n",
       "8   1100170112607       2      1         1\n",
       "9   1100170130401       5      9         0\n",
       "10  1100170130401       3      1         0"
      ]
     },
<<<<<<< HEAD
<<<<<<< HEAD
     "execution_count": 9,
=======
<<<<<<< HEAD
     "execution_count": 9,
=======
     "execution_count": 7,
>>>>>>> Helen
>>>>>>> 958d3b6f3a0d2c5e7972472b1df355b5c251e781
=======
     "execution_count": 7,
>>>>>>> 66edc7c026dc60249828aa6869a0944f4137744a
     "metadata": {},
     "output_type": "execute_result"
    }
   ],
   "source": [
    "#convert CDS_CODE to int\n",
    "grad_df['CDS_CODE'] = grad_df['CDS_CODE'].astype('int64') \n",
    "grad_df.head(11)"
   ]
  },
  {
   "cell_type": "code",
<<<<<<< HEAD
<<<<<<< HEAD
   "execution_count": 10,
=======
<<<<<<< HEAD
   "execution_count": 10,
=======
   "execution_count": 8,
>>>>>>> Helen
>>>>>>> 958d3b6f3a0d2c5e7972472b1df355b5c251e781
=======
   "execution_count": 8,
>>>>>>> 66edc7c026dc60249828aa6869a0944f4137744a
   "metadata": {},
   "outputs": [
    {
     "data": {
      "text/html": [
       "<div>\n",
       "<style scoped>\n",
       "    .dataframe tbody tr th:only-of-type {\n",
       "        vertical-align: middle;\n",
       "    }\n",
       "\n",
       "    .dataframe tbody tr th {\n",
       "        vertical-align: top;\n",
       "    }\n",
       "\n",
       "    .dataframe thead th {\n",
       "        text-align: right;\n",
       "    }\n",
       "</style>\n",
       "<table border=\"1\" class=\"dataframe\">\n",
       "  <thead>\n",
       "    <tr style=\"text-align: right;\">\n",
       "      <th></th>\n",
       "      <th></th>\n",
       "      <th>GRADS</th>\n",
       "      <th>UC_GRADS</th>\n",
       "    </tr>\n",
       "    <tr>\n",
       "      <th>CDS_CODE</th>\n",
       "      <th>ETHNIC</th>\n",
       "      <th></th>\n",
       "      <th></th>\n",
       "    </tr>\n",
       "  </thead>\n",
       "  <tbody>\n",
       "    <tr>\n",
       "      <th rowspan=\"5\" valign=\"top\">1100170112607</th>\n",
       "      <th>1</th>\n",
       "      <td>1</td>\n",
       "      <td>1</td>\n",
       "    </tr>\n",
       "    <tr>\n",
       "      <th>2</th>\n",
       "      <td>2</td>\n",
       "      <td>2</td>\n",
       "    </tr>\n",
       "    <tr>\n",
       "      <th>5</th>\n",
       "      <td>37</td>\n",
       "      <td>37</td>\n",
       "    </tr>\n",
       "    <tr>\n",
       "      <th>6</th>\n",
       "      <td>24</td>\n",
       "      <td>24</td>\n",
       "    </tr>\n",
       "    <tr>\n",
       "      <th>7</th>\n",
       "      <td>5</td>\n",
       "      <td>5</td>\n",
       "    </tr>\n",
       "    <tr>\n",
       "      <th rowspan=\"6\" valign=\"top\">1100170130401</th>\n",
       "      <th>3</th>\n",
       "      <td>1</td>\n",
       "      <td>0</td>\n",
       "    </tr>\n",
       "    <tr>\n",
       "      <th>4</th>\n",
       "      <td>1</td>\n",
       "      <td>0</td>\n",
       "    </tr>\n",
       "    <tr>\n",
       "      <th>5</th>\n",
       "      <td>10</td>\n",
       "      <td>0</td>\n",
       "    </tr>\n",
       "    <tr>\n",
       "      <th>6</th>\n",
       "      <td>17</td>\n",
       "      <td>0</td>\n",
       "    </tr>\n",
       "    <tr>\n",
       "      <th>7</th>\n",
       "      <td>1</td>\n",
       "      <td>0</td>\n",
       "    </tr>\n",
       "    <tr>\n",
       "      <th>9</th>\n",
       "      <td>4</td>\n",
       "      <td>0</td>\n",
       "    </tr>\n",
       "  </tbody>\n",
       "</table>\n",
       "</div>"
      ],
      "text/plain": [
       "                      GRADS  UC_GRADS\n",
       "CDS_CODE      ETHNIC                 \n",
       "1100170112607 1           1         1\n",
       "              2           2         2\n",
       "              5          37        37\n",
       "              6          24        24\n",
       "              7           5         5\n",
       "1100170130401 3           1         0\n",
       "              4           1         0\n",
       "              5          10         0\n",
       "              6          17         0\n",
       "              7           1         0\n",
       "              9           4         0"
      ]
     },
<<<<<<< HEAD
<<<<<<< HEAD
     "execution_count": 10,
=======
<<<<<<< HEAD
     "execution_count": 10,
=======
     "execution_count": 8,
>>>>>>> Helen
>>>>>>> 958d3b6f3a0d2c5e7972472b1df355b5c251e781
=======
     "execution_count": 8,
>>>>>>> 66edc7c026dc60249828aa6869a0944f4137744a
     "metadata": {},
     "output_type": "execute_result"
    }
   ],
   "source": [
    "#Group and sort by CDS and ethnic\n",
    "grad_df=grad_df.groupby(['CDS_CODE','ETHNIC']).sum()\n",
    "grad_df=grad_df.sort_values(by=['CDS_CODE','ETHNIC'])\n",
    "grad_df.head(11)"
   ]
  },
  {
   "cell_type": "code",
<<<<<<< HEAD
<<<<<<< HEAD
   "execution_count": 11,
=======
<<<<<<< HEAD
   "execution_count": 11,
=======
   "execution_count": 9,
>>>>>>> Helen
>>>>>>> 958d3b6f3a0d2c5e7972472b1df355b5c251e781
=======
   "execution_count": 9,
>>>>>>> 66edc7c026dc60249828aa6869a0944f4137744a
   "metadata": {},
   "outputs": [],
   "source": [
    "grad_df.to_csv('../Grad_Data/grad_1617.csv')"
   ]
  },
  {
   "cell_type": "markdown",
   "metadata": {},
   "source": [
    "## Enrollment Data"
   ]
  },
  {
   "cell_type": "code",
<<<<<<< HEAD
<<<<<<< HEAD
   "execution_count": 12,
=======
<<<<<<< HEAD
   "execution_count": 12,
=======
   "execution_count": 10,
>>>>>>> Helen
>>>>>>> 958d3b6f3a0d2c5e7972472b1df355b5c251e781
=======
   "execution_count": 10,
>>>>>>> 66edc7c026dc60249828aa6869a0944f4137744a
   "metadata": {},
   "outputs": [
    {
     "data": {
      "text/html": [
       "<div>\n",
       "<style scoped>\n",
       "    .dataframe tbody tr th:only-of-type {\n",
       "        vertical-align: middle;\n",
       "    }\n",
       "\n",
       "    .dataframe tbody tr th {\n",
       "        vertical-align: top;\n",
       "    }\n",
       "\n",
       "    .dataframe thead th {\n",
       "        text-align: right;\n",
       "    }\n",
       "</style>\n",
       "<table border=\"1\" class=\"dataframe\">\n",
       "  <thead>\n",
       "    <tr style=\"text-align: right;\">\n",
       "      <th></th>\n",
       "      <th>CDS_CODE</th>\n",
       "      <th>ETHNIC</th>\n",
       "      <th>DISTRICT</th>\n",
       "      <th>GENDER</th>\n",
       "      <th>GR_12</th>\n",
       "      <th>ENR_TOTAL</th>\n",
       "    </tr>\n",
       "  </thead>\n",
       "  <tbody>\n",
       "    <tr>\n",
       "      <th>0</th>\n",
       "      <td>1100170000000</td>\n",
       "      <td>0</td>\n",
       "      <td>Alameda County Office of Education</td>\n",
       "      <td>F</td>\n",
       "      <td>0</td>\n",
       "      <td>2</td>\n",
       "    </tr>\n",
       "    <tr>\n",
       "      <th>1</th>\n",
       "      <td>1100170000000</td>\n",
       "      <td>0</td>\n",
       "      <td>Alameda County Office of Education</td>\n",
       "      <td>M</td>\n",
       "      <td>0</td>\n",
       "      <td>7</td>\n",
       "    </tr>\n",
       "    <tr>\n",
       "      <th>2</th>\n",
       "      <td>1100170000000</td>\n",
       "      <td>1</td>\n",
       "      <td>Alameda County Office of Education</td>\n",
       "      <td>F</td>\n",
       "      <td>2</td>\n",
       "      <td>11</td>\n",
       "    </tr>\n",
       "    <tr>\n",
       "      <th>3</th>\n",
       "      <td>1100170000000</td>\n",
       "      <td>1</td>\n",
       "      <td>Alameda County Office of Education</td>\n",
       "      <td>M</td>\n",
       "      <td>1</td>\n",
       "      <td>5</td>\n",
       "    </tr>\n",
       "    <tr>\n",
       "      <th>4</th>\n",
       "      <td>1100170000000</td>\n",
       "      <td>2</td>\n",
       "      <td>Alameda County Office of Education</td>\n",
       "      <td>F</td>\n",
       "      <td>3</td>\n",
       "      <td>151</td>\n",
       "    </tr>\n",
       "    <tr>\n",
       "      <th>...</th>\n",
       "      <td>...</td>\n",
       "      <td>...</td>\n",
       "      <td>...</td>\n",
       "      <td>...</td>\n",
       "      <td>...</td>\n",
       "      <td>...</td>\n",
       "    </tr>\n",
       "    <tr>\n",
       "      <th>15488</th>\n",
       "      <td>58727700000000</td>\n",
       "      <td>6</td>\n",
       "      <td>Wheatland Union High</td>\n",
       "      <td>M</td>\n",
       "      <td>3</td>\n",
       "      <td>9</td>\n",
       "    </tr>\n",
       "    <tr>\n",
       "      <th>15489</th>\n",
       "      <td>58727700000000</td>\n",
       "      <td>7</td>\n",
       "      <td>Wheatland Union High</td>\n",
       "      <td>F</td>\n",
       "      <td>25</td>\n",
       "      <td>159</td>\n",
       "    </tr>\n",
       "    <tr>\n",
       "      <th>15490</th>\n",
       "      <td>58727700000000</td>\n",
       "      <td>7</td>\n",
       "      <td>Wheatland Union High</td>\n",
       "      <td>M</td>\n",
       "      <td>51</td>\n",
       "      <td>217</td>\n",
       "    </tr>\n",
       "    <tr>\n",
       "      <th>15491</th>\n",
       "      <td>58727700000000</td>\n",
       "      <td>9</td>\n",
       "      <td>Wheatland Union High</td>\n",
       "      <td>F</td>\n",
       "      <td>5</td>\n",
       "      <td>52</td>\n",
       "    </tr>\n",
       "    <tr>\n",
       "      <th>15492</th>\n",
       "      <td>58727700000000</td>\n",
       "      <td>9</td>\n",
       "      <td>Wheatland Union High</td>\n",
       "      <td>M</td>\n",
       "      <td>3</td>\n",
       "      <td>40</td>\n",
       "    </tr>\n",
       "  </tbody>\n",
       "</table>\n",
       "<p>15493 rows × 6 columns</p>\n",
       "</div>"
      ],
      "text/plain": [
       "             CDS_CODE  ETHNIC                            DISTRICT GENDER  \\\n",
       "0       1100170000000       0  Alameda County Office of Education      F   \n",
       "1       1100170000000       0  Alameda County Office of Education      M   \n",
       "2       1100170000000       1  Alameda County Office of Education      F   \n",
       "3       1100170000000       1  Alameda County Office of Education      M   \n",
       "4       1100170000000       2  Alameda County Office of Education      F   \n",
       "...               ...     ...                                 ...    ...   \n",
       "15488  58727700000000       6                Wheatland Union High      M   \n",
       "15489  58727700000000       7                Wheatland Union High      F   \n",
       "15490  58727700000000       7                Wheatland Union High      M   \n",
       "15491  58727700000000       9                Wheatland Union High      F   \n",
       "15492  58727700000000       9                Wheatland Union High      M   \n",
       "\n",
       "       GR_12  ENR_TOTAL  \n",
       "0          0          2  \n",
       "1          0          7  \n",
       "2          2         11  \n",
       "3          1          5  \n",
       "4          3        151  \n",
       "...      ...        ...  \n",
       "15488      3          9  \n",
       "15489     25        159  \n",
       "15490     51        217  \n",
       "15491      5         52  \n",
       "15492      3         40  \n",
       "\n",
       "[15493 rows x 6 columns]"
      ]
     },
<<<<<<< HEAD
<<<<<<< HEAD
     "execution_count": 12,
=======
<<<<<<< HEAD
     "execution_count": 12,
=======
     "execution_count": 10,
>>>>>>> Helen
>>>>>>> 958d3b6f3a0d2c5e7972472b1df355b5c251e781
=======
     "execution_count": 10,
>>>>>>> 66edc7c026dc60249828aa6869a0944f4137744a
     "metadata": {},
     "output_type": "execute_result"
    }
   ],
   "source": [
    "#load enrollment data\n",
    "clean_enroll=pd.read_csv(\"../../Enrollment Data/Enroll_Data/clean_enroll16_17.csv\")\n",
    "clean_enroll"
   ]
  },
  {
   "cell_type": "code",
   "execution_count": 13,
<<<<<<< HEAD
=======
<<<<<<< HEAD
   "execution_count": 13,
=======
   "execution_count": 11,
>>>>>>> Helen
>>>>>>> 958d3b6f3a0d2c5e7972472b1df355b5c251e781
=======
>>>>>>> 66edc7c026dc60249828aa6869a0944f4137744a
   "metadata": {},
   "outputs": [
    {
     "data": {
      "text/html": [
       "<div>\n",
       "<style scoped>\n",
       "    .dataframe tbody tr th:only-of-type {\n",
       "        vertical-align: middle;\n",
       "    }\n",
       "\n",
       "    .dataframe tbody tr th {\n",
       "        vertical-align: top;\n",
       "    }\n",
       "\n",
       "    .dataframe thead th {\n",
       "        text-align: right;\n",
       "    }\n",
       "</style>\n",
       "<table border=\"1\" class=\"dataframe\">\n",
       "  <thead>\n",
       "    <tr style=\"text-align: right;\">\n",
       "      <th></th>\n",
       "      <th>CDS_CODE</th>\n",
       "      <th>DISTRICT</th>\n",
       "      <th>ETHNIC</th>\n",
       "      <th>GR_12</th>\n",
       "      <th>ENR_TOTAL</th>\n",
       "    </tr>\n",
       "  </thead>\n",
       "  <tbody>\n",
       "    <tr>\n",
       "      <th>0</th>\n",
       "      <td>1100170000000</td>\n",
       "      <td>Alameda County Office of Education</td>\n",
       "      <td>0</td>\n",
       "      <td>0</td>\n",
       "      <td>2</td>\n",
       "    </tr>\n",
       "    <tr>\n",
       "      <th>1</th>\n",
       "      <td>1100170000000</td>\n",
       "      <td>Alameda County Office of Education</td>\n",
       "      <td>0</td>\n",
       "      <td>0</td>\n",
       "      <td>7</td>\n",
       "    </tr>\n",
       "    <tr>\n",
       "      <th>2</th>\n",
       "      <td>1100170000000</td>\n",
       "      <td>Alameda County Office of Education</td>\n",
       "      <td>1</td>\n",
       "      <td>2</td>\n",
       "      <td>11</td>\n",
       "    </tr>\n",
       "    <tr>\n",
       "      <th>3</th>\n",
       "      <td>1100170000000</td>\n",
       "      <td>Alameda County Office of Education</td>\n",
       "      <td>1</td>\n",
       "      <td>1</td>\n",
       "      <td>5</td>\n",
       "    </tr>\n",
       "    <tr>\n",
       "      <th>4</th>\n",
       "      <td>1100170000000</td>\n",
       "      <td>Alameda County Office of Education</td>\n",
       "      <td>2</td>\n",
       "      <td>3</td>\n",
       "      <td>151</td>\n",
       "    </tr>\n",
       "    <tr>\n",
       "      <th>...</th>\n",
       "      <td>...</td>\n",
       "      <td>...</td>\n",
       "      <td>...</td>\n",
       "      <td>...</td>\n",
       "      <td>...</td>\n",
       "    </tr>\n",
       "    <tr>\n",
       "      <th>15488</th>\n",
       "      <td>58727700000000</td>\n",
       "      <td>Wheatland Union High</td>\n",
       "      <td>6</td>\n",
       "      <td>3</td>\n",
       "      <td>9</td>\n",
       "    </tr>\n",
       "    <tr>\n",
       "      <th>15489</th>\n",
       "      <td>58727700000000</td>\n",
       "      <td>Wheatland Union High</td>\n",
       "      <td>7</td>\n",
       "      <td>25</td>\n",
       "      <td>159</td>\n",
       "    </tr>\n",
       "    <tr>\n",
       "      <th>15490</th>\n",
       "      <td>58727700000000</td>\n",
       "      <td>Wheatland Union High</td>\n",
       "      <td>7</td>\n",
       "      <td>51</td>\n",
       "      <td>217</td>\n",
       "    </tr>\n",
       "    <tr>\n",
       "      <th>15491</th>\n",
       "      <td>58727700000000</td>\n",
       "      <td>Wheatland Union High</td>\n",
       "      <td>9</td>\n",
       "      <td>5</td>\n",
       "      <td>52</td>\n",
       "    </tr>\n",
       "    <tr>\n",
       "      <th>15492</th>\n",
       "      <td>58727700000000</td>\n",
       "      <td>Wheatland Union High</td>\n",
       "      <td>9</td>\n",
       "      <td>3</td>\n",
       "      <td>40</td>\n",
       "    </tr>\n",
       "  </tbody>\n",
       "</table>\n",
       "<p>15493 rows × 5 columns</p>\n",
       "</div>"
      ],
      "text/plain": [
       "             CDS_CODE                            DISTRICT  ETHNIC  GR_12  \\\n",
       "0       1100170000000  Alameda County Office of Education       0      0   \n",
       "1       1100170000000  Alameda County Office of Education       0      0   \n",
       "2       1100170000000  Alameda County Office of Education       1      2   \n",
       "3       1100170000000  Alameda County Office of Education       1      1   \n",
       "4       1100170000000  Alameda County Office of Education       2      3   \n",
       "...               ...                                 ...     ...    ...   \n",
       "15488  58727700000000                Wheatland Union High       6      3   \n",
       "15489  58727700000000                Wheatland Union High       7     25   \n",
       "15490  58727700000000                Wheatland Union High       7     51   \n",
       "15491  58727700000000                Wheatland Union High       9      5   \n",
       "15492  58727700000000                Wheatland Union High       9      3   \n",
       "\n",
       "       ENR_TOTAL  \n",
       "0              2  \n",
       "1              7  \n",
       "2             11  \n",
       "3              5  \n",
       "4            151  \n",
       "...          ...  \n",
       "15488          9  \n",
       "15489        159  \n",
       "15490        217  \n",
       "15491         52  \n",
       "15492         40  \n",
       "\n",
       "[15493 rows x 5 columns]"
      ]
     },
     "execution_count": 13,
     "metadata": {},
     "output_type": "execute_result"
    }
   ],
   "source": [
    "#group and sort by ethnic\n",
    "clean_enroll=clean_enroll[['CDS_CODE','DISTRICT','ETHNIC','GR_12','ENR_TOTAL']]\n",
    "#clean_enroll_no_ethnic=clean_enroll[['CDS_CODE','GR_12','ENR_TOTAL']]\n",
    "#clean_enroll=clean_enroll.groupby(['CDS_CODE','ETHNIC']).sum()\n",
    "#clean_enroll=clean_enroll.sort_values(by=['CDS_CODE','ETHNIC'])\n",
    "clean_enroll"
   ]
  },
  {
   "cell_type": "code",
   "execution_count": 14,
   "metadata": {},
   "outputs": [
    {
     "data": {
      "text/html": [
       "<div>\n",
       "<style scoped>\n",
       "    .dataframe tbody tr th:only-of-type {\n",
       "        vertical-align: middle;\n",
       "    }\n",
       "\n",
       "    .dataframe tbody tr th {\n",
       "        vertical-align: top;\n",
       "    }\n",
       "\n",
       "    .dataframe thead th {\n",
       "        text-align: right;\n",
       "    }\n",
       "</style>\n",
       "<table border=\"1\" class=\"dataframe\">\n",
       "  <thead>\n",
       "    <tr style=\"text-align: right;\">\n",
       "      <th></th>\n",
       "      <th>CDS_CODE</th>\n",
       "      <th>DISTRICT</th>\n",
       "      <th>ETHNIC</th>\n",
       "      <th>GR_12</th>\n",
       "      <th>ENR_TOTAL</th>\n",
       "      <th>GRADS</th>\n",
       "      <th>UC_GRADS</th>\n",
       "    </tr>\n",
       "  </thead>\n",
       "  <tbody>\n",
       "    <tr>\n",
       "      <th>0</th>\n",
       "      <td>1751010000000</td>\n",
       "      <td>Pleasanton Unified</td>\n",
       "      <td>2</td>\n",
       "      <td>196</td>\n",
       "      <td>864</td>\n",
       "      <td>3</td>\n",
       "      <td>0</td>\n",
       "    </tr>\n",
       "    <tr>\n",
       "      <th>1</th>\n",
       "      <td>1751010000000</td>\n",
       "      <td>Pleasanton Unified</td>\n",
       "      <td>2</td>\n",
       "      <td>238</td>\n",
       "      <td>971</td>\n",
       "      <td>3</td>\n",
       "      <td>0</td>\n",
       "    </tr>\n",
       "    <tr>\n",
       "      <th>2</th>\n",
       "      <td>1751010000000</td>\n",
       "      <td>Pleasanton Unified</td>\n",
       "      <td>5</td>\n",
       "      <td>50</td>\n",
       "      <td>230</td>\n",
       "      <td>1</td>\n",
       "      <td>0</td>\n",
       "    </tr>\n",
       "    <tr>\n",
       "      <th>3</th>\n",
       "      <td>1751010000000</td>\n",
       "      <td>Pleasanton Unified</td>\n",
       "      <td>5</td>\n",
       "      <td>64</td>\n",
       "      <td>249</td>\n",
       "      <td>1</td>\n",
       "      <td>0</td>\n",
       "    </tr>\n",
       "    <tr>\n",
       "      <th>4</th>\n",
       "      <td>1751010000000</td>\n",
       "      <td>Pleasanton Unified</td>\n",
       "      <td>7</td>\n",
       "      <td>293</td>\n",
       "      <td>1107</td>\n",
       "      <td>11</td>\n",
       "      <td>1</td>\n",
       "    </tr>\n",
       "    <tr>\n",
       "      <th>5</th>\n",
       "      <td>1751010000000</td>\n",
       "      <td>Pleasanton Unified</td>\n",
       "      <td>7</td>\n",
       "      <td>336</td>\n",
       "      <td>1208</td>\n",
       "      <td>11</td>\n",
       "      <td>1</td>\n",
       "    </tr>\n",
       "    <tr>\n",
       "      <th>6</th>\n",
       "      <td>7617540000000</td>\n",
       "      <td>Mt. Diablo Unified</td>\n",
       "      <td>5</td>\n",
       "      <td>460</td>\n",
       "      <td>1862</td>\n",
       "      <td>1</td>\n",
       "      <td>0</td>\n",
       "    </tr>\n",
       "    <tr>\n",
       "      <th>7</th>\n",
       "      <td>7617540000000</td>\n",
       "      <td>Mt. Diablo Unified</td>\n",
       "      <td>5</td>\n",
       "      <td>522</td>\n",
       "      <td>2121</td>\n",
       "      <td>1</td>\n",
       "      <td>0</td>\n",
       "    </tr>\n",
       "    <tr>\n",
       "      <th>8</th>\n",
       "      <td>7617960000000</td>\n",
       "      <td>West Contra Costa Unified</td>\n",
       "      <td>5</td>\n",
       "      <td>611</td>\n",
       "      <td>3254</td>\n",
       "      <td>6</td>\n",
       "      <td>0</td>\n",
       "    </tr>\n",
       "    <tr>\n",
       "      <th>9</th>\n",
       "      <td>7617960000000</td>\n",
       "      <td>West Contra Costa Unified</td>\n",
       "      <td>5</td>\n",
       "      <td>655</td>\n",
       "      <td>3376</td>\n",
       "      <td>6</td>\n",
       "      <td>0</td>\n",
       "    </tr>\n",
       "    <tr>\n",
       "      <th>10</th>\n",
       "      <td>7617960000000</td>\n",
       "      <td>West Contra Costa Unified</td>\n",
       "      <td>6</td>\n",
       "      <td>189</td>\n",
       "      <td>940</td>\n",
       "      <td>5</td>\n",
       "      <td>0</td>\n",
       "    </tr>\n",
       "  </tbody>\n",
       "</table>\n",
       "</div>"
      ],
      "text/plain": [
       "         CDS_CODE                   DISTRICT  ETHNIC  GR_12  ENR_TOTAL  GRADS  \\\n",
       "0   1751010000000         Pleasanton Unified       2    196        864      3   \n",
       "1   1751010000000         Pleasanton Unified       2    238        971      3   \n",
       "2   1751010000000         Pleasanton Unified       5     50        230      1   \n",
       "3   1751010000000         Pleasanton Unified       5     64        249      1   \n",
       "4   1751010000000         Pleasanton Unified       7    293       1107     11   \n",
       "5   1751010000000         Pleasanton Unified       7    336       1208     11   \n",
       "6   7617540000000         Mt. Diablo Unified       5    460       1862      1   \n",
       "7   7617540000000         Mt. Diablo Unified       5    522       2121      1   \n",
       "8   7617960000000  West Contra Costa Unified       5    611       3254      6   \n",
       "9   7617960000000  West Contra Costa Unified       5    655       3376      6   \n",
       "10  7617960000000  West Contra Costa Unified       6    189        940      5   \n",
       "\n",
       "    UC_GRADS  \n",
       "0          0  \n",
       "1          0  \n",
       "2          0  \n",
       "3          0  \n",
       "4          1  \n",
       "5          1  \n",
       "6          0  \n",
       "7          0  \n",
       "8          0  \n",
       "9          0  \n",
       "10         0  "
      ]
     },
<<<<<<< HEAD
<<<<<<< HEAD
     "execution_count": 13,
=======
<<<<<<< HEAD
     "execution_count": 13,
=======
     "execution_count": 11,
>>>>>>> Helen
>>>>>>> 958d3b6f3a0d2c5e7972472b1df355b5c251e781
=======
     "execution_count": 14,
>>>>>>> 66edc7c026dc60249828aa6869a0944f4137744a
     "metadata": {},
     "output_type": "execute_result"
    }
   ],
   "source": [
    "#merge data\n",
    "enroll_grad_df=pd.merge(clean_enroll, grad_df, on =['CDS_CODE','ETHNIC'])\n",
    "enroll_grad_df.head(11)"
   ]
  },
  {
   "cell_type": "code",
<<<<<<< HEAD
<<<<<<< HEAD
   "execution_count": 14,
=======
<<<<<<< HEAD
   "execution_count": 14,
=======
   "execution_count": 12,
>>>>>>> Helen
>>>>>>> 958d3b6f3a0d2c5e7972472b1df355b5c251e781
=======
   "execution_count": 15,
>>>>>>> 66edc7c026dc60249828aa6869a0944f4137744a
   "metadata": {},
   "outputs": [
    {
     "data": {
      "text/html": [
       "<div>\n",
       "<style scoped>\n",
       "    .dataframe tbody tr th:only-of-type {\n",
       "        vertical-align: middle;\n",
       "    }\n",
       "\n",
       "    .dataframe tbody tr th {\n",
       "        vertical-align: top;\n",
       "    }\n",
       "\n",
       "    .dataframe thead th {\n",
       "        text-align: right;\n",
       "    }\n",
       "</style>\n",
       "<table border=\"1\" class=\"dataframe\">\n",
       "  <thead>\n",
       "    <tr style=\"text-align: right;\">\n",
       "      <th></th>\n",
       "      <th></th>\n",
       "      <th></th>\n",
       "      <th>GR_12</th>\n",
       "      <th>ENR_TOTAL</th>\n",
       "      <th>GRADS</th>\n",
       "      <th>UC_GRADS</th>\n",
       "    </tr>\n",
       "    <tr>\n",
       "      <th>CDS_CODE</th>\n",
       "      <th>DISTRICT</th>\n",
       "      <th>ETHNIC</th>\n",
       "      <th></th>\n",
       "      <th></th>\n",
       "      <th></th>\n",
       "      <th></th>\n",
       "    </tr>\n",
       "  </thead>\n",
       "  <tbody>\n",
       "    <tr>\n",
       "      <th rowspan=\"3\" valign=\"top\">1751010000000</th>\n",
       "      <th rowspan=\"3\" valign=\"top\">Pleasanton Unified</th>\n",
       "      <th>2</th>\n",
       "      <td>434</td>\n",
       "      <td>1835</td>\n",
       "      <td>6</td>\n",
       "      <td>0</td>\n",
       "    </tr>\n",
       "    <tr>\n",
       "      <th>5</th>\n",
       "      <td>114</td>\n",
       "      <td>479</td>\n",
       "      <td>2</td>\n",
       "      <td>0</td>\n",
       "    </tr>\n",
       "    <tr>\n",
       "      <th>7</th>\n",
       "      <td>629</td>\n",
       "      <td>2315</td>\n",
       "      <td>22</td>\n",
       "      <td>2</td>\n",
       "    </tr>\n",
       "    <tr>\n",
       "      <th>7617540000000</th>\n",
       "      <th>Mt. Diablo Unified</th>\n",
       "      <th>5</th>\n",
       "      <td>982</td>\n",
       "      <td>3983</td>\n",
       "      <td>2</td>\n",
       "      <td>0</td>\n",
       "    </tr>\n",
       "    <tr>\n",
       "      <th rowspan=\"3\" valign=\"top\">7617960000000</th>\n",
       "      <th rowspan=\"3\" valign=\"top\">West Contra Costa Unified</th>\n",
       "      <th>5</th>\n",
       "      <td>1266</td>\n",
       "      <td>6630</td>\n",
       "      <td>12</td>\n",
       "      <td>0</td>\n",
       "    </tr>\n",
       "    <tr>\n",
       "      <th>6</th>\n",
       "      <td>436</td>\n",
       "      <td>1913</td>\n",
       "      <td>10</td>\n",
       "      <td>0</td>\n",
       "    </tr>\n",
       "    <tr>\n",
       "      <th>7</th>\n",
       "      <td>199</td>\n",
       "      <td>958</td>\n",
       "      <td>6</td>\n",
       "      <td>0</td>\n",
       "    </tr>\n",
       "  </tbody>\n",
       "</table>\n",
       "</div>"
      ],
      "text/plain": [
       "                                                GR_12  ENR_TOTAL  GRADS  \\\n",
       "CDS_CODE      DISTRICT                  ETHNIC                            \n",
       "1751010000000 Pleasanton Unified        2         434       1835      6   \n",
       "                                        5         114        479      2   \n",
       "                                        7         629       2315     22   \n",
       "7617540000000 Mt. Diablo Unified        5         982       3983      2   \n",
       "7617960000000 West Contra Costa Unified 5        1266       6630     12   \n",
       "                                        6         436       1913     10   \n",
       "                                        7         199        958      6   \n",
       "\n",
       "                                                UC_GRADS  \n",
       "CDS_CODE      DISTRICT                  ETHNIC            \n",
       "1751010000000 Pleasanton Unified        2              0  \n",
       "                                        5              0  \n",
       "                                        7              2  \n",
       "7617540000000 Mt. Diablo Unified        5              0  \n",
       "7617960000000 West Contra Costa Unified 5              0  \n",
       "                                        6              0  \n",
       "                                        7              0  "
      ]
     },
<<<<<<< HEAD
<<<<<<< HEAD
     "execution_count": 14,
=======
<<<<<<< HEAD
     "execution_count": 14,
=======
     "execution_count": 12,
>>>>>>> Helen
>>>>>>> 958d3b6f3a0d2c5e7972472b1df355b5c251e781
=======
     "execution_count": 15,
>>>>>>> 66edc7c026dc60249828aa6869a0944f4137744a
     "metadata": {},
     "output_type": "execute_result"
    }
   ],
   "source": [
    "enroll_grad_df=enroll_grad_df.groupby(['CDS_CODE','DISTRICT','ETHNIC']).sum()\n",
    "enroll_grad_dfl=enroll_grad_df.sort_values(by=['CDS_CODE','DISTRICT','ETHNIC'])\n",
    "enroll_grad_df"
   ]
  },
  {
   "cell_type": "code",
<<<<<<< HEAD
<<<<<<< HEAD
   "execution_count": 15,
=======
<<<<<<< HEAD
   "execution_count": 15,
=======
   "execution_count": 13,
>>>>>>> Helen
>>>>>>> 958d3b6f3a0d2c5e7972472b1df355b5c251e781
=======
   "execution_count": 16,
>>>>>>> 66edc7c026dc60249828aa6869a0944f4137744a
   "metadata": {},
   "outputs": [
    {
     "data": {
      "text/plain": [
       "GR_12        7\n",
       "ENR_TOTAL    7\n",
       "GRADS        7\n",
       "UC_GRADS     7\n",
       "dtype: int64"
      ]
     },
<<<<<<< HEAD
<<<<<<< HEAD
     "execution_count": 15,
=======
<<<<<<< HEAD
     "execution_count": 15,
=======
     "execution_count": 13,
>>>>>>> Helen
>>>>>>> 958d3b6f3a0d2c5e7972472b1df355b5c251e781
=======
     "execution_count": 16,
>>>>>>> 66edc7c026dc60249828aa6869a0944f4137744a
     "metadata": {},
     "output_type": "execute_result"
    }
   ],
   "source": [
    "enroll_grad_df.count()"
   ]
  },
  {
   "cell_type": "code",
<<<<<<< HEAD
<<<<<<< HEAD
   "execution_count": 16,
=======
<<<<<<< HEAD
   "execution_count": 16,
=======
   "execution_count": 14,
>>>>>>> Helen
>>>>>>> 958d3b6f3a0d2c5e7972472b1df355b5c251e781
=======
   "execution_count": 17,
>>>>>>> 66edc7c026dc60249828aa6869a0944f4137744a
   "metadata": {},
   "outputs": [],
   "source": [
    "enroll_grad_df.to_csv('../../Grad_Enroll/grad_enroll_1617.csv')"
   ]
  },
  {
   "cell_type": "code",
   "execution_count": null,
   "metadata": {},
   "outputs": [],
   "source": []
  }
 ],
 "metadata": {
  "kernelspec": {
   "display_name": "PythonData",
   "language": "python",
   "name": "pythondata"
  },
  "language_info": {
   "codemirror_mode": {
    "name": "ipython",
    "version": 3
   },
   "file_extension": ".py",
   "mimetype": "text/x-python",
   "name": "python",
   "nbconvert_exporter": "python",
   "pygments_lexer": "ipython3",
   "version": "3.7.4"
  }
 },
 "nbformat": 4,
 "nbformat_minor": 4
}
