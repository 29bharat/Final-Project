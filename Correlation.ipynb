{
 "cells": [
  {
   "cell_type": "markdown",
   "metadata": {},
   "source": [
    "Try to find correlation between district financing and district graduation rate\n",
    "\n",
    "Caution: the code below is just schema and haven't been tested on real dataframe!"
   ]
  },
  {
   "cell_type": "code",
   "execution_count": 1,
   "metadata": {},
   "outputs": [],
   "source": [
    "import pandas as pd"
   ]
  },
  {
   "cell_type": "code",
   "execution_count": 5,
   "metadata": {},
   "outputs": [
    {
     "data": {
      "text/html": [
       "<div>\n",
       "<style scoped>\n",
       "    .dataframe tbody tr th:only-of-type {\n",
       "        vertical-align: middle;\n",
       "    }\n",
       "\n",
       "    .dataframe tbody tr th {\n",
       "        vertical-align: top;\n",
       "    }\n",
       "\n",
       "    .dataframe thead th {\n",
       "        text-align: right;\n",
       "    }\n",
       "</style>\n",
       "<table border=\"1\" class=\"dataframe\">\n",
       "  <thead>\n",
       "    <tr style=\"text-align: right;\">\n",
       "      <th></th>\n",
       "      <th>CDS_CODE</th>\n",
       "      <th>GR_12</th>\n",
       "      <th>ENR_TOTAL</th>\n",
       "      <th>GRADS</th>\n",
       "      <th>UC_GRADS</th>\n",
       "      <th>Amount</th>\n",
       "    </tr>\n",
       "  </thead>\n",
       "  <tbody>\n",
       "    <tr>\n",
       "      <th>0</th>\n",
       "      <td>1100170000000</td>\n",
       "      <td>304</td>\n",
       "      <td>3175</td>\n",
       "      <td>255</td>\n",
       "      <td>122</td>\n",
       "      <td>2.387492e+08</td>\n",
       "    </tr>\n",
       "    <tr>\n",
       "      <th>1</th>\n",
       "      <td>1611190000000</td>\n",
       "      <td>953</td>\n",
       "      <td>5621</td>\n",
       "      <td>827</td>\n",
       "      <td>426</td>\n",
       "      <td>3.471054e+08</td>\n",
       "    </tr>\n",
       "    <tr>\n",
       "      <th>2</th>\n",
       "      <td>1611270000000</td>\n",
       "      <td>308</td>\n",
       "      <td>1211</td>\n",
       "      <td>303</td>\n",
       "      <td>121</td>\n",
       "      <td>2.114903e+08</td>\n",
       "    </tr>\n",
       "    <tr>\n",
       "      <th>3</th>\n",
       "      <td>1611430000000</td>\n",
       "      <td>881</td>\n",
       "      <td>3724</td>\n",
       "      <td>786</td>\n",
       "      <td>383</td>\n",
       "      <td>9.143837e+08</td>\n",
       "    </tr>\n",
       "    <tr>\n",
       "      <th>4</th>\n",
       "      <td>1611500000000</td>\n",
       "      <td>784</td>\n",
       "      <td>3148</td>\n",
       "      <td>741</td>\n",
       "      <td>406</td>\n",
       "      <td>3.970073e+08</td>\n",
       "    </tr>\n",
       "  </tbody>\n",
       "</table>\n",
       "</div>"
      ],
      "text/plain": [
       "        CDS_CODE  GR_12  ENR_TOTAL  GRADS  UC_GRADS        Amount\n",
       "0  1100170000000    304       3175    255       122  2.387492e+08\n",
       "1  1611190000000    953       5621    827       426  3.471054e+08\n",
       "2  1611270000000    308       1211    303       121  2.114903e+08\n",
       "3  1611430000000    881       3724    786       383  9.143837e+08\n",
       "4  1611500000000    784       3148    741       406  3.970073e+08"
      ]
     },
     "execution_count": 5,
     "metadata": {},
     "output_type": "execute_result"
    }
   ],
   "source": [
    "#oped the data frame ()\n",
    "df= pd.read_csv(\"Final/cds_enroll_amt1213.csv\")\n",
    "df.head()\n"
   ]
  },
  {
   "cell_type": "code",
   "execution_count": 9,
   "metadata": {},
   "outputs": [
    {
     "data": {
      "text/html": [
       "<div>\n",
       "<style scoped>\n",
       "    .dataframe tbody tr th:only-of-type {\n",
       "        vertical-align: middle;\n",
       "    }\n",
       "\n",
       "    .dataframe tbody tr th {\n",
       "        vertical-align: top;\n",
       "    }\n",
       "\n",
       "    .dataframe thead th {\n",
       "        text-align: right;\n",
       "    }\n",
       "</style>\n",
       "<table border=\"1\" class=\"dataframe\">\n",
       "  <thead>\n",
       "    <tr style=\"text-align: right;\">\n",
       "      <th></th>\n",
       "      <th>CDS_CODE</th>\n",
       "      <th>GR_12</th>\n",
       "      <th>ENR_TOTAL</th>\n",
       "      <th>GRADS</th>\n",
       "      <th>UC_GRADS</th>\n",
       "      <th>Amount</th>\n",
       "      <th>GR_RATE</th>\n",
       "    </tr>\n",
       "  </thead>\n",
       "  <tbody>\n",
       "    <tr>\n",
       "      <th>0</th>\n",
       "      <td>1100170000000</td>\n",
       "      <td>304</td>\n",
       "      <td>3175</td>\n",
       "      <td>255</td>\n",
       "      <td>122</td>\n",
       "      <td>2.387492e+08</td>\n",
       "      <td>0.401316</td>\n",
       "    </tr>\n",
       "    <tr>\n",
       "      <th>1</th>\n",
       "      <td>1611190000000</td>\n",
       "      <td>953</td>\n",
       "      <td>5621</td>\n",
       "      <td>827</td>\n",
       "      <td>426</td>\n",
       "      <td>3.471054e+08</td>\n",
       "      <td>0.447009</td>\n",
       "    </tr>\n",
       "    <tr>\n",
       "      <th>2</th>\n",
       "      <td>1611270000000</td>\n",
       "      <td>308</td>\n",
       "      <td>1211</td>\n",
       "      <td>303</td>\n",
       "      <td>121</td>\n",
       "      <td>2.114903e+08</td>\n",
       "      <td>0.392857</td>\n",
       "    </tr>\n",
       "    <tr>\n",
       "      <th>3</th>\n",
       "      <td>1611430000000</td>\n",
       "      <td>881</td>\n",
       "      <td>3724</td>\n",
       "      <td>786</td>\n",
       "      <td>383</td>\n",
       "      <td>9.143837e+08</td>\n",
       "      <td>0.434733</td>\n",
       "    </tr>\n",
       "    <tr>\n",
       "      <th>4</th>\n",
       "      <td>1611500000000</td>\n",
       "      <td>784</td>\n",
       "      <td>3148</td>\n",
       "      <td>741</td>\n",
       "      <td>406</td>\n",
       "      <td>3.970073e+08</td>\n",
       "      <td>0.517857</td>\n",
       "    </tr>\n",
       "  </tbody>\n",
       "</table>\n",
       "</div>"
      ],
      "text/plain": [
       "        CDS_CODE  GR_12  ENR_TOTAL  GRADS  UC_GRADS        Amount   GR_RATE\n",
       "0  1100170000000    304       3175    255       122  2.387492e+08  0.401316\n",
       "1  1611190000000    953       5621    827       426  3.471054e+08  0.447009\n",
       "2  1611270000000    308       1211    303       121  2.114903e+08  0.392857\n",
       "3  1611430000000    881       3724    786       383  9.143837e+08  0.434733\n",
       "4  1611500000000    784       3148    741       406  3.970073e+08  0.517857"
      ]
     },
     "execution_count": 9,
     "metadata": {},
     "output_type": "execute_result"
    }
   ],
   "source": [
    "#Calculate Graduation rate\n",
    "df['GR_RATE'] = df.UC_GRADS/df.GR_12\n",
    "df.head()"
   ]
  },
  {
   "cell_type": "code",
   "execution_count": 10,
   "metadata": {},
   "outputs": [
    {
     "data": {
      "text/plain": [
       "0.298302035125083"
      ]
     },
     "execution_count": 10,
     "metadata": {},
     "output_type": "execute_result"
    }
   ],
   "source": [
    "financing = df[\"Amount\"]\n",
    "grad_rate = df[\"GR_RATE\"]\n",
    "correlation = financing.corr(grad_rate)\n",
    "correlation"
   ]
  },
  {
   "cell_type": "code",
   "execution_count": null,
   "metadata": {},
   "outputs": [],
   "source": []
  },
  {
   "cell_type": "code",
   "execution_count": null,
   "metadata": {},
   "outputs": [],
   "source": []
  }
 ],
 "metadata": {
  "kernelspec": {
   "display_name": "Python 3",
   "language": "python",
   "name": "python3"
  },
  "language_info": {
   "codemirror_mode": {
    "name": "ipython",
    "version": 3
   },
   "file_extension": ".py",
   "mimetype": "text/x-python",
   "name": "python",
   "nbconvert_exporter": "python",
   "pygments_lexer": "ipython3",
   "version": "3.7.6"
  }
 },
 "nbformat": 4,
 "nbformat_minor": 4
}
